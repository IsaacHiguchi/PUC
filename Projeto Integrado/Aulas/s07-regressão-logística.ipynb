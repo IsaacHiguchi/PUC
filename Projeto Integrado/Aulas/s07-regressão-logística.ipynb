{
 "cells": [
  {
   "cell_type": "markdown",
   "metadata": {
    "pycharm": {
     "name": "#%% md\n"
    }
   },
   "source": [
    "# Regressão Logística | S07"
   ]
  },
  {
   "cell_type": "markdown",
   "metadata": {
    "pycharm": {
     "name": "#%% md\n"
    }
   },
   "source": [
    "# Introdução"
   ]
  },
  {
   "cell_type": "markdown",
   "metadata": {
    "pycharm": {
     "name": "#%% md\n"
    }
   },
   "source": [
    "Horácio, um cientista de dados da EdPuk, uma EdTech, quer prever a probabilidade de admissão de candidatos em instituições de ensino superior, como a PUC-SP. Para serem admitidos, os candidatos devem prestar e passar no vestibular. A EdPuk desenvolveu uma série de provas e atividades que testa o conhecimento dos candidatos e irá oferecer uma probabilidade de admissão no curso desejado. Os candidatos que fizerem os testes da EdPuk receberão uma pontuação, que varia de $0$ a $1.000$. Ao final, a EdTek irá vender a probabilidade de admissão nos cursos aos candidatos juntamente com um relatório de seus pontos fortes e fracos.\n",
    "\n",
    "Para treinar um modelo, o cientista de dados recebeu um dataset de $1.000$ candidatos ao vestibular de direito na PUC-SP, contendo a pontuação nas provas EdPuk dos candidatos e seus resultados de admissão (`FOI ADMITIDO` ou `NÃO FOI ADMITIDO`).\n",
    "\n",
    "A tabela a seguir ilustra o dataset.\n",
    "\n",
    "\n",
    "pontuação | admitido\n",
    "--------  | ---------\n",
    "900       | 1\n",
    "852       | 1\n",
    "769       | 0\n",
    "757       | 1\n",
    "157       | 0\n",
    "501       | 0\n",
    "\n",
    "\n",
    "O próprio Horácio, para entender melhor o processo, realizou as provas EdPuk e recebeu uma pontuação de $762$.\n",
    "\n",
    "Com estes dados, o cientista de dados gostaria de fazer o seguinte:\n",
    "\n",
    "* Desenvolver um modelo que irá fornecer a probabilidade e as chances de ser admitido para qualquer pontuação.\n",
    "\n",
    "* Descobrir aproximadamente qual pontuação está associada com uma probabilidade de $50$% (chances iguais) de ser admitido.\n",
    "\n",
    "* Descobrir a probabilidade (e chances) de ser admitido num curso de Direito da PUC-SP.\n",
    "\n",
    "* Descobrir como aumentar a pontuação de $762$ para $800$ afetará as probabilidades e chances de ser aprovado em Direito na PUC-SP.\n"
   ]
  },
  {
   "cell_type": "markdown",
   "metadata": {
    "pycharm": {
     "name": "#%% md\n"
    }
   },
   "source": [
    "##### Bibliotecas e frameworks\n",
    "\n",
    "Bibliotecas de código a serem utilizadas neste caderno."
   ]
  },
  {
   "cell_type": "code",
   "execution_count": 2,
   "metadata": {
    "pycharm": {
     "name": "#%%\n"
    }
   },
   "outputs": [],
   "source": [
    "from math import e, log\n",
    "import matplotlib.pyplot as plt\n",
    "%matplotlib inline\n",
    "#import seaborn as sns\n",
    "import numpy as np\n",
    "from cdia.datasets import DatasetCandidatos as DC\n",
    "import pandas as pd\n",
    "import plotly.express as px\n",
    "from sklearn.linear_model import LogisticRegression\n",
    "import numpy as np"
   ]
  },
  {
   "cell_type": "markdown",
   "metadata": {
    "pycharm": {
     "name": "#%% md\n"
    }
   },
   "source": [
    "#### Dataset"
   ]
  },
  {
   "cell_type": "code",
   "execution_count": 47,
   "metadata": {
    "pycharm": {
     "name": "#%%\n"
    }
   },
   "outputs": [
    {
     "data": {
      "text/html": [
       "<div>\n",
       "<style scoped>\n",
       "    .dataframe tbody tr th:only-of-type {\n",
       "        vertical-align: middle;\n",
       "    }\n",
       "\n",
       "    .dataframe tbody tr th {\n",
       "        vertical-align: top;\n",
       "    }\n",
       "\n",
       "    .dataframe thead th {\n",
       "        text-align: right;\n",
       "    }\n",
       "</style>\n",
       "<table border=\"1\" class=\"dataframe\">\n",
       "  <thead>\n",
       "    <tr style=\"text-align: right;\">\n",
       "      <th></th>\n",
       "      <th>pontuação</th>\n",
       "      <th>admitido</th>\n",
       "    </tr>\n",
       "  </thead>\n",
       "  <tbody>\n",
       "    <tr>\n",
       "      <th>0</th>\n",
       "      <td>79</td>\n",
       "      <td>0</td>\n",
       "    </tr>\n",
       "    <tr>\n",
       "      <th>1</th>\n",
       "      <td>172</td>\n",
       "      <td>0</td>\n",
       "    </tr>\n",
       "    <tr>\n",
       "      <th>2</th>\n",
       "      <td>198</td>\n",
       "      <td>0</td>\n",
       "    </tr>\n",
       "    <tr>\n",
       "      <th>3</th>\n",
       "      <td>197</td>\n",
       "      <td>0</td>\n",
       "    </tr>\n",
       "    <tr>\n",
       "      <th>4</th>\n",
       "      <td>11</td>\n",
       "      <td>0</td>\n",
       "    </tr>\n",
       "  </tbody>\n",
       "</table>\n",
       "</div>"
      ],
      "text/plain": [
       "   pontuação  admitido\n",
       "0         79         0\n",
       "1        172         0\n",
       "2        198         0\n",
       "3        197         0\n",
       "4         11         0"
      ]
     },
     "execution_count": 47,
     "metadata": {},
     "output_type": "execute_result"
    }
   ],
   "source": [
    "n_estudantes = 1000\n",
    "df = DC.criar(n_estudantes)\n",
    "df.head()"
   ]
  },
  {
   "cell_type": "code",
   "execution_count": 64,
   "metadata": {
    "pycharm": {
     "name": "#%%\n"
    }
   },
   "outputs": [
    {
     "data": {
      "text/plain": [
       "<pandas.core.groupby.generic.DataFrameGroupBy object at 0x7faaf4f44400>"
      ]
     },
     "execution_count": 64,
     "metadata": {},
     "output_type": "execute_result"
    }
   ],
   "source": [
    "df.groupby('admitido')"
   ]
  },
  {
   "cell_type": "code",
   "execution_count": 48,
   "metadata": {
    "pycharm": {
     "name": "#%%\n"
    }
   },
   "outputs": [
    {
     "data": {
      "text/html": [
       "<div>\n",
       "<style scoped>\n",
       "    .dataframe tbody tr th:only-of-type {\n",
       "        vertical-align: middle;\n",
       "    }\n",
       "\n",
       "    .dataframe tbody tr th {\n",
       "        vertical-align: top;\n",
       "    }\n",
       "\n",
       "    .dataframe thead th {\n",
       "        text-align: right;\n",
       "    }\n",
       "</style>\n",
       "<table border=\"1\" class=\"dataframe\">\n",
       "  <thead>\n",
       "    <tr style=\"text-align: right;\">\n",
       "      <th></th>\n",
       "      <th>pontuação</th>\n",
       "      <th>admitido</th>\n",
       "    </tr>\n",
       "  </thead>\n",
       "  <tbody>\n",
       "    <tr>\n",
       "      <th>pontuação</th>\n",
       "      <td>1.000000</td>\n",
       "      <td>0.851161</td>\n",
       "    </tr>\n",
       "    <tr>\n",
       "      <th>admitido</th>\n",
       "      <td>0.851161</td>\n",
       "      <td>1.000000</td>\n",
       "    </tr>\n",
       "  </tbody>\n",
       "</table>\n",
       "</div>"
      ],
      "text/plain": [
       "           pontuação  admitido\n",
       "pontuação   1.000000  0.851161\n",
       "admitido    0.851161  1.000000"
      ]
     },
     "execution_count": 48,
     "metadata": {},
     "output_type": "execute_result"
    }
   ],
   "source": [
    "# Verifica a correlação entre as variáveis\n",
    "df.corr()"
   ]
  },
  {
   "cell_type": "markdown",
   "metadata": {
    "pycharm": {
     "name": "#%% md\n"
    }
   },
   "source": [
    "#### Visualizando os dados"
   ]
  },
  {
   "cell_type": "code",
   "execution_count": 49,
   "metadata": {
    "pycharm": {
     "name": "#%%\n"
    }
   },
   "outputs": [],
   "source": [
    "def plotar(x, y):\n",
    "    fig = px.scatter(\n",
    "        x=x, \n",
    "        y=y, \n",
    "        opacity=0.8, \n",
    "    )\n",
    "    fig.update_traces(marker=dict(size=12))\n",
    "    fig.show()"
   ]
  },
  {
   "cell_type": "code",
   "execution_count": 50,
   "metadata": {
    "pycharm": {
     "name": "#%%\n"
    }
   },
   "outputs": [
    {
     "data": {
      "application/vnd.plotly.v1+json": {
       "config": {
        "plotlyServerURL": "https://plot.ly"
       },
       "data": [
        {
         "hovertemplate": "x=%{x}<br>y=%{y}<extra></extra>",
         "legendgroup": "",
         "marker": {
          "color": "#636efa",
          "opacity": 0.8,
          "size": 12,
          "symbol": "circle"
         },
         "mode": "markers",
         "name": "",
         "orientation": "v",
         "showlegend": false,
         "type": "scatter",
         "x": [
          79,
          172,
          198,
          197,
          11,
          33,
          140,
          172,
          96,
          110,
          77,
          79,
          173,
          158,
          197,
          69,
          108,
          127,
          145,
          84,
          86,
          176,
          106,
          5,
          177,
          26,
          193,
          179,
          193,
          65,
          56,
          77,
          168,
          118,
          141,
          137,
          9,
          48,
          167,
          107,
          76,
          125,
          72,
          183,
          27,
          178,
          65,
          141,
          119,
          197,
          198,
          36,
          12,
          82,
          140,
          69,
          158,
          120,
          106,
          177,
          34,
          29,
          41,
          192,
          53,
          180,
          32,
          168,
          40,
          107,
          137,
          6,
          99,
          178,
          92,
          167,
          81,
          78,
          4,
          121,
          97,
          147,
          56,
          135,
          104,
          118,
          157,
          147,
          167,
          132,
          76,
          91,
          97,
          102,
          87,
          136,
          146,
          197,
          2,
          87,
          109,
          17,
          117,
          128,
          28,
          137,
          141,
          170,
          147,
          194,
          192,
          40,
          75,
          176,
          66,
          186,
          54,
          68,
          183,
          178,
          39,
          164,
          122,
          180,
          29,
          187,
          92,
          66,
          92,
          120,
          29,
          44,
          94,
          58,
          42,
          168,
          113,
          73,
          180,
          131,
          197,
          180,
          65,
          75,
          116,
          29,
          118,
          76,
          105,
          176,
          33,
          126,
          190,
          154,
          4,
          154,
          24,
          10,
          69,
          147,
          34,
          51,
          56,
          129,
          166,
          58,
          191,
          73,
          136,
          103,
          192,
          497,
          411,
          464,
          419,
          470,
          235,
          388,
          204,
          348,
          490,
          306,
          299,
          333,
          397,
          346,
          286,
          315,
          442,
          474,
          239,
          423,
          485,
          292,
          309,
          486,
          231,
          337,
          275,
          483,
          456,
          354,
          329,
          301,
          219,
          213,
          345,
          359,
          339,
          269,
          386,
          291,
          381,
          343,
          481,
          337,
          238,
          368,
          349,
          480,
          466,
          240,
          464,
          499,
          213,
          299,
          216,
          415,
          381,
          427,
          459,
          231,
          275,
          223,
          489,
          489,
          246,
          226,
          261,
          390,
          366,
          266,
          399,
          437,
          359,
          215,
          321,
          210,
          257,
          257,
          471,
          206,
          293,
          302,
          294,
          257,
          224,
          415,
          301,
          351,
          427,
          337,
          438,
          448,
          430,
          490,
          493,
          457,
          483,
          342,
          226,
          355,
          342,
          372,
          293,
          213,
          215,
          443,
          292,
          250,
          410,
          420,
          458,
          493,
          265,
          433,
          481,
          305,
          432,
          489,
          280,
          239,
          434,
          436,
          467,
          405,
          327,
          294,
          300,
          435,
          253,
          499,
          465,
          237,
          379,
          290,
          263,
          492,
          374,
          225,
          437,
          388,
          255,
          472,
          390,
          263,
          464,
          343,
          200,
          332,
          326,
          475,
          248,
          486,
          423,
          258,
          407,
          313,
          466,
          222,
          228,
          370,
          478,
          490,
          228,
          250,
          415,
          290,
          200,
          387,
          283,
          242,
          412,
          459,
          381,
          215,
          482,
          228,
          341,
          317,
          358,
          340,
          456,
          435,
          399,
          272,
          483,
          271,
          437,
          348,
          402,
          436,
          412,
          269,
          461,
          209,
          481,
          364,
          229,
          364,
          409,
          477,
          462,
          441,
          271,
          222,
          406,
          424,
          472,
          404,
          240,
          298,
          249,
          332,
          437,
          424,
          454,
          294,
          476,
          463,
          286,
          448,
          339,
          210,
          357,
          350,
          259,
          246,
          459,
          424,
          267,
          462,
          243,
          213,
          451,
          356,
          239,
          245,
          395,
          366,
          200,
          226,
          240,
          441,
          232,
          233,
          425,
          484,
          239,
          325,
          316,
          213,
          355,
          469,
          445,
          284,
          276,
          329,
          379,
          238,
          362,
          231,
          438,
          424,
          361,
          443,
          338,
          461,
          390,
          443,
          498,
          211,
          421,
          421,
          401,
          334,
          328,
          312,
          322,
          304,
          458,
          332,
          235,
          217,
          212,
          363,
          420,
          260,
          248,
          325,
          406,
          238,
          397,
          213,
          278,
          303,
          239,
          315,
          468,
          493,
          219,
          405,
          471,
          252,
          353,
          469,
          262,
          340,
          328,
          219,
          205,
          399,
          358,
          398,
          274,
          486,
          642,
          684,
          520,
          673,
          539,
          645,
          520,
          651,
          559,
          643,
          561,
          562,
          603,
          534,
          541,
          539,
          642,
          681,
          643,
          656,
          610,
          582,
          671,
          641,
          537,
          604,
          613,
          634,
          559,
          686,
          507,
          548,
          580,
          502,
          662,
          570,
          684,
          548,
          541,
          508,
          584,
          507,
          679,
          514,
          638,
          595,
          641,
          682,
          617,
          647,
          697,
          613,
          604,
          638,
          660,
          608,
          630,
          508,
          680,
          697,
          693,
          567,
          540,
          541,
          619,
          573,
          653,
          582,
          664,
          546,
          614,
          671,
          577,
          626,
          529,
          673,
          541,
          599,
          629,
          617,
          514,
          611,
          500,
          557,
          518,
          513,
          500,
          624,
          504,
          619,
          632,
          526,
          686,
          641,
          612,
          548,
          598,
          617,
          559,
          629,
          695,
          561,
          678,
          602,
          637,
          669,
          690,
          503,
          650,
          546,
          616,
          686,
          556,
          610,
          678,
          555,
          624,
          535,
          528,
          679,
          554,
          584,
          610,
          658,
          619,
          680,
          630,
          569,
          604,
          563,
          688,
          601,
          525,
          639,
          614,
          684,
          582,
          573,
          697,
          673,
          671,
          667,
          500,
          695,
          574,
          617,
          560,
          664,
          582,
          598,
          580,
          614,
          658,
          616,
          615,
          666,
          676,
          660,
          652,
          643,
          697,
          647,
          611,
          564,
          680,
          629,
          548,
          608,
          629,
          601,
          679,
          526,
          625,
          560,
          653,
          645,
          513,
          562,
          647,
          684,
          597,
          561,
          645,
          534,
          517,
          551,
          514,
          546,
          588,
          627,
          593,
          560,
          626,
          617,
          686,
          574,
          597,
          590,
          656,
          536,
          555,
          610,
          686,
          521,
          580,
          504,
          526,
          601,
          673,
          502,
          636,
          673,
          699,
          528,
          573,
          652,
          645,
          544,
          692,
          591,
          595,
          601,
          649,
          666,
          507,
          500,
          530,
          621,
          666,
          502,
          551,
          628,
          582,
          552,
          630,
          582,
          542,
          534,
          552,
          676,
          692,
          591,
          686,
          551,
          643,
          615,
          688,
          668,
          694,
          686,
          600,
          662,
          567,
          518,
          562,
          660,
          550,
          505,
          652,
          576,
          686,
          639,
          510,
          549,
          580,
          613,
          551,
          686,
          663,
          601,
          531,
          632,
          608,
          552,
          509,
          566,
          546,
          576,
          612,
          576,
          686,
          570,
          514,
          524,
          643,
          508,
          533,
          543,
          580,
          643,
          603,
          642,
          503,
          595,
          566,
          508,
          695,
          541,
          675,
          636,
          654,
          616,
          678,
          625,
          576,
          656,
          625,
          573,
          643,
          632,
          552,
          518,
          576,
          638,
          542,
          543,
          694,
          575,
          590,
          523,
          630,
          611,
          598,
          615,
          668,
          560,
          650,
          655,
          652,
          503,
          628,
          529,
          573,
          647,
          507,
          649,
          566,
          526,
          640,
          617,
          511,
          549,
          587,
          576,
          564,
          601,
          575,
          639,
          541,
          665,
          593,
          637,
          554,
          541,
          525,
          518,
          629,
          669,
          582,
          689,
          692,
          578,
          554,
          511,
          641,
          550,
          658,
          505,
          689,
          542,
          578,
          559,
          643,
          673,
          630,
          557,
          587,
          567,
          513,
          572,
          520,
          673,
          548,
          626,
          507,
          551,
          557,
          549,
          569,
          586,
          551,
          628,
          566,
          584,
          630,
          668,
          503,
          639,
          523,
          516,
          564,
          538,
          553,
          550,
          551,
          540,
          510,
          571,
          643,
          547,
          600,
          666,
          544,
          634,
          701,
          855,
          894,
          874,
          719,
          743,
          842,
          727,
          872,
          831,
          731,
          775,
          862,
          771,
          863,
          762,
          774,
          831,
          821,
          807,
          862,
          833,
          717,
          710,
          736,
          738,
          773,
          781,
          766,
          729,
          816,
          844,
          705,
          716,
          762,
          879,
          788,
          775,
          857,
          870,
          844,
          727,
          714,
          770,
          788,
          836,
          716,
          782,
          813,
          864,
          710,
          777,
          757,
          738,
          701,
          714,
          795,
          889,
          829,
          831,
          899,
          775,
          740,
          775,
          730,
          727,
          842,
          896,
          753,
          851,
          801,
          833,
          794,
          833,
          865,
          775,
          785,
          723,
          848,
          868,
          719,
          891,
          725,
          838,
          874,
          699,
          862,
          727,
          766,
          756,
          833,
          738,
          827,
          861,
          797,
          720,
          809,
          764,
          892,
          942
         ],
         "xaxis": "x",
         "y": [
          0,
          0,
          0,
          0,
          0,
          0,
          0,
          0,
          0,
          0,
          0,
          0,
          0,
          0,
          0,
          0,
          0,
          0,
          0,
          0,
          0,
          0,
          0,
          0,
          0,
          0,
          0,
          0,
          0,
          0,
          0,
          0,
          0,
          0,
          0,
          0,
          0,
          0,
          0,
          0,
          0,
          0,
          0,
          0,
          0,
          0,
          0,
          0,
          0,
          0,
          0,
          0,
          0,
          0,
          0,
          0,
          0,
          0,
          0,
          0,
          0,
          0,
          0,
          0,
          0,
          0,
          0,
          0,
          0,
          0,
          0,
          0,
          0,
          0,
          0,
          0,
          0,
          0,
          0,
          0,
          0,
          0,
          0,
          0,
          0,
          0,
          0,
          0,
          0,
          0,
          0,
          0,
          0,
          0,
          0,
          0,
          0,
          0,
          0,
          0,
          0,
          0,
          0,
          0,
          0,
          0,
          0,
          0,
          0,
          0,
          0,
          0,
          0,
          0,
          0,
          0,
          0,
          0,
          0,
          0,
          0,
          0,
          0,
          0,
          0,
          0,
          0,
          0,
          0,
          0,
          0,
          0,
          0,
          0,
          0,
          0,
          0,
          0,
          0,
          0,
          0,
          0,
          0,
          0,
          0,
          0,
          0,
          0,
          0,
          0,
          0,
          0,
          0,
          0,
          0,
          0,
          0,
          0,
          0,
          0,
          0,
          0,
          0,
          0,
          0,
          0,
          0,
          0,
          0,
          0,
          0,
          1,
          0,
          0,
          0,
          0,
          0,
          0,
          0,
          0,
          1,
          0,
          0,
          0,
          0,
          0,
          0,
          0,
          0,
          1,
          0,
          0,
          1,
          0,
          0,
          1,
          0,
          0,
          0,
          1,
          0,
          0,
          0,
          0,
          0,
          0,
          0,
          0,
          0,
          0,
          0,
          0,
          0,
          0,
          1,
          0,
          0,
          0,
          0,
          1,
          0,
          0,
          0,
          1,
          0,
          0,
          0,
          0,
          0,
          0,
          0,
          0,
          0,
          0,
          1,
          1,
          0,
          0,
          0,
          0,
          0,
          0,
          0,
          0,
          0,
          0,
          0,
          0,
          0,
          0,
          0,
          0,
          0,
          0,
          0,
          0,
          0,
          0,
          0,
          0,
          0,
          0,
          0,
          0,
          0,
          1,
          1,
          0,
          1,
          0,
          0,
          0,
          0,
          0,
          0,
          0,
          0,
          0,
          0,
          0,
          0,
          0,
          0,
          1,
          0,
          0,
          1,
          0,
          0,
          1,
          0,
          0,
          0,
          0,
          0,
          0,
          0,
          0,
          0,
          0,
          0,
          1,
          0,
          0,
          0,
          0,
          0,
          1,
          0,
          0,
          0,
          0,
          0,
          1,
          0,
          0,
          0,
          0,
          0,
          0,
          0,
          1,
          0,
          1,
          0,
          0,
          0,
          0,
          0,
          0,
          0,
          0,
          1,
          1,
          0,
          0,
          0,
          0,
          0,
          0,
          0,
          0,
          0,
          0,
          0,
          0,
          1,
          0,
          0,
          0,
          0,
          0,
          0,
          0,
          0,
          0,
          1,
          0,
          0,
          0,
          0,
          0,
          0,
          0,
          0,
          0,
          1,
          0,
          0,
          0,
          0,
          1,
          0,
          0,
          0,
          0,
          0,
          0,
          0,
          0,
          0,
          0,
          0,
          0,
          0,
          0,
          0,
          0,
          1,
          0,
          0,
          0,
          0,
          0,
          0,
          0,
          0,
          0,
          0,
          0,
          0,
          0,
          0,
          0,
          0,
          0,
          0,
          0,
          0,
          0,
          0,
          0,
          0,
          0,
          0,
          0,
          0,
          1,
          0,
          0,
          0,
          0,
          0,
          0,
          0,
          0,
          0,
          0,
          0,
          0,
          0,
          0,
          0,
          0,
          0,
          0,
          0,
          0,
          0,
          0,
          1,
          0,
          0,
          0,
          0,
          0,
          0,
          0,
          0,
          0,
          0,
          0,
          0,
          0,
          0,
          0,
          0,
          0,
          0,
          0,
          0,
          0,
          0,
          0,
          0,
          0,
          0,
          0,
          0,
          1,
          0,
          0,
          0,
          0,
          0,
          0,
          0,
          0,
          0,
          0,
          0,
          0,
          0,
          0,
          0,
          1,
          1,
          1,
          1,
          1,
          1,
          1,
          1,
          1,
          1,
          1,
          1,
          1,
          1,
          1,
          1,
          1,
          1,
          1,
          1,
          1,
          1,
          1,
          1,
          1,
          1,
          1,
          1,
          1,
          1,
          1,
          1,
          1,
          1,
          1,
          1,
          1,
          1,
          1,
          1,
          1,
          1,
          1,
          1,
          1,
          1,
          1,
          1,
          1,
          1,
          1,
          1,
          1,
          1,
          1,
          1,
          1,
          1,
          1,
          1,
          1,
          1,
          1,
          1,
          1,
          1,
          1,
          1,
          1,
          1,
          1,
          1,
          1,
          1,
          1,
          1,
          1,
          1,
          1,
          1,
          1,
          1,
          1,
          1,
          1,
          1,
          1,
          1,
          1,
          1,
          1,
          1,
          1,
          1,
          1,
          1,
          1,
          1,
          1,
          1,
          1,
          1,
          1,
          1,
          1,
          1,
          1,
          1,
          1,
          1,
          1,
          1,
          1,
          1,
          1,
          1,
          1,
          1,
          1,
          1,
          1,
          1,
          1,
          1,
          1,
          1,
          1,
          1,
          1,
          1,
          1,
          1,
          1,
          1,
          1,
          1,
          1,
          1,
          1,
          1,
          1,
          1,
          1,
          1,
          1,
          1,
          1,
          1,
          1,
          1,
          1,
          1,
          1,
          1,
          1,
          1,
          1,
          1,
          1,
          1,
          1,
          1,
          1,
          1,
          1,
          1,
          1,
          1,
          1,
          1,
          1,
          1,
          1,
          1,
          1,
          1,
          1,
          1,
          1,
          1,
          1,
          1,
          1,
          1,
          1,
          1,
          1,
          1,
          1,
          1,
          1,
          1,
          1,
          1,
          1,
          1,
          1,
          1,
          1,
          1,
          1,
          1,
          1,
          1,
          1,
          1,
          1,
          1,
          1,
          1,
          1,
          1,
          1,
          1,
          1,
          1,
          1,
          1,
          1,
          1,
          1,
          1,
          1,
          1,
          1,
          1,
          1,
          1,
          1,
          1,
          1,
          1,
          1,
          1,
          1,
          1,
          1,
          1,
          1,
          1,
          1,
          1,
          1,
          1,
          1,
          1,
          1,
          1,
          1,
          1,
          1,
          1,
          1,
          1,
          1,
          1,
          1,
          1,
          1,
          1,
          1,
          1,
          1,
          1,
          1,
          1,
          1,
          1,
          1,
          1,
          1,
          1,
          1,
          1,
          1,
          1,
          1,
          1,
          1,
          1,
          1,
          1,
          1,
          1,
          1,
          1,
          1,
          1,
          1,
          1,
          1,
          1,
          1,
          1,
          1,
          1,
          1,
          1,
          1,
          1,
          1,
          1,
          1,
          1,
          1,
          1,
          1,
          1,
          1,
          1,
          1,
          1,
          1,
          1,
          1,
          1,
          1,
          1,
          1,
          1,
          1,
          1,
          1,
          1,
          1,
          1,
          1,
          1,
          1,
          1,
          1,
          1,
          1,
          1,
          1,
          1,
          1,
          1,
          1,
          1,
          1,
          1,
          1,
          1,
          1,
          1,
          1,
          1,
          1,
          1,
          1,
          1,
          1,
          1,
          1,
          1,
          1,
          1,
          1,
          1,
          1,
          1,
          1,
          1,
          1,
          1,
          1,
          1,
          1,
          1,
          1,
          1,
          1,
          1,
          1,
          1,
          1,
          1,
          1,
          1,
          1,
          1,
          1,
          1,
          1,
          1,
          1,
          1,
          1,
          1,
          1,
          1,
          1,
          1,
          1,
          1,
          1,
          1,
          1,
          1,
          1,
          1,
          1,
          1,
          1,
          1,
          1,
          1,
          1,
          1,
          1,
          1,
          1,
          1,
          1,
          1,
          1,
          1,
          1,
          1,
          1,
          1,
          1,
          1,
          1,
          1,
          1,
          1,
          1,
          1,
          1,
          1,
          1,
          1,
          1,
          1,
          1,
          1,
          1,
          1,
          1,
          1,
          1,
          1,
          1,
          1,
          1,
          1,
          1,
          1,
          1,
          1,
          1,
          1,
          1,
          1,
          1,
          1,
          1,
          1,
          1,
          1,
          1,
          1,
          1,
          1,
          1,
          1,
          1,
          1,
          1,
          1,
          1,
          1,
          1,
          1,
          1,
          1,
          1,
          1,
          1,
          1,
          1,
          1,
          1,
          1,
          1,
          1,
          1,
          1,
          1,
          1,
          1,
          1,
          1,
          1,
          1,
          1,
          1,
          1,
          1,
          1,
          1,
          1,
          1,
          1,
          1,
          1,
          1,
          1,
          1,
          1,
          1,
          1,
          1
         ],
         "yaxis": "y"
        }
       ],
       "layout": {
        "legend": {
         "tracegroupgap": 0
        },
        "margin": {
         "t": 60
        },
        "template": {
         "data": {
          "bar": [
           {
            "error_x": {
             "color": "#2a3f5f"
            },
            "error_y": {
             "color": "#2a3f5f"
            },
            "marker": {
             "line": {
              "color": "#E5ECF6",
              "width": 0.5
             }
            },
            "type": "bar"
           }
          ],
          "barpolar": [
           {
            "marker": {
             "line": {
              "color": "#E5ECF6",
              "width": 0.5
             }
            },
            "type": "barpolar"
           }
          ],
          "carpet": [
           {
            "aaxis": {
             "endlinecolor": "#2a3f5f",
             "gridcolor": "white",
             "linecolor": "white",
             "minorgridcolor": "white",
             "startlinecolor": "#2a3f5f"
            },
            "baxis": {
             "endlinecolor": "#2a3f5f",
             "gridcolor": "white",
             "linecolor": "white",
             "minorgridcolor": "white",
             "startlinecolor": "#2a3f5f"
            },
            "type": "carpet"
           }
          ],
          "choropleth": [
           {
            "colorbar": {
             "outlinewidth": 0,
             "ticks": ""
            },
            "type": "choropleth"
           }
          ],
          "contour": [
           {
            "colorbar": {
             "outlinewidth": 0,
             "ticks": ""
            },
            "colorscale": [
             [
              0,
              "#0d0887"
             ],
             [
              0.1111111111111111,
              "#46039f"
             ],
             [
              0.2222222222222222,
              "#7201a8"
             ],
             [
              0.3333333333333333,
              "#9c179e"
             ],
             [
              0.4444444444444444,
              "#bd3786"
             ],
             [
              0.5555555555555556,
              "#d8576b"
             ],
             [
              0.6666666666666666,
              "#ed7953"
             ],
             [
              0.7777777777777778,
              "#fb9f3a"
             ],
             [
              0.8888888888888888,
              "#fdca26"
             ],
             [
              1,
              "#f0f921"
             ]
            ],
            "type": "contour"
           }
          ],
          "contourcarpet": [
           {
            "colorbar": {
             "outlinewidth": 0,
             "ticks": ""
            },
            "type": "contourcarpet"
           }
          ],
          "heatmap": [
           {
            "colorbar": {
             "outlinewidth": 0,
             "ticks": ""
            },
            "colorscale": [
             [
              0,
              "#0d0887"
             ],
             [
              0.1111111111111111,
              "#46039f"
             ],
             [
              0.2222222222222222,
              "#7201a8"
             ],
             [
              0.3333333333333333,
              "#9c179e"
             ],
             [
              0.4444444444444444,
              "#bd3786"
             ],
             [
              0.5555555555555556,
              "#d8576b"
             ],
             [
              0.6666666666666666,
              "#ed7953"
             ],
             [
              0.7777777777777778,
              "#fb9f3a"
             ],
             [
              0.8888888888888888,
              "#fdca26"
             ],
             [
              1,
              "#f0f921"
             ]
            ],
            "type": "heatmap"
           }
          ],
          "heatmapgl": [
           {
            "colorbar": {
             "outlinewidth": 0,
             "ticks": ""
            },
            "colorscale": [
             [
              0,
              "#0d0887"
             ],
             [
              0.1111111111111111,
              "#46039f"
             ],
             [
              0.2222222222222222,
              "#7201a8"
             ],
             [
              0.3333333333333333,
              "#9c179e"
             ],
             [
              0.4444444444444444,
              "#bd3786"
             ],
             [
              0.5555555555555556,
              "#d8576b"
             ],
             [
              0.6666666666666666,
              "#ed7953"
             ],
             [
              0.7777777777777778,
              "#fb9f3a"
             ],
             [
              0.8888888888888888,
              "#fdca26"
             ],
             [
              1,
              "#f0f921"
             ]
            ],
            "type": "heatmapgl"
           }
          ],
          "histogram": [
           {
            "marker": {
             "colorbar": {
              "outlinewidth": 0,
              "ticks": ""
             }
            },
            "type": "histogram"
           }
          ],
          "histogram2d": [
           {
            "colorbar": {
             "outlinewidth": 0,
             "ticks": ""
            },
            "colorscale": [
             [
              0,
              "#0d0887"
             ],
             [
              0.1111111111111111,
              "#46039f"
             ],
             [
              0.2222222222222222,
              "#7201a8"
             ],
             [
              0.3333333333333333,
              "#9c179e"
             ],
             [
              0.4444444444444444,
              "#bd3786"
             ],
             [
              0.5555555555555556,
              "#d8576b"
             ],
             [
              0.6666666666666666,
              "#ed7953"
             ],
             [
              0.7777777777777778,
              "#fb9f3a"
             ],
             [
              0.8888888888888888,
              "#fdca26"
             ],
             [
              1,
              "#f0f921"
             ]
            ],
            "type": "histogram2d"
           }
          ],
          "histogram2dcontour": [
           {
            "colorbar": {
             "outlinewidth": 0,
             "ticks": ""
            },
            "colorscale": [
             [
              0,
              "#0d0887"
             ],
             [
              0.1111111111111111,
              "#46039f"
             ],
             [
              0.2222222222222222,
              "#7201a8"
             ],
             [
              0.3333333333333333,
              "#9c179e"
             ],
             [
              0.4444444444444444,
              "#bd3786"
             ],
             [
              0.5555555555555556,
              "#d8576b"
             ],
             [
              0.6666666666666666,
              "#ed7953"
             ],
             [
              0.7777777777777778,
              "#fb9f3a"
             ],
             [
              0.8888888888888888,
              "#fdca26"
             ],
             [
              1,
              "#f0f921"
             ]
            ],
            "type": "histogram2dcontour"
           }
          ],
          "mesh3d": [
           {
            "colorbar": {
             "outlinewidth": 0,
             "ticks": ""
            },
            "type": "mesh3d"
           }
          ],
          "parcoords": [
           {
            "line": {
             "colorbar": {
              "outlinewidth": 0,
              "ticks": ""
             }
            },
            "type": "parcoords"
           }
          ],
          "pie": [
           {
            "automargin": true,
            "type": "pie"
           }
          ],
          "scatter": [
           {
            "marker": {
             "colorbar": {
              "outlinewidth": 0,
              "ticks": ""
             }
            },
            "type": "scatter"
           }
          ],
          "scatter3d": [
           {
            "line": {
             "colorbar": {
              "outlinewidth": 0,
              "ticks": ""
             }
            },
            "marker": {
             "colorbar": {
              "outlinewidth": 0,
              "ticks": ""
             }
            },
            "type": "scatter3d"
           }
          ],
          "scattercarpet": [
           {
            "marker": {
             "colorbar": {
              "outlinewidth": 0,
              "ticks": ""
             }
            },
            "type": "scattercarpet"
           }
          ],
          "scattergeo": [
           {
            "marker": {
             "colorbar": {
              "outlinewidth": 0,
              "ticks": ""
             }
            },
            "type": "scattergeo"
           }
          ],
          "scattergl": [
           {
            "marker": {
             "colorbar": {
              "outlinewidth": 0,
              "ticks": ""
             }
            },
            "type": "scattergl"
           }
          ],
          "scattermapbox": [
           {
            "marker": {
             "colorbar": {
              "outlinewidth": 0,
              "ticks": ""
             }
            },
            "type": "scattermapbox"
           }
          ],
          "scatterpolar": [
           {
            "marker": {
             "colorbar": {
              "outlinewidth": 0,
              "ticks": ""
             }
            },
            "type": "scatterpolar"
           }
          ],
          "scatterpolargl": [
           {
            "marker": {
             "colorbar": {
              "outlinewidth": 0,
              "ticks": ""
             }
            },
            "type": "scatterpolargl"
           }
          ],
          "scatterternary": [
           {
            "marker": {
             "colorbar": {
              "outlinewidth": 0,
              "ticks": ""
             }
            },
            "type": "scatterternary"
           }
          ],
          "surface": [
           {
            "colorbar": {
             "outlinewidth": 0,
             "ticks": ""
            },
            "colorscale": [
             [
              0,
              "#0d0887"
             ],
             [
              0.1111111111111111,
              "#46039f"
             ],
             [
              0.2222222222222222,
              "#7201a8"
             ],
             [
              0.3333333333333333,
              "#9c179e"
             ],
             [
              0.4444444444444444,
              "#bd3786"
             ],
             [
              0.5555555555555556,
              "#d8576b"
             ],
             [
              0.6666666666666666,
              "#ed7953"
             ],
             [
              0.7777777777777778,
              "#fb9f3a"
             ],
             [
              0.8888888888888888,
              "#fdca26"
             ],
             [
              1,
              "#f0f921"
             ]
            ],
            "type": "surface"
           }
          ],
          "table": [
           {
            "cells": {
             "fill": {
              "color": "#EBF0F8"
             },
             "line": {
              "color": "white"
             }
            },
            "header": {
             "fill": {
              "color": "#C8D4E3"
             },
             "line": {
              "color": "white"
             }
            },
            "type": "table"
           }
          ]
         },
         "layout": {
          "annotationdefaults": {
           "arrowcolor": "#2a3f5f",
           "arrowhead": 0,
           "arrowwidth": 1
          },
          "autotypenumbers": "strict",
          "coloraxis": {
           "colorbar": {
            "outlinewidth": 0,
            "ticks": ""
           }
          },
          "colorscale": {
           "diverging": [
            [
             0,
             "#8e0152"
            ],
            [
             0.1,
             "#c51b7d"
            ],
            [
             0.2,
             "#de77ae"
            ],
            [
             0.3,
             "#f1b6da"
            ],
            [
             0.4,
             "#fde0ef"
            ],
            [
             0.5,
             "#f7f7f7"
            ],
            [
             0.6,
             "#e6f5d0"
            ],
            [
             0.7,
             "#b8e186"
            ],
            [
             0.8,
             "#7fbc41"
            ],
            [
             0.9,
             "#4d9221"
            ],
            [
             1,
             "#276419"
            ]
           ],
           "sequential": [
            [
             0,
             "#0d0887"
            ],
            [
             0.1111111111111111,
             "#46039f"
            ],
            [
             0.2222222222222222,
             "#7201a8"
            ],
            [
             0.3333333333333333,
             "#9c179e"
            ],
            [
             0.4444444444444444,
             "#bd3786"
            ],
            [
             0.5555555555555556,
             "#d8576b"
            ],
            [
             0.6666666666666666,
             "#ed7953"
            ],
            [
             0.7777777777777778,
             "#fb9f3a"
            ],
            [
             0.8888888888888888,
             "#fdca26"
            ],
            [
             1,
             "#f0f921"
            ]
           ],
           "sequentialminus": [
            [
             0,
             "#0d0887"
            ],
            [
             0.1111111111111111,
             "#46039f"
            ],
            [
             0.2222222222222222,
             "#7201a8"
            ],
            [
             0.3333333333333333,
             "#9c179e"
            ],
            [
             0.4444444444444444,
             "#bd3786"
            ],
            [
             0.5555555555555556,
             "#d8576b"
            ],
            [
             0.6666666666666666,
             "#ed7953"
            ],
            [
             0.7777777777777778,
             "#fb9f3a"
            ],
            [
             0.8888888888888888,
             "#fdca26"
            ],
            [
             1,
             "#f0f921"
            ]
           ]
          },
          "colorway": [
           "#636efa",
           "#EF553B",
           "#00cc96",
           "#ab63fa",
           "#FFA15A",
           "#19d3f3",
           "#FF6692",
           "#B6E880",
           "#FF97FF",
           "#FECB52"
          ],
          "font": {
           "color": "#2a3f5f"
          },
          "geo": {
           "bgcolor": "white",
           "lakecolor": "white",
           "landcolor": "#E5ECF6",
           "showlakes": true,
           "showland": true,
           "subunitcolor": "white"
          },
          "hoverlabel": {
           "align": "left"
          },
          "hovermode": "closest",
          "mapbox": {
           "style": "light"
          },
          "paper_bgcolor": "white",
          "plot_bgcolor": "#E5ECF6",
          "polar": {
           "angularaxis": {
            "gridcolor": "white",
            "linecolor": "white",
            "ticks": ""
           },
           "bgcolor": "#E5ECF6",
           "radialaxis": {
            "gridcolor": "white",
            "linecolor": "white",
            "ticks": ""
           }
          },
          "scene": {
           "xaxis": {
            "backgroundcolor": "#E5ECF6",
            "gridcolor": "white",
            "gridwidth": 2,
            "linecolor": "white",
            "showbackground": true,
            "ticks": "",
            "zerolinecolor": "white"
           },
           "yaxis": {
            "backgroundcolor": "#E5ECF6",
            "gridcolor": "white",
            "gridwidth": 2,
            "linecolor": "white",
            "showbackground": true,
            "ticks": "",
            "zerolinecolor": "white"
           },
           "zaxis": {
            "backgroundcolor": "#E5ECF6",
            "gridcolor": "white",
            "gridwidth": 2,
            "linecolor": "white",
            "showbackground": true,
            "ticks": "",
            "zerolinecolor": "white"
           }
          },
          "shapedefaults": {
           "line": {
            "color": "#2a3f5f"
           }
          },
          "ternary": {
           "aaxis": {
            "gridcolor": "white",
            "linecolor": "white",
            "ticks": ""
           },
           "baxis": {
            "gridcolor": "white",
            "linecolor": "white",
            "ticks": ""
           },
           "bgcolor": "#E5ECF6",
           "caxis": {
            "gridcolor": "white",
            "linecolor": "white",
            "ticks": ""
           }
          },
          "title": {
           "x": 0.05
          },
          "xaxis": {
           "automargin": true,
           "gridcolor": "white",
           "linecolor": "white",
           "ticks": "",
           "title": {
            "standoff": 15
           },
           "zerolinecolor": "white",
           "zerolinewidth": 2
          },
          "yaxis": {
           "automargin": true,
           "gridcolor": "white",
           "linecolor": "white",
           "ticks": "",
           "title": {
            "standoff": 15
           },
           "zerolinecolor": "white",
           "zerolinewidth": 2
          }
         }
        },
        "xaxis": {
         "anchor": "y",
         "domain": [
          0,
          1
         ],
         "title": {
          "text": "x"
         }
        },
        "yaxis": {
         "anchor": "x",
         "domain": [
          0,
          1
         ],
         "title": {
          "text": "y"
         }
        }
       }
      },
      "text/html": [
       "<div>                            <div id=\"a116674d-863e-4a57-949f-7d1dad0faba9\" class=\"plotly-graph-div\" style=\"height:525px; width:100%;\"></div>            <script type=\"text/javascript\">                require([\"plotly\"], function(Plotly) {                    window.PLOTLYENV=window.PLOTLYENV || {};                                    if (document.getElementById(\"a116674d-863e-4a57-949f-7d1dad0faba9\")) {                    Plotly.newPlot(                        \"a116674d-863e-4a57-949f-7d1dad0faba9\",                        [{\"hovertemplate\": \"x=%{x}<br>y=%{y}<extra></extra>\", \"legendgroup\": \"\", \"marker\": {\"color\": \"#636efa\", \"opacity\": 0.8, \"size\": 12, \"symbol\": \"circle\"}, \"mode\": \"markers\", \"name\": \"\", \"orientation\": \"v\", \"showlegend\": false, \"type\": \"scatter\", \"x\": [79, 172, 198, 197, 11, 33, 140, 172, 96, 110, 77, 79, 173, 158, 197, 69, 108, 127, 145, 84, 86, 176, 106, 5, 177, 26, 193, 179, 193, 65, 56, 77, 168, 118, 141, 137, 9, 48, 167, 107, 76, 125, 72, 183, 27, 178, 65, 141, 119, 197, 198, 36, 12, 82, 140, 69, 158, 120, 106, 177, 34, 29, 41, 192, 53, 180, 32, 168, 40, 107, 137, 6, 99, 178, 92, 167, 81, 78, 4, 121, 97, 147, 56, 135, 104, 118, 157, 147, 167, 132, 76, 91, 97, 102, 87, 136, 146, 197, 2, 87, 109, 17, 117, 128, 28, 137, 141, 170, 147, 194, 192, 40, 75, 176, 66, 186, 54, 68, 183, 178, 39, 164, 122, 180, 29, 187, 92, 66, 92, 120, 29, 44, 94, 58, 42, 168, 113, 73, 180, 131, 197, 180, 65, 75, 116, 29, 118, 76, 105, 176, 33, 126, 190, 154, 4, 154, 24, 10, 69, 147, 34, 51, 56, 129, 166, 58, 191, 73, 136, 103, 192, 497, 411, 464, 419, 470, 235, 388, 204, 348, 490, 306, 299, 333, 397, 346, 286, 315, 442, 474, 239, 423, 485, 292, 309, 486, 231, 337, 275, 483, 456, 354, 329, 301, 219, 213, 345, 359, 339, 269, 386, 291, 381, 343, 481, 337, 238, 368, 349, 480, 466, 240, 464, 499, 213, 299, 216, 415, 381, 427, 459, 231, 275, 223, 489, 489, 246, 226, 261, 390, 366, 266, 399, 437, 359, 215, 321, 210, 257, 257, 471, 206, 293, 302, 294, 257, 224, 415, 301, 351, 427, 337, 438, 448, 430, 490, 493, 457, 483, 342, 226, 355, 342, 372, 293, 213, 215, 443, 292, 250, 410, 420, 458, 493, 265, 433, 481, 305, 432, 489, 280, 239, 434, 436, 467, 405, 327, 294, 300, 435, 253, 499, 465, 237, 379, 290, 263, 492, 374, 225, 437, 388, 255, 472, 390, 263, 464, 343, 200, 332, 326, 475, 248, 486, 423, 258, 407, 313, 466, 222, 228, 370, 478, 490, 228, 250, 415, 290, 200, 387, 283, 242, 412, 459, 381, 215, 482, 228, 341, 317, 358, 340, 456, 435, 399, 272, 483, 271, 437, 348, 402, 436, 412, 269, 461, 209, 481, 364, 229, 364, 409, 477, 462, 441, 271, 222, 406, 424, 472, 404, 240, 298, 249, 332, 437, 424, 454, 294, 476, 463, 286, 448, 339, 210, 357, 350, 259, 246, 459, 424, 267, 462, 243, 213, 451, 356, 239, 245, 395, 366, 200, 226, 240, 441, 232, 233, 425, 484, 239, 325, 316, 213, 355, 469, 445, 284, 276, 329, 379, 238, 362, 231, 438, 424, 361, 443, 338, 461, 390, 443, 498, 211, 421, 421, 401, 334, 328, 312, 322, 304, 458, 332, 235, 217, 212, 363, 420, 260, 248, 325, 406, 238, 397, 213, 278, 303, 239, 315, 468, 493, 219, 405, 471, 252, 353, 469, 262, 340, 328, 219, 205, 399, 358, 398, 274, 486, 642, 684, 520, 673, 539, 645, 520, 651, 559, 643, 561, 562, 603, 534, 541, 539, 642, 681, 643, 656, 610, 582, 671, 641, 537, 604, 613, 634, 559, 686, 507, 548, 580, 502, 662, 570, 684, 548, 541, 508, 584, 507, 679, 514, 638, 595, 641, 682, 617, 647, 697, 613, 604, 638, 660, 608, 630, 508, 680, 697, 693, 567, 540, 541, 619, 573, 653, 582, 664, 546, 614, 671, 577, 626, 529, 673, 541, 599, 629, 617, 514, 611, 500, 557, 518, 513, 500, 624, 504, 619, 632, 526, 686, 641, 612, 548, 598, 617, 559, 629, 695, 561, 678, 602, 637, 669, 690, 503, 650, 546, 616, 686, 556, 610, 678, 555, 624, 535, 528, 679, 554, 584, 610, 658, 619, 680, 630, 569, 604, 563, 688, 601, 525, 639, 614, 684, 582, 573, 697, 673, 671, 667, 500, 695, 574, 617, 560, 664, 582, 598, 580, 614, 658, 616, 615, 666, 676, 660, 652, 643, 697, 647, 611, 564, 680, 629, 548, 608, 629, 601, 679, 526, 625, 560, 653, 645, 513, 562, 647, 684, 597, 561, 645, 534, 517, 551, 514, 546, 588, 627, 593, 560, 626, 617, 686, 574, 597, 590, 656, 536, 555, 610, 686, 521, 580, 504, 526, 601, 673, 502, 636, 673, 699, 528, 573, 652, 645, 544, 692, 591, 595, 601, 649, 666, 507, 500, 530, 621, 666, 502, 551, 628, 582, 552, 630, 582, 542, 534, 552, 676, 692, 591, 686, 551, 643, 615, 688, 668, 694, 686, 600, 662, 567, 518, 562, 660, 550, 505, 652, 576, 686, 639, 510, 549, 580, 613, 551, 686, 663, 601, 531, 632, 608, 552, 509, 566, 546, 576, 612, 576, 686, 570, 514, 524, 643, 508, 533, 543, 580, 643, 603, 642, 503, 595, 566, 508, 695, 541, 675, 636, 654, 616, 678, 625, 576, 656, 625, 573, 643, 632, 552, 518, 576, 638, 542, 543, 694, 575, 590, 523, 630, 611, 598, 615, 668, 560, 650, 655, 652, 503, 628, 529, 573, 647, 507, 649, 566, 526, 640, 617, 511, 549, 587, 576, 564, 601, 575, 639, 541, 665, 593, 637, 554, 541, 525, 518, 629, 669, 582, 689, 692, 578, 554, 511, 641, 550, 658, 505, 689, 542, 578, 559, 643, 673, 630, 557, 587, 567, 513, 572, 520, 673, 548, 626, 507, 551, 557, 549, 569, 586, 551, 628, 566, 584, 630, 668, 503, 639, 523, 516, 564, 538, 553, 550, 551, 540, 510, 571, 643, 547, 600, 666, 544, 634, 701, 855, 894, 874, 719, 743, 842, 727, 872, 831, 731, 775, 862, 771, 863, 762, 774, 831, 821, 807, 862, 833, 717, 710, 736, 738, 773, 781, 766, 729, 816, 844, 705, 716, 762, 879, 788, 775, 857, 870, 844, 727, 714, 770, 788, 836, 716, 782, 813, 864, 710, 777, 757, 738, 701, 714, 795, 889, 829, 831, 899, 775, 740, 775, 730, 727, 842, 896, 753, 851, 801, 833, 794, 833, 865, 775, 785, 723, 848, 868, 719, 891, 725, 838, 874, 699, 862, 727, 766, 756, 833, 738, 827, 861, 797, 720, 809, 764, 892, 942], \"xaxis\": \"x\", \"y\": [0, 0, 0, 0, 0, 0, 0, 0, 0, 0, 0, 0, 0, 0, 0, 0, 0, 0, 0, 0, 0, 0, 0, 0, 0, 0, 0, 0, 0, 0, 0, 0, 0, 0, 0, 0, 0, 0, 0, 0, 0, 0, 0, 0, 0, 0, 0, 0, 0, 0, 0, 0, 0, 0, 0, 0, 0, 0, 0, 0, 0, 0, 0, 0, 0, 0, 0, 0, 0, 0, 0, 0, 0, 0, 0, 0, 0, 0, 0, 0, 0, 0, 0, 0, 0, 0, 0, 0, 0, 0, 0, 0, 0, 0, 0, 0, 0, 0, 0, 0, 0, 0, 0, 0, 0, 0, 0, 0, 0, 0, 0, 0, 0, 0, 0, 0, 0, 0, 0, 0, 0, 0, 0, 0, 0, 0, 0, 0, 0, 0, 0, 0, 0, 0, 0, 0, 0, 0, 0, 0, 0, 0, 0, 0, 0, 0, 0, 0, 0, 0, 0, 0, 0, 0, 0, 0, 0, 0, 0, 0, 0, 0, 0, 0, 0, 0, 0, 0, 0, 0, 0, 1, 0, 0, 0, 0, 0, 0, 0, 0, 1, 0, 0, 0, 0, 0, 0, 0, 0, 1, 0, 0, 1, 0, 0, 1, 0, 0, 0, 1, 0, 0, 0, 0, 0, 0, 0, 0, 0, 0, 0, 0, 0, 0, 1, 0, 0, 0, 0, 1, 0, 0, 0, 1, 0, 0, 0, 0, 0, 0, 0, 0, 0, 0, 1, 1, 0, 0, 0, 0, 0, 0, 0, 0, 0, 0, 0, 0, 0, 0, 0, 0, 0, 0, 0, 0, 0, 0, 0, 0, 0, 0, 0, 0, 0, 1, 1, 0, 1, 0, 0, 0, 0, 0, 0, 0, 0, 0, 0, 0, 0, 0, 0, 1, 0, 0, 1, 0, 0, 1, 0, 0, 0, 0, 0, 0, 0, 0, 0, 0, 0, 1, 0, 0, 0, 0, 0, 1, 0, 0, 0, 0, 0, 1, 0, 0, 0, 0, 0, 0, 0, 1, 0, 1, 0, 0, 0, 0, 0, 0, 0, 0, 1, 1, 0, 0, 0, 0, 0, 0, 0, 0, 0, 0, 0, 0, 1, 0, 0, 0, 0, 0, 0, 0, 0, 0, 1, 0, 0, 0, 0, 0, 0, 0, 0, 0, 1, 0, 0, 0, 0, 1, 0, 0, 0, 0, 0, 0, 0, 0, 0, 0, 0, 0, 0, 0, 0, 0, 1, 0, 0, 0, 0, 0, 0, 0, 0, 0, 0, 0, 0, 0, 0, 0, 0, 0, 0, 0, 0, 0, 0, 0, 0, 0, 0, 0, 0, 1, 0, 0, 0, 0, 0, 0, 0, 0, 0, 0, 0, 0, 0, 0, 0, 0, 0, 0, 0, 0, 0, 0, 1, 0, 0, 0, 0, 0, 0, 0, 0, 0, 0, 0, 0, 0, 0, 0, 0, 0, 0, 0, 0, 0, 0, 0, 0, 0, 0, 0, 0, 1, 0, 0, 0, 0, 0, 0, 0, 0, 0, 0, 0, 0, 0, 0, 0, 1, 1, 1, 1, 1, 1, 1, 1, 1, 1, 1, 1, 1, 1, 1, 1, 1, 1, 1, 1, 1, 1, 1, 1, 1, 1, 1, 1, 1, 1, 1, 1, 1, 1, 1, 1, 1, 1, 1, 1, 1, 1, 1, 1, 1, 1, 1, 1, 1, 1, 1, 1, 1, 1, 1, 1, 1, 1, 1, 1, 1, 1, 1, 1, 1, 1, 1, 1, 1, 1, 1, 1, 1, 1, 1, 1, 1, 1, 1, 1, 1, 1, 1, 1, 1, 1, 1, 1, 1, 1, 1, 1, 1, 1, 1, 1, 1, 1, 1, 1, 1, 1, 1, 1, 1, 1, 1, 1, 1, 1, 1, 1, 1, 1, 1, 1, 1, 1, 1, 1, 1, 1, 1, 1, 1, 1, 1, 1, 1, 1, 1, 1, 1, 1, 1, 1, 1, 1, 1, 1, 1, 1, 1, 1, 1, 1, 1, 1, 1, 1, 1, 1, 1, 1, 1, 1, 1, 1, 1, 1, 1, 1, 1, 1, 1, 1, 1, 1, 1, 1, 1, 1, 1, 1, 1, 1, 1, 1, 1, 1, 1, 1, 1, 1, 1, 1, 1, 1, 1, 1, 1, 1, 1, 1, 1, 1, 1, 1, 1, 1, 1, 1, 1, 1, 1, 1, 1, 1, 1, 1, 1, 1, 1, 1, 1, 1, 1, 1, 1, 1, 1, 1, 1, 1, 1, 1, 1, 1, 1, 1, 1, 1, 1, 1, 1, 1, 1, 1, 1, 1, 1, 1, 1, 1, 1, 1, 1, 1, 1, 1, 1, 1, 1, 1, 1, 1, 1, 1, 1, 1, 1, 1, 1, 1, 1, 1, 1, 1, 1, 1, 1, 1, 1, 1, 1, 1, 1, 1, 1, 1, 1, 1, 1, 1, 1, 1, 1, 1, 1, 1, 1, 1, 1, 1, 1, 1, 1, 1, 1, 1, 1, 1, 1, 1, 1, 1, 1, 1, 1, 1, 1, 1, 1, 1, 1, 1, 1, 1, 1, 1, 1, 1, 1, 1, 1, 1, 1, 1, 1, 1, 1, 1, 1, 1, 1, 1, 1, 1, 1, 1, 1, 1, 1, 1, 1, 1, 1, 1, 1, 1, 1, 1, 1, 1, 1, 1, 1, 1, 1, 1, 1, 1, 1, 1, 1, 1, 1, 1, 1, 1, 1, 1, 1, 1, 1, 1, 1, 1, 1, 1, 1, 1, 1, 1, 1, 1, 1, 1, 1, 1, 1, 1, 1, 1, 1, 1, 1, 1, 1, 1, 1, 1, 1, 1, 1, 1, 1, 1, 1, 1, 1, 1, 1, 1, 1, 1, 1, 1, 1, 1, 1, 1, 1, 1, 1, 1, 1, 1, 1, 1, 1, 1, 1, 1, 1, 1, 1, 1, 1, 1, 1, 1, 1, 1, 1, 1, 1, 1, 1, 1, 1, 1, 1, 1, 1, 1, 1, 1, 1, 1, 1, 1, 1, 1, 1, 1, 1, 1, 1, 1, 1, 1, 1, 1, 1, 1, 1, 1, 1, 1, 1, 1, 1, 1, 1, 1, 1, 1, 1, 1, 1, 1, 1, 1, 1, 1, 1, 1, 1, 1, 1, 1, 1, 1, 1, 1, 1, 1, 1, 1, 1, 1, 1, 1, 1], \"yaxis\": \"y\"}],                        {\"legend\": {\"tracegroupgap\": 0}, \"margin\": {\"t\": 60}, \"template\": {\"data\": {\"bar\": [{\"error_x\": {\"color\": \"#2a3f5f\"}, \"error_y\": {\"color\": \"#2a3f5f\"}, \"marker\": {\"line\": {\"color\": \"#E5ECF6\", \"width\": 0.5}}, \"type\": \"bar\"}], \"barpolar\": [{\"marker\": {\"line\": {\"color\": \"#E5ECF6\", \"width\": 0.5}}, \"type\": \"barpolar\"}], \"carpet\": [{\"aaxis\": {\"endlinecolor\": \"#2a3f5f\", \"gridcolor\": \"white\", \"linecolor\": \"white\", \"minorgridcolor\": \"white\", \"startlinecolor\": \"#2a3f5f\"}, \"baxis\": {\"endlinecolor\": \"#2a3f5f\", \"gridcolor\": \"white\", \"linecolor\": \"white\", \"minorgridcolor\": \"white\", \"startlinecolor\": \"#2a3f5f\"}, \"type\": \"carpet\"}], \"choropleth\": [{\"colorbar\": {\"outlinewidth\": 0, \"ticks\": \"\"}, \"type\": \"choropleth\"}], \"contour\": [{\"colorbar\": {\"outlinewidth\": 0, \"ticks\": \"\"}, \"colorscale\": [[0.0, \"#0d0887\"], [0.1111111111111111, \"#46039f\"], [0.2222222222222222, \"#7201a8\"], [0.3333333333333333, \"#9c179e\"], [0.4444444444444444, \"#bd3786\"], [0.5555555555555556, \"#d8576b\"], [0.6666666666666666, \"#ed7953\"], [0.7777777777777778, \"#fb9f3a\"], [0.8888888888888888, \"#fdca26\"], [1.0, \"#f0f921\"]], \"type\": \"contour\"}], \"contourcarpet\": [{\"colorbar\": {\"outlinewidth\": 0, \"ticks\": \"\"}, \"type\": \"contourcarpet\"}], \"heatmap\": [{\"colorbar\": {\"outlinewidth\": 0, \"ticks\": \"\"}, \"colorscale\": [[0.0, \"#0d0887\"], [0.1111111111111111, \"#46039f\"], [0.2222222222222222, \"#7201a8\"], [0.3333333333333333, \"#9c179e\"], [0.4444444444444444, \"#bd3786\"], [0.5555555555555556, \"#d8576b\"], [0.6666666666666666, \"#ed7953\"], [0.7777777777777778, \"#fb9f3a\"], [0.8888888888888888, \"#fdca26\"], [1.0, \"#f0f921\"]], \"type\": \"heatmap\"}], \"heatmapgl\": [{\"colorbar\": {\"outlinewidth\": 0, \"ticks\": \"\"}, \"colorscale\": [[0.0, \"#0d0887\"], [0.1111111111111111, \"#46039f\"], [0.2222222222222222, \"#7201a8\"], [0.3333333333333333, \"#9c179e\"], [0.4444444444444444, \"#bd3786\"], [0.5555555555555556, \"#d8576b\"], [0.6666666666666666, \"#ed7953\"], [0.7777777777777778, \"#fb9f3a\"], [0.8888888888888888, \"#fdca26\"], [1.0, \"#f0f921\"]], \"type\": \"heatmapgl\"}], \"histogram\": [{\"marker\": {\"colorbar\": {\"outlinewidth\": 0, \"ticks\": \"\"}}, \"type\": \"histogram\"}], \"histogram2d\": [{\"colorbar\": {\"outlinewidth\": 0, \"ticks\": \"\"}, \"colorscale\": [[0.0, \"#0d0887\"], [0.1111111111111111, \"#46039f\"], [0.2222222222222222, \"#7201a8\"], [0.3333333333333333, \"#9c179e\"], [0.4444444444444444, \"#bd3786\"], [0.5555555555555556, \"#d8576b\"], [0.6666666666666666, \"#ed7953\"], [0.7777777777777778, \"#fb9f3a\"], [0.8888888888888888, \"#fdca26\"], [1.0, \"#f0f921\"]], \"type\": \"histogram2d\"}], \"histogram2dcontour\": [{\"colorbar\": {\"outlinewidth\": 0, \"ticks\": \"\"}, \"colorscale\": [[0.0, \"#0d0887\"], [0.1111111111111111, \"#46039f\"], [0.2222222222222222, \"#7201a8\"], [0.3333333333333333, \"#9c179e\"], [0.4444444444444444, \"#bd3786\"], [0.5555555555555556, \"#d8576b\"], [0.6666666666666666, \"#ed7953\"], [0.7777777777777778, \"#fb9f3a\"], [0.8888888888888888, \"#fdca26\"], [1.0, \"#f0f921\"]], \"type\": \"histogram2dcontour\"}], \"mesh3d\": [{\"colorbar\": {\"outlinewidth\": 0, \"ticks\": \"\"}, \"type\": \"mesh3d\"}], \"parcoords\": [{\"line\": {\"colorbar\": {\"outlinewidth\": 0, \"ticks\": \"\"}}, \"type\": \"parcoords\"}], \"pie\": [{\"automargin\": true, \"type\": \"pie\"}], \"scatter\": [{\"marker\": {\"colorbar\": {\"outlinewidth\": 0, \"ticks\": \"\"}}, \"type\": \"scatter\"}], \"scatter3d\": [{\"line\": {\"colorbar\": {\"outlinewidth\": 0, \"ticks\": \"\"}}, \"marker\": {\"colorbar\": {\"outlinewidth\": 0, \"ticks\": \"\"}}, \"type\": \"scatter3d\"}], \"scattercarpet\": [{\"marker\": {\"colorbar\": {\"outlinewidth\": 0, \"ticks\": \"\"}}, \"type\": \"scattercarpet\"}], \"scattergeo\": [{\"marker\": {\"colorbar\": {\"outlinewidth\": 0, \"ticks\": \"\"}}, \"type\": \"scattergeo\"}], \"scattergl\": [{\"marker\": {\"colorbar\": {\"outlinewidth\": 0, \"ticks\": \"\"}}, \"type\": \"scattergl\"}], \"scattermapbox\": [{\"marker\": {\"colorbar\": {\"outlinewidth\": 0, \"ticks\": \"\"}}, \"type\": \"scattermapbox\"}], \"scatterpolar\": [{\"marker\": {\"colorbar\": {\"outlinewidth\": 0, \"ticks\": \"\"}}, \"type\": \"scatterpolar\"}], \"scatterpolargl\": [{\"marker\": {\"colorbar\": {\"outlinewidth\": 0, \"ticks\": \"\"}}, \"type\": \"scatterpolargl\"}], \"scatterternary\": [{\"marker\": {\"colorbar\": {\"outlinewidth\": 0, \"ticks\": \"\"}}, \"type\": \"scatterternary\"}], \"surface\": [{\"colorbar\": {\"outlinewidth\": 0, \"ticks\": \"\"}, \"colorscale\": [[0.0, \"#0d0887\"], [0.1111111111111111, \"#46039f\"], [0.2222222222222222, \"#7201a8\"], [0.3333333333333333, \"#9c179e\"], [0.4444444444444444, \"#bd3786\"], [0.5555555555555556, \"#d8576b\"], [0.6666666666666666, \"#ed7953\"], [0.7777777777777778, \"#fb9f3a\"], [0.8888888888888888, \"#fdca26\"], [1.0, \"#f0f921\"]], \"type\": \"surface\"}], \"table\": [{\"cells\": {\"fill\": {\"color\": \"#EBF0F8\"}, \"line\": {\"color\": \"white\"}}, \"header\": {\"fill\": {\"color\": \"#C8D4E3\"}, \"line\": {\"color\": \"white\"}}, \"type\": \"table\"}]}, \"layout\": {\"annotationdefaults\": {\"arrowcolor\": \"#2a3f5f\", \"arrowhead\": 0, \"arrowwidth\": 1}, \"autotypenumbers\": \"strict\", \"coloraxis\": {\"colorbar\": {\"outlinewidth\": 0, \"ticks\": \"\"}}, \"colorscale\": {\"diverging\": [[0, \"#8e0152\"], [0.1, \"#c51b7d\"], [0.2, \"#de77ae\"], [0.3, \"#f1b6da\"], [0.4, \"#fde0ef\"], [0.5, \"#f7f7f7\"], [0.6, \"#e6f5d0\"], [0.7, \"#b8e186\"], [0.8, \"#7fbc41\"], [0.9, \"#4d9221\"], [1, \"#276419\"]], \"sequential\": [[0.0, \"#0d0887\"], [0.1111111111111111, \"#46039f\"], [0.2222222222222222, \"#7201a8\"], [0.3333333333333333, \"#9c179e\"], [0.4444444444444444, \"#bd3786\"], [0.5555555555555556, \"#d8576b\"], [0.6666666666666666, \"#ed7953\"], [0.7777777777777778, \"#fb9f3a\"], [0.8888888888888888, \"#fdca26\"], [1.0, \"#f0f921\"]], \"sequentialminus\": [[0.0, \"#0d0887\"], [0.1111111111111111, \"#46039f\"], [0.2222222222222222, \"#7201a8\"], [0.3333333333333333, \"#9c179e\"], [0.4444444444444444, \"#bd3786\"], [0.5555555555555556, \"#d8576b\"], [0.6666666666666666, \"#ed7953\"], [0.7777777777777778, \"#fb9f3a\"], [0.8888888888888888, \"#fdca26\"], [1.0, \"#f0f921\"]]}, \"colorway\": [\"#636efa\", \"#EF553B\", \"#00cc96\", \"#ab63fa\", \"#FFA15A\", \"#19d3f3\", \"#FF6692\", \"#B6E880\", \"#FF97FF\", \"#FECB52\"], \"font\": {\"color\": \"#2a3f5f\"}, \"geo\": {\"bgcolor\": \"white\", \"lakecolor\": \"white\", \"landcolor\": \"#E5ECF6\", \"showlakes\": true, \"showland\": true, \"subunitcolor\": \"white\"}, \"hoverlabel\": {\"align\": \"left\"}, \"hovermode\": \"closest\", \"mapbox\": {\"style\": \"light\"}, \"paper_bgcolor\": \"white\", \"plot_bgcolor\": \"#E5ECF6\", \"polar\": {\"angularaxis\": {\"gridcolor\": \"white\", \"linecolor\": \"white\", \"ticks\": \"\"}, \"bgcolor\": \"#E5ECF6\", \"radialaxis\": {\"gridcolor\": \"white\", \"linecolor\": \"white\", \"ticks\": \"\"}}, \"scene\": {\"xaxis\": {\"backgroundcolor\": \"#E5ECF6\", \"gridcolor\": \"white\", \"gridwidth\": 2, \"linecolor\": \"white\", \"showbackground\": true, \"ticks\": \"\", \"zerolinecolor\": \"white\"}, \"yaxis\": {\"backgroundcolor\": \"#E5ECF6\", \"gridcolor\": \"white\", \"gridwidth\": 2, \"linecolor\": \"white\", \"showbackground\": true, \"ticks\": \"\", \"zerolinecolor\": \"white\"}, \"zaxis\": {\"backgroundcolor\": \"#E5ECF6\", \"gridcolor\": \"white\", \"gridwidth\": 2, \"linecolor\": \"white\", \"showbackground\": true, \"ticks\": \"\", \"zerolinecolor\": \"white\"}}, \"shapedefaults\": {\"line\": {\"color\": \"#2a3f5f\"}}, \"ternary\": {\"aaxis\": {\"gridcolor\": \"white\", \"linecolor\": \"white\", \"ticks\": \"\"}, \"baxis\": {\"gridcolor\": \"white\", \"linecolor\": \"white\", \"ticks\": \"\"}, \"bgcolor\": \"#E5ECF6\", \"caxis\": {\"gridcolor\": \"white\", \"linecolor\": \"white\", \"ticks\": \"\"}}, \"title\": {\"x\": 0.05}, \"xaxis\": {\"automargin\": true, \"gridcolor\": \"white\", \"linecolor\": \"white\", \"ticks\": \"\", \"title\": {\"standoff\": 15}, \"zerolinecolor\": \"white\", \"zerolinewidth\": 2}, \"yaxis\": {\"automargin\": true, \"gridcolor\": \"white\", \"linecolor\": \"white\", \"ticks\": \"\", \"title\": {\"standoff\": 15}, \"zerolinecolor\": \"white\", \"zerolinewidth\": 2}}}, \"xaxis\": {\"anchor\": \"y\", \"domain\": [0.0, 1.0], \"title\": {\"text\": \"x\"}}, \"yaxis\": {\"anchor\": \"x\", \"domain\": [0.0, 1.0], \"title\": {\"text\": \"y\"}}},                        {\"responsive\": true}                    ).then(function(){\n",
       "                            \n",
       "var gd = document.getElementById('a116674d-863e-4a57-949f-7d1dad0faba9');\n",
       "var x = new MutationObserver(function (mutations, observer) {{\n",
       "        var display = window.getComputedStyle(gd).display;\n",
       "        if (!display || display === 'none') {{\n",
       "            console.log([gd, 'removed!']);\n",
       "            Plotly.purge(gd);\n",
       "            observer.disconnect();\n",
       "        }}\n",
       "}});\n",
       "\n",
       "// Listen for the removal of the full notebook cells\n",
       "var notebookContainer = gd.closest('#notebook-container');\n",
       "if (notebookContainer) {{\n",
       "    x.observe(notebookContainer, {childList: true});\n",
       "}}\n",
       "\n",
       "// Listen for the clearing of the current output cell\n",
       "var outputEl = gd.closest('.output');\n",
       "if (outputEl) {{\n",
       "    x.observe(outputEl, {childList: true});\n",
       "}}\n",
       "\n",
       "                        })                };                });            </script>        </div>"
      ]
     },
     "metadata": {},
     "output_type": "display_data"
    }
   ],
   "source": [
    "plotar(df.pontuação, df.admitido)"
   ]
  },
  {
   "cell_type": "markdown",
   "metadata": {
    "pycharm": {
     "name": "#%% md\n"
    }
   },
   "source": [
    "## Regressão Linear"
   ]
  },
  {
   "cell_type": "markdown",
   "metadata": {
    "pycharm": {
     "name": "#%% md\n"
    }
   },
   "source": [
    "A Regressão Linear não seria apropriada para resolver o problema."
   ]
  },
  {
   "cell_type": "markdown",
   "metadata": {
    "pycharm": {
     "name": "#%% md\n"
    }
   },
   "source": [
    "a) O que aconteceria com os valores da variável dependente $Y$? Que intervalo $Y$ poderia assumir? E quais valores deveriam assumir?"
   ]
  },
  {
   "cell_type": "markdown",
   "metadata": {
    "pycharm": {
     "name": "#%% md\n"
    }
   },
   "source": [
    "*Escreva sua resposta aqui*"
   ]
  },
  {
   "cell_type": "markdown",
   "metadata": {
    "pycharm": {
     "name": "#%% md\n"
    }
   },
   "source": [
    "b) O que o coeficiente de regressão significaria neste caso?"
   ]
  },
  {
   "cell_type": "markdown",
   "metadata": {
    "pycharm": {
     "name": "#%% md\n"
    }
   },
   "source": [
    "*Escreva sua resposta aqui*"
   ]
  },
  {
   "cell_type": "markdown",
   "metadata": {
    "pycharm": {
     "name": "#%% md\n"
    }
   },
   "source": [
    "c) E o intercepto? O que significaria?"
   ]
  },
  {
   "cell_type": "markdown",
   "metadata": {
    "pycharm": {
     "name": "#%% md\n"
    }
   },
   "source": [
    "*Escreva sua resposta aqui*"
   ]
  },
  {
   "cell_type": "markdown",
   "metadata": {
    "pycharm": {
     "name": "#%% md\n"
    }
   },
   "source": [
    "<img src=\"img/linear_vs_logistic_regression.webp\">"
   ]
  },
  {
   "cell_type": "markdown",
   "metadata": {
    "pycharm": {
     "name": "#%% md\n"
    }
   },
   "source": [
    "# Regressão Logística"
   ]
  },
  {
   "cell_type": "markdown",
   "metadata": {
    "pycharm": {
     "name": "#%% md\n"
    }
   },
   "source": [
    "A Regressão Linear não é adequada para os casos em que a variável dependente é categórica. A variável dependente ($Y$) também pode ser chamada de variável **dicotômica**, **binária** ou **categórica**.\n",
    "\n",
    "A Regressão Logística resolve esse problema ao ajustar uma curva em formato de S nos dados.\n",
    "\n",
    "A meta da Regressão Logística é estimar uma probabilidade $p$ para uma combinação linear de variáveis independentes. A estimativa de $p$ é representada como $\\hat{p}$."
   ]
  },
  {
   "cell_type": "markdown",
   "metadata": {
    "pycharm": {
     "name": "#%% md\n"
    }
   },
   "source": [
    "## A função logística (*logit*)"
   ]
  },
  {
   "cell_type": "markdown",
   "metadata": {
    "pycharm": {
     "name": "#%% md\n"
    }
   },
   "source": [
    "A função logística é um tipo de sigmóide (a curva em S) e pode ser definida como a seguir."
   ]
  },
  {
   "cell_type": "markdown",
   "metadata": {
    "pycharm": {
     "name": "#%% md\n"
    }
   },
   "source": [
    "$$\n",
    "f(p) = ln(chances)\n",
    "$$"
   ]
  },
  {
   "cell_type": "markdown",
   "metadata": {
    "pycharm": {
     "name": "#%% md\n"
    }
   },
   "source": [
    "$$\n",
    "f(p) = ln(\\frac{p}{1-p})\n",
    "$$"
   ]
  },
  {
   "cell_type": "markdown",
   "metadata": {
    "pycharm": {
     "name": "#%% md\n"
    }
   },
   "source": [
    "A implementação da função logística $f(x)$ em Python."
   ]
  },
  {
   "cell_type": "code",
   "execution_count": 8,
   "metadata": {
    "pycharm": {
     "name": "#%%\n"
    }
   },
   "outputs": [],
   "source": [
    "def logit(p):\n",
    "    return log(p / (1 - p))"
   ]
  },
  {
   "cell_type": "code",
   "execution_count": 9,
   "metadata": {
    "pycharm": {
     "name": "#%%\n"
    }
   },
   "outputs": [],
   "source": [
    "def c(p):\n",
    "    return p / (1 - p)"
   ]
  },
  {
   "cell_type": "markdown",
   "metadata": {
    "pycharm": {
     "name": "#%% md\n"
    }
   },
   "source": [
    "**Características do $logit$**"
   ]
  },
  {
   "cell_type": "markdown",
   "metadata": {
    "pycharm": {
     "name": "#%% md\n"
    }
   },
   "source": [
    "- Não tem limites. Varia de $-\\infty$ (impossibilidade negativa) a $+\\infty$ (certeza virtual)\n",
    "\n",
    "- Valores negativos de $L$ representam chances menores que iguais\n",
    "\n",
    "- $L = 0$ representa chances iguais de ocorrência\n",
    "\n",
    "- Valores positivos de $L$ representam chances maiores que iguais"
   ]
  },
  {
   "cell_type": "markdown",
   "metadata": {
    "pycharm": {
     "name": "#%% md\n"
    }
   },
   "source": [
    "**Estudo do comportamento da função logística**"
   ]
  },
  {
   "cell_type": "markdown",
   "metadata": {
    "pycharm": {
     "name": "#%% md\n"
    }
   },
   "source": [
    "Mude os argumentos na função abaixo e observe os resultados."
   ]
  },
  {
   "cell_type": "code",
   "execution_count": 22,
   "metadata": {
    "pycharm": {
     "name": "#%%\n"
    }
   },
   "outputs": [
    {
     "data": {
      "text/plain": [
       "13.815509557935018"
      ]
     },
     "execution_count": 22,
     "metadata": {},
     "output_type": "execute_result"
    }
   ],
   "source": [
    "logit(0.999999)"
   ]
  },
  {
   "cell_type": "markdown",
   "metadata": {
    "pycharm": {
     "name": "#%% md\n"
    }
   },
   "source": [
    "* Que valores podemos colocar como argumento para a função $f(p)$?"
   ]
  },
  {
   "cell_type": "code",
   "execution_count": 23,
   "metadata": {
    "pycharm": {
     "name": "#%%\n"
    }
   },
   "outputs": [],
   "source": [
    "def gerar_pontos(min_, max_, fn, incremento=0.01):\n",
    "    # Define os limites mínino e máximo da sigmóide\n",
    "    p = min_\n",
    "    x, y = [], []\n",
    "    while p < max_:\n",
    "        # Gera os pontos da variável independente (eixo x)\n",
    "        x.append(p)\n",
    "\n",
    "        # Gera os pontos da variável independente (eixo y)\n",
    "        y.append(fn(p))\n",
    "\n",
    "        # Muda a probabilidade\n",
    "        p += incremento\n",
    "    return x, y"
   ]
  },
  {
   "cell_type": "code",
   "execution_count": 29,
   "metadata": {
    "pycharm": {
     "name": "#%%\n"
    }
   },
   "outputs": [
    {
     "data": {
      "application/vnd.plotly.v1+json": {
       "config": {
        "plotlyServerURL": "https://plot.ly"
       },
       "data": [
        {
         "hovertemplate": "x=%{x}<br>y=%{y}<extra></extra>",
         "legendgroup": "",
         "marker": {
          "color": "#636efa",
          "opacity": 0.8,
          "size": 12,
          "symbol": "circle"
         },
         "mode": "markers",
         "name": "",
         "orientation": "v",
         "showlegend": false,
         "type": "scatter",
         "x": [
          0.01,
          0.02,
          0.03,
          0.04,
          0.05,
          0.060000000000000005,
          0.07,
          0.08,
          0.09,
          0.09999999999999999,
          0.10999999999999999,
          0.11999999999999998,
          0.12999999999999998,
          0.13999999999999999,
          0.15,
          0.16,
          0.17,
          0.18000000000000002,
          0.19000000000000003,
          0.20000000000000004,
          0.21000000000000005,
          0.22000000000000006,
          0.23000000000000007,
          0.24000000000000007,
          0.25000000000000006,
          0.26000000000000006,
          0.2700000000000001,
          0.2800000000000001,
          0.2900000000000001,
          0.3000000000000001,
          0.3100000000000001,
          0.3200000000000001,
          0.3300000000000001,
          0.34000000000000014,
          0.35000000000000014,
          0.36000000000000015,
          0.37000000000000016,
          0.38000000000000017,
          0.3900000000000002,
          0.4000000000000002,
          0.4100000000000002,
          0.4200000000000002,
          0.4300000000000002,
          0.4400000000000002,
          0.45000000000000023,
          0.46000000000000024,
          0.47000000000000025,
          0.48000000000000026,
          0.49000000000000027,
          0.5000000000000002,
          0.5100000000000002,
          0.5200000000000002,
          0.5300000000000002,
          0.5400000000000003,
          0.5500000000000003,
          0.5600000000000003,
          0.5700000000000003,
          0.5800000000000003,
          0.5900000000000003,
          0.6000000000000003,
          0.6100000000000003,
          0.6200000000000003,
          0.6300000000000003,
          0.6400000000000003,
          0.6500000000000004,
          0.6600000000000004,
          0.6700000000000004,
          0.6800000000000004,
          0.6900000000000004,
          0.7000000000000004,
          0.7100000000000004,
          0.7200000000000004,
          0.7300000000000004,
          0.7400000000000004,
          0.7500000000000004,
          0.7600000000000005,
          0.7700000000000005,
          0.7800000000000005,
          0.7900000000000005,
          0.8000000000000005,
          0.8100000000000005,
          0.8200000000000005,
          0.8300000000000005,
          0.8400000000000005,
          0.8500000000000005,
          0.8600000000000005,
          0.8700000000000006,
          0.8800000000000006,
          0.8900000000000006,
          0.9000000000000006,
          0.9100000000000006,
          0.9200000000000006,
          0.9300000000000006,
          0.9400000000000006,
          0.9500000000000006,
          0.9600000000000006,
          0.9700000000000006,
          0.9800000000000006
         ],
         "xaxis": "x",
         "y": [
          -4.59511985013459,
          -3.8918202981106265,
          -3.4760986898352733,
          -3.1780538303479453,
          -2.9444389791664403,
          -2.751535313041949,
          -2.5866893440979424,
          -2.4423470353692043,
          -2.3136349291806306,
          -2.1972245773362196,
          -2.0907410969337694,
          -1.9924301646902063,
          -1.9009587611930472,
          -1.8152899666382492,
          -1.7346010553881064,
          -1.6582280766035322,
          -1.5856272637403817,
          -1.5163474893680884,
          -1.4500101755059982,
          -1.3862943611198904,
          -1.3249254147435983,
          -1.2656663733312754,
          -1.2083112059245338,
          -1.152679509938385,
          -1.0986122886681093,
          -1.0459685551826874,
          -0.9946225751440618,
          -0.9444616088408511,
          -0.8953840470548411,
          -0.8472978603872032,
          -0.8001193001121126,
          -0.7537718023763796,
          -0.7081850579244853,
          -0.6632942174102635,
          -0.6190392084062228,
          -0.5753641449035612,
          -0.5322168137473077,
          -0.48954822531870523,
          -0.4473122180436642,
          -0.4054651081081636,
          -0.363965377201411,
          -0.32277339226305024,
          -0.281851152140987,
          -0.24116205681688724,
          -0.20067069546215027,
          -0.16034265007517845,
          -0.12014431184206234,
          -0.08004270767353552,
          -0.04000533461369821,
          8.881784197001248E-16,
          0.04000533461370006,
          0.08004270767353738,
          0.1201443118420642,
          0.16034265007518042,
          0.20067069546215216,
          0.2411620568168891,
          0.2818511521409888,
          0.3227733922630523,
          0.36396537720141287,
          0.4054651081081657,
          0.4473122180436661,
          0.4895482253187071,
          0.5322168137473097,
          0.5753641449035632,
          0.6190392084062251,
          0.6632942174102657,
          0.7081850579244876,
          0.7537718023763819,
          0.8001193001121151,
          0.8472978603872056,
          0.8953840470548433,
          0.9444616088408535,
          0.9946225751440642,
          1.0459685551826898,
          1.098612288668112,
          1.152679509938388,
          1.2083112059245367,
          1.2656663733312787,
          1.3249254147436014,
          1.3862943611198937,
          1.4500101755060015,
          1.516347489368092,
          1.5856272637403857,
          1.6582280766035362,
          1.7346010553881106,
          1.8152899666382536,
          1.9009587611930518,
          1.9924301646902114,
          2.090741096933775,
          2.197224577336226,
          2.3136349291806377,
          2.4423470353692123,
          2.5866893440979517,
          2.7515353130419595,
          2.9444389791664536,
          3.178053830347962,
          3.476098689835295,
          3.8918202981106598
         ],
         "yaxis": "y"
        }
       ],
       "layout": {
        "legend": {
         "tracegroupgap": 0
        },
        "margin": {
         "t": 60
        },
        "template": {
         "data": {
          "bar": [
           {
            "error_x": {
             "color": "#2a3f5f"
            },
            "error_y": {
             "color": "#2a3f5f"
            },
            "marker": {
             "line": {
              "color": "#E5ECF6",
              "width": 0.5
             }
            },
            "type": "bar"
           }
          ],
          "barpolar": [
           {
            "marker": {
             "line": {
              "color": "#E5ECF6",
              "width": 0.5
             }
            },
            "type": "barpolar"
           }
          ],
          "carpet": [
           {
            "aaxis": {
             "endlinecolor": "#2a3f5f",
             "gridcolor": "white",
             "linecolor": "white",
             "minorgridcolor": "white",
             "startlinecolor": "#2a3f5f"
            },
            "baxis": {
             "endlinecolor": "#2a3f5f",
             "gridcolor": "white",
             "linecolor": "white",
             "minorgridcolor": "white",
             "startlinecolor": "#2a3f5f"
            },
            "type": "carpet"
           }
          ],
          "choropleth": [
           {
            "colorbar": {
             "outlinewidth": 0,
             "ticks": ""
            },
            "type": "choropleth"
           }
          ],
          "contour": [
           {
            "colorbar": {
             "outlinewidth": 0,
             "ticks": ""
            },
            "colorscale": [
             [
              0,
              "#0d0887"
             ],
             [
              0.1111111111111111,
              "#46039f"
             ],
             [
              0.2222222222222222,
              "#7201a8"
             ],
             [
              0.3333333333333333,
              "#9c179e"
             ],
             [
              0.4444444444444444,
              "#bd3786"
             ],
             [
              0.5555555555555556,
              "#d8576b"
             ],
             [
              0.6666666666666666,
              "#ed7953"
             ],
             [
              0.7777777777777778,
              "#fb9f3a"
             ],
             [
              0.8888888888888888,
              "#fdca26"
             ],
             [
              1,
              "#f0f921"
             ]
            ],
            "type": "contour"
           }
          ],
          "contourcarpet": [
           {
            "colorbar": {
             "outlinewidth": 0,
             "ticks": ""
            },
            "type": "contourcarpet"
           }
          ],
          "heatmap": [
           {
            "colorbar": {
             "outlinewidth": 0,
             "ticks": ""
            },
            "colorscale": [
             [
              0,
              "#0d0887"
             ],
             [
              0.1111111111111111,
              "#46039f"
             ],
             [
              0.2222222222222222,
              "#7201a8"
             ],
             [
              0.3333333333333333,
              "#9c179e"
             ],
             [
              0.4444444444444444,
              "#bd3786"
             ],
             [
              0.5555555555555556,
              "#d8576b"
             ],
             [
              0.6666666666666666,
              "#ed7953"
             ],
             [
              0.7777777777777778,
              "#fb9f3a"
             ],
             [
              0.8888888888888888,
              "#fdca26"
             ],
             [
              1,
              "#f0f921"
             ]
            ],
            "type": "heatmap"
           }
          ],
          "heatmapgl": [
           {
            "colorbar": {
             "outlinewidth": 0,
             "ticks": ""
            },
            "colorscale": [
             [
              0,
              "#0d0887"
             ],
             [
              0.1111111111111111,
              "#46039f"
             ],
             [
              0.2222222222222222,
              "#7201a8"
             ],
             [
              0.3333333333333333,
              "#9c179e"
             ],
             [
              0.4444444444444444,
              "#bd3786"
             ],
             [
              0.5555555555555556,
              "#d8576b"
             ],
             [
              0.6666666666666666,
              "#ed7953"
             ],
             [
              0.7777777777777778,
              "#fb9f3a"
             ],
             [
              0.8888888888888888,
              "#fdca26"
             ],
             [
              1,
              "#f0f921"
             ]
            ],
            "type": "heatmapgl"
           }
          ],
          "histogram": [
           {
            "marker": {
             "colorbar": {
              "outlinewidth": 0,
              "ticks": ""
             }
            },
            "type": "histogram"
           }
          ],
          "histogram2d": [
           {
            "colorbar": {
             "outlinewidth": 0,
             "ticks": ""
            },
            "colorscale": [
             [
              0,
              "#0d0887"
             ],
             [
              0.1111111111111111,
              "#46039f"
             ],
             [
              0.2222222222222222,
              "#7201a8"
             ],
             [
              0.3333333333333333,
              "#9c179e"
             ],
             [
              0.4444444444444444,
              "#bd3786"
             ],
             [
              0.5555555555555556,
              "#d8576b"
             ],
             [
              0.6666666666666666,
              "#ed7953"
             ],
             [
              0.7777777777777778,
              "#fb9f3a"
             ],
             [
              0.8888888888888888,
              "#fdca26"
             ],
             [
              1,
              "#f0f921"
             ]
            ],
            "type": "histogram2d"
           }
          ],
          "histogram2dcontour": [
           {
            "colorbar": {
             "outlinewidth": 0,
             "ticks": ""
            },
            "colorscale": [
             [
              0,
              "#0d0887"
             ],
             [
              0.1111111111111111,
              "#46039f"
             ],
             [
              0.2222222222222222,
              "#7201a8"
             ],
             [
              0.3333333333333333,
              "#9c179e"
             ],
             [
              0.4444444444444444,
              "#bd3786"
             ],
             [
              0.5555555555555556,
              "#d8576b"
             ],
             [
              0.6666666666666666,
              "#ed7953"
             ],
             [
              0.7777777777777778,
              "#fb9f3a"
             ],
             [
              0.8888888888888888,
              "#fdca26"
             ],
             [
              1,
              "#f0f921"
             ]
            ],
            "type": "histogram2dcontour"
           }
          ],
          "mesh3d": [
           {
            "colorbar": {
             "outlinewidth": 0,
             "ticks": ""
            },
            "type": "mesh3d"
           }
          ],
          "parcoords": [
           {
            "line": {
             "colorbar": {
              "outlinewidth": 0,
              "ticks": ""
             }
            },
            "type": "parcoords"
           }
          ],
          "pie": [
           {
            "automargin": true,
            "type": "pie"
           }
          ],
          "scatter": [
           {
            "marker": {
             "colorbar": {
              "outlinewidth": 0,
              "ticks": ""
             }
            },
            "type": "scatter"
           }
          ],
          "scatter3d": [
           {
            "line": {
             "colorbar": {
              "outlinewidth": 0,
              "ticks": ""
             }
            },
            "marker": {
             "colorbar": {
              "outlinewidth": 0,
              "ticks": ""
             }
            },
            "type": "scatter3d"
           }
          ],
          "scattercarpet": [
           {
            "marker": {
             "colorbar": {
              "outlinewidth": 0,
              "ticks": ""
             }
            },
            "type": "scattercarpet"
           }
          ],
          "scattergeo": [
           {
            "marker": {
             "colorbar": {
              "outlinewidth": 0,
              "ticks": ""
             }
            },
            "type": "scattergeo"
           }
          ],
          "scattergl": [
           {
            "marker": {
             "colorbar": {
              "outlinewidth": 0,
              "ticks": ""
             }
            },
            "type": "scattergl"
           }
          ],
          "scattermapbox": [
           {
            "marker": {
             "colorbar": {
              "outlinewidth": 0,
              "ticks": ""
             }
            },
            "type": "scattermapbox"
           }
          ],
          "scatterpolar": [
           {
            "marker": {
             "colorbar": {
              "outlinewidth": 0,
              "ticks": ""
             }
            },
            "type": "scatterpolar"
           }
          ],
          "scatterpolargl": [
           {
            "marker": {
             "colorbar": {
              "outlinewidth": 0,
              "ticks": ""
             }
            },
            "type": "scatterpolargl"
           }
          ],
          "scatterternary": [
           {
            "marker": {
             "colorbar": {
              "outlinewidth": 0,
              "ticks": ""
             }
            },
            "type": "scatterternary"
           }
          ],
          "surface": [
           {
            "colorbar": {
             "outlinewidth": 0,
             "ticks": ""
            },
            "colorscale": [
             [
              0,
              "#0d0887"
             ],
             [
              0.1111111111111111,
              "#46039f"
             ],
             [
              0.2222222222222222,
              "#7201a8"
             ],
             [
              0.3333333333333333,
              "#9c179e"
             ],
             [
              0.4444444444444444,
              "#bd3786"
             ],
             [
              0.5555555555555556,
              "#d8576b"
             ],
             [
              0.6666666666666666,
              "#ed7953"
             ],
             [
              0.7777777777777778,
              "#fb9f3a"
             ],
             [
              0.8888888888888888,
              "#fdca26"
             ],
             [
              1,
              "#f0f921"
             ]
            ],
            "type": "surface"
           }
          ],
          "table": [
           {
            "cells": {
             "fill": {
              "color": "#EBF0F8"
             },
             "line": {
              "color": "white"
             }
            },
            "header": {
             "fill": {
              "color": "#C8D4E3"
             },
             "line": {
              "color": "white"
             }
            },
            "type": "table"
           }
          ]
         },
         "layout": {
          "annotationdefaults": {
           "arrowcolor": "#2a3f5f",
           "arrowhead": 0,
           "arrowwidth": 1
          },
          "autotypenumbers": "strict",
          "coloraxis": {
           "colorbar": {
            "outlinewidth": 0,
            "ticks": ""
           }
          },
          "colorscale": {
           "diverging": [
            [
             0,
             "#8e0152"
            ],
            [
             0.1,
             "#c51b7d"
            ],
            [
             0.2,
             "#de77ae"
            ],
            [
             0.3,
             "#f1b6da"
            ],
            [
             0.4,
             "#fde0ef"
            ],
            [
             0.5,
             "#f7f7f7"
            ],
            [
             0.6,
             "#e6f5d0"
            ],
            [
             0.7,
             "#b8e186"
            ],
            [
             0.8,
             "#7fbc41"
            ],
            [
             0.9,
             "#4d9221"
            ],
            [
             1,
             "#276419"
            ]
           ],
           "sequential": [
            [
             0,
             "#0d0887"
            ],
            [
             0.1111111111111111,
             "#46039f"
            ],
            [
             0.2222222222222222,
             "#7201a8"
            ],
            [
             0.3333333333333333,
             "#9c179e"
            ],
            [
             0.4444444444444444,
             "#bd3786"
            ],
            [
             0.5555555555555556,
             "#d8576b"
            ],
            [
             0.6666666666666666,
             "#ed7953"
            ],
            [
             0.7777777777777778,
             "#fb9f3a"
            ],
            [
             0.8888888888888888,
             "#fdca26"
            ],
            [
             1,
             "#f0f921"
            ]
           ],
           "sequentialminus": [
            [
             0,
             "#0d0887"
            ],
            [
             0.1111111111111111,
             "#46039f"
            ],
            [
             0.2222222222222222,
             "#7201a8"
            ],
            [
             0.3333333333333333,
             "#9c179e"
            ],
            [
             0.4444444444444444,
             "#bd3786"
            ],
            [
             0.5555555555555556,
             "#d8576b"
            ],
            [
             0.6666666666666666,
             "#ed7953"
            ],
            [
             0.7777777777777778,
             "#fb9f3a"
            ],
            [
             0.8888888888888888,
             "#fdca26"
            ],
            [
             1,
             "#f0f921"
            ]
           ]
          },
          "colorway": [
           "#636efa",
           "#EF553B",
           "#00cc96",
           "#ab63fa",
           "#FFA15A",
           "#19d3f3",
           "#FF6692",
           "#B6E880",
           "#FF97FF",
           "#FECB52"
          ],
          "font": {
           "color": "#2a3f5f"
          },
          "geo": {
           "bgcolor": "white",
           "lakecolor": "white",
           "landcolor": "#E5ECF6",
           "showlakes": true,
           "showland": true,
           "subunitcolor": "white"
          },
          "hoverlabel": {
           "align": "left"
          },
          "hovermode": "closest",
          "mapbox": {
           "style": "light"
          },
          "paper_bgcolor": "white",
          "plot_bgcolor": "#E5ECF6",
          "polar": {
           "angularaxis": {
            "gridcolor": "white",
            "linecolor": "white",
            "ticks": ""
           },
           "bgcolor": "#E5ECF6",
           "radialaxis": {
            "gridcolor": "white",
            "linecolor": "white",
            "ticks": ""
           }
          },
          "scene": {
           "xaxis": {
            "backgroundcolor": "#E5ECF6",
            "gridcolor": "white",
            "gridwidth": 2,
            "linecolor": "white",
            "showbackground": true,
            "ticks": "",
            "zerolinecolor": "white"
           },
           "yaxis": {
            "backgroundcolor": "#E5ECF6",
            "gridcolor": "white",
            "gridwidth": 2,
            "linecolor": "white",
            "showbackground": true,
            "ticks": "",
            "zerolinecolor": "white"
           },
           "zaxis": {
            "backgroundcolor": "#E5ECF6",
            "gridcolor": "white",
            "gridwidth": 2,
            "linecolor": "white",
            "showbackground": true,
            "ticks": "",
            "zerolinecolor": "white"
           }
          },
          "shapedefaults": {
           "line": {
            "color": "#2a3f5f"
           }
          },
          "ternary": {
           "aaxis": {
            "gridcolor": "white",
            "linecolor": "white",
            "ticks": ""
           },
           "baxis": {
            "gridcolor": "white",
            "linecolor": "white",
            "ticks": ""
           },
           "bgcolor": "#E5ECF6",
           "caxis": {
            "gridcolor": "white",
            "linecolor": "white",
            "ticks": ""
           }
          },
          "title": {
           "x": 0.05
          },
          "xaxis": {
           "automargin": true,
           "gridcolor": "white",
           "linecolor": "white",
           "ticks": "",
           "title": {
            "standoff": 15
           },
           "zerolinecolor": "white",
           "zerolinewidth": 2
          },
          "yaxis": {
           "automargin": true,
           "gridcolor": "white",
           "linecolor": "white",
           "ticks": "",
           "title": {
            "standoff": 15
           },
           "zerolinecolor": "white",
           "zerolinewidth": 2
          }
         }
        },
        "xaxis": {
         "anchor": "y",
         "domain": [
          0,
          1
         ],
         "title": {
          "text": "x"
         }
        },
        "yaxis": {
         "anchor": "x",
         "domain": [
          0,
          1
         ],
         "title": {
          "text": "y"
         }
        }
       }
      },
      "text/html": [
       "<div>                            <div id=\"b8127e40-7509-49f1-991f-56bd6782ae97\" class=\"plotly-graph-div\" style=\"height:525px; width:100%;\"></div>            <script type=\"text/javascript\">                require([\"plotly\"], function(Plotly) {                    window.PLOTLYENV=window.PLOTLYENV || {};                                    if (document.getElementById(\"b8127e40-7509-49f1-991f-56bd6782ae97\")) {                    Plotly.newPlot(                        \"b8127e40-7509-49f1-991f-56bd6782ae97\",                        [{\"hovertemplate\": \"x=%{x}<br>y=%{y}<extra></extra>\", \"legendgroup\": \"\", \"marker\": {\"color\": \"#636efa\", \"opacity\": 0.8, \"size\": 12, \"symbol\": \"circle\"}, \"mode\": \"markers\", \"name\": \"\", \"orientation\": \"v\", \"showlegend\": false, \"type\": \"scatter\", \"x\": [0.01, 0.02, 0.03, 0.04, 0.05, 0.060000000000000005, 0.07, 0.08, 0.09, 0.09999999999999999, 0.10999999999999999, 0.11999999999999998, 0.12999999999999998, 0.13999999999999999, 0.15, 0.16, 0.17, 0.18000000000000002, 0.19000000000000003, 0.20000000000000004, 0.21000000000000005, 0.22000000000000006, 0.23000000000000007, 0.24000000000000007, 0.25000000000000006, 0.26000000000000006, 0.2700000000000001, 0.2800000000000001, 0.2900000000000001, 0.3000000000000001, 0.3100000000000001, 0.3200000000000001, 0.3300000000000001, 0.34000000000000014, 0.35000000000000014, 0.36000000000000015, 0.37000000000000016, 0.38000000000000017, 0.3900000000000002, 0.4000000000000002, 0.4100000000000002, 0.4200000000000002, 0.4300000000000002, 0.4400000000000002, 0.45000000000000023, 0.46000000000000024, 0.47000000000000025, 0.48000000000000026, 0.49000000000000027, 0.5000000000000002, 0.5100000000000002, 0.5200000000000002, 0.5300000000000002, 0.5400000000000003, 0.5500000000000003, 0.5600000000000003, 0.5700000000000003, 0.5800000000000003, 0.5900000000000003, 0.6000000000000003, 0.6100000000000003, 0.6200000000000003, 0.6300000000000003, 0.6400000000000003, 0.6500000000000004, 0.6600000000000004, 0.6700000000000004, 0.6800000000000004, 0.6900000000000004, 0.7000000000000004, 0.7100000000000004, 0.7200000000000004, 0.7300000000000004, 0.7400000000000004, 0.7500000000000004, 0.7600000000000005, 0.7700000000000005, 0.7800000000000005, 0.7900000000000005, 0.8000000000000005, 0.8100000000000005, 0.8200000000000005, 0.8300000000000005, 0.8400000000000005, 0.8500000000000005, 0.8600000000000005, 0.8700000000000006, 0.8800000000000006, 0.8900000000000006, 0.9000000000000006, 0.9100000000000006, 0.9200000000000006, 0.9300000000000006, 0.9400000000000006, 0.9500000000000006, 0.9600000000000006, 0.9700000000000006, 0.9800000000000006], \"xaxis\": \"x\", \"y\": [-4.59511985013459, -3.8918202981106265, -3.4760986898352733, -3.1780538303479453, -2.9444389791664403, -2.751535313041949, -2.5866893440979424, -2.4423470353692043, -2.3136349291806306, -2.1972245773362196, -2.0907410969337694, -1.9924301646902063, -1.9009587611930472, -1.8152899666382492, -1.7346010553881064, -1.6582280766035322, -1.5856272637403817, -1.5163474893680884, -1.4500101755059982, -1.3862943611198904, -1.3249254147435983, -1.2656663733312754, -1.2083112059245338, -1.152679509938385, -1.0986122886681093, -1.0459685551826874, -0.9946225751440618, -0.9444616088408511, -0.8953840470548411, -0.8472978603872032, -0.8001193001121126, -0.7537718023763796, -0.7081850579244853, -0.6632942174102635, -0.6190392084062228, -0.5753641449035612, -0.5322168137473077, -0.48954822531870523, -0.4473122180436642, -0.4054651081081636, -0.363965377201411, -0.32277339226305024, -0.281851152140987, -0.24116205681688724, -0.20067069546215027, -0.16034265007517845, -0.12014431184206234, -0.08004270767353552, -0.04000533461369821, 8.881784197001248e-16, 0.04000533461370006, 0.08004270767353738, 0.1201443118420642, 0.16034265007518042, 0.20067069546215216, 0.2411620568168891, 0.2818511521409888, 0.3227733922630523, 0.36396537720141287, 0.4054651081081657, 0.4473122180436661, 0.4895482253187071, 0.5322168137473097, 0.5753641449035632, 0.6190392084062251, 0.6632942174102657, 0.7081850579244876, 0.7537718023763819, 0.8001193001121151, 0.8472978603872056, 0.8953840470548433, 0.9444616088408535, 0.9946225751440642, 1.0459685551826898, 1.098612288668112, 1.152679509938388, 1.2083112059245367, 1.2656663733312787, 1.3249254147436014, 1.3862943611198937, 1.4500101755060015, 1.516347489368092, 1.5856272637403857, 1.6582280766035362, 1.7346010553881106, 1.8152899666382536, 1.9009587611930518, 1.9924301646902114, 2.090741096933775, 2.197224577336226, 2.3136349291806377, 2.4423470353692123, 2.5866893440979517, 2.7515353130419595, 2.9444389791664536, 3.178053830347962, 3.476098689835295, 3.8918202981106598], \"yaxis\": \"y\"}],                        {\"legend\": {\"tracegroupgap\": 0}, \"margin\": {\"t\": 60}, \"template\": {\"data\": {\"bar\": [{\"error_x\": {\"color\": \"#2a3f5f\"}, \"error_y\": {\"color\": \"#2a3f5f\"}, \"marker\": {\"line\": {\"color\": \"#E5ECF6\", \"width\": 0.5}}, \"type\": \"bar\"}], \"barpolar\": [{\"marker\": {\"line\": {\"color\": \"#E5ECF6\", \"width\": 0.5}}, \"type\": \"barpolar\"}], \"carpet\": [{\"aaxis\": {\"endlinecolor\": \"#2a3f5f\", \"gridcolor\": \"white\", \"linecolor\": \"white\", \"minorgridcolor\": \"white\", \"startlinecolor\": \"#2a3f5f\"}, \"baxis\": {\"endlinecolor\": \"#2a3f5f\", \"gridcolor\": \"white\", \"linecolor\": \"white\", \"minorgridcolor\": \"white\", \"startlinecolor\": \"#2a3f5f\"}, \"type\": \"carpet\"}], \"choropleth\": [{\"colorbar\": {\"outlinewidth\": 0, \"ticks\": \"\"}, \"type\": \"choropleth\"}], \"contour\": [{\"colorbar\": {\"outlinewidth\": 0, \"ticks\": \"\"}, \"colorscale\": [[0.0, \"#0d0887\"], [0.1111111111111111, \"#46039f\"], [0.2222222222222222, \"#7201a8\"], [0.3333333333333333, \"#9c179e\"], [0.4444444444444444, \"#bd3786\"], [0.5555555555555556, \"#d8576b\"], [0.6666666666666666, \"#ed7953\"], [0.7777777777777778, \"#fb9f3a\"], [0.8888888888888888, \"#fdca26\"], [1.0, \"#f0f921\"]], \"type\": \"contour\"}], \"contourcarpet\": [{\"colorbar\": {\"outlinewidth\": 0, \"ticks\": \"\"}, \"type\": \"contourcarpet\"}], \"heatmap\": [{\"colorbar\": {\"outlinewidth\": 0, \"ticks\": \"\"}, \"colorscale\": [[0.0, \"#0d0887\"], [0.1111111111111111, \"#46039f\"], [0.2222222222222222, \"#7201a8\"], [0.3333333333333333, \"#9c179e\"], [0.4444444444444444, \"#bd3786\"], [0.5555555555555556, \"#d8576b\"], [0.6666666666666666, \"#ed7953\"], [0.7777777777777778, \"#fb9f3a\"], [0.8888888888888888, \"#fdca26\"], [1.0, \"#f0f921\"]], \"type\": \"heatmap\"}], \"heatmapgl\": [{\"colorbar\": {\"outlinewidth\": 0, \"ticks\": \"\"}, \"colorscale\": [[0.0, \"#0d0887\"], [0.1111111111111111, \"#46039f\"], [0.2222222222222222, \"#7201a8\"], [0.3333333333333333, \"#9c179e\"], [0.4444444444444444, \"#bd3786\"], [0.5555555555555556, \"#d8576b\"], [0.6666666666666666, \"#ed7953\"], [0.7777777777777778, \"#fb9f3a\"], [0.8888888888888888, \"#fdca26\"], [1.0, \"#f0f921\"]], \"type\": \"heatmapgl\"}], \"histogram\": [{\"marker\": {\"colorbar\": {\"outlinewidth\": 0, \"ticks\": \"\"}}, \"type\": \"histogram\"}], \"histogram2d\": [{\"colorbar\": {\"outlinewidth\": 0, \"ticks\": \"\"}, \"colorscale\": [[0.0, \"#0d0887\"], [0.1111111111111111, \"#46039f\"], [0.2222222222222222, \"#7201a8\"], [0.3333333333333333, \"#9c179e\"], [0.4444444444444444, \"#bd3786\"], [0.5555555555555556, \"#d8576b\"], [0.6666666666666666, \"#ed7953\"], [0.7777777777777778, \"#fb9f3a\"], [0.8888888888888888, \"#fdca26\"], [1.0, \"#f0f921\"]], \"type\": \"histogram2d\"}], \"histogram2dcontour\": [{\"colorbar\": {\"outlinewidth\": 0, \"ticks\": \"\"}, \"colorscale\": [[0.0, \"#0d0887\"], [0.1111111111111111, \"#46039f\"], [0.2222222222222222, \"#7201a8\"], [0.3333333333333333, \"#9c179e\"], [0.4444444444444444, \"#bd3786\"], [0.5555555555555556, \"#d8576b\"], [0.6666666666666666, \"#ed7953\"], [0.7777777777777778, \"#fb9f3a\"], [0.8888888888888888, \"#fdca26\"], [1.0, \"#f0f921\"]], \"type\": \"histogram2dcontour\"}], \"mesh3d\": [{\"colorbar\": {\"outlinewidth\": 0, \"ticks\": \"\"}, \"type\": \"mesh3d\"}], \"parcoords\": [{\"line\": {\"colorbar\": {\"outlinewidth\": 0, \"ticks\": \"\"}}, \"type\": \"parcoords\"}], \"pie\": [{\"automargin\": true, \"type\": \"pie\"}], \"scatter\": [{\"marker\": {\"colorbar\": {\"outlinewidth\": 0, \"ticks\": \"\"}}, \"type\": \"scatter\"}], \"scatter3d\": [{\"line\": {\"colorbar\": {\"outlinewidth\": 0, \"ticks\": \"\"}}, \"marker\": {\"colorbar\": {\"outlinewidth\": 0, \"ticks\": \"\"}}, \"type\": \"scatter3d\"}], \"scattercarpet\": [{\"marker\": {\"colorbar\": {\"outlinewidth\": 0, \"ticks\": \"\"}}, \"type\": \"scattercarpet\"}], \"scattergeo\": [{\"marker\": {\"colorbar\": {\"outlinewidth\": 0, \"ticks\": \"\"}}, \"type\": \"scattergeo\"}], \"scattergl\": [{\"marker\": {\"colorbar\": {\"outlinewidth\": 0, \"ticks\": \"\"}}, \"type\": \"scattergl\"}], \"scattermapbox\": [{\"marker\": {\"colorbar\": {\"outlinewidth\": 0, \"ticks\": \"\"}}, \"type\": \"scattermapbox\"}], \"scatterpolar\": [{\"marker\": {\"colorbar\": {\"outlinewidth\": 0, \"ticks\": \"\"}}, \"type\": \"scatterpolar\"}], \"scatterpolargl\": [{\"marker\": {\"colorbar\": {\"outlinewidth\": 0, \"ticks\": \"\"}}, \"type\": \"scatterpolargl\"}], \"scatterternary\": [{\"marker\": {\"colorbar\": {\"outlinewidth\": 0, \"ticks\": \"\"}}, \"type\": \"scatterternary\"}], \"surface\": [{\"colorbar\": {\"outlinewidth\": 0, \"ticks\": \"\"}, \"colorscale\": [[0.0, \"#0d0887\"], [0.1111111111111111, \"#46039f\"], [0.2222222222222222, \"#7201a8\"], [0.3333333333333333, \"#9c179e\"], [0.4444444444444444, \"#bd3786\"], [0.5555555555555556, \"#d8576b\"], [0.6666666666666666, \"#ed7953\"], [0.7777777777777778, \"#fb9f3a\"], [0.8888888888888888, \"#fdca26\"], [1.0, \"#f0f921\"]], \"type\": \"surface\"}], \"table\": [{\"cells\": {\"fill\": {\"color\": \"#EBF0F8\"}, \"line\": {\"color\": \"white\"}}, \"header\": {\"fill\": {\"color\": \"#C8D4E3\"}, \"line\": {\"color\": \"white\"}}, \"type\": \"table\"}]}, \"layout\": {\"annotationdefaults\": {\"arrowcolor\": \"#2a3f5f\", \"arrowhead\": 0, \"arrowwidth\": 1}, \"autotypenumbers\": \"strict\", \"coloraxis\": {\"colorbar\": {\"outlinewidth\": 0, \"ticks\": \"\"}}, \"colorscale\": {\"diverging\": [[0, \"#8e0152\"], [0.1, \"#c51b7d\"], [0.2, \"#de77ae\"], [0.3, \"#f1b6da\"], [0.4, \"#fde0ef\"], [0.5, \"#f7f7f7\"], [0.6, \"#e6f5d0\"], [0.7, \"#b8e186\"], [0.8, \"#7fbc41\"], [0.9, \"#4d9221\"], [1, \"#276419\"]], \"sequential\": [[0.0, \"#0d0887\"], [0.1111111111111111, \"#46039f\"], [0.2222222222222222, \"#7201a8\"], [0.3333333333333333, \"#9c179e\"], [0.4444444444444444, \"#bd3786\"], [0.5555555555555556, \"#d8576b\"], [0.6666666666666666, \"#ed7953\"], [0.7777777777777778, \"#fb9f3a\"], [0.8888888888888888, \"#fdca26\"], [1.0, \"#f0f921\"]], \"sequentialminus\": [[0.0, \"#0d0887\"], [0.1111111111111111, \"#46039f\"], [0.2222222222222222, \"#7201a8\"], [0.3333333333333333, \"#9c179e\"], [0.4444444444444444, \"#bd3786\"], [0.5555555555555556, \"#d8576b\"], [0.6666666666666666, \"#ed7953\"], [0.7777777777777778, \"#fb9f3a\"], [0.8888888888888888, \"#fdca26\"], [1.0, \"#f0f921\"]]}, \"colorway\": [\"#636efa\", \"#EF553B\", \"#00cc96\", \"#ab63fa\", \"#FFA15A\", \"#19d3f3\", \"#FF6692\", \"#B6E880\", \"#FF97FF\", \"#FECB52\"], \"font\": {\"color\": \"#2a3f5f\"}, \"geo\": {\"bgcolor\": \"white\", \"lakecolor\": \"white\", \"landcolor\": \"#E5ECF6\", \"showlakes\": true, \"showland\": true, \"subunitcolor\": \"white\"}, \"hoverlabel\": {\"align\": \"left\"}, \"hovermode\": \"closest\", \"mapbox\": {\"style\": \"light\"}, \"paper_bgcolor\": \"white\", \"plot_bgcolor\": \"#E5ECF6\", \"polar\": {\"angularaxis\": {\"gridcolor\": \"white\", \"linecolor\": \"white\", \"ticks\": \"\"}, \"bgcolor\": \"#E5ECF6\", \"radialaxis\": {\"gridcolor\": \"white\", \"linecolor\": \"white\", \"ticks\": \"\"}}, \"scene\": {\"xaxis\": {\"backgroundcolor\": \"#E5ECF6\", \"gridcolor\": \"white\", \"gridwidth\": 2, \"linecolor\": \"white\", \"showbackground\": true, \"ticks\": \"\", \"zerolinecolor\": \"white\"}, \"yaxis\": {\"backgroundcolor\": \"#E5ECF6\", \"gridcolor\": \"white\", \"gridwidth\": 2, \"linecolor\": \"white\", \"showbackground\": true, \"ticks\": \"\", \"zerolinecolor\": \"white\"}, \"zaxis\": {\"backgroundcolor\": \"#E5ECF6\", \"gridcolor\": \"white\", \"gridwidth\": 2, \"linecolor\": \"white\", \"showbackground\": true, \"ticks\": \"\", \"zerolinecolor\": \"white\"}}, \"shapedefaults\": {\"line\": {\"color\": \"#2a3f5f\"}}, \"ternary\": {\"aaxis\": {\"gridcolor\": \"white\", \"linecolor\": \"white\", \"ticks\": \"\"}, \"baxis\": {\"gridcolor\": \"white\", \"linecolor\": \"white\", \"ticks\": \"\"}, \"bgcolor\": \"#E5ECF6\", \"caxis\": {\"gridcolor\": \"white\", \"linecolor\": \"white\", \"ticks\": \"\"}}, \"title\": {\"x\": 0.05}, \"xaxis\": {\"automargin\": true, \"gridcolor\": \"white\", \"linecolor\": \"white\", \"ticks\": \"\", \"title\": {\"standoff\": 15}, \"zerolinecolor\": \"white\", \"zerolinewidth\": 2}, \"yaxis\": {\"automargin\": true, \"gridcolor\": \"white\", \"linecolor\": \"white\", \"ticks\": \"\", \"title\": {\"standoff\": 15}, \"zerolinecolor\": \"white\", \"zerolinewidth\": 2}}}, \"xaxis\": {\"anchor\": \"y\", \"domain\": [0.0, 1.0], \"title\": {\"text\": \"x\"}}, \"yaxis\": {\"anchor\": \"x\", \"domain\": [0.0, 1.0], \"title\": {\"text\": \"y\"}}},                        {\"responsive\": true}                    ).then(function(){\n",
       "                            \n",
       "var gd = document.getElementById('b8127e40-7509-49f1-991f-56bd6782ae97');\n",
       "var x = new MutationObserver(function (mutations, observer) {{\n",
       "        var display = window.getComputedStyle(gd).display;\n",
       "        if (!display || display === 'none') {{\n",
       "            console.log([gd, 'removed!']);\n",
       "            Plotly.purge(gd);\n",
       "            observer.disconnect();\n",
       "        }}\n",
       "}});\n",
       "\n",
       "// Listen for the removal of the full notebook cells\n",
       "var notebookContainer = gd.closest('#notebook-container');\n",
       "if (notebookContainer) {{\n",
       "    x.observe(notebookContainer, {childList: true});\n",
       "}}\n",
       "\n",
       "// Listen for the clearing of the current output cell\n",
       "var outputEl = gd.closest('.output');\n",
       "if (outputEl) {{\n",
       "    x.observe(outputEl, {childList: true});\n",
       "}}\n",
       "\n",
       "                        })                };                });            </script>        </div>"
      ]
     },
     "metadata": {},
     "output_type": "display_data"
    }
   ],
   "source": [
    "x, y = gerar_pontos(min_=0.01, max_=0.99, fn=logit)\n",
    "# Plota os conjuntos de pontos no gráfico\n",
    "plotar(x, y)"
   ]
  },
  {
   "cell_type": "markdown",
   "metadata": {
    "pycharm": {
     "name": "#%% md\n"
    }
   },
   "source": [
    "A função $f(p)$ não retorna uma probabilidade, mas usa a probabilidade como argumento."
   ]
  },
  {
   "cell_type": "markdown",
   "metadata": {
    "pycharm": {
     "name": "#%% md\n"
    }
   },
   "source": [
    "### O *logit* inverso"
   ]
  },
  {
   "cell_type": "markdown",
   "metadata": {
    "pycharm": {
     "name": "#%% md\n"
    }
   },
   "source": [
    "A função $logit(p)$ retorna o *logit* da função."
   ]
  },
  {
   "cell_type": "markdown",
   "metadata": {
    "pycharm": {
     "name": "#%% md\n"
    }
   },
   "source": [
    "$$\n",
    "logit(p) = ln(\\frac{p}{1-p})\n",
    "$$"
   ]
  },
  {
   "cell_type": "markdown",
   "metadata": {
    "pycharm": {
     "name": "#%% md\n"
    }
   },
   "source": [
    "A função $g(x)$ retorna o inverso do *logit* da função."
   ]
  },
  {
   "cell_type": "markdown",
   "metadata": {
    "pycharm": {
     "name": "#%% md\n"
    }
   },
   "source": [
    "$$\n",
    "g(x)^{-1} = \\frac{e^{x}}{1 + e^{x}}\n",
    "$$"
   ]
  },
  {
   "cell_type": "code",
   "execution_count": 89,
   "metadata": {
    "pycharm": {
     "name": "#%%\n"
    }
   },
   "outputs": [],
   "source": [
    "def g(x):\n",
    "    return (e ** x) / (1 + e ** x)"
   ]
  },
  {
   "cell_type": "markdown",
   "metadata": {
    "pycharm": {
     "name": "#%% md\n"
    }
   },
   "source": [
    "**Estudo do comportamento do *logit* inverso**"
   ]
  },
  {
   "cell_type": "code",
   "execution_count": 91,
   "metadata": {
    "pycharm": {
     "name": "#%%\n"
    }
   },
   "outputs": [
    {
     "data": {
      "text/plain": [
       "0.5"
      ]
     },
     "execution_count": 91,
     "metadata": {},
     "output_type": "execute_result"
    }
   ],
   "source": [
    "g(0)"
   ]
  },
  {
   "cell_type": "markdown",
   "metadata": {
    "pycharm": {
     "name": "#%% md\n"
    }
   },
   "source": [
    "* Que valores podemos colocar como argumento para a função $g(x)$?"
   ]
  },
  {
   "cell_type": "code",
   "execution_count": 27,
   "metadata": {
    "pycharm": {
     "name": "#%%\n"
    }
   },
   "outputs": [
    {
     "data": {
      "application/vnd.plotly.v1+json": {
       "config": {
        "plotlyServerURL": "https://plot.ly"
       },
       "data": [
        {
         "hovertemplate": "x=%{x}<br>y=%{y}<extra></extra>",
         "legendgroup": "",
         "marker": {
          "color": "#636efa",
          "opacity": 0.8,
          "size": 12,
          "symbol": "circle"
         },
         "mode": "markers",
         "name": "",
         "showlegend": false,
         "type": "scattergl",
         "x": [
          -5,
          -4.99,
          -4.98,
          -4.970000000000001,
          -4.960000000000001,
          -4.950000000000001,
          -4.940000000000001,
          -4.9300000000000015,
          -4.920000000000002,
          -4.910000000000002,
          -4.900000000000002,
          -4.890000000000002,
          -4.880000000000003,
          -4.870000000000003,
          -4.860000000000003,
          -4.850000000000003,
          -4.840000000000003,
          -4.830000000000004,
          -4.820000000000004,
          -4.810000000000004,
          -4.800000000000004,
          -4.7900000000000045,
          -4.780000000000005,
          -4.770000000000005,
          -4.760000000000005,
          -4.750000000000005,
          -4.7400000000000055,
          -4.730000000000006,
          -4.720000000000006,
          -4.710000000000006,
          -4.700000000000006,
          -4.690000000000007,
          -4.680000000000007,
          -4.670000000000007,
          -4.660000000000007,
          -4.6500000000000075,
          -4.640000000000008,
          -4.630000000000008,
          -4.620000000000008,
          -4.610000000000008,
          -4.6000000000000085,
          -4.590000000000009,
          -4.580000000000009,
          -4.570000000000009,
          -4.560000000000009,
          -4.55000000000001,
          -4.54000000000001,
          -4.53000000000001,
          -4.52000000000001,
          -4.5100000000000104,
          -4.500000000000011,
          -4.490000000000011,
          -4.480000000000011,
          -4.470000000000011,
          -4.4600000000000115,
          -4.450000000000012,
          -4.440000000000012,
          -4.430000000000012,
          -4.420000000000012,
          -4.410000000000013,
          -4.400000000000013,
          -4.390000000000013,
          -4.380000000000013,
          -4.370000000000013,
          -4.360000000000014,
          -4.350000000000014,
          -4.340000000000014,
          -4.330000000000014,
          -4.3200000000000145,
          -4.310000000000015,
          -4.300000000000015,
          -4.290000000000015,
          -4.280000000000015,
          -4.270000000000016,
          -4.260000000000016,
          -4.250000000000016,
          -4.240000000000016,
          -4.230000000000016,
          -4.220000000000017,
          -4.210000000000017,
          -4.200000000000017,
          -4.190000000000017,
          -4.1800000000000175,
          -4.170000000000018,
          -4.160000000000018,
          -4.150000000000018,
          -4.140000000000018,
          -4.1300000000000185,
          -4.120000000000019,
          -4.110000000000019,
          -4.100000000000019,
          -4.090000000000019,
          -4.08000000000002,
          -4.07000000000002,
          -4.06000000000002,
          -4.05000000000002,
          -4.0400000000000205,
          -4.030000000000021,
          -4.020000000000021,
          -4.010000000000021,
          -4.000000000000021,
          -3.9900000000000215,
          -3.9800000000000217,
          -3.970000000000022,
          -3.960000000000022,
          -3.9500000000000224,
          -3.9400000000000226,
          -3.930000000000023,
          -3.920000000000023,
          -3.9100000000000232,
          -3.9000000000000234,
          -3.8900000000000237,
          -3.880000000000024,
          -3.870000000000024,
          -3.8600000000000243,
          -3.8500000000000245,
          -3.8400000000000247,
          -3.830000000000025,
          -3.820000000000025,
          -3.8100000000000254,
          -3.8000000000000256,
          -3.790000000000026,
          -3.780000000000026,
          -3.770000000000026,
          -3.7600000000000264,
          -3.7500000000000266,
          -3.740000000000027,
          -3.730000000000027,
          -3.7200000000000273,
          -3.7100000000000275,
          -3.7000000000000277,
          -3.690000000000028,
          -3.680000000000028,
          -3.6700000000000284,
          -3.6600000000000286,
          -3.6500000000000288,
          -3.640000000000029,
          -3.630000000000029,
          -3.6200000000000294,
          -3.6100000000000296,
          -3.60000000000003,
          -3.59000000000003,
          -3.5800000000000303,
          -3.5700000000000305,
          -3.5600000000000307,
          -3.550000000000031,
          -3.540000000000031,
          -3.5300000000000313,
          -3.5200000000000315,
          -3.5100000000000318,
          -3.500000000000032,
          -3.490000000000032,
          -3.4800000000000324,
          -3.4700000000000326,
          -3.460000000000033,
          -3.450000000000033,
          -3.4400000000000333,
          -3.4300000000000335,
          -3.4200000000000337,
          -3.410000000000034,
          -3.400000000000034,
          -3.3900000000000343,
          -3.3800000000000345,
          -3.3700000000000347,
          -3.360000000000035,
          -3.350000000000035,
          -3.3400000000000354,
          -3.3300000000000356,
          -3.320000000000036,
          -3.310000000000036,
          -3.3000000000000362,
          -3.2900000000000365,
          -3.2800000000000367,
          -3.270000000000037,
          -3.260000000000037,
          -3.2500000000000373,
          -3.2400000000000375,
          -3.2300000000000377,
          -3.220000000000038,
          -3.210000000000038,
          -3.2000000000000384,
          -3.1900000000000386,
          -3.180000000000039,
          -3.170000000000039,
          -3.160000000000039,
          -3.1500000000000394,
          -3.1400000000000396,
          -3.13000000000004,
          -3.12000000000004,
          -3.1100000000000403,
          -3.1000000000000405,
          -3.0900000000000407,
          -3.080000000000041,
          -3.070000000000041,
          -3.0600000000000414,
          -3.0500000000000416,
          -3.040000000000042,
          -3.030000000000042,
          -3.020000000000042,
          -3.0100000000000424,
          -3.0000000000000426,
          -2.990000000000043,
          -2.980000000000043,
          -2.9700000000000433,
          -2.9600000000000435,
          -2.9500000000000437,
          -2.940000000000044,
          -2.930000000000044,
          -2.9200000000000443,
          -2.9100000000000446,
          -2.9000000000000448,
          -2.890000000000045,
          -2.880000000000045,
          -2.8700000000000454,
          -2.8600000000000456,
          -2.850000000000046,
          -2.840000000000046,
          -2.8300000000000463,
          -2.8200000000000465,
          -2.8100000000000467,
          -2.800000000000047,
          -2.790000000000047,
          -2.7800000000000473,
          -2.7700000000000475,
          -2.7600000000000477,
          -2.750000000000048,
          -2.740000000000048,
          -2.7300000000000484,
          -2.7200000000000486,
          -2.710000000000049,
          -2.700000000000049,
          -2.6900000000000492,
          -2.6800000000000495,
          -2.6700000000000497,
          -2.66000000000005,
          -2.65000000000005,
          -2.6400000000000503,
          -2.6300000000000505,
          -2.6200000000000507,
          -2.610000000000051,
          -2.600000000000051,
          -2.5900000000000514,
          -2.5800000000000516,
          -2.570000000000052,
          -2.560000000000052,
          -2.5500000000000522,
          -2.5400000000000524,
          -2.5300000000000527,
          -2.520000000000053,
          -2.510000000000053,
          -2.5000000000000533,
          -2.4900000000000535,
          -2.4800000000000537,
          -2.470000000000054,
          -2.460000000000054,
          -2.4500000000000544,
          -2.4400000000000546,
          -2.430000000000055,
          -2.420000000000055,
          -2.410000000000055,
          -2.4000000000000554,
          -2.3900000000000556,
          -2.380000000000056,
          -2.370000000000056,
          -2.3600000000000563,
          -2.3500000000000565,
          -2.3400000000000567,
          -2.330000000000057,
          -2.320000000000057,
          -2.3100000000000573,
          -2.3000000000000576,
          -2.2900000000000578,
          -2.280000000000058,
          -2.270000000000058,
          -2.2600000000000584,
          -2.2500000000000586,
          -2.240000000000059,
          -2.230000000000059,
          -2.2200000000000593,
          -2.2100000000000595,
          -2.2000000000000597,
          -2.19000000000006,
          -2.18000000000006,
          -2.1700000000000603,
          -2.1600000000000605,
          -2.1500000000000608,
          -2.140000000000061,
          -2.130000000000061,
          -2.1200000000000614,
          -2.1100000000000616,
          -2.100000000000062,
          -2.090000000000062,
          -2.0800000000000622,
          -2.0700000000000625,
          -2.0600000000000627,
          -2.050000000000063,
          -2.040000000000063,
          -2.0300000000000633,
          -2.0200000000000635,
          -2.0100000000000637,
          -2.000000000000064,
          -1.990000000000064,
          -1.980000000000064,
          -1.970000000000064,
          -1.960000000000064,
          -1.950000000000064,
          -1.940000000000064,
          -1.9300000000000639,
          -1.9200000000000639,
          -1.9100000000000639,
          -1.9000000000000639,
          -1.8900000000000639,
          -1.8800000000000638,
          -1.8700000000000638,
          -1.8600000000000638,
          -1.8500000000000638,
          -1.8400000000000638,
          -1.8300000000000638,
          -1.8200000000000638,
          -1.8100000000000638,
          -1.8000000000000638,
          -1.7900000000000638,
          -1.7800000000000638,
          -1.7700000000000637,
          -1.7600000000000637,
          -1.7500000000000637,
          -1.7400000000000637,
          -1.7300000000000637,
          -1.7200000000000637,
          -1.7100000000000637,
          -1.7000000000000637,
          -1.6900000000000637,
          -1.6800000000000637,
          -1.6700000000000637,
          -1.6600000000000636,
          -1.6500000000000636,
          -1.6400000000000636,
          -1.6300000000000636,
          -1.6200000000000636,
          -1.6100000000000636,
          -1.6000000000000636,
          -1.5900000000000636,
          -1.5800000000000636,
          -1.5700000000000636,
          -1.5600000000000636,
          -1.5500000000000635,
          -1.5400000000000635,
          -1.5300000000000635,
          -1.5200000000000635,
          -1.5100000000000635,
          -1.5000000000000635,
          -1.4900000000000635,
          -1.4800000000000635,
          -1.4700000000000635,
          -1.4600000000000635,
          -1.4500000000000635,
          -1.4400000000000635,
          -1.4300000000000634,
          -1.4200000000000634,
          -1.4100000000000634,
          -1.4000000000000634,
          -1.3900000000000634,
          -1.3800000000000634,
          -1.3700000000000634,
          -1.3600000000000634,
          -1.3500000000000634,
          -1.3400000000000634,
          -1.3300000000000634,
          -1.3200000000000633,
          -1.3100000000000633,
          -1.3000000000000633,
          -1.2900000000000633,
          -1.2800000000000633,
          -1.2700000000000633,
          -1.2600000000000633,
          -1.2500000000000633,
          -1.2400000000000633,
          -1.2300000000000633,
          -1.2200000000000633,
          -1.2100000000000632,
          -1.2000000000000632,
          -1.1900000000000632,
          -1.1800000000000632,
          -1.1700000000000632,
          -1.1600000000000632,
          -1.1500000000000632,
          -1.1400000000000632,
          -1.1300000000000632,
          -1.1200000000000632,
          -1.1100000000000632,
          -1.1000000000000631,
          -1.0900000000000631,
          -1.0800000000000631,
          -1.0700000000000631,
          -1.0600000000000631,
          -1.050000000000063,
          -1.040000000000063,
          -1.030000000000063,
          -1.020000000000063,
          -1.010000000000063,
          -1.000000000000063,
          -0.990000000000063,
          -0.980000000000063,
          -0.970000000000063,
          -0.960000000000063,
          -0.950000000000063,
          -0.940000000000063,
          -0.930000000000063,
          -0.920000000000063,
          -0.910000000000063,
          -0.900000000000063,
          -0.890000000000063,
          -0.880000000000063,
          -0.870000000000063,
          -0.8600000000000629,
          -0.8500000000000629,
          -0.8400000000000629,
          -0.8300000000000629,
          -0.8200000000000629,
          -0.8100000000000629,
          -0.8000000000000629,
          -0.7900000000000629,
          -0.7800000000000629,
          -0.7700000000000629,
          -0.7600000000000628,
          -0.7500000000000628,
          -0.7400000000000628,
          -0.7300000000000628,
          -0.7200000000000628,
          -0.7100000000000628,
          -0.7000000000000628,
          -0.6900000000000628,
          -0.6800000000000628,
          -0.6700000000000628,
          -0.6600000000000628,
          -0.6500000000000627,
          -0.6400000000000627,
          -0.6300000000000627,
          -0.6200000000000627,
          -0.6100000000000627,
          -0.6000000000000627,
          -0.5900000000000627,
          -0.5800000000000627,
          -0.5700000000000627,
          -0.5600000000000627,
          -0.5500000000000627,
          -0.5400000000000627,
          -0.5300000000000626,
          -0.5200000000000626,
          -0.5100000000000626,
          -0.5000000000000626,
          -0.4900000000000626,
          -0.4800000000000626,
          -0.4700000000000626,
          -0.4600000000000626,
          -0.45000000000006257,
          -0.44000000000006256,
          -0.43000000000006255,
          -0.42000000000006255,
          -0.41000000000006254,
          -0.40000000000006253,
          -0.3900000000000625,
          -0.3800000000000625,
          -0.3700000000000625,
          -0.3600000000000625,
          -0.3500000000000625,
          -0.3400000000000625,
          -0.33000000000006247,
          -0.32000000000006246,
          -0.31000000000006245,
          -0.30000000000006244,
          -0.29000000000006243,
          -0.2800000000000624,
          -0.2700000000000624,
          -0.2600000000000624,
          -0.2500000000000624,
          -0.24000000000006239,
          -0.23000000000006238,
          -0.22000000000006237,
          -0.21000000000006236,
          -0.20000000000006235,
          -0.19000000000006234,
          -0.18000000000006233,
          -0.17000000000006232,
          -0.16000000000006231,
          -0.1500000000000623,
          -0.1400000000000623,
          -0.1300000000000623,
          -0.12000000000006229,
          -0.1100000000000623,
          -0.1000000000000623,
          -0.09000000000006231,
          -0.08000000000006231,
          -0.07000000000006232,
          -0.060000000000062316,
          -0.050000000000062314,
          -0.04000000000006231,
          -0.03000000000006231,
          -0.020000000000062308,
          -0.010000000000062308,
          -6.230779781013496E-14,
          0.009999999999937692,
          0.019999999999937693,
          0.029999999999937695,
          0.039999999999937697,
          0.0499999999999377,
          0.0599999999999377,
          0.0699999999999377,
          0.07999999999993769,
          0.08999999999993769,
          0.09999999999993768,
          0.10999999999993768,
          0.11999999999993767,
          0.12999999999993767,
          0.13999999999993767,
          0.14999999999993768,
          0.1599999999999377,
          0.1699999999999377,
          0.1799999999999377,
          0.18999999999993772,
          0.19999999999993773,
          0.20999999999993774,
          0.21999999999993775,
          0.22999999999993775,
          0.23999999999993776,
          0.24999999999993777,
          0.2599999999999378,
          0.2699999999999378,
          0.2799999999999378,
          0.2899999999999378,
          0.2999999999999378,
          0.3099999999999378,
          0.31999999999993783,
          0.32999999999993784,
          0.33999999999993785,
          0.34999999999993786,
          0.35999999999993787,
          0.3699999999999379,
          0.3799999999999379,
          0.3899999999999379,
          0.3999999999999379,
          0.4099999999999379,
          0.4199999999999379,
          0.42999999999993793,
          0.43999999999993794,
          0.44999999999993795,
          0.45999999999993796,
          0.46999999999993797,
          0.479999999999938,
          0.489999999999938,
          0.499999999999938,
          0.509999999999938,
          0.519999999999938,
          0.529999999999938,
          0.539999999999938,
          0.549999999999938,
          0.559999999999938,
          0.569999999999938,
          0.579999999999938,
          0.589999999999938,
          0.599999999999938,
          0.609999999999938,
          0.619999999999938,
          0.629999999999938,
          0.6399999999999381,
          0.6499999999999381,
          0.6599999999999381,
          0.6699999999999381,
          0.6799999999999381,
          0.6899999999999381,
          0.6999999999999381,
          0.7099999999999381,
          0.7199999999999381,
          0.7299999999999381,
          0.7399999999999382,
          0.7499999999999382,
          0.7599999999999382,
          0.7699999999999382,
          0.7799999999999382,
          0.7899999999999382,
          0.7999999999999382,
          0.8099999999999382,
          0.8199999999999382,
          0.8299999999999382,
          0.8399999999999382,
          0.8499999999999382,
          0.8599999999999383,
          0.8699999999999383,
          0.8799999999999383,
          0.8899999999999383,
          0.8999999999999383,
          0.9099999999999383,
          0.9199999999999383,
          0.9299999999999383,
          0.9399999999999383,
          0.9499999999999383,
          0.9599999999999383,
          0.9699999999999384,
          0.9799999999999384,
          0.9899999999999384,
          0.9999999999999384,
          1.0099999999999383,
          1.0199999999999383,
          1.0299999999999383,
          1.0399999999999383,
          1.0499999999999383,
          1.0599999999999383,
          1.0699999999999383,
          1.0799999999999383,
          1.0899999999999384,
          1.0999999999999384,
          1.1099999999999384,
          1.1199999999999384,
          1.1299999999999384,
          1.1399999999999384,
          1.1499999999999384,
          1.1599999999999384,
          1.1699999999999384,
          1.1799999999999384,
          1.1899999999999384,
          1.1999999999999384,
          1.2099999999999385,
          1.2199999999999385,
          1.2299999999999385,
          1.2399999999999385,
          1.2499999999999385,
          1.2599999999999385,
          1.2699999999999385,
          1.2799999999999385,
          1.2899999999999385,
          1.2999999999999385,
          1.3099999999999385,
          1.3199999999999386,
          1.3299999999999386,
          1.3399999999999386,
          1.3499999999999386,
          1.3599999999999386,
          1.3699999999999386,
          1.3799999999999386,
          1.3899999999999386,
          1.3999999999999386,
          1.4099999999999386,
          1.4199999999999386,
          1.4299999999999387,
          1.4399999999999387,
          1.4499999999999387,
          1.4599999999999387,
          1.4699999999999387,
          1.4799999999999387,
          1.4899999999999387,
          1.4999999999999387,
          1.5099999999999387,
          1.5199999999999387,
          1.5299999999999387,
          1.5399999999999388,
          1.5499999999999388,
          1.5599999999999388,
          1.5699999999999388,
          1.5799999999999388,
          1.5899999999999388,
          1.5999999999999388,
          1.6099999999999388,
          1.6199999999999388,
          1.6299999999999388,
          1.6399999999999388,
          1.6499999999999388,
          1.6599999999999389,
          1.6699999999999389,
          1.6799999999999389,
          1.6899999999999389,
          1.699999999999939,
          1.709999999999939,
          1.719999999999939,
          1.729999999999939,
          1.739999999999939,
          1.749999999999939,
          1.759999999999939,
          1.769999999999939,
          1.779999999999939,
          1.789999999999939,
          1.799999999999939,
          1.809999999999939,
          1.819999999999939,
          1.829999999999939,
          1.839999999999939,
          1.849999999999939,
          1.859999999999939,
          1.869999999999939,
          1.879999999999939,
          1.889999999999939,
          1.899999999999939,
          1.909999999999939,
          1.919999999999939,
          1.929999999999939,
          1.939999999999939,
          1.9499999999999391,
          1.9599999999999391,
          1.9699999999999391,
          1.9799999999999391,
          1.9899999999999392,
          1.9999999999999392,
          2.009999999999939,
          2.0199999999999387,
          2.0299999999999385,
          2.0399999999999383,
          2.049999999999938,
          2.059999999999938,
          2.0699999999999377,
          2.0799999999999375,
          2.0899999999999372,
          2.099999999999937,
          2.109999999999937,
          2.1199999999999366,
          2.1299999999999364,
          2.139999999999936,
          2.149999999999936,
          2.1599999999999357,
          2.1699999999999355,
          2.1799999999999353,
          2.189999999999935,
          2.199999999999935,
          2.2099999999999347,
          2.2199999999999345,
          2.2299999999999343,
          2.239999999999934,
          2.249999999999934,
          2.2599999999999336,
          2.2699999999999334,
          2.279999999999933,
          2.289999999999933,
          2.2999999999999328,
          2.3099999999999326,
          2.3199999999999323,
          2.329999999999932,
          2.339999999999932,
          2.3499999999999317,
          2.3599999999999315,
          2.3699999999999313,
          2.379999999999931,
          2.389999999999931,
          2.3999999999999306,
          2.4099999999999304,
          2.41999999999993,
          2.42999999999993,
          2.43999999999993,
          2.4499999999999296,
          2.4599999999999294,
          2.469999999999929,
          2.479999999999929,
          2.4899999999999287,
          2.4999999999999285,
          2.5099999999999283,
          2.519999999999928,
          2.529999999999928,
          2.5399999999999276,
          2.5499999999999274,
          2.5599999999999272,
          2.569999999999927,
          2.579999999999927,
          2.5899999999999266,
          2.5999999999999264,
          2.609999999999926,
          2.619999999999926,
          2.6299999999999257,
          2.6399999999999255,
          2.6499999999999253,
          2.659999999999925,
          2.669999999999925,
          2.6799999999999247,
          2.6899999999999245,
          2.6999999999999242,
          2.709999999999924,
          2.719999999999924,
          2.7299999999999236,
          2.7399999999999234,
          2.749999999999923,
          2.759999999999923,
          2.7699999999999227,
          2.7799999999999225,
          2.7899999999999223,
          2.799999999999922,
          2.809999999999922,
          2.8199999999999217,
          2.8299999999999215,
          2.8399999999999213,
          2.849999999999921,
          2.859999999999921,
          2.8699999999999206,
          2.8799999999999204,
          2.88999999999992,
          2.89999999999992,
          2.9099999999999198,
          2.9199999999999195,
          2.9299999999999193,
          2.939999999999919,
          2.949999999999919,
          2.9599999999999187,
          2.9699999999999185,
          2.9799999999999183,
          2.989999999999918,
          2.999999999999918,
          3.0099999999999176,
          3.0199999999999174,
          3.029999999999917,
          3.039999999999917,
          3.0499999999999168,
          3.0599999999999166,
          3.0699999999999164,
          3.079999999999916,
          3.089999999999916,
          3.0999999999999157,
          3.1099999999999155,
          3.1199999999999153,
          3.129999999999915,
          3.139999999999915,
          3.1499999999999146,
          3.1599999999999144,
          3.169999999999914,
          3.179999999999914,
          3.189999999999914,
          3.1999999999999136,
          3.2099999999999134,
          3.219999999999913,
          3.229999999999913,
          3.2399999999999127,
          3.2499999999999125,
          3.2599999999999123,
          3.269999999999912,
          3.279999999999912,
          3.2899999999999117,
          3.2999999999999114,
          3.3099999999999112,
          3.319999999999911,
          3.329999999999911,
          3.3399999999999106,
          3.3499999999999104,
          3.35999999999991,
          3.36999999999991,
          3.3799999999999097,
          3.3899999999999095,
          3.3999999999999093,
          3.409999999999909,
          3.419999999999909,
          3.4299999999999087,
          3.4399999999999085,
          3.4499999999999083,
          3.459999999999908,
          3.469999999999908,
          3.4799999999999076,
          3.4899999999999074,
          3.499999999999907,
          3.509999999999907,
          3.5199999999999068,
          3.5299999999999065,
          3.5399999999999063,
          3.549999999999906,
          3.559999999999906,
          3.5699999999999057,
          3.5799999999999055,
          3.5899999999999053,
          3.599999999999905,
          3.609999999999905,
          3.6199999999999046,
          3.6299999999999044,
          3.639999999999904,
          3.649999999999904,
          3.6599999999999038,
          3.6699999999999036,
          3.6799999999999033,
          3.689999999999903,
          3.699999999999903,
          3.7099999999999027,
          3.7199999999999025,
          3.7299999999999023,
          3.739999999999902,
          3.749999999999902,
          3.7599999999999016,
          3.7699999999999014,
          3.779999999999901,
          3.789999999999901,
          3.799999999999901,
          3.8099999999999006,
          3.8199999999999004,
          3.8299999999999,
          3.8399999999999,
          3.8499999999998997,
          3.8599999999998995,
          3.8699999999998993,
          3.879999999999899,
          3.889999999999899,
          3.8999999999998987,
          3.9099999999998984,
          3.9199999999998982,
          3.929999999999898,
          3.939999999999898,
          3.9499999999998976,
          3.9599999999998974,
          3.969999999999897,
          3.979999999999897,
          3.9899999999998967,
          3.9999999999998965,
          4.009999999999897,
          4.0199999999998965,
          4.029999999999896,
          4.039999999999896,
          4.049999999999896,
          4.059999999999896,
          4.0699999999998955,
          4.079999999999895,
          4.089999999999895,
          4.099999999999895,
          4.109999999999895,
          4.119999999999894,
          4.129999999999894,
          4.139999999999894,
          4.149999999999894,
          4.159999999999894,
          4.169999999999893,
          4.179999999999893,
          4.189999999999893,
          4.199999999999893,
          4.2099999999998925,
          4.219999999999892,
          4.229999999999892,
          4.239999999999892,
          4.249999999999892,
          4.259999999999891,
          4.269999999999891,
          4.279999999999891,
          4.289999999999891,
          4.299999999999891,
          4.30999999999989,
          4.31999999999989,
          4.32999999999989,
          4.33999999999989,
          4.3499999999998895,
          4.359999999999889,
          4.369999999999889,
          4.379999999999889,
          4.389999999999889,
          4.3999999999998884,
          4.409999999999888,
          4.419999999999888,
          4.429999999999888,
          4.439999999999888,
          4.449999999999887,
          4.459999999999887,
          4.469999999999887,
          4.479999999999887,
          4.4899999999998865,
          4.499999999999886,
          4.509999999999886,
          4.519999999999886,
          4.529999999999886,
          4.5399999999998855,
          4.549999999999885,
          4.559999999999885,
          4.569999999999885,
          4.579999999999885,
          4.589999999999884,
          4.599999999999884,
          4.609999999999884,
          4.619999999999884,
          4.6299999999998835,
          4.639999999999883,
          4.649999999999883,
          4.659999999999883,
          4.669999999999883,
          4.6799999999998825,
          4.689999999999882,
          4.699999999999882,
          4.709999999999882,
          4.719999999999882,
          4.729999999999881,
          4.739999999999881,
          4.749999999999881,
          4.759999999999881,
          4.769999999999881,
          4.77999999999988,
          4.78999999999988,
          4.79999999999988,
          4.80999999999988,
          4.8199999999998795,
          4.829999999999879,
          4.839999999999879,
          4.849999999999879,
          4.859999999999879,
          4.869999999999878,
          4.879999999999878,
          4.889999999999878,
          4.899999999999878,
          4.909999999999878,
          4.919999999999877,
          4.929999999999877,
          4.939999999999877,
          4.949999999999877,
          4.9599999999998765,
          4.969999999999876,
          4.979999999999876,
          4.989999999999876,
          4.999999999999876
         ],
         "xaxis": "x",
         "y": [
          0.006692850924284858,
          0.006759660510713251,
          0.006827132422138162,
          0.00689527313264614,
          0.006964089177762085,
          0.007033587154995155,
          0.007103773724388773,
          0.007174655609074726,
          0.007246239595831417,
          0.007318532535646212,
          0.00739154134428196,
          0.007465273002847672,
          0.007539734558373375,
          0.007614933124389137,
          0.007690875881508312,
          0.007767570078014979,
          0.007845023030455608,
          0.00792324212423496,
          0.008002234814216214,
          0.008082008625325364,
          0.008162571153159862,
          0.008243930064601529,
          0.008326093098433747,
          0.008409068065962937,
          0.008492862851644311,
          0.008577485413711942,
          0.008662943784813118,
          0.008749246072647016,
          0.008836400460607668,
          0.008924415208431269,
          0.009013298652847772,
          0.009103059208236824,
          0.009193705367288033,
          0.00928524570166551,
          0.009377688862676791,
          0.009471043581946044,
          0.0095653186720916,
          0.009660523027407828,
          0.009756665624551282,
          0.009853755523231186,
          0.00995180186690424,
          0.01005081388347367,
          0.010150800885992633,
          0.010251772273371875,
          0.010353737531091653,
          0.010456706231917972,
          0.010560688036623021,
          0.010665692694709891,
          0.010771730045141514,
          0.010878810017073812,
          0.010986942630593067,
          0.011096137997457452,
          0.01120640632184275,
          0.011317757901092225,
          0.011430203126470596,
          0.011543752483922158,
          0.011658416554832966,
          0.011774206016797078,
          0.011891131644386849,
          0.012009204309927241,
          0.01212843498427409,
          0.012248834737596352,
          0.012370414740162266,
          0.012493186263129393,
          0.012617160679338529,
          0.01274234946411143,
          0.01286876419605233,
          0.012996416557853179,
          0.013125318337102617,
          0.013255481427098592,
          0.013386917827664583,
          0.013519639645969441,
          0.013653659097350685,
          0.01378898850614135,
          0.013925640306500177,
          0.014063627043245253,
          0.014202961372690904,
          0.014343656063487864,
          0.014485723997466655,
          0.014629178170484083,
          0.014774031693272812,
          0.01492029779229395,
          0.015067989810592559,
          0.015217121208656034,
          0.015367705565275284,
          0.015519756578408619,
          0.015673288066048285,
          0.015828313967089554,
          0.015984848342202294,
          0.016142905374704912,
          0.016302499371440633,
          0.016463644763655975,
          0.016626356107881306,
          0.0167906480868135,
          0.016956535510200443,
          0.017124033315727392,
          0.017293156569905082,
          0.01746392046895934,
          0.01763634033972232,
          0.01781043164052503,
          0.017986209962091184,
          0.018163691028432138,
          0.0183428906977429,
          0.018523824963299015,
          0.018706509954354203,
          0.01889096193703864,
          0.01907719731525774,
          0.01926523263159125,
          0.019455084568192595,
          0.01964676994768826,
          0.019840305734077055,
          0.020035709033629202,
          0.02023299709578493,
          0.02043218731405254,
          0.02063329722690571,
          0.020836344518679932,
          0.021041347020467772,
          0.021248322711012974,
          0.021457289717602992,
          0.02166826631696,
          0.021881270936129932,
          0.022096322153369635,
          0.02231343869903167,
          0.02253263945644674,
          0.022753943462803405,
          0.02297736991002502,
          0.023202938145643476,
          0.0234306676736697,
          0.023660578155460583,
          0.023892689410582122,
          0.024127021417668554,
          0.02436359431527719,
          0.02460242840273877,
          0.02484354414100301,
          0.025086962153479123,
          0.025332703226871024,
          0.02558078831200697,
          0.025831238524663323,
          0.0260840751463822,
          0.02633931962528263,
          0.026596993576865086,
          0.02685711878480887,
          0.027119717201762247,
          0.027384810950124877,
          0.02765242232282232,
          0.027922573784072185,
          0.028195287970141727,
          0.02847058769009639,
          0.0287484959265391,
          0.029029035836339874,
          0.029312230751355414,
          0.029598104179138263,
          0.0298866798036353,
          0.030177981485874993,
          0.030472033264643192,
          0.03076885935714703,
          0.031068484159666412,
          0.031370932248192894,
          0.03167622837905537,
          0.03198439748953221,
          0.032295464698449454,
          0.03260945530676451,
          0.03292639479813516,
          0.03324630883947299,
          0.03356922328148139,
          0.033895164159176996,
          0.03422415769239471,
          0.03455623028627533,
          0.03489140853173563,
          0.03522971920592027,
          0.03557118927263494,
          0.03591584588276045,
          0.036263716374647065,
          0.03661482827448859,
          0.03696920929667573,
          0.037326887344128125,
          0.03768789050860456,
          0.03805224707099073,
          0.03841998550156398,
          0.03879113446023462,
          0.03916572279676292,
          0.0395437795509515,
          0.039925333952812316,
          0.040310415422707725,
          0.040699053571464965,
          0.04109127820046346,
          0.041487119301694284,
          0.04188660705779112,
          0.04228977184203218,
          0.042696644218312284,
          0.04310725494108446,
          0.0435216349552705,
          0.043939815396139614,
          0.044361827589154634,
          0.04478770304978497,
          0.0452174734832857,
          0.045651170784441905,
          0.04608882703727781,
          0.0465304745147296,
          0.04697614567828164,
          0.04742587317756486,
          0.04787968984991693,
          0.048337628719903235,
          0.04879972299879799,
          0.049266006084024615,
          0.049736511558554665,
          0.050211273190264444,
          0.050690324931248545,
          0.05117370091708951,
          0.05166143546608267,
          0.05215356307841553,
          0.05265011843530067,
          0.05315113639806146,
          0.053656652007169583,
          0.054166700481233745,
          0.05468131721593839,
          0.055200537782931894,
          0.055724397928662996,
          0.05625293357316491,
          0.056786180808786,
          0.05732417589886622,
          0.057866955276358455,
          0.058414555542393665,
          0.05896701346478913,
          0.05952436597649884,
          0.06008665017400493,
          0.0606539033156494,
          0.061226162819905235,
          0.06180346626358577,
          0.062385851379991544,
          0.06297335605699361,
          0.06356601833505235,
          0.06416387640517097,
          0.06476696860678254,
          0.06537533342556959,
          0.06598900949121571,
          0.06660803557508754,
          0.06723245058784688,
          0.06786229357699129,
          0.06849760372432286,
          0.06913842034334354,
          0.06978478287657676,
          0.0704367308928137,
          0.07109430408428374,
          0.07175754226374786,
          0.07242648536151422,
          0.07310117342237465,
          0.0737816466024617,
          0.07446794516602444,
          0.07516010948212293,
          0.07585818002123981,
          0.07656219735180839,
          0.07727220213665606,
          0.07798823512936251,
          0.0787103371705313,
          0.0794385491839744,
          0.08017291217280831,
          0.08091346721546128,
          0.08166025546159054,
          0.08241331812790863,
          0.08317269649391815,
          0.08393843189755387,
          0.08471056573073146,
          0.08548913943480217,
          0.08627419449591227,
          0.08706577244026678,
          0.0878639148292967,
          0.0886686632547287,
          0.08948005933355678,
          0.09029814470291514,
          0.09112296101485137,
          0.09195454993099951,
          0.09279295311715212,
          0.09363821223773076,
          0.09449036895015431,
          0.09534946489910444,
          0.09621554171068775,
          0.09708864098649375,
          0.0979688042975487,
          0.09885607317816407,
          0.09975048911967979,
          0.10065209356410143,
          0.10156092789763117,
          0.10247703344409181,
          0.10340045145824399,
          0.10433122311899563,
          0.10526938952250404,
          0.10621499167516975,
          0.10716807048652233,
          0.10812866676199763,
          0.10909682119560694,
          0.11007257436249694,
          0.11105596671140143,
          0.11204703855698411,
          0.11304583007207271,
          0.11405238127978451,
          0.1150667320455434,
          0.11608892206898837,
          0.11711899087577396,
          0.11815697780926292,
          0.11920292202211086,
          0.12025686246774407,
          0.12131883789173005,
          0.12238888682304201,
          0.12346704756521709,
          0.12455335818740945,
          0.12564785651533864,
          0.12675058012213372,
          0.12786156631907422,
          0.1289808521462285,
          0.13010847436299064,
          0.13124446943851606,
          0.13238887354205808,
          0.1335417225332051,
          0.13470305195202067,
          0.13587289700908678,
          0.13705129257545212,
          0.13823827317248646,
          0.13943387296164242,
          0.14063812573412648,
          0.14185106490048005,
          0.14307272348007302,
          0.14430313409051088,
          0.14554232893695734,
          0.1467903398013744,
          0.14804719803168145,
          0.14931293453083566,
          0.1505875797458358,
          0.1518711636566511,
          0.15316371576507792,
          0.15446526508352643,
          0.15577584012373902,
          0.15709546888544432,
          0.15842417884494736,
          0.15976199694366053,
          0.16110894957657665,
          0.16246506258068744,
          0.1638303612233502,
          0.16520487019060587,
          0.16658861357545082,
          0.16798161486606664,
          0.16938389693400976,
          0.17079548202236547,
          0.17221639173386874,
          0.17364664701899593,
          0.17508626816403064,
          0.1765352747791075,
          0.17799368578623723,
          0.17946151940731747,
          0.1809387931521326,
          0.18242552380634688,
          0.18392172741949472,
          0.18542741929297268,
          0.18694261396803674,
          0.18846732521380974,
          0.1900015660153032,
          0.19154534856145766,
          0.19309868423320656,
          0.194661583591568,
          0.19623405636576916,
          0.1978161114414082,
          0.19940775684865836,
          0.20100899975051922,
          0.20261984643112022,
          0.20424030228408147,
          0.20587037180093698,
          0.2075100585596252,
          0.20915936521305287,
          0.21081829347773662,
          0.21248684412252858,
          0.21416501695743073,
          0.21585281082250385,
          0.21755022357687676,
          0.2192572520878609,
          0.22097389222017694,
          0.22270013882529793,
          0.22443598573091555,
          0.22618142573053515,
          0.22793645057320513,
          0.22970105095338691,
          0.23147521650097114,
          0.2332589357714459,
          0.23505219623622395,
          0.23685498427313317,
          0.2386672851570781,
          0.24048908305087738,
          0.24232036099628354,
          0.24416110090519133,
          0.2460112835510402,
          0.24787088856041803,
          0.24973989440487057,
          0.2516182783929239,
          0.2535060166623259,
          0.25540308417251206,
          0.25730945469730215,
          0.2592251008178339,
          0.26114999391573884,
          0.2630841041665675,
          0.2650274005334689,
          0.2669798507611301,
          0.2689414213699827,
          0.27091207765068104,
          0.27289178365885797,
          0.27488050221016436,
          0.27687819487559756,
          0.2788848219771243,
          0.2809003425836034,
          0.2829247145070147,
          0.2849578942989975,
          0.28699983724770545,
          0.2890504973749831,
          0.2911098274338671,
          0.2931777789064194,
          0.2952543020018959,
          0.2973393456552553,
          0.29943285752601384,
          0.301534783997448,
          0.3036450701761526,
          0.30576365989195614,
          0.3078904956981985,
          0.3100255188723741,
          0.3121686694171461,
          0.31431988606173267,
          0.31647910626367076,
          0.3186462662109608,
          0.32082130082459337,
          0.32300414376146325,
          0.3251947274176727,
          0.32739298293222574,
          0.3295988401911175,
          0.33181222783181996,
          0.3340330732481658,
          0.3362613025956333,
          0.3384968407970335,
          0.34073961154860055,
          0.34298953732648707,
          0.34524653939366656,
          0.3475105378072413,
          0.3497814514261587,
          0.3520591979193355,
          0.3543436937741902,
          0.3566348543055839,
          0.3589325936651685,
          0.3612368248511436,
          0.3635474597184191,
          0.36586440898918476,
          0.36818758226388376,
          0.37051688803259053,
          0.37285223368678977,
          0.37519352553155605,
          0.3775406687981307,
          0.37989356765689514,
          0.3822521252307362,
          0.38461624360880303,
          0.38698582386064967,
          0.38936076605076314,
          0.3917409692534707,
          0.3941263315682245,
          0.3965167501352587,
          0.39891212115161523,
          0.40131233988753295,
          0.4037173007031971,
          0.4061268970658422,
          0.40854102156720484,
          0.41095956594131977,
          0.41338242108265477,
          0.4158094770645775,
          0.4182406231581486,
          0.42067574785123535,
          0.42311473886793843,
          0.42555748318832576,
          0.4280038670684661,
          0.4304537760607557,
          0.43290709503453034,
          0.4353637081969555,
          0.43782349911418655,
          0.44028635073279165,
          0.442752145401429,
          0.44522076489276985,
          0.4476920904256593,
          0.45016600268750667,
          0.4526423818568953,
          0.45512110762640445,
          0.4576020592256336,
          0.4600851154444188,
          0.46257015465623497,
          0.46505705484177,
          0.46754569361266574,
          0.4700359482354127,
          0.47252769565539077,
          0.47502081252104444,
          0.4775151752081844,
          0.4800106598444026,
          0.4825071423335947,
          0.48500449838057436,
          0.48750260351577407,
          0.490001333120019,
          0.492500562449364,
          0.4950001666599847,
          0.4975000208331094,
          0.4999999999999844,
          0.5024999791668594,
          0.5049998333399842,
          0.5074994375506048,
          0.50999866687995,
          0.5124973964841948,
          0.5149955016193946,
          0.5174928576663742,
          0.5199893401555663,
          0.5224848247917846,
          0.5249791874789245,
          0.5274723043445781,
          0.5299640517645562,
          0.5324543063873033,
          0.534942945158199,
          0.5374298453437341,
          0.5399148845555503,
          0.5423979407743355,
          0.5448788923735646,
          0.5473576181430739,
          0.5498339973124625,
          0.5523079095743098,
          0.5547792351071994,
          0.5572478545985402,
          0.5597136492671776,
          0.5621765008857827,
          0.5646362918030138,
          0.5670929049654391,
          0.5695462239392138,
          0.5719961329315034,
          0.5744425168116438,
          0.5768852611320312,
          0.5793242521487343,
          0.5817593768418211,
          0.5841905229353923,
          0.5866175789173149,
          0.58904043405865,
          0.591458978432765,
          0.5938731029341277,
          0.5962826992967728,
          0.598687660112437,
          0.6010878788483549,
          0.6034832498647115,
          0.6058736684317457,
          0.6082590307464996,
          0.6106392339492073,
          0.6130141761393207,
          0.6153837563911675,
          0.6177478747692343,
          0.6201064323430756,
          0.6224593312018399,
          0.6248064744684148,
          0.627147766313181,
          0.6294831119673804,
          0.6318124177360872,
          0.6341355910107863,
          0.636452540281552,
          0.6387631751488276,
          0.6410674063348029,
          0.6433651456943875,
          0.6456563062257812,
          0.6479408020806361,
          0.650218548573813,
          0.6524894621927305,
          0.6547534606063052,
          0.6570104626734847,
          0.6592603884513716,
          0.6615031592029386,
          0.6637386974043389,
          0.6659669267518065,
          0.6681877721681524,
          0.670401159808855,
          0.6726070170677468,
          0.6748052725822999,
          0.6769958562385094,
          0.6791786991753795,
          0.6813537337890121,
          0.6835208937363022,
          0.6856801139382405,
          0.6878313305828271,
          0.6899744811275992,
          0.692109504301775,
          0.6942363401080174,
          0.6963549298238211,
          0.6984652160025258,
          0.70056714247396,
          0.7026606543447186,
          0.7047456979980782,
          0.7068222210935547,
          0.7088901725661072,
          0.7109495026249912,
          0.7130001627522691,
          0.7150421057009771,
          0.71707528549296,
          0.7190996574163714,
          0.7211151780228506,
          0.7231218051243775,
          0.7251194977898108,
          0.7271082163411173,
          0.7290879223492943,
          0.7310585786299928,
          0.7330201492388455,
          0.7349725994665068,
          0.7369158958334082,
          0.7388500060842371,
          0.7407748991821421,
          0.742690545302674,
          0.7445969158274642,
          0.7464939833376505,
          0.7483817216070526,
          0.7502601055951061,
          0.7521291114395587,
          0.7539887164489366,
          0.7558388990947856,
          0.7576796390036935,
          0.7595109169490998,
          0.7613327148428991,
          0.7631450157268443,
          0.7649478037637536,
          0.7667410642285318,
          0.7685247834990067,
          0.770298949046591,
          0.772063549426773,
          0.773818574269443,
          0.7755640142690627,
          0.7772998611746805,
          0.7790261077798016,
          0.7807427479121178,
          0.782449776423102,
          0.7841471891774751,
          0.7858349830425482,
          0.7875131558774505,
          0.7891817065222426,
          0.7908406347869266,
          0.7924899414403542,
          0.7941296281990426,
          0.7957596977158983,
          0.7973801535688597,
          0.7989910002494608,
          0.8005922431513217,
          0.802183888558572,
          0.8037659436342112,
          0.8053384164084125,
          0.806901315766774,
          0.808454651438523,
          0.8099984339846775,
          0.8115326747861712,
          0.8130573860319443,
          0.8145725807070084,
          0.8160782725804866,
          0.8175744761936345,
          0.8190612068478489,
          0.8205384805926642,
          0.8220063142137446,
          0.8234647252208743,
          0.8249137318359513,
          0.8263533529809861,
          0.8277836082661134,
          0.8292045179776169,
          0.8306161030659727,
          0.8320183851339159,
          0.8334113864245318,
          0.834795129809377,
          0.8361696387766326,
          0.8375349374192956,
          0.8388910504234065,
          0.8402380030563227,
          0.841575821155036,
          0.8429045311145392,
          0.8442241598762446,
          0.8455347349164574,
          0.8468362842349059,
          0.8481288363433328,
          0.8494124202541482,
          0.8506870654691485,
          0.8519528019683028,
          0.85320966019861,
          0.8544576710630272,
          0.8556968659094737,
          0.8569272765199117,
          0.8581489350995047,
          0.8593618742658584,
          0.8605661270383426,
          0.8617617268274986,
          0.8629487074245331,
          0.8641271029908986,
          0.8652969480479648,
          0.8664582774667805,
          0.8676111264579276,
          0.8687555305614697,
          0.8698915256369952,
          0.8710191478537574,
          0.8721384336809118,
          0.8732494198778524,
          0.8743521434846476,
          0.8754466418125768,
          0.8765329524347695,
          0.8776111131769446,
          0.8786811621082565,
          0.8797431375322428,
          0.880797077977876,
          0.881843022190724,
          0.8828810091242131,
          0.8839110779309989,
          0.8849332679544439,
          0.8859476187202029,
          0.8869541699279148,
          0.8879529614430035,
          0.8889440332885863,
          0.8899274256374908,
          0.890903178804381,
          0.8918713332379904,
          0.8928319295134658,
          0.8937850083248184,
          0.8947306104774843,
          0.8956687768809927,
          0.8965995485417444,
          0.8975229665558967,
          0.8984390721023574,
          0.8993479064358872,
          0.900249510880309,
          0.9011439268218248,
          0.9020311957024403,
          0.9029113590134953,
          0.9037844582893014,
          0.9046505351008848,
          0.9055096310498351,
          0.9063617877622586,
          0.9072070468828374,
          0.9080454500689901,
          0.9088770389851383,
          0.9097018552970746,
          0.910519940666433,
          0.9113313367452612,
          0.9121360851706933,
          0.9129342275597233,
          0.9137258055040779,
          0.914510860565188,
          0.9152894342692589,
          0.9160615681024366,
          0.9168273035060723,
          0.9175866818720819,
          0.9183397445384001,
          0.9190865327845295,
          0.9198270878271825,
          0.9205614508160165,
          0.9212896628294597,
          0.9220117648706285,
          0.922727797863335,
          0.9234378026481828,
          0.9241418199787514,
          0.9248398905178684,
          0.9255320548339669,
          0.9262183533975298,
          0.9268988265776169,
          0.9275735146384774,
          0.9282424577362438,
          0.928905695915708,
          0.9295632691071781,
          0.9302152171234152,
          0.9308615796566484,
          0.9315023962756692,
          0.9321377064230008,
          0.9327675494121453,
          0.9333919644249047,
          0.9340109905087766,
          0.9346246665744228,
          0.9352330313932099,
          0.9358361235948215,
          0.9364339816649402,
          0.9370266439429991,
          0.9376141486200013,
          0.938196533736407,
          0.9387738371800876,
          0.9393460966843435,
          0.939913349825988,
          0.9404756340234943,
          0.9410329865352038,
          0.9415854444575995,
          0.9421330447236348,
          0.942675824101127,
          0.9432138191912073,
          0.9437470664268285,
          0.9442756020713304,
          0.9447994622170616,
          0.9453186827840552,
          0.9458332995187598,
          0.946343347992824,
          0.9468488636019322,
          0.9473498815646931,
          0.9478464369215783,
          0.9483385645339112,
          0.9488262990829044,
          0.9493096750687454,
          0.9497887268097296,
          0.9502634884414395,
          0.9507339939159696,
          0.9512002770011962,
          0.951662371280091,
          0.9521203101500774,
          0.9525741268224295,
          0.9530238543217128,
          0.9534695254852649,
          0.9539111729627167,
          0.9543488292155526,
          0.9547825265167089,
          0.9552122969502097,
          0.95563817241084,
          0.9560601846038551,
          0.9564783650447243,
          0.9568927450589104,
          0.9573033557816826,
          0.9577102281579628,
          0.9581133929422039,
          0.9585128806983008,
          0.9589087217995316,
          0.9593009464285301,
          0.9596895845772875,
          0.960074666047183,
          0.9604562204490438,
          0.9608342772032323,
          0.9612088655397607,
          0.9615800144984314,
          0.9619477529290047,
          0.9623121094913909,
          0.9626731126558674,
          0.9630307907033199,
          0.963385171725507,
          0.9637362836253486,
          0.9640841541172352,
          0.9644288107273608,
          0.9647702807940755,
          0.9651085914682601,
          0.9654437697137205,
          0.9657758423076012,
          0.9661048358408189,
          0.9664307767185145,
          0.966753691160523,
          0.9670736052018609,
          0.9673905446932315,
          0.9677045353015467,
          0.9680156025104639,
          0.9683237716209409,
          0.9686290677518034,
          0.9689315158403299,
          0.9692311406428492,
          0.9695279667353531,
          0.9698220185141213,
          0.9701133201963611,
          0.9704018958208581,
          0.9706877692486411,
          0.9709709641636566,
          0.9712515040734574,
          0.9715294123099002,
          0.9718047120298549,
          0.9720774262159244,
          0.9723475776771743,
          0.9726151890498718,
          0.9728802827982345,
          0.9731428812151879,
          0.9734030064231317,
          0.9736606803747142,
          0.9739159248536147,
          0.9741687614753335,
          0.97441921168799,
          0.9746672967731259,
          0.9749130378465178,
          0.975156455858994,
          0.9753975715972583,
          0.9756364056847199,
          0.9758729785823285,
          0.9761073105894149,
          0.9763394218445365,
          0.9765693323263275,
          0.9767970618543537,
          0.9770226300899721,
          0.9772460565371938,
          0.9774673605435505,
          0.9776865613009657,
          0.9779036778466277,
          0.9781187290638674,
          0.9783317336830374,
          0.9785427102823944,
          0.9787516772889844,
          0.9789586529795297,
          0.9791636554813176,
          0.9793667027730918,
          0.979567812685945,
          0.9797670029042126,
          0.9799642909663684,
          0.9801596942659205,
          0.9803532300523093,
          0.980544915431805,
          0.9807347673684064,
          0.98092280268474,
          0.981109038062959,
          0.9812934900456435,
          0.9814761750366987,
          0.9816571093022548,
          0.9818363089715656,
          0.9820137900379066,
          0.9821895683594728,
          0.9823636596602755,
          0.9825360795310385,
          0.9827068434300928,
          0.9828759666842705,
          0.9830434644897975,
          0.9832093519131845,
          0.9833736438921167,
          0.983536355236342,
          0.9836975006285573,
          0.9838570946252931,
          0.9840151516577957,
          0.9841716860329085,
          0.9843267119339498,
          0.9844802434215895,
          0.9846322944347229,
          0.9847828787913421,
          0.9849320101894056,
          0.9850797022077042,
          0.9852259683067254,
          0.9853708218295141,
          0.9855142760025316,
          0.9856563439365104,
          0.9857970386273074,
          0.9859363729567531,
          0.9860743596934981,
          0.9862110114938569,
          0.9863463409026476,
          0.9864803603540289,
          0.9866130821723338,
          0.9867445185728998,
          0.9868746816628958,
          0.9870035834421452,
          0.9871312358039461,
          0.987257650535887,
          0.98738283932066,
          0.9875068137368691,
          0.9876295852598362,
          0.9877511652624021,
          0.9878715650157244,
          0.9879907956900713,
          0.9881088683556117,
          0.9882257939832014,
          0.9883415834451657,
          0.9884562475160764,
          0.988569796873528,
          0.9886822420989064,
          0.9887935936781559,
          0.9889038620025412,
          0.9890130573694056,
          0.9891211899829249,
          0.9892282699548571,
          0.9893343073052888,
          0.9894393119633756,
          0.9895432937680807,
          0.9896462624689071,
          0.9897482277266269,
          0.9898491991140062,
          0.989949186116525,
          0.9900481981330945,
          0.9901462444767676,
          0.9902433343754475,
          0.990339476972591,
          0.9904346813279072,
          0.9905289564180528,
          0.990622311137322,
          0.9907147542983333,
          0.9908062946327109,
          0.990896940791762,
          0.9909867013471512,
          0.9910755847915677,
          0.9911635995393913,
          0.991250753927352,
          0.9913370562151859,
          0.991422514586287,
          0.9915071371483546,
          0.991590931934036,
          0.9916739069015652,
          0.9917560699353974,
          0.9918374288468391,
          0.9919179913746736,
          0.9919977651857828,
          0.9920767578757641,
          0.9921549769695435,
          0.9922324299219841,
          0.9923091241184907,
          0.9923850668756099,
          0.9924602654416257,
          0.9925347269971514,
          0.9926084586557171,
          0.9926814674643529,
          0.9927537604041677,
          0.9928253443909244,
          0.9928962262756104,
          0.992966412845004,
          0.9930359108222371,
          0.993104726867353,
          0.9931728675778609,
          0.9932403394892859,
          0.9933071490757143
         ],
         "yaxis": "y"
        }
       ],
       "layout": {
        "legend": {
         "tracegroupgap": 0
        },
        "margin": {
         "t": 60
        },
        "template": {
         "data": {
          "bar": [
           {
            "error_x": {
             "color": "#2a3f5f"
            },
            "error_y": {
             "color": "#2a3f5f"
            },
            "marker": {
             "line": {
              "color": "#E5ECF6",
              "width": 0.5
             }
            },
            "type": "bar"
           }
          ],
          "barpolar": [
           {
            "marker": {
             "line": {
              "color": "#E5ECF6",
              "width": 0.5
             }
            },
            "type": "barpolar"
           }
          ],
          "carpet": [
           {
            "aaxis": {
             "endlinecolor": "#2a3f5f",
             "gridcolor": "white",
             "linecolor": "white",
             "minorgridcolor": "white",
             "startlinecolor": "#2a3f5f"
            },
            "baxis": {
             "endlinecolor": "#2a3f5f",
             "gridcolor": "white",
             "linecolor": "white",
             "minorgridcolor": "white",
             "startlinecolor": "#2a3f5f"
            },
            "type": "carpet"
           }
          ],
          "choropleth": [
           {
            "colorbar": {
             "outlinewidth": 0,
             "ticks": ""
            },
            "type": "choropleth"
           }
          ],
          "contour": [
           {
            "colorbar": {
             "outlinewidth": 0,
             "ticks": ""
            },
            "colorscale": [
             [
              0,
              "#0d0887"
             ],
             [
              0.1111111111111111,
              "#46039f"
             ],
             [
              0.2222222222222222,
              "#7201a8"
             ],
             [
              0.3333333333333333,
              "#9c179e"
             ],
             [
              0.4444444444444444,
              "#bd3786"
             ],
             [
              0.5555555555555556,
              "#d8576b"
             ],
             [
              0.6666666666666666,
              "#ed7953"
             ],
             [
              0.7777777777777778,
              "#fb9f3a"
             ],
             [
              0.8888888888888888,
              "#fdca26"
             ],
             [
              1,
              "#f0f921"
             ]
            ],
            "type": "contour"
           }
          ],
          "contourcarpet": [
           {
            "colorbar": {
             "outlinewidth": 0,
             "ticks": ""
            },
            "type": "contourcarpet"
           }
          ],
          "heatmap": [
           {
            "colorbar": {
             "outlinewidth": 0,
             "ticks": ""
            },
            "colorscale": [
             [
              0,
              "#0d0887"
             ],
             [
              0.1111111111111111,
              "#46039f"
             ],
             [
              0.2222222222222222,
              "#7201a8"
             ],
             [
              0.3333333333333333,
              "#9c179e"
             ],
             [
              0.4444444444444444,
              "#bd3786"
             ],
             [
              0.5555555555555556,
              "#d8576b"
             ],
             [
              0.6666666666666666,
              "#ed7953"
             ],
             [
              0.7777777777777778,
              "#fb9f3a"
             ],
             [
              0.8888888888888888,
              "#fdca26"
             ],
             [
              1,
              "#f0f921"
             ]
            ],
            "type": "heatmap"
           }
          ],
          "heatmapgl": [
           {
            "colorbar": {
             "outlinewidth": 0,
             "ticks": ""
            },
            "colorscale": [
             [
              0,
              "#0d0887"
             ],
             [
              0.1111111111111111,
              "#46039f"
             ],
             [
              0.2222222222222222,
              "#7201a8"
             ],
             [
              0.3333333333333333,
              "#9c179e"
             ],
             [
              0.4444444444444444,
              "#bd3786"
             ],
             [
              0.5555555555555556,
              "#d8576b"
             ],
             [
              0.6666666666666666,
              "#ed7953"
             ],
             [
              0.7777777777777778,
              "#fb9f3a"
             ],
             [
              0.8888888888888888,
              "#fdca26"
             ],
             [
              1,
              "#f0f921"
             ]
            ],
            "type": "heatmapgl"
           }
          ],
          "histogram": [
           {
            "marker": {
             "colorbar": {
              "outlinewidth": 0,
              "ticks": ""
             }
            },
            "type": "histogram"
           }
          ],
          "histogram2d": [
           {
            "colorbar": {
             "outlinewidth": 0,
             "ticks": ""
            },
            "colorscale": [
             [
              0,
              "#0d0887"
             ],
             [
              0.1111111111111111,
              "#46039f"
             ],
             [
              0.2222222222222222,
              "#7201a8"
             ],
             [
              0.3333333333333333,
              "#9c179e"
             ],
             [
              0.4444444444444444,
              "#bd3786"
             ],
             [
              0.5555555555555556,
              "#d8576b"
             ],
             [
              0.6666666666666666,
              "#ed7953"
             ],
             [
              0.7777777777777778,
              "#fb9f3a"
             ],
             [
              0.8888888888888888,
              "#fdca26"
             ],
             [
              1,
              "#f0f921"
             ]
            ],
            "type": "histogram2d"
           }
          ],
          "histogram2dcontour": [
           {
            "colorbar": {
             "outlinewidth": 0,
             "ticks": ""
            },
            "colorscale": [
             [
              0,
              "#0d0887"
             ],
             [
              0.1111111111111111,
              "#46039f"
             ],
             [
              0.2222222222222222,
              "#7201a8"
             ],
             [
              0.3333333333333333,
              "#9c179e"
             ],
             [
              0.4444444444444444,
              "#bd3786"
             ],
             [
              0.5555555555555556,
              "#d8576b"
             ],
             [
              0.6666666666666666,
              "#ed7953"
             ],
             [
              0.7777777777777778,
              "#fb9f3a"
             ],
             [
              0.8888888888888888,
              "#fdca26"
             ],
             [
              1,
              "#f0f921"
             ]
            ],
            "type": "histogram2dcontour"
           }
          ],
          "mesh3d": [
           {
            "colorbar": {
             "outlinewidth": 0,
             "ticks": ""
            },
            "type": "mesh3d"
           }
          ],
          "parcoords": [
           {
            "line": {
             "colorbar": {
              "outlinewidth": 0,
              "ticks": ""
             }
            },
            "type": "parcoords"
           }
          ],
          "pie": [
           {
            "automargin": true,
            "type": "pie"
           }
          ],
          "scatter": [
           {
            "marker": {
             "colorbar": {
              "outlinewidth": 0,
              "ticks": ""
             }
            },
            "type": "scatter"
           }
          ],
          "scatter3d": [
           {
            "line": {
             "colorbar": {
              "outlinewidth": 0,
              "ticks": ""
             }
            },
            "marker": {
             "colorbar": {
              "outlinewidth": 0,
              "ticks": ""
             }
            },
            "type": "scatter3d"
           }
          ],
          "scattercarpet": [
           {
            "marker": {
             "colorbar": {
              "outlinewidth": 0,
              "ticks": ""
             }
            },
            "type": "scattercarpet"
           }
          ],
          "scattergeo": [
           {
            "marker": {
             "colorbar": {
              "outlinewidth": 0,
              "ticks": ""
             }
            },
            "type": "scattergeo"
           }
          ],
          "scattergl": [
           {
            "marker": {
             "colorbar": {
              "outlinewidth": 0,
              "ticks": ""
             }
            },
            "type": "scattergl"
           }
          ],
          "scattermapbox": [
           {
            "marker": {
             "colorbar": {
              "outlinewidth": 0,
              "ticks": ""
             }
            },
            "type": "scattermapbox"
           }
          ],
          "scatterpolar": [
           {
            "marker": {
             "colorbar": {
              "outlinewidth": 0,
              "ticks": ""
             }
            },
            "type": "scatterpolar"
           }
          ],
          "scatterpolargl": [
           {
            "marker": {
             "colorbar": {
              "outlinewidth": 0,
              "ticks": ""
             }
            },
            "type": "scatterpolargl"
           }
          ],
          "scatterternary": [
           {
            "marker": {
             "colorbar": {
              "outlinewidth": 0,
              "ticks": ""
             }
            },
            "type": "scatterternary"
           }
          ],
          "surface": [
           {
            "colorbar": {
             "outlinewidth": 0,
             "ticks": ""
            },
            "colorscale": [
             [
              0,
              "#0d0887"
             ],
             [
              0.1111111111111111,
              "#46039f"
             ],
             [
              0.2222222222222222,
              "#7201a8"
             ],
             [
              0.3333333333333333,
              "#9c179e"
             ],
             [
              0.4444444444444444,
              "#bd3786"
             ],
             [
              0.5555555555555556,
              "#d8576b"
             ],
             [
              0.6666666666666666,
              "#ed7953"
             ],
             [
              0.7777777777777778,
              "#fb9f3a"
             ],
             [
              0.8888888888888888,
              "#fdca26"
             ],
             [
              1,
              "#f0f921"
             ]
            ],
            "type": "surface"
           }
          ],
          "table": [
           {
            "cells": {
             "fill": {
              "color": "#EBF0F8"
             },
             "line": {
              "color": "white"
             }
            },
            "header": {
             "fill": {
              "color": "#C8D4E3"
             },
             "line": {
              "color": "white"
             }
            },
            "type": "table"
           }
          ]
         },
         "layout": {
          "annotationdefaults": {
           "arrowcolor": "#2a3f5f",
           "arrowhead": 0,
           "arrowwidth": 1
          },
          "autotypenumbers": "strict",
          "coloraxis": {
           "colorbar": {
            "outlinewidth": 0,
            "ticks": ""
           }
          },
          "colorscale": {
           "diverging": [
            [
             0,
             "#8e0152"
            ],
            [
             0.1,
             "#c51b7d"
            ],
            [
             0.2,
             "#de77ae"
            ],
            [
             0.3,
             "#f1b6da"
            ],
            [
             0.4,
             "#fde0ef"
            ],
            [
             0.5,
             "#f7f7f7"
            ],
            [
             0.6,
             "#e6f5d0"
            ],
            [
             0.7,
             "#b8e186"
            ],
            [
             0.8,
             "#7fbc41"
            ],
            [
             0.9,
             "#4d9221"
            ],
            [
             1,
             "#276419"
            ]
           ],
           "sequential": [
            [
             0,
             "#0d0887"
            ],
            [
             0.1111111111111111,
             "#46039f"
            ],
            [
             0.2222222222222222,
             "#7201a8"
            ],
            [
             0.3333333333333333,
             "#9c179e"
            ],
            [
             0.4444444444444444,
             "#bd3786"
            ],
            [
             0.5555555555555556,
             "#d8576b"
            ],
            [
             0.6666666666666666,
             "#ed7953"
            ],
            [
             0.7777777777777778,
             "#fb9f3a"
            ],
            [
             0.8888888888888888,
             "#fdca26"
            ],
            [
             1,
             "#f0f921"
            ]
           ],
           "sequentialminus": [
            [
             0,
             "#0d0887"
            ],
            [
             0.1111111111111111,
             "#46039f"
            ],
            [
             0.2222222222222222,
             "#7201a8"
            ],
            [
             0.3333333333333333,
             "#9c179e"
            ],
            [
             0.4444444444444444,
             "#bd3786"
            ],
            [
             0.5555555555555556,
             "#d8576b"
            ],
            [
             0.6666666666666666,
             "#ed7953"
            ],
            [
             0.7777777777777778,
             "#fb9f3a"
            ],
            [
             0.8888888888888888,
             "#fdca26"
            ],
            [
             1,
             "#f0f921"
            ]
           ]
          },
          "colorway": [
           "#636efa",
           "#EF553B",
           "#00cc96",
           "#ab63fa",
           "#FFA15A",
           "#19d3f3",
           "#FF6692",
           "#B6E880",
           "#FF97FF",
           "#FECB52"
          ],
          "font": {
           "color": "#2a3f5f"
          },
          "geo": {
           "bgcolor": "white",
           "lakecolor": "white",
           "landcolor": "#E5ECF6",
           "showlakes": true,
           "showland": true,
           "subunitcolor": "white"
          },
          "hoverlabel": {
           "align": "left"
          },
          "hovermode": "closest",
          "mapbox": {
           "style": "light"
          },
          "paper_bgcolor": "white",
          "plot_bgcolor": "#E5ECF6",
          "polar": {
           "angularaxis": {
            "gridcolor": "white",
            "linecolor": "white",
            "ticks": ""
           },
           "bgcolor": "#E5ECF6",
           "radialaxis": {
            "gridcolor": "white",
            "linecolor": "white",
            "ticks": ""
           }
          },
          "scene": {
           "xaxis": {
            "backgroundcolor": "#E5ECF6",
            "gridcolor": "white",
            "gridwidth": 2,
            "linecolor": "white",
            "showbackground": true,
            "ticks": "",
            "zerolinecolor": "white"
           },
           "yaxis": {
            "backgroundcolor": "#E5ECF6",
            "gridcolor": "white",
            "gridwidth": 2,
            "linecolor": "white",
            "showbackground": true,
            "ticks": "",
            "zerolinecolor": "white"
           },
           "zaxis": {
            "backgroundcolor": "#E5ECF6",
            "gridcolor": "white",
            "gridwidth": 2,
            "linecolor": "white",
            "showbackground": true,
            "ticks": "",
            "zerolinecolor": "white"
           }
          },
          "shapedefaults": {
           "line": {
            "color": "#2a3f5f"
           }
          },
          "ternary": {
           "aaxis": {
            "gridcolor": "white",
            "linecolor": "white",
            "ticks": ""
           },
           "baxis": {
            "gridcolor": "white",
            "linecolor": "white",
            "ticks": ""
           },
           "bgcolor": "#E5ECF6",
           "caxis": {
            "gridcolor": "white",
            "linecolor": "white",
            "ticks": ""
           }
          },
          "title": {
           "x": 0.05
          },
          "xaxis": {
           "automargin": true,
           "gridcolor": "white",
           "linecolor": "white",
           "ticks": "",
           "title": {
            "standoff": 15
           },
           "zerolinecolor": "white",
           "zerolinewidth": 2
          },
          "yaxis": {
           "automargin": true,
           "gridcolor": "white",
           "linecolor": "white",
           "ticks": "",
           "title": {
            "standoff": 15
           },
           "zerolinecolor": "white",
           "zerolinewidth": 2
          }
         }
        },
        "xaxis": {
         "anchor": "y",
         "domain": [
          0,
          1
         ],
         "title": {
          "text": "x"
         }
        },
        "yaxis": {
         "anchor": "x",
         "domain": [
          0,
          1
         ],
         "title": {
          "text": "y"
         }
        }
       }
      },
      "text/html": [
       "<div>                            <div id=\"9962104e-8723-4917-8dfd-fbbe79c5c9b4\" class=\"plotly-graph-div\" style=\"height:525px; width:100%;\"></div>            <script type=\"text/javascript\">                require([\"plotly\"], function(Plotly) {                    window.PLOTLYENV=window.PLOTLYENV || {};                                    if (document.getElementById(\"9962104e-8723-4917-8dfd-fbbe79c5c9b4\")) {                    Plotly.newPlot(                        \"9962104e-8723-4917-8dfd-fbbe79c5c9b4\",                        [{\"hovertemplate\": \"x=%{x}<br>y=%{y}<extra></extra>\", \"legendgroup\": \"\", \"marker\": {\"color\": \"#636efa\", \"opacity\": 0.8, \"size\": 12, \"symbol\": \"circle\"}, \"mode\": \"markers\", \"name\": \"\", \"showlegend\": false, \"type\": \"scattergl\", \"x\": [-5.0, -4.99, -4.98, -4.970000000000001, -4.960000000000001, -4.950000000000001, -4.940000000000001, -4.9300000000000015, -4.920000000000002, -4.910000000000002, -4.900000000000002, -4.890000000000002, -4.880000000000003, -4.870000000000003, -4.860000000000003, -4.850000000000003, -4.840000000000003, -4.830000000000004, -4.820000000000004, -4.810000000000004, -4.800000000000004, -4.7900000000000045, -4.780000000000005, -4.770000000000005, -4.760000000000005, -4.750000000000005, -4.7400000000000055, -4.730000000000006, -4.720000000000006, -4.710000000000006, -4.700000000000006, -4.690000000000007, -4.680000000000007, -4.670000000000007, -4.660000000000007, -4.6500000000000075, -4.640000000000008, -4.630000000000008, -4.620000000000008, -4.610000000000008, -4.6000000000000085, -4.590000000000009, -4.580000000000009, -4.570000000000009, -4.560000000000009, -4.55000000000001, -4.54000000000001, -4.53000000000001, -4.52000000000001, -4.5100000000000104, -4.500000000000011, -4.490000000000011, -4.480000000000011, -4.470000000000011, -4.4600000000000115, -4.450000000000012, -4.440000000000012, -4.430000000000012, -4.420000000000012, -4.410000000000013, -4.400000000000013, -4.390000000000013, -4.380000000000013, -4.370000000000013, -4.360000000000014, -4.350000000000014, -4.340000000000014, -4.330000000000014, -4.3200000000000145, -4.310000000000015, -4.300000000000015, -4.290000000000015, -4.280000000000015, -4.270000000000016, -4.260000000000016, -4.250000000000016, -4.240000000000016, -4.230000000000016, -4.220000000000017, -4.210000000000017, -4.200000000000017, -4.190000000000017, -4.1800000000000175, -4.170000000000018, -4.160000000000018, -4.150000000000018, -4.140000000000018, -4.1300000000000185, -4.120000000000019, -4.110000000000019, -4.100000000000019, -4.090000000000019, -4.08000000000002, -4.07000000000002, -4.06000000000002, -4.05000000000002, -4.0400000000000205, -4.030000000000021, -4.020000000000021, -4.010000000000021, -4.000000000000021, -3.9900000000000215, -3.9800000000000217, -3.970000000000022, -3.960000000000022, -3.9500000000000224, -3.9400000000000226, -3.930000000000023, -3.920000000000023, -3.9100000000000232, -3.9000000000000234, -3.8900000000000237, -3.880000000000024, -3.870000000000024, -3.8600000000000243, -3.8500000000000245, -3.8400000000000247, -3.830000000000025, -3.820000000000025, -3.8100000000000254, -3.8000000000000256, -3.790000000000026, -3.780000000000026, -3.770000000000026, -3.7600000000000264, -3.7500000000000266, -3.740000000000027, -3.730000000000027, -3.7200000000000273, -3.7100000000000275, -3.7000000000000277, -3.690000000000028, -3.680000000000028, -3.6700000000000284, -3.6600000000000286, -3.6500000000000288, -3.640000000000029, -3.630000000000029, -3.6200000000000294, -3.6100000000000296, -3.60000000000003, -3.59000000000003, -3.5800000000000303, -3.5700000000000305, -3.5600000000000307, -3.550000000000031, -3.540000000000031, -3.5300000000000313, -3.5200000000000315, -3.5100000000000318, -3.500000000000032, -3.490000000000032, -3.4800000000000324, -3.4700000000000326, -3.460000000000033, -3.450000000000033, -3.4400000000000333, -3.4300000000000335, -3.4200000000000337, -3.410000000000034, -3.400000000000034, -3.3900000000000343, -3.3800000000000345, -3.3700000000000347, -3.360000000000035, -3.350000000000035, -3.3400000000000354, -3.3300000000000356, -3.320000000000036, -3.310000000000036, -3.3000000000000362, -3.2900000000000365, -3.2800000000000367, -3.270000000000037, -3.260000000000037, -3.2500000000000373, -3.2400000000000375, -3.2300000000000377, -3.220000000000038, -3.210000000000038, -3.2000000000000384, -3.1900000000000386, -3.180000000000039, -3.170000000000039, -3.160000000000039, -3.1500000000000394, -3.1400000000000396, -3.13000000000004, -3.12000000000004, -3.1100000000000403, -3.1000000000000405, -3.0900000000000407, -3.080000000000041, -3.070000000000041, -3.0600000000000414, -3.0500000000000416, -3.040000000000042, -3.030000000000042, -3.020000000000042, -3.0100000000000424, -3.0000000000000426, -2.990000000000043, -2.980000000000043, -2.9700000000000433, -2.9600000000000435, -2.9500000000000437, -2.940000000000044, -2.930000000000044, -2.9200000000000443, -2.9100000000000446, -2.9000000000000448, -2.890000000000045, -2.880000000000045, -2.8700000000000454, -2.8600000000000456, -2.850000000000046, -2.840000000000046, -2.8300000000000463, -2.8200000000000465, -2.8100000000000467, -2.800000000000047, -2.790000000000047, -2.7800000000000473, -2.7700000000000475, -2.7600000000000477, -2.750000000000048, -2.740000000000048, -2.7300000000000484, -2.7200000000000486, -2.710000000000049, -2.700000000000049, -2.6900000000000492, -2.6800000000000495, -2.6700000000000497, -2.66000000000005, -2.65000000000005, -2.6400000000000503, -2.6300000000000505, -2.6200000000000507, -2.610000000000051, -2.600000000000051, -2.5900000000000514, -2.5800000000000516, -2.570000000000052, -2.560000000000052, -2.5500000000000522, -2.5400000000000524, -2.5300000000000527, -2.520000000000053, -2.510000000000053, -2.5000000000000533, -2.4900000000000535, -2.4800000000000537, -2.470000000000054, -2.460000000000054, -2.4500000000000544, -2.4400000000000546, -2.430000000000055, -2.420000000000055, -2.410000000000055, -2.4000000000000554, -2.3900000000000556, -2.380000000000056, -2.370000000000056, -2.3600000000000563, -2.3500000000000565, -2.3400000000000567, -2.330000000000057, -2.320000000000057, -2.3100000000000573, -2.3000000000000576, -2.2900000000000578, -2.280000000000058, -2.270000000000058, -2.2600000000000584, -2.2500000000000586, -2.240000000000059, -2.230000000000059, -2.2200000000000593, -2.2100000000000595, -2.2000000000000597, -2.19000000000006, -2.18000000000006, -2.1700000000000603, -2.1600000000000605, -2.1500000000000608, -2.140000000000061, -2.130000000000061, -2.1200000000000614, -2.1100000000000616, -2.100000000000062, -2.090000000000062, -2.0800000000000622, -2.0700000000000625, -2.0600000000000627, -2.050000000000063, -2.040000000000063, -2.0300000000000633, -2.0200000000000635, -2.0100000000000637, -2.000000000000064, -1.990000000000064, -1.980000000000064, -1.970000000000064, -1.960000000000064, -1.950000000000064, -1.940000000000064, -1.9300000000000639, -1.9200000000000639, -1.9100000000000639, -1.9000000000000639, -1.8900000000000639, -1.8800000000000638, -1.8700000000000638, -1.8600000000000638, -1.8500000000000638, -1.8400000000000638, -1.8300000000000638, -1.8200000000000638, -1.8100000000000638, -1.8000000000000638, -1.7900000000000638, -1.7800000000000638, -1.7700000000000637, -1.7600000000000637, -1.7500000000000637, -1.7400000000000637, -1.7300000000000637, -1.7200000000000637, -1.7100000000000637, -1.7000000000000637, -1.6900000000000637, -1.6800000000000637, -1.6700000000000637, -1.6600000000000636, -1.6500000000000636, -1.6400000000000636, -1.6300000000000636, -1.6200000000000636, -1.6100000000000636, -1.6000000000000636, -1.5900000000000636, -1.5800000000000636, -1.5700000000000636, -1.5600000000000636, -1.5500000000000635, -1.5400000000000635, -1.5300000000000635, -1.5200000000000635, -1.5100000000000635, -1.5000000000000635, -1.4900000000000635, -1.4800000000000635, -1.4700000000000635, -1.4600000000000635, -1.4500000000000635, -1.4400000000000635, -1.4300000000000634, -1.4200000000000634, -1.4100000000000634, -1.4000000000000634, -1.3900000000000634, -1.3800000000000634, -1.3700000000000634, -1.3600000000000634, -1.3500000000000634, -1.3400000000000634, -1.3300000000000634, -1.3200000000000633, -1.3100000000000633, -1.3000000000000633, -1.2900000000000633, -1.2800000000000633, -1.2700000000000633, -1.2600000000000633, -1.2500000000000633, -1.2400000000000633, -1.2300000000000633, -1.2200000000000633, -1.2100000000000632, -1.2000000000000632, -1.1900000000000632, -1.1800000000000632, -1.1700000000000632, -1.1600000000000632, -1.1500000000000632, -1.1400000000000632, -1.1300000000000632, -1.1200000000000632, -1.1100000000000632, -1.1000000000000631, -1.0900000000000631, -1.0800000000000631, -1.0700000000000631, -1.0600000000000631, -1.050000000000063, -1.040000000000063, -1.030000000000063, -1.020000000000063, -1.010000000000063, -1.000000000000063, -0.990000000000063, -0.980000000000063, -0.970000000000063, -0.960000000000063, -0.950000000000063, -0.940000000000063, -0.930000000000063, -0.920000000000063, -0.910000000000063, -0.900000000000063, -0.890000000000063, -0.880000000000063, -0.870000000000063, -0.8600000000000629, -0.8500000000000629, -0.8400000000000629, -0.8300000000000629, -0.8200000000000629, -0.8100000000000629, -0.8000000000000629, -0.7900000000000629, -0.7800000000000629, -0.7700000000000629, -0.7600000000000628, -0.7500000000000628, -0.7400000000000628, -0.7300000000000628, -0.7200000000000628, -0.7100000000000628, -0.7000000000000628, -0.6900000000000628, -0.6800000000000628, -0.6700000000000628, -0.6600000000000628, -0.6500000000000627, -0.6400000000000627, -0.6300000000000627, -0.6200000000000627, -0.6100000000000627, -0.6000000000000627, -0.5900000000000627, -0.5800000000000627, -0.5700000000000627, -0.5600000000000627, -0.5500000000000627, -0.5400000000000627, -0.5300000000000626, -0.5200000000000626, -0.5100000000000626, -0.5000000000000626, -0.4900000000000626, -0.4800000000000626, -0.4700000000000626, -0.4600000000000626, -0.45000000000006257, -0.44000000000006256, -0.43000000000006255, -0.42000000000006255, -0.41000000000006254, -0.40000000000006253, -0.3900000000000625, -0.3800000000000625, -0.3700000000000625, -0.3600000000000625, -0.3500000000000625, -0.3400000000000625, -0.33000000000006247, -0.32000000000006246, -0.31000000000006245, -0.30000000000006244, -0.29000000000006243, -0.2800000000000624, -0.2700000000000624, -0.2600000000000624, -0.2500000000000624, -0.24000000000006239, -0.23000000000006238, -0.22000000000006237, -0.21000000000006236, -0.20000000000006235, -0.19000000000006234, -0.18000000000006233, -0.17000000000006232, -0.16000000000006231, -0.1500000000000623, -0.1400000000000623, -0.1300000000000623, -0.12000000000006229, -0.1100000000000623, -0.1000000000000623, -0.09000000000006231, -0.08000000000006231, -0.07000000000006232, -0.060000000000062316, -0.050000000000062314, -0.04000000000006231, -0.03000000000006231, -0.020000000000062308, -0.010000000000062308, -6.230779781013496e-14, 0.009999999999937692, 0.019999999999937693, 0.029999999999937695, 0.039999999999937697, 0.0499999999999377, 0.0599999999999377, 0.0699999999999377, 0.07999999999993769, 0.08999999999993769, 0.09999999999993768, 0.10999999999993768, 0.11999999999993767, 0.12999999999993767, 0.13999999999993767, 0.14999999999993768, 0.1599999999999377, 0.1699999999999377, 0.1799999999999377, 0.18999999999993772, 0.19999999999993773, 0.20999999999993774, 0.21999999999993775, 0.22999999999993775, 0.23999999999993776, 0.24999999999993777, 0.2599999999999378, 0.2699999999999378, 0.2799999999999378, 0.2899999999999378, 0.2999999999999378, 0.3099999999999378, 0.31999999999993783, 0.32999999999993784, 0.33999999999993785, 0.34999999999993786, 0.35999999999993787, 0.3699999999999379, 0.3799999999999379, 0.3899999999999379, 0.3999999999999379, 0.4099999999999379, 0.4199999999999379, 0.42999999999993793, 0.43999999999993794, 0.44999999999993795, 0.45999999999993796, 0.46999999999993797, 0.479999999999938, 0.489999999999938, 0.499999999999938, 0.509999999999938, 0.519999999999938, 0.529999999999938, 0.539999999999938, 0.549999999999938, 0.559999999999938, 0.569999999999938, 0.579999999999938, 0.589999999999938, 0.599999999999938, 0.609999999999938, 0.619999999999938, 0.629999999999938, 0.6399999999999381, 0.6499999999999381, 0.6599999999999381, 0.6699999999999381, 0.6799999999999381, 0.6899999999999381, 0.6999999999999381, 0.7099999999999381, 0.7199999999999381, 0.7299999999999381, 0.7399999999999382, 0.7499999999999382, 0.7599999999999382, 0.7699999999999382, 0.7799999999999382, 0.7899999999999382, 0.7999999999999382, 0.8099999999999382, 0.8199999999999382, 0.8299999999999382, 0.8399999999999382, 0.8499999999999382, 0.8599999999999383, 0.8699999999999383, 0.8799999999999383, 0.8899999999999383, 0.8999999999999383, 0.9099999999999383, 0.9199999999999383, 0.9299999999999383, 0.9399999999999383, 0.9499999999999383, 0.9599999999999383, 0.9699999999999384, 0.9799999999999384, 0.9899999999999384, 0.9999999999999384, 1.0099999999999383, 1.0199999999999383, 1.0299999999999383, 1.0399999999999383, 1.0499999999999383, 1.0599999999999383, 1.0699999999999383, 1.0799999999999383, 1.0899999999999384, 1.0999999999999384, 1.1099999999999384, 1.1199999999999384, 1.1299999999999384, 1.1399999999999384, 1.1499999999999384, 1.1599999999999384, 1.1699999999999384, 1.1799999999999384, 1.1899999999999384, 1.1999999999999384, 1.2099999999999385, 1.2199999999999385, 1.2299999999999385, 1.2399999999999385, 1.2499999999999385, 1.2599999999999385, 1.2699999999999385, 1.2799999999999385, 1.2899999999999385, 1.2999999999999385, 1.3099999999999385, 1.3199999999999386, 1.3299999999999386, 1.3399999999999386, 1.3499999999999386, 1.3599999999999386, 1.3699999999999386, 1.3799999999999386, 1.3899999999999386, 1.3999999999999386, 1.4099999999999386, 1.4199999999999386, 1.4299999999999387, 1.4399999999999387, 1.4499999999999387, 1.4599999999999387, 1.4699999999999387, 1.4799999999999387, 1.4899999999999387, 1.4999999999999387, 1.5099999999999387, 1.5199999999999387, 1.5299999999999387, 1.5399999999999388, 1.5499999999999388, 1.5599999999999388, 1.5699999999999388, 1.5799999999999388, 1.5899999999999388, 1.5999999999999388, 1.6099999999999388, 1.6199999999999388, 1.6299999999999388, 1.6399999999999388, 1.6499999999999388, 1.6599999999999389, 1.6699999999999389, 1.6799999999999389, 1.6899999999999389, 1.699999999999939, 1.709999999999939, 1.719999999999939, 1.729999999999939, 1.739999999999939, 1.749999999999939, 1.759999999999939, 1.769999999999939, 1.779999999999939, 1.789999999999939, 1.799999999999939, 1.809999999999939, 1.819999999999939, 1.829999999999939, 1.839999999999939, 1.849999999999939, 1.859999999999939, 1.869999999999939, 1.879999999999939, 1.889999999999939, 1.899999999999939, 1.909999999999939, 1.919999999999939, 1.929999999999939, 1.939999999999939, 1.9499999999999391, 1.9599999999999391, 1.9699999999999391, 1.9799999999999391, 1.9899999999999392, 1.9999999999999392, 2.009999999999939, 2.0199999999999387, 2.0299999999999385, 2.0399999999999383, 2.049999999999938, 2.059999999999938, 2.0699999999999377, 2.0799999999999375, 2.0899999999999372, 2.099999999999937, 2.109999999999937, 2.1199999999999366, 2.1299999999999364, 2.139999999999936, 2.149999999999936, 2.1599999999999357, 2.1699999999999355, 2.1799999999999353, 2.189999999999935, 2.199999999999935, 2.2099999999999347, 2.2199999999999345, 2.2299999999999343, 2.239999999999934, 2.249999999999934, 2.2599999999999336, 2.2699999999999334, 2.279999999999933, 2.289999999999933, 2.2999999999999328, 2.3099999999999326, 2.3199999999999323, 2.329999999999932, 2.339999999999932, 2.3499999999999317, 2.3599999999999315, 2.3699999999999313, 2.379999999999931, 2.389999999999931, 2.3999999999999306, 2.4099999999999304, 2.41999999999993, 2.42999999999993, 2.43999999999993, 2.4499999999999296, 2.4599999999999294, 2.469999999999929, 2.479999999999929, 2.4899999999999287, 2.4999999999999285, 2.5099999999999283, 2.519999999999928, 2.529999999999928, 2.5399999999999276, 2.5499999999999274, 2.5599999999999272, 2.569999999999927, 2.579999999999927, 2.5899999999999266, 2.5999999999999264, 2.609999999999926, 2.619999999999926, 2.6299999999999257, 2.6399999999999255, 2.6499999999999253, 2.659999999999925, 2.669999999999925, 2.6799999999999247, 2.6899999999999245, 2.6999999999999242, 2.709999999999924, 2.719999999999924, 2.7299999999999236, 2.7399999999999234, 2.749999999999923, 2.759999999999923, 2.7699999999999227, 2.7799999999999225, 2.7899999999999223, 2.799999999999922, 2.809999999999922, 2.8199999999999217, 2.8299999999999215, 2.8399999999999213, 2.849999999999921, 2.859999999999921, 2.8699999999999206, 2.8799999999999204, 2.88999999999992, 2.89999999999992, 2.9099999999999198, 2.9199999999999195, 2.9299999999999193, 2.939999999999919, 2.949999999999919, 2.9599999999999187, 2.9699999999999185, 2.9799999999999183, 2.989999999999918, 2.999999999999918, 3.0099999999999176, 3.0199999999999174, 3.029999999999917, 3.039999999999917, 3.0499999999999168, 3.0599999999999166, 3.0699999999999164, 3.079999999999916, 3.089999999999916, 3.0999999999999157, 3.1099999999999155, 3.1199999999999153, 3.129999999999915, 3.139999999999915, 3.1499999999999146, 3.1599999999999144, 3.169999999999914, 3.179999999999914, 3.189999999999914, 3.1999999999999136, 3.2099999999999134, 3.219999999999913, 3.229999999999913, 3.2399999999999127, 3.2499999999999125, 3.2599999999999123, 3.269999999999912, 3.279999999999912, 3.2899999999999117, 3.2999999999999114, 3.3099999999999112, 3.319999999999911, 3.329999999999911, 3.3399999999999106, 3.3499999999999104, 3.35999999999991, 3.36999999999991, 3.3799999999999097, 3.3899999999999095, 3.3999999999999093, 3.409999999999909, 3.419999999999909, 3.4299999999999087, 3.4399999999999085, 3.4499999999999083, 3.459999999999908, 3.469999999999908, 3.4799999999999076, 3.4899999999999074, 3.499999999999907, 3.509999999999907, 3.5199999999999068, 3.5299999999999065, 3.5399999999999063, 3.549999999999906, 3.559999999999906, 3.5699999999999057, 3.5799999999999055, 3.5899999999999053, 3.599999999999905, 3.609999999999905, 3.6199999999999046, 3.6299999999999044, 3.639999999999904, 3.649999999999904, 3.6599999999999038, 3.6699999999999036, 3.6799999999999033, 3.689999999999903, 3.699999999999903, 3.7099999999999027, 3.7199999999999025, 3.7299999999999023, 3.739999999999902, 3.749999999999902, 3.7599999999999016, 3.7699999999999014, 3.779999999999901, 3.789999999999901, 3.799999999999901, 3.8099999999999006, 3.8199999999999004, 3.8299999999999, 3.8399999999999, 3.8499999999998997, 3.8599999999998995, 3.8699999999998993, 3.879999999999899, 3.889999999999899, 3.8999999999998987, 3.9099999999998984, 3.9199999999998982, 3.929999999999898, 3.939999999999898, 3.9499999999998976, 3.9599999999998974, 3.969999999999897, 3.979999999999897, 3.9899999999998967, 3.9999999999998965, 4.009999999999897, 4.0199999999998965, 4.029999999999896, 4.039999999999896, 4.049999999999896, 4.059999999999896, 4.0699999999998955, 4.079999999999895, 4.089999999999895, 4.099999999999895, 4.109999999999895, 4.119999999999894, 4.129999999999894, 4.139999999999894, 4.149999999999894, 4.159999999999894, 4.169999999999893, 4.179999999999893, 4.189999999999893, 4.199999999999893, 4.2099999999998925, 4.219999999999892, 4.229999999999892, 4.239999999999892, 4.249999999999892, 4.259999999999891, 4.269999999999891, 4.279999999999891, 4.289999999999891, 4.299999999999891, 4.30999999999989, 4.31999999999989, 4.32999999999989, 4.33999999999989, 4.3499999999998895, 4.359999999999889, 4.369999999999889, 4.379999999999889, 4.389999999999889, 4.3999999999998884, 4.409999999999888, 4.419999999999888, 4.429999999999888, 4.439999999999888, 4.449999999999887, 4.459999999999887, 4.469999999999887, 4.479999999999887, 4.4899999999998865, 4.499999999999886, 4.509999999999886, 4.519999999999886, 4.529999999999886, 4.5399999999998855, 4.549999999999885, 4.559999999999885, 4.569999999999885, 4.579999999999885, 4.589999999999884, 4.599999999999884, 4.609999999999884, 4.619999999999884, 4.6299999999998835, 4.639999999999883, 4.649999999999883, 4.659999999999883, 4.669999999999883, 4.6799999999998825, 4.689999999999882, 4.699999999999882, 4.709999999999882, 4.719999999999882, 4.729999999999881, 4.739999999999881, 4.749999999999881, 4.759999999999881, 4.769999999999881, 4.77999999999988, 4.78999999999988, 4.79999999999988, 4.80999999999988, 4.8199999999998795, 4.829999999999879, 4.839999999999879, 4.849999999999879, 4.859999999999879, 4.869999999999878, 4.879999999999878, 4.889999999999878, 4.899999999999878, 4.909999999999878, 4.919999999999877, 4.929999999999877, 4.939999999999877, 4.949999999999877, 4.9599999999998765, 4.969999999999876, 4.979999999999876, 4.989999999999876, 4.999999999999876], \"xaxis\": \"x\", \"y\": [0.006692850924284858, 0.006759660510713251, 0.006827132422138162, 0.00689527313264614, 0.006964089177762085, 0.007033587154995155, 0.007103773724388773, 0.007174655609074726, 0.007246239595831417, 0.007318532535646212, 0.00739154134428196, 0.007465273002847672, 0.007539734558373375, 0.007614933124389137, 0.007690875881508312, 0.007767570078014979, 0.007845023030455608, 0.00792324212423496, 0.008002234814216214, 0.008082008625325364, 0.008162571153159862, 0.008243930064601529, 0.008326093098433747, 0.008409068065962937, 0.008492862851644311, 0.008577485413711942, 0.008662943784813118, 0.008749246072647016, 0.008836400460607668, 0.008924415208431269, 0.009013298652847772, 0.009103059208236824, 0.009193705367288033, 0.00928524570166551, 0.009377688862676791, 0.009471043581946044, 0.0095653186720916, 0.009660523027407828, 0.009756665624551282, 0.009853755523231186, 0.00995180186690424, 0.01005081388347367, 0.010150800885992633, 0.010251772273371875, 0.010353737531091653, 0.010456706231917972, 0.010560688036623021, 0.010665692694709891, 0.010771730045141514, 0.010878810017073812, 0.010986942630593067, 0.011096137997457452, 0.01120640632184275, 0.011317757901092225, 0.011430203126470596, 0.011543752483922158, 0.011658416554832966, 0.011774206016797078, 0.011891131644386849, 0.012009204309927241, 0.01212843498427409, 0.012248834737596352, 0.012370414740162266, 0.012493186263129393, 0.012617160679338529, 0.01274234946411143, 0.01286876419605233, 0.012996416557853179, 0.013125318337102617, 0.013255481427098592, 0.013386917827664583, 0.013519639645969441, 0.013653659097350685, 0.01378898850614135, 0.013925640306500177, 0.014063627043245253, 0.014202961372690904, 0.014343656063487864, 0.014485723997466655, 0.014629178170484083, 0.014774031693272812, 0.01492029779229395, 0.015067989810592559, 0.015217121208656034, 0.015367705565275284, 0.015519756578408619, 0.015673288066048285, 0.015828313967089554, 0.015984848342202294, 0.016142905374704912, 0.016302499371440633, 0.016463644763655975, 0.016626356107881306, 0.0167906480868135, 0.016956535510200443, 0.017124033315727392, 0.017293156569905082, 0.01746392046895934, 0.01763634033972232, 0.01781043164052503, 0.017986209962091184, 0.018163691028432138, 0.0183428906977429, 0.018523824963299015, 0.018706509954354203, 0.01889096193703864, 0.01907719731525774, 0.01926523263159125, 0.019455084568192595, 0.01964676994768826, 0.019840305734077055, 0.020035709033629202, 0.02023299709578493, 0.02043218731405254, 0.02063329722690571, 0.020836344518679932, 0.021041347020467772, 0.021248322711012974, 0.021457289717602992, 0.02166826631696, 0.021881270936129932, 0.022096322153369635, 0.02231343869903167, 0.02253263945644674, 0.022753943462803405, 0.02297736991002502, 0.023202938145643476, 0.0234306676736697, 0.023660578155460583, 0.023892689410582122, 0.024127021417668554, 0.02436359431527719, 0.02460242840273877, 0.02484354414100301, 0.025086962153479123, 0.025332703226871024, 0.02558078831200697, 0.025831238524663323, 0.0260840751463822, 0.02633931962528263, 0.026596993576865086, 0.02685711878480887, 0.027119717201762247, 0.027384810950124877, 0.02765242232282232, 0.027922573784072185, 0.028195287970141727, 0.02847058769009639, 0.0287484959265391, 0.029029035836339874, 0.029312230751355414, 0.029598104179138263, 0.0298866798036353, 0.030177981485874993, 0.030472033264643192, 0.03076885935714703, 0.031068484159666412, 0.031370932248192894, 0.03167622837905537, 0.03198439748953221, 0.032295464698449454, 0.03260945530676451, 0.03292639479813516, 0.03324630883947299, 0.03356922328148139, 0.033895164159176996, 0.03422415769239471, 0.03455623028627533, 0.03489140853173563, 0.03522971920592027, 0.03557118927263494, 0.03591584588276045, 0.036263716374647065, 0.03661482827448859, 0.03696920929667573, 0.037326887344128125, 0.03768789050860456, 0.03805224707099073, 0.03841998550156398, 0.03879113446023462, 0.03916572279676292, 0.0395437795509515, 0.039925333952812316, 0.040310415422707725, 0.040699053571464965, 0.04109127820046346, 0.041487119301694284, 0.04188660705779112, 0.04228977184203218, 0.042696644218312284, 0.04310725494108446, 0.0435216349552705, 0.043939815396139614, 0.044361827589154634, 0.04478770304978497, 0.0452174734832857, 0.045651170784441905, 0.04608882703727781, 0.0465304745147296, 0.04697614567828164, 0.04742587317756486, 0.04787968984991693, 0.048337628719903235, 0.04879972299879799, 0.049266006084024615, 0.049736511558554665, 0.050211273190264444, 0.050690324931248545, 0.05117370091708951, 0.05166143546608267, 0.05215356307841553, 0.05265011843530067, 0.05315113639806146, 0.053656652007169583, 0.054166700481233745, 0.05468131721593839, 0.055200537782931894, 0.055724397928662996, 0.05625293357316491, 0.056786180808786, 0.05732417589886622, 0.057866955276358455, 0.058414555542393665, 0.05896701346478913, 0.05952436597649884, 0.06008665017400493, 0.0606539033156494, 0.061226162819905235, 0.06180346626358577, 0.062385851379991544, 0.06297335605699361, 0.06356601833505235, 0.06416387640517097, 0.06476696860678254, 0.06537533342556959, 0.06598900949121571, 0.06660803557508754, 0.06723245058784688, 0.06786229357699129, 0.06849760372432286, 0.06913842034334354, 0.06978478287657676, 0.0704367308928137, 0.07109430408428374, 0.07175754226374786, 0.07242648536151422, 0.07310117342237465, 0.0737816466024617, 0.07446794516602444, 0.07516010948212293, 0.07585818002123981, 0.07656219735180839, 0.07727220213665606, 0.07798823512936251, 0.0787103371705313, 0.0794385491839744, 0.08017291217280831, 0.08091346721546128, 0.08166025546159054, 0.08241331812790863, 0.08317269649391815, 0.08393843189755387, 0.08471056573073146, 0.08548913943480217, 0.08627419449591227, 0.08706577244026678, 0.0878639148292967, 0.0886686632547287, 0.08948005933355678, 0.09029814470291514, 0.09112296101485137, 0.09195454993099951, 0.09279295311715212, 0.09363821223773076, 0.09449036895015431, 0.09534946489910444, 0.09621554171068775, 0.09708864098649375, 0.0979688042975487, 0.09885607317816407, 0.09975048911967979, 0.10065209356410143, 0.10156092789763117, 0.10247703344409181, 0.10340045145824399, 0.10433122311899563, 0.10526938952250404, 0.10621499167516975, 0.10716807048652233, 0.10812866676199763, 0.10909682119560694, 0.11007257436249694, 0.11105596671140143, 0.11204703855698411, 0.11304583007207271, 0.11405238127978451, 0.1150667320455434, 0.11608892206898837, 0.11711899087577396, 0.11815697780926292, 0.11920292202211086, 0.12025686246774407, 0.12131883789173005, 0.12238888682304201, 0.12346704756521709, 0.12455335818740945, 0.12564785651533864, 0.12675058012213372, 0.12786156631907422, 0.1289808521462285, 0.13010847436299064, 0.13124446943851606, 0.13238887354205808, 0.1335417225332051, 0.13470305195202067, 0.13587289700908678, 0.13705129257545212, 0.13823827317248646, 0.13943387296164242, 0.14063812573412648, 0.14185106490048005, 0.14307272348007302, 0.14430313409051088, 0.14554232893695734, 0.1467903398013744, 0.14804719803168145, 0.14931293453083566, 0.1505875797458358, 0.1518711636566511, 0.15316371576507792, 0.15446526508352643, 0.15577584012373902, 0.15709546888544432, 0.15842417884494736, 0.15976199694366053, 0.16110894957657665, 0.16246506258068744, 0.1638303612233502, 0.16520487019060587, 0.16658861357545082, 0.16798161486606664, 0.16938389693400976, 0.17079548202236547, 0.17221639173386874, 0.17364664701899593, 0.17508626816403064, 0.1765352747791075, 0.17799368578623723, 0.17946151940731747, 0.1809387931521326, 0.18242552380634688, 0.18392172741949472, 0.18542741929297268, 0.18694261396803674, 0.18846732521380974, 0.1900015660153032, 0.19154534856145766, 0.19309868423320656, 0.194661583591568, 0.19623405636576916, 0.1978161114414082, 0.19940775684865836, 0.20100899975051922, 0.20261984643112022, 0.20424030228408147, 0.20587037180093698, 0.2075100585596252, 0.20915936521305287, 0.21081829347773662, 0.21248684412252858, 0.21416501695743073, 0.21585281082250385, 0.21755022357687676, 0.2192572520878609, 0.22097389222017694, 0.22270013882529793, 0.22443598573091555, 0.22618142573053515, 0.22793645057320513, 0.22970105095338691, 0.23147521650097114, 0.2332589357714459, 0.23505219623622395, 0.23685498427313317, 0.2386672851570781, 0.24048908305087738, 0.24232036099628354, 0.24416110090519133, 0.2460112835510402, 0.24787088856041803, 0.24973989440487057, 0.2516182783929239, 0.2535060166623259, 0.25540308417251206, 0.25730945469730215, 0.2592251008178339, 0.26114999391573884, 0.2630841041665675, 0.2650274005334689, 0.2669798507611301, 0.2689414213699827, 0.27091207765068104, 0.27289178365885797, 0.27488050221016436, 0.27687819487559756, 0.2788848219771243, 0.2809003425836034, 0.2829247145070147, 0.2849578942989975, 0.28699983724770545, 0.2890504973749831, 0.2911098274338671, 0.2931777789064194, 0.2952543020018959, 0.2973393456552553, 0.29943285752601384, 0.301534783997448, 0.3036450701761526, 0.30576365989195614, 0.3078904956981985, 0.3100255188723741, 0.3121686694171461, 0.31431988606173267, 0.31647910626367076, 0.3186462662109608, 0.32082130082459337, 0.32300414376146325, 0.3251947274176727, 0.32739298293222574, 0.3295988401911175, 0.33181222783181996, 0.3340330732481658, 0.3362613025956333, 0.3384968407970335, 0.34073961154860055, 0.34298953732648707, 0.34524653939366656, 0.3475105378072413, 0.3497814514261587, 0.3520591979193355, 0.3543436937741902, 0.3566348543055839, 0.3589325936651685, 0.3612368248511436, 0.3635474597184191, 0.36586440898918476, 0.36818758226388376, 0.37051688803259053, 0.37285223368678977, 0.37519352553155605, 0.3775406687981307, 0.37989356765689514, 0.3822521252307362, 0.38461624360880303, 0.38698582386064967, 0.38936076605076314, 0.3917409692534707, 0.3941263315682245, 0.3965167501352587, 0.39891212115161523, 0.40131233988753295, 0.4037173007031971, 0.4061268970658422, 0.40854102156720484, 0.41095956594131977, 0.41338242108265477, 0.4158094770645775, 0.4182406231581486, 0.42067574785123535, 0.42311473886793843, 0.42555748318832576, 0.4280038670684661, 0.4304537760607557, 0.43290709503453034, 0.4353637081969555, 0.43782349911418655, 0.44028635073279165, 0.442752145401429, 0.44522076489276985, 0.4476920904256593, 0.45016600268750667, 0.4526423818568953, 0.45512110762640445, 0.4576020592256336, 0.4600851154444188, 0.46257015465623497, 0.46505705484177, 0.46754569361266574, 0.4700359482354127, 0.47252769565539077, 0.47502081252104444, 0.4775151752081844, 0.4800106598444026, 0.4825071423335947, 0.48500449838057436, 0.48750260351577407, 0.490001333120019, 0.492500562449364, 0.4950001666599847, 0.4975000208331094, 0.4999999999999844, 0.5024999791668594, 0.5049998333399842, 0.5074994375506048, 0.50999866687995, 0.5124973964841948, 0.5149955016193946, 0.5174928576663742, 0.5199893401555663, 0.5224848247917846, 0.5249791874789245, 0.5274723043445781, 0.5299640517645562, 0.5324543063873033, 0.534942945158199, 0.5374298453437341, 0.5399148845555503, 0.5423979407743355, 0.5448788923735646, 0.5473576181430739, 0.5498339973124625, 0.5523079095743098, 0.5547792351071994, 0.5572478545985402, 0.5597136492671776, 0.5621765008857827, 0.5646362918030138, 0.5670929049654391, 0.5695462239392138, 0.5719961329315034, 0.5744425168116438, 0.5768852611320312, 0.5793242521487343, 0.5817593768418211, 0.5841905229353923, 0.5866175789173149, 0.58904043405865, 0.591458978432765, 0.5938731029341277, 0.5962826992967728, 0.598687660112437, 0.6010878788483549, 0.6034832498647115, 0.6058736684317457, 0.6082590307464996, 0.6106392339492073, 0.6130141761393207, 0.6153837563911675, 0.6177478747692343, 0.6201064323430756, 0.6224593312018399, 0.6248064744684148, 0.627147766313181, 0.6294831119673804, 0.6318124177360872, 0.6341355910107863, 0.636452540281552, 0.6387631751488276, 0.6410674063348029, 0.6433651456943875, 0.6456563062257812, 0.6479408020806361, 0.650218548573813, 0.6524894621927305, 0.6547534606063052, 0.6570104626734847, 0.6592603884513716, 0.6615031592029386, 0.6637386974043389, 0.6659669267518065, 0.6681877721681524, 0.670401159808855, 0.6726070170677468, 0.6748052725822999, 0.6769958562385094, 0.6791786991753795, 0.6813537337890121, 0.6835208937363022, 0.6856801139382405, 0.6878313305828271, 0.6899744811275992, 0.692109504301775, 0.6942363401080174, 0.6963549298238211, 0.6984652160025258, 0.70056714247396, 0.7026606543447186, 0.7047456979980782, 0.7068222210935547, 0.7088901725661072, 0.7109495026249912, 0.7130001627522691, 0.7150421057009771, 0.71707528549296, 0.7190996574163714, 0.7211151780228506, 0.7231218051243775, 0.7251194977898108, 0.7271082163411173, 0.7290879223492943, 0.7310585786299928, 0.7330201492388455, 0.7349725994665068, 0.7369158958334082, 0.7388500060842371, 0.7407748991821421, 0.742690545302674, 0.7445969158274642, 0.7464939833376505, 0.7483817216070526, 0.7502601055951061, 0.7521291114395587, 0.7539887164489366, 0.7558388990947856, 0.7576796390036935, 0.7595109169490998, 0.7613327148428991, 0.7631450157268443, 0.7649478037637536, 0.7667410642285318, 0.7685247834990067, 0.770298949046591, 0.772063549426773, 0.773818574269443, 0.7755640142690627, 0.7772998611746805, 0.7790261077798016, 0.7807427479121178, 0.782449776423102, 0.7841471891774751, 0.7858349830425482, 0.7875131558774505, 0.7891817065222426, 0.7908406347869266, 0.7924899414403542, 0.7941296281990426, 0.7957596977158983, 0.7973801535688597, 0.7989910002494608, 0.8005922431513217, 0.802183888558572, 0.8037659436342112, 0.8053384164084125, 0.806901315766774, 0.808454651438523, 0.8099984339846775, 0.8115326747861712, 0.8130573860319443, 0.8145725807070084, 0.8160782725804866, 0.8175744761936345, 0.8190612068478489, 0.8205384805926642, 0.8220063142137446, 0.8234647252208743, 0.8249137318359513, 0.8263533529809861, 0.8277836082661134, 0.8292045179776169, 0.8306161030659727, 0.8320183851339159, 0.8334113864245318, 0.834795129809377, 0.8361696387766326, 0.8375349374192956, 0.8388910504234065, 0.8402380030563227, 0.841575821155036, 0.8429045311145392, 0.8442241598762446, 0.8455347349164574, 0.8468362842349059, 0.8481288363433328, 0.8494124202541482, 0.8506870654691485, 0.8519528019683028, 0.85320966019861, 0.8544576710630272, 0.8556968659094737, 0.8569272765199117, 0.8581489350995047, 0.8593618742658584, 0.8605661270383426, 0.8617617268274986, 0.8629487074245331, 0.8641271029908986, 0.8652969480479648, 0.8664582774667805, 0.8676111264579276, 0.8687555305614697, 0.8698915256369952, 0.8710191478537574, 0.8721384336809118, 0.8732494198778524, 0.8743521434846476, 0.8754466418125768, 0.8765329524347695, 0.8776111131769446, 0.8786811621082565, 0.8797431375322428, 0.880797077977876, 0.881843022190724, 0.8828810091242131, 0.8839110779309989, 0.8849332679544439, 0.8859476187202029, 0.8869541699279148, 0.8879529614430035, 0.8889440332885863, 0.8899274256374908, 0.890903178804381, 0.8918713332379904, 0.8928319295134658, 0.8937850083248184, 0.8947306104774843, 0.8956687768809927, 0.8965995485417444, 0.8975229665558967, 0.8984390721023574, 0.8993479064358872, 0.900249510880309, 0.9011439268218248, 0.9020311957024403, 0.9029113590134953, 0.9037844582893014, 0.9046505351008848, 0.9055096310498351, 0.9063617877622586, 0.9072070468828374, 0.9080454500689901, 0.9088770389851383, 0.9097018552970746, 0.910519940666433, 0.9113313367452612, 0.9121360851706933, 0.9129342275597233, 0.9137258055040779, 0.914510860565188, 0.9152894342692589, 0.9160615681024366, 0.9168273035060723, 0.9175866818720819, 0.9183397445384001, 0.9190865327845295, 0.9198270878271825, 0.9205614508160165, 0.9212896628294597, 0.9220117648706285, 0.922727797863335, 0.9234378026481828, 0.9241418199787514, 0.9248398905178684, 0.9255320548339669, 0.9262183533975298, 0.9268988265776169, 0.9275735146384774, 0.9282424577362438, 0.928905695915708, 0.9295632691071781, 0.9302152171234152, 0.9308615796566484, 0.9315023962756692, 0.9321377064230008, 0.9327675494121453, 0.9333919644249047, 0.9340109905087766, 0.9346246665744228, 0.9352330313932099, 0.9358361235948215, 0.9364339816649402, 0.9370266439429991, 0.9376141486200013, 0.938196533736407, 0.9387738371800876, 0.9393460966843435, 0.939913349825988, 0.9404756340234943, 0.9410329865352038, 0.9415854444575995, 0.9421330447236348, 0.942675824101127, 0.9432138191912073, 0.9437470664268285, 0.9442756020713304, 0.9447994622170616, 0.9453186827840552, 0.9458332995187598, 0.946343347992824, 0.9468488636019322, 0.9473498815646931, 0.9478464369215783, 0.9483385645339112, 0.9488262990829044, 0.9493096750687454, 0.9497887268097296, 0.9502634884414395, 0.9507339939159696, 0.9512002770011962, 0.951662371280091, 0.9521203101500774, 0.9525741268224295, 0.9530238543217128, 0.9534695254852649, 0.9539111729627167, 0.9543488292155526, 0.9547825265167089, 0.9552122969502097, 0.95563817241084, 0.9560601846038551, 0.9564783650447243, 0.9568927450589104, 0.9573033557816826, 0.9577102281579628, 0.9581133929422039, 0.9585128806983008, 0.9589087217995316, 0.9593009464285301, 0.9596895845772875, 0.960074666047183, 0.9604562204490438, 0.9608342772032323, 0.9612088655397607, 0.9615800144984314, 0.9619477529290047, 0.9623121094913909, 0.9626731126558674, 0.9630307907033199, 0.963385171725507, 0.9637362836253486, 0.9640841541172352, 0.9644288107273608, 0.9647702807940755, 0.9651085914682601, 0.9654437697137205, 0.9657758423076012, 0.9661048358408189, 0.9664307767185145, 0.966753691160523, 0.9670736052018609, 0.9673905446932315, 0.9677045353015467, 0.9680156025104639, 0.9683237716209409, 0.9686290677518034, 0.9689315158403299, 0.9692311406428492, 0.9695279667353531, 0.9698220185141213, 0.9701133201963611, 0.9704018958208581, 0.9706877692486411, 0.9709709641636566, 0.9712515040734574, 0.9715294123099002, 0.9718047120298549, 0.9720774262159244, 0.9723475776771743, 0.9726151890498718, 0.9728802827982345, 0.9731428812151879, 0.9734030064231317, 0.9736606803747142, 0.9739159248536147, 0.9741687614753335, 0.97441921168799, 0.9746672967731259, 0.9749130378465178, 0.975156455858994, 0.9753975715972583, 0.9756364056847199, 0.9758729785823285, 0.9761073105894149, 0.9763394218445365, 0.9765693323263275, 0.9767970618543537, 0.9770226300899721, 0.9772460565371938, 0.9774673605435505, 0.9776865613009657, 0.9779036778466277, 0.9781187290638674, 0.9783317336830374, 0.9785427102823944, 0.9787516772889844, 0.9789586529795297, 0.9791636554813176, 0.9793667027730918, 0.979567812685945, 0.9797670029042126, 0.9799642909663684, 0.9801596942659205, 0.9803532300523093, 0.980544915431805, 0.9807347673684064, 0.98092280268474, 0.981109038062959, 0.9812934900456435, 0.9814761750366987, 0.9816571093022548, 0.9818363089715656, 0.9820137900379066, 0.9821895683594728, 0.9823636596602755, 0.9825360795310385, 0.9827068434300928, 0.9828759666842705, 0.9830434644897975, 0.9832093519131845, 0.9833736438921167, 0.983536355236342, 0.9836975006285573, 0.9838570946252931, 0.9840151516577957, 0.9841716860329085, 0.9843267119339498, 0.9844802434215895, 0.9846322944347229, 0.9847828787913421, 0.9849320101894056, 0.9850797022077042, 0.9852259683067254, 0.9853708218295141, 0.9855142760025316, 0.9856563439365104, 0.9857970386273074, 0.9859363729567531, 0.9860743596934981, 0.9862110114938569, 0.9863463409026476, 0.9864803603540289, 0.9866130821723338, 0.9867445185728998, 0.9868746816628958, 0.9870035834421452, 0.9871312358039461, 0.987257650535887, 0.98738283932066, 0.9875068137368691, 0.9876295852598362, 0.9877511652624021, 0.9878715650157244, 0.9879907956900713, 0.9881088683556117, 0.9882257939832014, 0.9883415834451657, 0.9884562475160764, 0.988569796873528, 0.9886822420989064, 0.9887935936781559, 0.9889038620025412, 0.9890130573694056, 0.9891211899829249, 0.9892282699548571, 0.9893343073052888, 0.9894393119633756, 0.9895432937680807, 0.9896462624689071, 0.9897482277266269, 0.9898491991140062, 0.989949186116525, 0.9900481981330945, 0.9901462444767676, 0.9902433343754475, 0.990339476972591, 0.9904346813279072, 0.9905289564180528, 0.990622311137322, 0.9907147542983333, 0.9908062946327109, 0.990896940791762, 0.9909867013471512, 0.9910755847915677, 0.9911635995393913, 0.991250753927352, 0.9913370562151859, 0.991422514586287, 0.9915071371483546, 0.991590931934036, 0.9916739069015652, 0.9917560699353974, 0.9918374288468391, 0.9919179913746736, 0.9919977651857828, 0.9920767578757641, 0.9921549769695435, 0.9922324299219841, 0.9923091241184907, 0.9923850668756099, 0.9924602654416257, 0.9925347269971514, 0.9926084586557171, 0.9926814674643529, 0.9927537604041677, 0.9928253443909244, 0.9928962262756104, 0.992966412845004, 0.9930359108222371, 0.993104726867353, 0.9931728675778609, 0.9932403394892859, 0.9933071490757143], \"yaxis\": \"y\"}],                        {\"legend\": {\"tracegroupgap\": 0}, \"margin\": {\"t\": 60}, \"template\": {\"data\": {\"bar\": [{\"error_x\": {\"color\": \"#2a3f5f\"}, \"error_y\": {\"color\": \"#2a3f5f\"}, \"marker\": {\"line\": {\"color\": \"#E5ECF6\", \"width\": 0.5}}, \"type\": \"bar\"}], \"barpolar\": [{\"marker\": {\"line\": {\"color\": \"#E5ECF6\", \"width\": 0.5}}, \"type\": \"barpolar\"}], \"carpet\": [{\"aaxis\": {\"endlinecolor\": \"#2a3f5f\", \"gridcolor\": \"white\", \"linecolor\": \"white\", \"minorgridcolor\": \"white\", \"startlinecolor\": \"#2a3f5f\"}, \"baxis\": {\"endlinecolor\": \"#2a3f5f\", \"gridcolor\": \"white\", \"linecolor\": \"white\", \"minorgridcolor\": \"white\", \"startlinecolor\": \"#2a3f5f\"}, \"type\": \"carpet\"}], \"choropleth\": [{\"colorbar\": {\"outlinewidth\": 0, \"ticks\": \"\"}, \"type\": \"choropleth\"}], \"contour\": [{\"colorbar\": {\"outlinewidth\": 0, \"ticks\": \"\"}, \"colorscale\": [[0.0, \"#0d0887\"], [0.1111111111111111, \"#46039f\"], [0.2222222222222222, \"#7201a8\"], [0.3333333333333333, \"#9c179e\"], [0.4444444444444444, \"#bd3786\"], [0.5555555555555556, \"#d8576b\"], [0.6666666666666666, \"#ed7953\"], [0.7777777777777778, \"#fb9f3a\"], [0.8888888888888888, \"#fdca26\"], [1.0, \"#f0f921\"]], \"type\": \"contour\"}], \"contourcarpet\": [{\"colorbar\": {\"outlinewidth\": 0, \"ticks\": \"\"}, \"type\": \"contourcarpet\"}], \"heatmap\": [{\"colorbar\": {\"outlinewidth\": 0, \"ticks\": \"\"}, \"colorscale\": [[0.0, \"#0d0887\"], [0.1111111111111111, \"#46039f\"], [0.2222222222222222, \"#7201a8\"], [0.3333333333333333, \"#9c179e\"], [0.4444444444444444, \"#bd3786\"], [0.5555555555555556, \"#d8576b\"], [0.6666666666666666, \"#ed7953\"], [0.7777777777777778, \"#fb9f3a\"], [0.8888888888888888, \"#fdca26\"], [1.0, \"#f0f921\"]], \"type\": \"heatmap\"}], \"heatmapgl\": [{\"colorbar\": {\"outlinewidth\": 0, \"ticks\": \"\"}, \"colorscale\": [[0.0, \"#0d0887\"], [0.1111111111111111, \"#46039f\"], [0.2222222222222222, \"#7201a8\"], [0.3333333333333333, \"#9c179e\"], [0.4444444444444444, \"#bd3786\"], [0.5555555555555556, \"#d8576b\"], [0.6666666666666666, \"#ed7953\"], [0.7777777777777778, \"#fb9f3a\"], [0.8888888888888888, \"#fdca26\"], [1.0, \"#f0f921\"]], \"type\": \"heatmapgl\"}], \"histogram\": [{\"marker\": {\"colorbar\": {\"outlinewidth\": 0, \"ticks\": \"\"}}, \"type\": \"histogram\"}], \"histogram2d\": [{\"colorbar\": {\"outlinewidth\": 0, \"ticks\": \"\"}, \"colorscale\": [[0.0, \"#0d0887\"], [0.1111111111111111, \"#46039f\"], [0.2222222222222222, \"#7201a8\"], [0.3333333333333333, \"#9c179e\"], [0.4444444444444444, \"#bd3786\"], [0.5555555555555556, \"#d8576b\"], [0.6666666666666666, \"#ed7953\"], [0.7777777777777778, \"#fb9f3a\"], [0.8888888888888888, \"#fdca26\"], [1.0, \"#f0f921\"]], \"type\": \"histogram2d\"}], \"histogram2dcontour\": [{\"colorbar\": {\"outlinewidth\": 0, \"ticks\": \"\"}, \"colorscale\": [[0.0, \"#0d0887\"], [0.1111111111111111, \"#46039f\"], [0.2222222222222222, \"#7201a8\"], [0.3333333333333333, \"#9c179e\"], [0.4444444444444444, \"#bd3786\"], [0.5555555555555556, \"#d8576b\"], [0.6666666666666666, \"#ed7953\"], [0.7777777777777778, \"#fb9f3a\"], [0.8888888888888888, \"#fdca26\"], [1.0, \"#f0f921\"]], \"type\": \"histogram2dcontour\"}], \"mesh3d\": [{\"colorbar\": {\"outlinewidth\": 0, \"ticks\": \"\"}, \"type\": \"mesh3d\"}], \"parcoords\": [{\"line\": {\"colorbar\": {\"outlinewidth\": 0, \"ticks\": \"\"}}, \"type\": \"parcoords\"}], \"pie\": [{\"automargin\": true, \"type\": \"pie\"}], \"scatter\": [{\"marker\": {\"colorbar\": {\"outlinewidth\": 0, \"ticks\": \"\"}}, \"type\": \"scatter\"}], \"scatter3d\": [{\"line\": {\"colorbar\": {\"outlinewidth\": 0, \"ticks\": \"\"}}, \"marker\": {\"colorbar\": {\"outlinewidth\": 0, \"ticks\": \"\"}}, \"type\": \"scatter3d\"}], \"scattercarpet\": [{\"marker\": {\"colorbar\": {\"outlinewidth\": 0, \"ticks\": \"\"}}, \"type\": \"scattercarpet\"}], \"scattergeo\": [{\"marker\": {\"colorbar\": {\"outlinewidth\": 0, \"ticks\": \"\"}}, \"type\": \"scattergeo\"}], \"scattergl\": [{\"marker\": {\"colorbar\": {\"outlinewidth\": 0, \"ticks\": \"\"}}, \"type\": \"scattergl\"}], \"scattermapbox\": [{\"marker\": {\"colorbar\": {\"outlinewidth\": 0, \"ticks\": \"\"}}, \"type\": \"scattermapbox\"}], \"scatterpolar\": [{\"marker\": {\"colorbar\": {\"outlinewidth\": 0, \"ticks\": \"\"}}, \"type\": \"scatterpolar\"}], \"scatterpolargl\": [{\"marker\": {\"colorbar\": {\"outlinewidth\": 0, \"ticks\": \"\"}}, \"type\": \"scatterpolargl\"}], \"scatterternary\": [{\"marker\": {\"colorbar\": {\"outlinewidth\": 0, \"ticks\": \"\"}}, \"type\": \"scatterternary\"}], \"surface\": [{\"colorbar\": {\"outlinewidth\": 0, \"ticks\": \"\"}, \"colorscale\": [[0.0, \"#0d0887\"], [0.1111111111111111, \"#46039f\"], [0.2222222222222222, \"#7201a8\"], [0.3333333333333333, \"#9c179e\"], [0.4444444444444444, \"#bd3786\"], [0.5555555555555556, \"#d8576b\"], [0.6666666666666666, \"#ed7953\"], [0.7777777777777778, \"#fb9f3a\"], [0.8888888888888888, \"#fdca26\"], [1.0, \"#f0f921\"]], \"type\": \"surface\"}], \"table\": [{\"cells\": {\"fill\": {\"color\": \"#EBF0F8\"}, \"line\": {\"color\": \"white\"}}, \"header\": {\"fill\": {\"color\": \"#C8D4E3\"}, \"line\": {\"color\": \"white\"}}, \"type\": \"table\"}]}, \"layout\": {\"annotationdefaults\": {\"arrowcolor\": \"#2a3f5f\", \"arrowhead\": 0, \"arrowwidth\": 1}, \"autotypenumbers\": \"strict\", \"coloraxis\": {\"colorbar\": {\"outlinewidth\": 0, \"ticks\": \"\"}}, \"colorscale\": {\"diverging\": [[0, \"#8e0152\"], [0.1, \"#c51b7d\"], [0.2, \"#de77ae\"], [0.3, \"#f1b6da\"], [0.4, \"#fde0ef\"], [0.5, \"#f7f7f7\"], [0.6, \"#e6f5d0\"], [0.7, \"#b8e186\"], [0.8, \"#7fbc41\"], [0.9, \"#4d9221\"], [1, \"#276419\"]], \"sequential\": [[0.0, \"#0d0887\"], [0.1111111111111111, \"#46039f\"], [0.2222222222222222, \"#7201a8\"], [0.3333333333333333, \"#9c179e\"], [0.4444444444444444, \"#bd3786\"], [0.5555555555555556, \"#d8576b\"], [0.6666666666666666, \"#ed7953\"], [0.7777777777777778, \"#fb9f3a\"], [0.8888888888888888, \"#fdca26\"], [1.0, \"#f0f921\"]], \"sequentialminus\": [[0.0, \"#0d0887\"], [0.1111111111111111, \"#46039f\"], [0.2222222222222222, \"#7201a8\"], [0.3333333333333333, \"#9c179e\"], [0.4444444444444444, \"#bd3786\"], [0.5555555555555556, \"#d8576b\"], [0.6666666666666666, \"#ed7953\"], [0.7777777777777778, \"#fb9f3a\"], [0.8888888888888888, \"#fdca26\"], [1.0, \"#f0f921\"]]}, \"colorway\": [\"#636efa\", \"#EF553B\", \"#00cc96\", \"#ab63fa\", \"#FFA15A\", \"#19d3f3\", \"#FF6692\", \"#B6E880\", \"#FF97FF\", \"#FECB52\"], \"font\": {\"color\": \"#2a3f5f\"}, \"geo\": {\"bgcolor\": \"white\", \"lakecolor\": \"white\", \"landcolor\": \"#E5ECF6\", \"showlakes\": true, \"showland\": true, \"subunitcolor\": \"white\"}, \"hoverlabel\": {\"align\": \"left\"}, \"hovermode\": \"closest\", \"mapbox\": {\"style\": \"light\"}, \"paper_bgcolor\": \"white\", \"plot_bgcolor\": \"#E5ECF6\", \"polar\": {\"angularaxis\": {\"gridcolor\": \"white\", \"linecolor\": \"white\", \"ticks\": \"\"}, \"bgcolor\": \"#E5ECF6\", \"radialaxis\": {\"gridcolor\": \"white\", \"linecolor\": \"white\", \"ticks\": \"\"}}, \"scene\": {\"xaxis\": {\"backgroundcolor\": \"#E5ECF6\", \"gridcolor\": \"white\", \"gridwidth\": 2, \"linecolor\": \"white\", \"showbackground\": true, \"ticks\": \"\", \"zerolinecolor\": \"white\"}, \"yaxis\": {\"backgroundcolor\": \"#E5ECF6\", \"gridcolor\": \"white\", \"gridwidth\": 2, \"linecolor\": \"white\", \"showbackground\": true, \"ticks\": \"\", \"zerolinecolor\": \"white\"}, \"zaxis\": {\"backgroundcolor\": \"#E5ECF6\", \"gridcolor\": \"white\", \"gridwidth\": 2, \"linecolor\": \"white\", \"showbackground\": true, \"ticks\": \"\", \"zerolinecolor\": \"white\"}}, \"shapedefaults\": {\"line\": {\"color\": \"#2a3f5f\"}}, \"ternary\": {\"aaxis\": {\"gridcolor\": \"white\", \"linecolor\": \"white\", \"ticks\": \"\"}, \"baxis\": {\"gridcolor\": \"white\", \"linecolor\": \"white\", \"ticks\": \"\"}, \"bgcolor\": \"#E5ECF6\", \"caxis\": {\"gridcolor\": \"white\", \"linecolor\": \"white\", \"ticks\": \"\"}}, \"title\": {\"x\": 0.05}, \"xaxis\": {\"automargin\": true, \"gridcolor\": \"white\", \"linecolor\": \"white\", \"ticks\": \"\", \"title\": {\"standoff\": 15}, \"zerolinecolor\": \"white\", \"zerolinewidth\": 2}, \"yaxis\": {\"automargin\": true, \"gridcolor\": \"white\", \"linecolor\": \"white\", \"ticks\": \"\", \"title\": {\"standoff\": 15}, \"zerolinecolor\": \"white\", \"zerolinewidth\": 2}}}, \"xaxis\": {\"anchor\": \"y\", \"domain\": [0.0, 1.0], \"title\": {\"text\": \"x\"}}, \"yaxis\": {\"anchor\": \"x\", \"domain\": [0.0, 1.0], \"title\": {\"text\": \"y\"}}},                        {\"responsive\": true}                    ).then(function(){\n",
       "                            \n",
       "var gd = document.getElementById('9962104e-8723-4917-8dfd-fbbe79c5c9b4');\n",
       "var x = new MutationObserver(function (mutations, observer) {{\n",
       "        var display = window.getComputedStyle(gd).display;\n",
       "        if (!display || display === 'none') {{\n",
       "            console.log([gd, 'removed!']);\n",
       "            Plotly.purge(gd);\n",
       "            observer.disconnect();\n",
       "        }}\n",
       "}});\n",
       "\n",
       "// Listen for the removal of the full notebook cells\n",
       "var notebookContainer = gd.closest('#notebook-container');\n",
       "if (notebookContainer) {{\n",
       "    x.observe(notebookContainer, {childList: true});\n",
       "}}\n",
       "\n",
       "// Listen for the clearing of the current output cell\n",
       "var outputEl = gd.closest('.output');\n",
       "if (outputEl) {{\n",
       "    x.observe(outputEl, {childList: true});\n",
       "}}\n",
       "\n",
       "                        })                };                });            </script>        </div>"
      ]
     },
     "metadata": {},
     "output_type": "display_data"
    }
   ],
   "source": [
    "x, y = gerar_pontos(min_=-5, max_=5, fn=g)\n",
    "plotar(x, y)"
   ]
  },
  {
   "cell_type": "markdown",
   "metadata": {
    "pycharm": {
     "name": "#%% md\n"
    }
   },
   "source": [
    "## Estimativa da equação de regressão"
   ]
  },
  {
   "cell_type": "markdown",
   "metadata": {
    "pycharm": {
     "name": "#%% md\n"
    }
   },
   "source": [
    "### Modelagem matemática"
   ]
  },
  {
   "cell_type": "markdown",
   "metadata": {
    "pycharm": {
     "name": "#%% md\n"
    }
   },
   "source": [
    "O logaritmo natural da razão das chances é equivalente a uma função linear das variáveis independentes. O antilog da função *logit* $f(p)$ permite obter a equação de regressão."
   ]
  },
  {
   "cell_type": "markdown",
   "metadata": {
    "pycharm": {
     "name": "#%% md\n"
    }
   },
   "source": [
    "$$\n",
    "logit(p)\n",
    "$$\n",
    "\n",
    "É igual a:\n",
    "\n",
    "$$\n",
    "ln(\\frac{p}{1 - p}) = \\beta_{0} + \\beta_{1}x\n",
    "$$\n",
    "\n",
    "Aplicando-se o antilog:\n",
    "\n",
    "$$\n",
    "\\frac{p}{1 - p} = e^{\\beta_{0} + \\beta_{1}x}\n",
    "$$\n",
    "\n",
    "Multiplicando os dois lados por $(1 - p)$:\n",
    "\n",
    "$$\n",
    "p = e^{\\beta_{0} + \\beta_{1}x}(1 - p)\n",
    "$$\n",
    "\n",
    "Aplicando-se a regra da distribuição:\n",
    "\n",
    "$$\n",
    "p = e^{\\beta_{0} + \\beta_{1}x} - e^{\\beta_{0} + \\beta_{1}x} * p\n",
    "$$\n",
    "\n",
    "Somando os dois lados por $e^{\\beta_{0} + \\beta_{1}x} * p$:\n",
    "\n",
    "$$\n",
    "p + e^{\\beta_{0} + \\beta_{1}x} * p = e^{\\beta_{0} + \\beta_{1}x}\n",
    "$$\n",
    "\n",
    "Isolando $p$:\n",
    "\n",
    "$$\n",
    "p * (1 + e^{\\beta_{0} + \\beta_{1}x}) =  e^{\\beta_{0} + \\beta_{1}x}\n",
    "$$\n",
    "\n",
    "Dividindo-se ambos os lados por $(1 + e^{\\beta_{0} + \\beta_{1}x})$:\n",
    "\n",
    "$$\n",
    "p =  \\frac{e^{\\beta_{0} + \\beta_{1}x}}{1 + e^{\\beta_{0} + \\beta_{1}x}}\n",
    "$$\n",
    "\n",
    "$$\n",
    "p =  \\frac{1}{1 + e^{-(\\beta_{0} + \\beta_{1}x)}}\n",
    "$$"
   ]
  },
  {
   "cell_type": "markdown",
   "metadata": {
    "pycharm": {
     "name": "#%% md\n"
    }
   },
   "source": [
    "### Estimativa por Máxima Verossimilhança"
   ]
  },
  {
   "cell_type": "markdown",
   "metadata": {
    "pycharm": {
     "name": "#%% md\n"
    }
   },
   "source": [
    "Para encontrar os coeficientes da equação de regressão podemos utilizar o método da máxima verossimilhança. Os detalhes matemáticos do método ultrapassam os níveis de complexidade do nível desta matéria. Mas podemos ter uma ideia de como o método funciona assistindo alguns vídeos. Sugiro o vídeo do Josh Starmer, criador do canal StatQuest. Apesar do vídeo estar em inglês, a tradução automática está muito boa."
   ]
  },
  {
   "cell_type": "code",
   "execution_count": 30,
   "metadata": {
    "pycharm": {
     "name": "#%%\n"
    }
   },
   "outputs": [
    {
     "data": {
      "image/jpeg": "[encoded data removed]",
      "text/html": [
       "\n",
       "        <iframe\n",
       "            width=\"400\"\n",
       "            height=\"300\"\n",
       "            src=\"https://www.youtube.com/embed/Dn6b9fCIUpM\"\n",
       "            frameborder=\"0\"\n",
       "            allowfullscreen\n",
       "            \n",
       "        ></iframe>\n",
       "        "
      ],
      "text/plain": [
       "<IPython.lib.display.YouTubeVideo at 0x7faaf4f19b20>"
      ]
     },
     "execution_count": 30,
     "metadata": {},
     "output_type": "execute_result"
    }
   ],
   "source": [
    "from IPython.lib.display import YouTubeVideo\n",
    "YouTubeVideo('Dn6b9fCIUpM')"
   ]
  },
  {
   "cell_type": "markdown",
   "metadata": {
    "pycharm": {
     "name": "#%% md\n"
    }
   },
   "source": [
    "Como alternativa, vamos calcular os coeficientes utilizando o `sklearn`."
   ]
  },
  {
   "cell_type": "code",
   "execution_count": 51,
   "metadata": {
    "pycharm": {
     "name": "#%%\n"
    }
   },
   "outputs": [],
   "source": [
    "X = [[x] for x in df.pontuação]\n",
    "y = [y for y in df.admitido]"
   ]
  },
  {
   "cell_type": "code",
   "execution_count": 80,
   "metadata": {
    "pycharm": {
     "name": "#%%\n"
    }
   },
   "outputs": [
    {
     "name": "stdout",
     "output_type": "stream",
     "text": [
      "beta0: -1.7413096333248066\tbeta1: 0.005393019019444177\n"
     ]
    }
   ],
   "source": [
    "lr = LogisticRegression(random_state=0, solver='sag', max_iter=10 ** 4)\n",
    "clf = lr.fit(X, y)\n",
    "beta0 = clf.intercept_[0]\n",
    "beta1 = clf.coef_[0][0]\n",
    "print(f\"beta0: {beta0}\\tbeta1: {beta1}\")"
   ]
  },
  {
   "cell_type": "markdown",
   "metadata": {
    "pycharm": {
     "name": "#%% md\n"
    }
   },
   "source": [
    "Com os coeficientes da equação de regressão, podemos criar a função hipótese $h(x)$, capaz de retornar uma probabilidade de admissão."
   ]
  },
  {
   "cell_type": "code",
   "execution_count": 78,
   "metadata": {
    "pycharm": {
     "name": "#%%\n"
    }
   },
   "outputs": [],
   "source": [
    "def h(x):\n",
    "    beta0 = -1.7413096333248066\n",
    "    beta1 = 0.005393019019444177\n",
    "    return e ** (beta0 + beta1 * x) / (1 + e ** (beta0 + beta1 * x))"
   ]
  },
  {
   "cell_type": "code",
   "execution_count": 92,
   "metadata": {
    "pycharm": {
     "name": "#%%\n"
    }
   },
   "outputs": [
    {
     "data": {
      "text/plain": [
       "0.9143677485274001"
      ]
     },
     "execution_count": 92,
     "metadata": {},
     "output_type": "execute_result"
    }
   ],
   "source": [
    "h(762)"
   ]
  },
  {
   "cell_type": "markdown",
   "metadata": {
    "pycharm": {
     "name": "#%% md\n"
    }
   },
   "source": [
    "Vamos plotar todas as probabilidades de para notas de $0$ a $1000$."
   ]
  },
  {
   "cell_type": "code",
   "execution_count": 93,
   "metadata": {
    "pycharm": {
     "name": "#%%\n"
    }
   },
   "outputs": [
    {
     "data": {
      "application/vnd.plotly.v1+json": {
       "config": {
        "plotlyServerURL": "https://plot.ly"
       },
       "data": [
        {
         "hovertemplate": "x=%{x}<br>y=%{y}<extra></extra>",
         "legendgroup": "",
         "marker": {
          "color": "#636efa",
          "opacity": 0.8,
          "size": 12,
          "symbol": "circle"
         },
         "mode": "markers",
         "name": "",
         "orientation": "v",
         "showlegend": false,
         "type": "scatter",
         "x": [
          0,
          1,
          2,
          3,
          4,
          5,
          6,
          7,
          8,
          9,
          10,
          11,
          12,
          13,
          14,
          15,
          16,
          17,
          18,
          19,
          20,
          21,
          22,
          23,
          24,
          25,
          26,
          27,
          28,
          29,
          30,
          31,
          32,
          33,
          34,
          35,
          36,
          37,
          38,
          39,
          40,
          41,
          42,
          43,
          44,
          45,
          46,
          47,
          48,
          49,
          50,
          51,
          52,
          53,
          54,
          55,
          56,
          57,
          58,
          59,
          60,
          61,
          62,
          63,
          64,
          65,
          66,
          67,
          68,
          69,
          70,
          71,
          72,
          73,
          74,
          75,
          76,
          77,
          78,
          79,
          80,
          81,
          82,
          83,
          84,
          85,
          86,
          87,
          88,
          89,
          90,
          91,
          92,
          93,
          94,
          95,
          96,
          97,
          98,
          99,
          100,
          101,
          102,
          103,
          104,
          105,
          106,
          107,
          108,
          109,
          110,
          111,
          112,
          113,
          114,
          115,
          116,
          117,
          118,
          119,
          120,
          121,
          122,
          123,
          124,
          125,
          126,
          127,
          128,
          129,
          130,
          131,
          132,
          133,
          134,
          135,
          136,
          137,
          138,
          139,
          140,
          141,
          142,
          143,
          144,
          145,
          146,
          147,
          148,
          149,
          150,
          151,
          152,
          153,
          154,
          155,
          156,
          157,
          158,
          159,
          160,
          161,
          162,
          163,
          164,
          165,
          166,
          167,
          168,
          169,
          170,
          171,
          172,
          173,
          174,
          175,
          176,
          177,
          178,
          179,
          180,
          181,
          182,
          183,
          184,
          185,
          186,
          187,
          188,
          189,
          190,
          191,
          192,
          193,
          194,
          195,
          196,
          197,
          198,
          199,
          200,
          201,
          202,
          203,
          204,
          205,
          206,
          207,
          208,
          209,
          210,
          211,
          212,
          213,
          214,
          215,
          216,
          217,
          218,
          219,
          220,
          221,
          222,
          223,
          224,
          225,
          226,
          227,
          228,
          229,
          230,
          231,
          232,
          233,
          234,
          235,
          236,
          237,
          238,
          239,
          240,
          241,
          242,
          243,
          244,
          245,
          246,
          247,
          248,
          249,
          250,
          251,
          252,
          253,
          254,
          255,
          256,
          257,
          258,
          259,
          260,
          261,
          262,
          263,
          264,
          265,
          266,
          267,
          268,
          269,
          270,
          271,
          272,
          273,
          274,
          275,
          276,
          277,
          278,
          279,
          280,
          281,
          282,
          283,
          284,
          285,
          286,
          287,
          288,
          289,
          290,
          291,
          292,
          293,
          294,
          295,
          296,
          297,
          298,
          299,
          300,
          301,
          302,
          303,
          304,
          305,
          306,
          307,
          308,
          309,
          310,
          311,
          312,
          313,
          314,
          315,
          316,
          317,
          318,
          319,
          320,
          321,
          322,
          323,
          324,
          325,
          326,
          327,
          328,
          329,
          330,
          331,
          332,
          333,
          334,
          335,
          336,
          337,
          338,
          339,
          340,
          341,
          342,
          343,
          344,
          345,
          346,
          347,
          348,
          349,
          350,
          351,
          352,
          353,
          354,
          355,
          356,
          357,
          358,
          359,
          360,
          361,
          362,
          363,
          364,
          365,
          366,
          367,
          368,
          369,
          370,
          371,
          372,
          373,
          374,
          375,
          376,
          377,
          378,
          379,
          380,
          381,
          382,
          383,
          384,
          385,
          386,
          387,
          388,
          389,
          390,
          391,
          392,
          393,
          394,
          395,
          396,
          397,
          398,
          399,
          400,
          401,
          402,
          403,
          404,
          405,
          406,
          407,
          408,
          409,
          410,
          411,
          412,
          413,
          414,
          415,
          416,
          417,
          418,
          419,
          420,
          421,
          422,
          423,
          424,
          425,
          426,
          427,
          428,
          429,
          430,
          431,
          432,
          433,
          434,
          435,
          436,
          437,
          438,
          439,
          440,
          441,
          442,
          443,
          444,
          445,
          446,
          447,
          448,
          449,
          450,
          451,
          452,
          453,
          454,
          455,
          456,
          457,
          458,
          459,
          460,
          461,
          462,
          463,
          464,
          465,
          466,
          467,
          468,
          469,
          470,
          471,
          472,
          473,
          474,
          475,
          476,
          477,
          478,
          479,
          480,
          481,
          482,
          483,
          484,
          485,
          486,
          487,
          488,
          489,
          490,
          491,
          492,
          493,
          494,
          495,
          496,
          497,
          498,
          499,
          500,
          501,
          502,
          503,
          504,
          505,
          506,
          507,
          508,
          509,
          510,
          511,
          512,
          513,
          514,
          515,
          516,
          517,
          518,
          519,
          520,
          521,
          522,
          523,
          524,
          525,
          526,
          527,
          528,
          529,
          530,
          531,
          532,
          533,
          534,
          535,
          536,
          537,
          538,
          539,
          540,
          541,
          542,
          543,
          544,
          545,
          546,
          547,
          548,
          549,
          550,
          551,
          552,
          553,
          554,
          555,
          556,
          557,
          558,
          559,
          560,
          561,
          562,
          563,
          564,
          565,
          566,
          567,
          568,
          569,
          570,
          571,
          572,
          573,
          574,
          575,
          576,
          577,
          578,
          579,
          580,
          581,
          582,
          583,
          584,
          585,
          586,
          587,
          588,
          589,
          590,
          591,
          592,
          593,
          594,
          595,
          596,
          597,
          598,
          599,
          600,
          601,
          602,
          603,
          604,
          605,
          606,
          607,
          608,
          609,
          610,
          611,
          612,
          613,
          614,
          615,
          616,
          617,
          618,
          619,
          620,
          621,
          622,
          623,
          624,
          625,
          626,
          627,
          628,
          629,
          630,
          631,
          632,
          633,
          634,
          635,
          636,
          637,
          638,
          639,
          640,
          641,
          642,
          643,
          644,
          645,
          646,
          647,
          648,
          649,
          650,
          651,
          652,
          653,
          654,
          655,
          656,
          657,
          658,
          659,
          660,
          661,
          662,
          663,
          664,
          665,
          666,
          667,
          668,
          669,
          670,
          671,
          672,
          673,
          674,
          675,
          676,
          677,
          678,
          679,
          680,
          681,
          682,
          683,
          684,
          685,
          686,
          687,
          688,
          689,
          690,
          691,
          692,
          693,
          694,
          695,
          696,
          697,
          698,
          699,
          700,
          701,
          702,
          703,
          704,
          705,
          706,
          707,
          708,
          709,
          710,
          711,
          712,
          713,
          714,
          715,
          716,
          717,
          718,
          719,
          720,
          721,
          722,
          723,
          724,
          725,
          726,
          727,
          728,
          729,
          730,
          731,
          732,
          733,
          734,
          735,
          736,
          737,
          738,
          739,
          740,
          741,
          742,
          743,
          744,
          745,
          746,
          747,
          748,
          749,
          750,
          751,
          752,
          753,
          754,
          755,
          756,
          757,
          758,
          759,
          760,
          761,
          762,
          763,
          764,
          765,
          766,
          767,
          768,
          769,
          770,
          771,
          772,
          773,
          774,
          775,
          776,
          777,
          778,
          779,
          780,
          781,
          782,
          783,
          784,
          785,
          786,
          787,
          788,
          789,
          790,
          791,
          792,
          793,
          794,
          795,
          796,
          797,
          798,
          799,
          800,
          801,
          802,
          803,
          804,
          805,
          806,
          807,
          808,
          809,
          810,
          811,
          812,
          813,
          814,
          815,
          816,
          817,
          818,
          819,
          820,
          821,
          822,
          823,
          824,
          825,
          826,
          827,
          828,
          829,
          830,
          831,
          832,
          833,
          834,
          835,
          836,
          837,
          838,
          839,
          840,
          841,
          842,
          843,
          844,
          845,
          846,
          847,
          848,
          849,
          850,
          851,
          852,
          853,
          854,
          855,
          856,
          857,
          858,
          859,
          860,
          861,
          862,
          863,
          864,
          865,
          866,
          867,
          868,
          869,
          870,
          871,
          872,
          873,
          874,
          875,
          876,
          877,
          878,
          879,
          880,
          881,
          882,
          883,
          884,
          885,
          886,
          887,
          888,
          889,
          890,
          891,
          892,
          893,
          894,
          895,
          896,
          897,
          898,
          899,
          900,
          901,
          902,
          903,
          904,
          905,
          906,
          907,
          908,
          909,
          910,
          911,
          912,
          913,
          914,
          915,
          916,
          917,
          918,
          919,
          920,
          921,
          922,
          923,
          924,
          925,
          926,
          927,
          928,
          929,
          930,
          931,
          932,
          933,
          934,
          935,
          936,
          937,
          938,
          939,
          940,
          941,
          942,
          943,
          944,
          945,
          946,
          947,
          948,
          949,
          950,
          951,
          952,
          953,
          954,
          955,
          956,
          957,
          958,
          959,
          960,
          961,
          962,
          963,
          964,
          965,
          966,
          967,
          968,
          969,
          970,
          971,
          972,
          973,
          974,
          975,
          976,
          977,
          978,
          979,
          980,
          981,
          982,
          983,
          984,
          985,
          986,
          987,
          988,
          989,
          990,
          991,
          992,
          993,
          994,
          995,
          996,
          997,
          998,
          999
         ],
         "xaxis": "x",
         "y": [
          0.1491466631503052,
          0.14983234345895025,
          0.15052061842202172,
          0.151211492728934,
          0.1519049710287023,
          0.1526010579294317,
          0.15329975799780513,
          0.15400107575856906,
          0.15470501569401793,
          0.15541158224347681,
          0.15612077980278272,
          0.15683261272376386,
          0.15754708531371825,
          0.15826420183488993,
          0.15898396650394445,
          0.15970638349144267,
          0.16043145692131316,
          0.1611591908703234,
          0.16188958936754977,
          0.16262265639384613,
          0.1633583958813112,
          0.164096811712755,
          0.16483790772116394,
          0.16558168768916504,
          0.16632815534848874,
          0.16707731437943124,
          0.16782916841031548,
          0.16858372101695138,
          0.1693409757220954,
          0.17010093599490858,
          0.17086360525041489,
          0.1716289868489579,
          0.17239708409565724,
          0.17316790023986445,
          0.17394143847461802,
          0.17471770193609792,
          0.1754966937030799,
          0.17627841679638925,
          0.17706287417835392,
          0.1778500687522575,
          0.17864000336179214,
          0.17943268079051075,
          0.18022810376127957,
          0.18102627493573017,
          0.18182719691371155,
          0.1826308722327422,
          0.18343730336746236,
          0.18424649272908625,
          0.1850584426648542,
          0.18587315545748553,
          0.18669063332463126,
          0.1875108784183272,
          0.18833389282444776,
          0.18915967856215987,
          0.18998823758337718,
          0.19081957177221567,
          0.19165368294444884,
          0.19249057284696458,
          0.1933302431572219,
          0.19417269548270893,
          0.19501793136040205,
          0.19586595225622527,
          0.19671675956451132,
          0.19757035460746314,
          0.1984267386346171,
          0.19928591282230707,
          0.20014787827312971,
          0.20101263601541158,
          0.2018801870026769,
          0.2027505321131174,
          0.2036236721490633,
          0.20449960783645632,
          0.20537833982432396,
          0.2062598686842556,
          0.20714419490988054,
          0.208031318916348,
          0.20892124103980877,
          0.2098139615368992,
          0.2107094805842271,
          0.21160779827785978,
          0.21250891463281454,
          0.2134128295825513,
          0.21431954297846764,
          0.2152290545893965,
          0.2161413641011059,
          0.21705647111580223,
          0.2179743751516348,
          0.2188950756422049,
          0.21981857193607607,
          0.22074486329628834,
          0.2216739488998752,
          0.22260582783738317,
          0.22354049911239537,
          0.22447796164105754,
          0.22541821425160782,
          0.22636125568390997,
          0.22730708458898913,
          0.22825569952857278,
          0.22920709897463373,
          0.2301612813089375,
          0.23111824482259388,
          0.2320779877156111,
          0.2330405080964555,
          0.2340058039816138,
          0.23497387329516053,
          0.2359447138683289,
          0.23691832343908623,
          0.23789469965171386,
          0.2388738400563911,
          0.239855742108784,
          0.2408404031696384,
          0.24182782050437793,
          0.24281799128270667,
          0.24381091257821616,
          0.24480658136799818,
          0.24580499453226184,
          0.24680614885395583,
          0.2478100410183958,
          0.24881666761289734,
          0.24982602512641366,
          0.2508381099491792,
          0.2518529183723583,
          0.2528704465876993,
          0.253890690687195,
          0.2549136466627478,
          0.25593931040584167,
          0.2569676777072189,
          0.25799874425656366,
          0.25903250564219116,
          0.2600689573507428,
          0.261108094766888,
          0.2621499131730316,
          0.2631944077490282,
          0.26424157357190253,
          0.2652914056155762,
          0.26634389875060166,
          0.26739904774390205,
          0.2684568472585181,
          0.2695172918533618,
          0.270580375982977,
          0.27164609399730666,
          0.2727144401414676,
          0.27378540855553196,
          0.27485899327431573,
          0.2759351882271749,
          0.27701398723780885,
          0.2780953840240706,
          0.27917937219778516,
          0.2802659452645754,
          0.28135509662369457,
          0.28244681956786793,
          0.28354110728314086,
          0.2846379528487353,
          0.28573734923691446,
          0.28683928931285435,
          0.28794376583452475,
          0.28905077145257674,
          0.2901602987102397,
          0.29127234004322566,
          0.29238688777964217,
          0.2935039341399136,
          0.2946234712367106,
          0.29574549107488834,
          0.29686998555143274,
          0.29799694645541586,
          0.29912636546795945,
          0.30025823416220754,
          0.30139254400330734,
          0.3025292863483993,
          0.30366845244661606,
          0.30481003343909,
          0.30595402035896974,
          0.3071004041314462,
          0.3082491755737869,
          0.30940032539538004,
          0.3105538441977874,
          0.31170972247480666,
          0.31286795061254236,
          0.3140285188894873,
          0.3151914174766123,
          0.3163566364374653,
          0.31752416572828096,
          0.3186939951980983,
          0.31986611458888903,
          0.32104051353569457,
          0.3222171815667733,
          0.3233961081037569,
          0.32457728246181683,
          0.3257606938498398,
          0.32694633137061385,
          0.3281341840210234,
          0.32932424069225436,
          0.3305164901700093,
          0.33171092113473194,
          0.33290752216184194,
          0.3341062817219791,
          0.33530718818125793,
          0.33651022980153195,
          0.33771539474066764,
          0.33892267105282897,
          0.34013204668877123,
          0.34134350949614506,
          0.34255704721981123,
          0.34377264750216363,
          0.3449902978834645,
          0.34620998580218787,
          0.3474316985953741,
          0.3486554234989938,
          0.3498811476483226,
          0.3511088580783249,
          0.35233854172404855,
          0.35357018542102925,
          0.3548037759057049,
          0.35603929981584026,
          0.357276743690961,
          0.358516093972799,
          0.35975733700574614,
          0.3610004590373195,
          0.36224544621863536,
          0.3634922846048943,
          0.36474096015587537,
          0.36599145873644046,
          0.36724376611704895,
          0.3684978679742818,
          0.369753749891376,
          0.3710113973587681,
          0.37227079577464867,
          0.37353193044552563,
          0.3747947865867978,
          0.37605934932333807,
          0.3773256036900862,
          0.37859353463265205,
          0.379863127007927,
          0.38113436558470637,
          0.3824072350443205,
          0.38368171998127615,
          0.3849578049039065,
          0.38623547423503146,
          0.38751471231262663,
          0.38879550339050195,
          0.39007783163898996,
          0.3913616811456426,
          0.3926470359159379,
          0.3939338798739952,
          0.39522219686329985,
          0.39651197064743726,
          0.3978031849108348,
          0.39909582325951354,
          0.4003898692218488,
          0.4016853062493393,
          0.40298211771738457,
          0.40428028692607165,
          0.4055797971009703,
          0.4068806313939363,
          0.40818277288392346,
          0.40948620457780394,
          0.41079090941119706,
          0.41209687024930586,
          0.413404069887762,
          0.414712491053479,
          0.41602211640551284,
          0.41733292853593107,
          0.418644909970689,
          0.4199580431705143,
          0.42127231053179887,
          0.4225876943874984,
          0.4239041770080385,
          0.42522174060222984,
          0.426540367318189,
          0.4278600392442672,
          0.4291807384099861,
          0.4305024467869801,
          0.4318251462899457,
          0.43314881877759837,
          0.43447344605363447,
          0.4357990098677013,
          0.4371254919163725,
          0.43845287384413056,
          0.4397811372443547,
          0.4411102636603161,
          0.4424402345861775,
          0.4437710314680002,
          0.445102635704756,
          0.44643502864934487,
          0.4477681916096187,
          0.44910210584940996,
          0.4504367525895653,
          0.45177211300898557,
          0.45310816824566985,
          0.45444489939776495,
          0.45578228752461913,
          0.45712031364784167,
          0.4584589587523659,
          0.45979820378751696,
          0.4611380296680847,
          0.4624784172753994,
          0.46381934745841275,
          0.4651608010347826,
          0.46650275879196046,
          0.46784520148828435,
          0.46918810985407405,
          0.47053146459273004,
          0.4718752463818359,
          0.47321943587426385,
          0.47456401369928336,
          0.47590896046367204,
          0.4772542567528305,
          0.4785998831318987,
          0.4799458201468757,
          0.4812920483257406,
          0.482638548179577,
          0.483985300203699,
          0.4853322848787784,
          0.48667948267197547,
          0.48802687403806944,
          0.4893744394205916,
          0.49072215925295987,
          0.49207001395961414,
          0.49341798395715286,
          0.4947660496554708,
          0.49611419145889735,
          0.4974623897673357,
          0.49881062497740264,
          0.5001588774835685,
          0.5015071276792973,
          0.5028553559581881,
          0.5042035427151139,
          0.5055516683473635,
          0.5068997132557809,
          0.508247657845904,
          0.5095954825291056,
          0.5109431677237293,
          0.5122906938562287,
          0.5136380413623031,
          0.5149851906880327,
          0.5163321222910124,
          0.5176788166414852,
          0.5190252542234721,
          0.5203714155359022,
          0.5217172810937394,
          0.5230628314291091,
          0.52440804709242,
          0.5257529086534866,
          0.5270973967026471,
          0.5284414918518798,
          0.5297851747359168,
          0.5311284260133544,
          0.5324712263677615,
          0.5338135565087831,
          0.5351553971732441,
          0.5364967291262452,
          0.5378375331622587,
          0.5391777901062196,
          0.5405174808146133,
          0.5418565861765586,
          0.5431950871148876,
          0.5445329645872212,
          0.5458701995870405,
          0.5472067731447534,
          0.5485426663287569,
          0.5498778602464957,
          0.5512123360455137,
          0.5525460749145039,
          0.5538790580843505,
          0.5552112668291672,
          0.5565426824673304,
          0.5578732863625062,
          0.5592030599246731,
          0.5605319846111378,
          0.5618600419275466,
          0.5631872134288898,
          0.5645134807205018,
          0.5658388254590526,
          0.5671632293535362,
          0.5684866741662502,
          0.5698091417137712,
          0.5711306138679212,
          0.57245107255673,
          0.57377049976539,
          0.5750888775372025,
          0.5764061879745205,
          0.5777224132396813,
          0.5790375355559343,
          0.5803515372083602,
          0.5816644005447835,
          0.5829761079766781,
          0.5842866419800644,
          0.5855959850963998,
          0.5869041199334607,
          0.5882110291662176,
          0.5895166955377024,
          0.5908211018598666,
          0.5921242310144331,
          0.593426065953739,
          0.5947265897015701,
          0.5960257853539883,
          0.5973236360801493,
          0.5986201251231128,
          0.5999152358006443,
          0.6012089515060075,
          0.6025012557087499,
          0.6037921319554769,
          0.6050815638706205,
          0.6063695351571966,
          0.6076560295975544,
          0.6089410310541177,
          0.6102245234701149,
          0.6115064908703033,
          0.6127869173616813,
          0.6140657871341927,
          0.6153430844614218,
          0.6166187937012796,
          0.6178928992966796,
          0.6191653857762053,
          0.6204362377547673,
          0.6217054399342529,
          0.6229729771041627,
          0.6242388341422417,
          0.6255029960150981,
          0.6267654477788129,
          0.6280261745795414,
          0.6292851616541024,
          0.6305423943305603,
          0.6317978580287956,
          0.6330515382610664,
          0.6343034206325604,
          0.6355534908419359,
          0.636801734681854,
          0.6380481380395008,
          0.6392926868970988,
          0.6405353673324097,
          0.6417761655192267,
          0.643015067727855,
          0.6442520603255867,
          0.6454871297771606,
          0.6467202626452158,
          0.6479514455907334,
          0.6491806653734684,
          0.6504079088523728,
          0.6516331629860064,
          0.6528564148329399,
          0.6540776515521461,
          0.6552968604033825,
          0.6565140287475627,
          0.6577291440471185,
          0.6589421938663516,
          0.6601531658717757,
          0.661362047832448,
          0.6625688276202909,
          0.6637734932104037,
          0.6649760326813647,
          0.6661764342155232,
          0.66737468609928,
          0.6685707767233606,
          0.6697646945830769,
          0.6709564282785785,
          0.672145966515096,
          0.6733332981031719,
          0.6745184119588843,
          0.6757012971040585,
          0.6768819426664707,
          0.6780603378800404,
          0.6792364720850137,
          0.6804103347281375,
          0.6815819153628229,
          0.6827512036492995,
          0.6839181893547607,
          0.6850828623534979,
          0.6862452126270271,
          0.687405230264204,
          0.6885629054613313,
          0.689718228522256,
          0.6908711898584566,
          0.6920217799891226,
          0.6931699895412228,
          0.6943158092495656,
          0.6954592299568506,
          0.6966002426137088,
          0.6977388382787367,
          0.6988750081185187,
          0.7000087434076422,
          0.7011400355287031,
          0.7022688759723023,
          0.7033952563370339,
          0.7045191683294642,
          0.7056406037641015,
          0.7067595545633591,
          0.7078760127575067,
          0.7089899704846162,
          0.7101014199904974,
          0.7112103536286251,
          0.7123167638600593,
          0.713420643253355,
          0.7145219844844659,
          0.7156207803366383,
          0.7167170237002974,
          0.7178107075729263,
          0.7189018250589352,
          0.7199903693695251,
          0.7210763338225415,
          0.7221597118423213,
          0.7232404969595323,
          0.7243186828110039,
          0.7253942631395517,
          0.7264672317937935,
          0.7275375827279575,
          0.7286053100016856,
          0.7296704077798256,
          0.7307328703322197,
          0.7317926920334836,
          0.7328498673627798,
          0.733904390903583,
          0.7349562573434391,
          0.7360054614737177,
          0.7370519981893567,
          0.7380958624886012,
          0.7391370494727356,
          0.7401755543458088,
          0.7412113724143533,
          0.7422444990870976,
          0.7432749298746726,
          0.7443026603893117,
          0.7453276863445445,
          0.7463500035548848,
          0.7473696079355123,
          0.7483864955019484,
          0.7494006623697264,
          0.7504121047540557,
          0.7514208189694809,
          0.7524268014295341,
          0.7534300486463825,
          0.7544305572304715,
          0.7554283238901596,
          0.7564233454313517,
          0.7574156187571243,
          0.7584051408673466,
          0.7593919088582971,
          0.7603759199222746,
          0.7613571713472037,
          0.7623356605162378,
          0.7633113849073542,
          0.7642843420929472,
          0.7652545297394158,
          0.7662219456067462,
          0.7671865875480904,
          0.7681484535093416,
          0.7691075415287031,
          0.7700638497362553,
          0.7710173763535172,
          0.7719681196930039,
          0.7729160781577822,
          0.7738612502410186,
          0.7748036345255274,
          0.7757432296833129,
          0.7766800344751086,
          0.7776140477499125,
          0.7785452684445202,
          0.7794736955830531,
          0.7803993282764838,
          0.7813221657221593,
          0.7822422072033189,
          0.7831594520886119,
          0.7840738998316099,
          0.784985549970317,
          0.7858944021266782,
          0.7868004560060824,
          0.7877037113968672,
          0.7886041681698153,
          0.7895018262776538,
          0.7903966857545476,
          0.7912887467155912,
          0.7921780093563001,
          0.7930644739520968,
          0.793948140857797,
          0.7948290105070923,
          0.7957070834120331,
          0.7965823601625057,
          0.7974548414257127,
          0.7983245279456455,
          0.7991914205425613,
          0.8000555201124536,
          0.800916827626524,
          0.8017753441306508,
          0.8026310707448568,
          0.8034840086627768,
          0.804334159151121,
          0.8051815235491404,
          0.8060261032680889,
          0.8068678997906844,
          0.8077069146705702,
          0.8085431495317739,
          0.8093766060681662,
          0.8102072860429189,
          0.8110351912879613,
          0.8118603237034369,
          0.8126826852571585,
          0.8135022779840638,
          0.8143191039856693,
          0.8151331654295242,
          0.8159444645486638,
          0.8167530036410631,
          0.817558785069089,
          0.8183618112589531,
          0.8191620847001642,
          0.8199596079449799,
          0.8207543836078597,
          0.821546414364916,
          0.8223357029533671,
          0.8231222521709886,
          0.8239060648755664,
          0.8246871439843491,
          0.8254654924735002,
          0.8262411133775521,
          0.8270140097888585,
          0.8277841848570491,
          0.8285516417884832,
          0.8293163838457046,
          0.8300784143468972,
          0.8308377366653404,
          0.8315943542288661,
          0.8323482705193155,
          0.8330994890719973,
          0.8338480134751461,
          0.8345938473693827,
          0.8353369944471736,
          0.8360774584522931,
          0.8368152431792848,
          0.8375503524729261,
          0.8382827902276911,
          0.8390125603872174,
          0.8397396669437716,
          0.8404641139377177,
          0.8411859054569859,
          0.8419050456365424,
          0.8426215386578615,
          0.8433353887483981,
          0.8440466001810614,
          0.8447551772736915,
          0.8454611243885356,
          0.8461644459317266,
          0.8468651463527632,
          0.8475632301439915,
          0.8482587018400878,
          0.8489515660175436,
          0.8496418272941518,
          0.8503294903284948,
          0.8510145598194339,
          0.8516970405056011,
          0.8523769371648924,
          0.8530542546139623,
          0.8537289977077215,
          0.8544011713388344,
          0.8550707804372208,
          0.8557378299695579,
          0.8564023249387845,
          0.857064270383608,
          0.8577236713780121,
          0.8583805330307677,
          0.859034860484945,
          0.8596866589174283,
          0.8603359335384325,
          0.8609826895910212,
          0.8616269323506286,
          0.8622686671245817,
          0.8629078992516256,
          0.8635446341014512,
          0.864178877074224,
          0.864810633600117,
          0.8654399091388439,
          0.8660667091791958,
          0.8666910392385798,
          0.8673129048625599,
          0.8679323116244003,
          0.8685492651246114,
          0.8691637709904971,
          0.8697758348757059,
          0.870385462459783,
          0.8709926594477263,
          0.8715974315695433,
          0.8721997845798114,
          0.8727997242572407,
          0.8733972564042387,
          0.8739923868464775,
          0.8745851214324645,
          0.8751754660331141,
          0.8757634265413233,
          0.8763490088715488,
          0.8769322189593869,
          0.8775130627611569,
          0.8780915462534853,
          0.8786676754328938,
          0.87924145631539,
          0.87981289493606,
          0.8803819973486636,
          0.8809487696252332,
          0.8815132178556729,
          0.8820753481473638,
          0.8826351666247682,
          0.8831926794290388,
          0.8837478927176305,
          0.8843008126639132,
          0.8848514454567885,
          0.8853997973003093,
          0.8859458744133007,
          0.8864896830289852,
          0.8870312293946097,
          0.887570519771074,
          0.8881075604325657,
          0.8886423576661916,
          0.8891749177716196,
          0.8897052470607155,
          0.8902333518571884,
          0.8907592384962351,
          0.8912829133241893,
          0.8918043826981723,
          0.8923236529857468,
          0.8928407305645735,
          0.8933556218220698,
          0.8938683331550724,
          0.8943788709695007,
          0.8948872416800248,
          0.8953934517097348,
          0.8958975074898136,
          0.8963994154592115,
          0.8968991820643246,
          0.8973968137586751,
          0.897892317002594,
          0.8983856982629075,
          0.8988769640126247,
          0.8993661207306296,
          0.8998531749013737,
          0.9003381330145733,
          0.9008210015649081,
          0.9013017870517225,
          0.9017804959787304,
          0.9022571348537219,
          0.9027317101882725,
          0.9032042284974552,
          0.903674696299556,
          0.9041431201157897,
          0.9046095064700213,
          0.9050738618884873,
          0.9055361928995215,
          0.9059965060332823,
          0.9064548078214828,
          0.9069111047971236,
          0.9073654034942282,
          0.9078177104475809,
          0.9082680321924663,
          0.908716375264414,
          0.9091627461989419,
          0.9096071515313054,
          0.9100495977962479,
          0.910490091527753,
          0.9109286392587999,
          0.9113652475211222,
          0.9117999228449676,
          0.9122326717588601,
          0.9126635007893666,
          0.9130924164608637,
          0.9135194252953077,
          0.9139445338120077,
          0.9143677485274001,
          0.9147890759548263,
          0.9152085226043122,
          0.9156260949823503,
          0.9160417995916842,
          0.9164556429310958,
          0.916867631495194,
          0.9172777717742064,
          0.9176860702537734,
          0.9180925334147437,
          0.9184971677329741,
          0.9188999796791285,
          0.9193009757184827,
          0.9197001623107284,
          0.9200975459097815,
          0.9204931329635921,
          0.9208869299139557,
          0.9212789431963285,
          0.9216691792396434,
          0.9220576444661286,
          0.9224443452911293,
          0.9228292881229296,
          0.923212479362579,
          0.9235939254037189,
          0.9239736326324127,
          0.9243516074269773,
          0.9247278561578168,
          0.9251023851872588,
          0.9254752008693923,
          0.9258463095499073,
          0.9262157175659378,
          0.9265834312459055,
          0.9269494569093661,
          0.9273138008668581,
          0.9276764694197523,
          0.9280374688601052,
          0.9283968054705123,
          0.9287544855239652,
          0.9291105152837095,
          0.9294649010031052,
          0.9298176489254889,
          0.9301687652840379,
          0.9305182563016364,
          0.9308661281907433,
          0.931212387153262,
          0.9315570393804123,
          0.9319000910526042,
          0.9322415483393127,
          0.9325814173989562,
          0.9329197043787744,
          0.9332564154147102,
          0.9335915566312921,
          0.9339251341415188,
          0.9342571540467457,
          0.9345876224365727,
          0.934916545388734,
          0.9352439289689908,
          0.9355697792310229,
          0.935894102216325,
          0.9362169039541032,
          0.9365381904611731,
          0.9368579677418605,
          0.9371762417879025,
          0.9374930185783518,
          0.9378083040794807,
          0.9381221042446888,
          0.938434425014411,
          0.9387452723160271,
          0.9390546520637736,
          0.9393625701586572,
          0.9396690324883684,
          0.9399740449271986,
          0.940277613335958,
          0.9405797435618937,
          0.9408804414386117,
          0.9411797127859988,
          0.9414775634101462,
          0.9417739991032748,
          0.9420690256436619,
          0.9423626487955697,
          0.9426548743091747,
          0.9429457079204985,
          0.9432351553513404,
          0.9435232223092115,
          0.9438099144872698,
          0.9440952375642565,
          0.9443791972044348,
          0.9446617990575279,
          0.9449430487586613,
          0.9452229519283036,
          0.9455015141722105,
          0.945778741081369,
          0.9460546382319435,
          0.9463292111852233,
          0.9466024654875708,
          0.946874406670371,
          0.9471450402499834,
          0.947414371727693,
          0.947682406589665,
          0.9479491503068984,
          0.9482146083351826,
          0.9484787861150542,
          0.9487416890717552,
          0.9490033226151925,
          0.9492636921398987,
          0.949522803024993,
          0.9497806606341453,
          0.9500372703155391,
          0.9502926374018369,
          0.9505467672101466,
          0.9507996650419888,
          0.9510513361832645,
          0.9513017859042256,
          0.9515510194594444,
          0.9517990420877857,
          0.9520458590123788,
          0.952291475440592,
          0.9525358965640064,
          0.9527791275583916,
          0.9530211735836828,
          0.9532620397839578,
          0.953501731287416,
          0.9537402532063576,
          0.9539776106371642,
          0.9542138086602803,
          0.9544488523401954,
          0.9546827467254275,
          0.9549154968485075,
          0.9551471077259635,
          0.9553775843583076,
          0.9556069317300222,
          0.9558351548095483,
          0.9560622585492734,
          0.9562882478855215,
          0.956513127738543,
          0.9567369030125065,
          0.9569595785954895,
          0.9571811593594727,
          0.9574016501603322,
          0.9576210558378351,
          0.9578393812156334,
          0.958056631101261,
          0.95827281028613,
          0.9584879235455277,
          0.9587019756386159,
          0.9589149713084287,
          0.959126915281873,
          0.9593378122697287,
          0.9595476669666495,
          0.9597564840511653,
          0.9599642681856843,
          0.9601710240164965,
          0.9603767561737773,
          0.9605814692715927,
          0.9607851679079038,
          0.9609878566645733,
          0.9611895401073716,
          0.9613902227859843,
          0.9615899092340201,
          0.9617886039690191,
          0.9619863114924616,
          0.9621830362897782,
          0.9623787828303603,
          0.96257355556757,
          0.9627673589387525,
          0.962960197365248,
          0.9631520752524036,
          0.9633429969895876,
          0.963532966950202,
          0.9637219894916976,
          0.9639100689555888,
          0.9640972096674684,
          0.9642834159370238,
          0.9644686920580535,
          0.9646530423084837,
          0.9648364709503858,
          0.9650189822299946,
          0.965200580377726,
          0.9653812696081966,
          0.9655610541202424,
          0.9657399380969393,
          0.9659179257056223,
          0.9660950210979076,
          0.9662712284097127,
          0.9664465517612785,
          0.9666209952571908,
          0.9667945629864039,
          0.9669672590222622,
          0.9671390874225243,
          0.9673100522293865,
          0.9674801574695069,
          0.9676494071540299,
          0.9678178052786115,
          0.9679853558234439,
          0.9681520627532816,
          0.9683179300174676,
          0.9684829615499593,
          0.9686471612693557,
          0.9688105330789245,
          0.9689730808666297,
          0.9691348085051588,
          0.969295719851951,
          0.9694558187492273,
          0.9696151090240166,
          0.9697735944881877,
          0.9699312789384764,
          0.9700881661565166,
          0.9702442599088699,
          0.9703995639470562,
          0.9705540820075842,
          0.9707078178119821,
          0.9708607750668296,
          0.9710129574637886,
          0.9711643686796352,
          0.9713150123762923,
          0.9714648922008611,
          0.9716140117856542,
          0.9717623747482282,
          0.9719099846914172,
          0.9720568452033653,
          0.972202959857561,
          0.9723483322128703,
          0.9724929658135716,
          0.972636864189389,
          0.9727800308555271,
          0.9729224693127063,
          0.9730641830471966,
          0.9732051755308535,
          0.9733454502211533,
          0.973485010561228,
          0.9736238599799018,
          0.9737620018917261,
          0.9738994396970166,
          0.9740361767818887,
          0.9741722165182941,
          0.974307562264058,
          0.9744422173629153,
          0.9745761851445474
         ],
         "yaxis": "y"
        }
       ],
       "layout": {
        "legend": {
         "tracegroupgap": 0
        },
        "margin": {
         "t": 60
        },
        "template": {
         "data": {
          "bar": [
           {
            "error_x": {
             "color": "#2a3f5f"
            },
            "error_y": {
             "color": "#2a3f5f"
            },
            "marker": {
             "line": {
              "color": "#E5ECF6",
              "width": 0.5
             }
            },
            "type": "bar"
           }
          ],
          "barpolar": [
           {
            "marker": {
             "line": {
              "color": "#E5ECF6",
              "width": 0.5
             }
            },
            "type": "barpolar"
           }
          ],
          "carpet": [
           {
            "aaxis": {
             "endlinecolor": "#2a3f5f",
             "gridcolor": "white",
             "linecolor": "white",
             "minorgridcolor": "white",
             "startlinecolor": "#2a3f5f"
            },
            "baxis": {
             "endlinecolor": "#2a3f5f",
             "gridcolor": "white",
             "linecolor": "white",
             "minorgridcolor": "white",
             "startlinecolor": "#2a3f5f"
            },
            "type": "carpet"
           }
          ],
          "choropleth": [
           {
            "colorbar": {
             "outlinewidth": 0,
             "ticks": ""
            },
            "type": "choropleth"
           }
          ],
          "contour": [
           {
            "colorbar": {
             "outlinewidth": 0,
             "ticks": ""
            },
            "colorscale": [
             [
              0,
              "#0d0887"
             ],
             [
              0.1111111111111111,
              "#46039f"
             ],
             [
              0.2222222222222222,
              "#7201a8"
             ],
             [
              0.3333333333333333,
              "#9c179e"
             ],
             [
              0.4444444444444444,
              "#bd3786"
             ],
             [
              0.5555555555555556,
              "#d8576b"
             ],
             [
              0.6666666666666666,
              "#ed7953"
             ],
             [
              0.7777777777777778,
              "#fb9f3a"
             ],
             [
              0.8888888888888888,
              "#fdca26"
             ],
             [
              1,
              "#f0f921"
             ]
            ],
            "type": "contour"
           }
          ],
          "contourcarpet": [
           {
            "colorbar": {
             "outlinewidth": 0,
             "ticks": ""
            },
            "type": "contourcarpet"
           }
          ],
          "heatmap": [
           {
            "colorbar": {
             "outlinewidth": 0,
             "ticks": ""
            },
            "colorscale": [
             [
              0,
              "#0d0887"
             ],
             [
              0.1111111111111111,
              "#46039f"
             ],
             [
              0.2222222222222222,
              "#7201a8"
             ],
             [
              0.3333333333333333,
              "#9c179e"
             ],
             [
              0.4444444444444444,
              "#bd3786"
             ],
             [
              0.5555555555555556,
              "#d8576b"
             ],
             [
              0.6666666666666666,
              "#ed7953"
             ],
             [
              0.7777777777777778,
              "#fb9f3a"
             ],
             [
              0.8888888888888888,
              "#fdca26"
             ],
             [
              1,
              "#f0f921"
             ]
            ],
            "type": "heatmap"
           }
          ],
          "heatmapgl": [
           {
            "colorbar": {
             "outlinewidth": 0,
             "ticks": ""
            },
            "colorscale": [
             [
              0,
              "#0d0887"
             ],
             [
              0.1111111111111111,
              "#46039f"
             ],
             [
              0.2222222222222222,
              "#7201a8"
             ],
             [
              0.3333333333333333,
              "#9c179e"
             ],
             [
              0.4444444444444444,
              "#bd3786"
             ],
             [
              0.5555555555555556,
              "#d8576b"
             ],
             [
              0.6666666666666666,
              "#ed7953"
             ],
             [
              0.7777777777777778,
              "#fb9f3a"
             ],
             [
              0.8888888888888888,
              "#fdca26"
             ],
             [
              1,
              "#f0f921"
             ]
            ],
            "type": "heatmapgl"
           }
          ],
          "histogram": [
           {
            "marker": {
             "colorbar": {
              "outlinewidth": 0,
              "ticks": ""
             }
            },
            "type": "histogram"
           }
          ],
          "histogram2d": [
           {
            "colorbar": {
             "outlinewidth": 0,
             "ticks": ""
            },
            "colorscale": [
             [
              0,
              "#0d0887"
             ],
             [
              0.1111111111111111,
              "#46039f"
             ],
             [
              0.2222222222222222,
              "#7201a8"
             ],
             [
              0.3333333333333333,
              "#9c179e"
             ],
             [
              0.4444444444444444,
              "#bd3786"
             ],
             [
              0.5555555555555556,
              "#d8576b"
             ],
             [
              0.6666666666666666,
              "#ed7953"
             ],
             [
              0.7777777777777778,
              "#fb9f3a"
             ],
             [
              0.8888888888888888,
              "#fdca26"
             ],
             [
              1,
              "#f0f921"
             ]
            ],
            "type": "histogram2d"
           }
          ],
          "histogram2dcontour": [
           {
            "colorbar": {
             "outlinewidth": 0,
             "ticks": ""
            },
            "colorscale": [
             [
              0,
              "#0d0887"
             ],
             [
              0.1111111111111111,
              "#46039f"
             ],
             [
              0.2222222222222222,
              "#7201a8"
             ],
             [
              0.3333333333333333,
              "#9c179e"
             ],
             [
              0.4444444444444444,
              "#bd3786"
             ],
             [
              0.5555555555555556,
              "#d8576b"
             ],
             [
              0.6666666666666666,
              "#ed7953"
             ],
             [
              0.7777777777777778,
              "#fb9f3a"
             ],
             [
              0.8888888888888888,
              "#fdca26"
             ],
             [
              1,
              "#f0f921"
             ]
            ],
            "type": "histogram2dcontour"
           }
          ],
          "mesh3d": [
           {
            "colorbar": {
             "outlinewidth": 0,
             "ticks": ""
            },
            "type": "mesh3d"
           }
          ],
          "parcoords": [
           {
            "line": {
             "colorbar": {
              "outlinewidth": 0,
              "ticks": ""
             }
            },
            "type": "parcoords"
           }
          ],
          "pie": [
           {
            "automargin": true,
            "type": "pie"
           }
          ],
          "scatter": [
           {
            "marker": {
             "colorbar": {
              "outlinewidth": 0,
              "ticks": ""
             }
            },
            "type": "scatter"
           }
          ],
          "scatter3d": [
           {
            "line": {
             "colorbar": {
              "outlinewidth": 0,
              "ticks": ""
             }
            },
            "marker": {
             "colorbar": {
              "outlinewidth": 0,
              "ticks": ""
             }
            },
            "type": "scatter3d"
           }
          ],
          "scattercarpet": [
           {
            "marker": {
             "colorbar": {
              "outlinewidth": 0,
              "ticks": ""
             }
            },
            "type": "scattercarpet"
           }
          ],
          "scattergeo": [
           {
            "marker": {
             "colorbar": {
              "outlinewidth": 0,
              "ticks": ""
             }
            },
            "type": "scattergeo"
           }
          ],
          "scattergl": [
           {
            "marker": {
             "colorbar": {
              "outlinewidth": 0,
              "ticks": ""
             }
            },
            "type": "scattergl"
           }
          ],
          "scattermapbox": [
           {
            "marker": {
             "colorbar": {
              "outlinewidth": 0,
              "ticks": ""
             }
            },
            "type": "scattermapbox"
           }
          ],
          "scatterpolar": [
           {
            "marker": {
             "colorbar": {
              "outlinewidth": 0,
              "ticks": ""
             }
            },
            "type": "scatterpolar"
           }
          ],
          "scatterpolargl": [
           {
            "marker": {
             "colorbar": {
              "outlinewidth": 0,
              "ticks": ""
             }
            },
            "type": "scatterpolargl"
           }
          ],
          "scatterternary": [
           {
            "marker": {
             "colorbar": {
              "outlinewidth": 0,
              "ticks": ""
             }
            },
            "type": "scatterternary"
           }
          ],
          "surface": [
           {
            "colorbar": {
             "outlinewidth": 0,
             "ticks": ""
            },
            "colorscale": [
             [
              0,
              "#0d0887"
             ],
             [
              0.1111111111111111,
              "#46039f"
             ],
             [
              0.2222222222222222,
              "#7201a8"
             ],
             [
              0.3333333333333333,
              "#9c179e"
             ],
             [
              0.4444444444444444,
              "#bd3786"
             ],
             [
              0.5555555555555556,
              "#d8576b"
             ],
             [
              0.6666666666666666,
              "#ed7953"
             ],
             [
              0.7777777777777778,
              "#fb9f3a"
             ],
             [
              0.8888888888888888,
              "#fdca26"
             ],
             [
              1,
              "#f0f921"
             ]
            ],
            "type": "surface"
           }
          ],
          "table": [
           {
            "cells": {
             "fill": {
              "color": "#EBF0F8"
             },
             "line": {
              "color": "white"
             }
            },
            "header": {
             "fill": {
              "color": "#C8D4E3"
             },
             "line": {
              "color": "white"
             }
            },
            "type": "table"
           }
          ]
         },
         "layout": {
          "annotationdefaults": {
           "arrowcolor": "#2a3f5f",
           "arrowhead": 0,
           "arrowwidth": 1
          },
          "autotypenumbers": "strict",
          "coloraxis": {
           "colorbar": {
            "outlinewidth": 0,
            "ticks": ""
           }
          },
          "colorscale": {
           "diverging": [
            [
             0,
             "#8e0152"
            ],
            [
             0.1,
             "#c51b7d"
            ],
            [
             0.2,
             "#de77ae"
            ],
            [
             0.3,
             "#f1b6da"
            ],
            [
             0.4,
             "#fde0ef"
            ],
            [
             0.5,
             "#f7f7f7"
            ],
            [
             0.6,
             "#e6f5d0"
            ],
            [
             0.7,
             "#b8e186"
            ],
            [
             0.8,
             "#7fbc41"
            ],
            [
             0.9,
             "#4d9221"
            ],
            [
             1,
             "#276419"
            ]
           ],
           "sequential": [
            [
             0,
             "#0d0887"
            ],
            [
             0.1111111111111111,
             "#46039f"
            ],
            [
             0.2222222222222222,
             "#7201a8"
            ],
            [
             0.3333333333333333,
             "#9c179e"
            ],
            [
             0.4444444444444444,
             "#bd3786"
            ],
            [
             0.5555555555555556,
             "#d8576b"
            ],
            [
             0.6666666666666666,
             "#ed7953"
            ],
            [
             0.7777777777777778,
             "#fb9f3a"
            ],
            [
             0.8888888888888888,
             "#fdca26"
            ],
            [
             1,
             "#f0f921"
            ]
           ],
           "sequentialminus": [
            [
             0,
             "#0d0887"
            ],
            [
             0.1111111111111111,
             "#46039f"
            ],
            [
             0.2222222222222222,
             "#7201a8"
            ],
            [
             0.3333333333333333,
             "#9c179e"
            ],
            [
             0.4444444444444444,
             "#bd3786"
            ],
            [
             0.5555555555555556,
             "#d8576b"
            ],
            [
             0.6666666666666666,
             "#ed7953"
            ],
            [
             0.7777777777777778,
             "#fb9f3a"
            ],
            [
             0.8888888888888888,
             "#fdca26"
            ],
            [
             1,
             "#f0f921"
            ]
           ]
          },
          "colorway": [
           "#636efa",
           "#EF553B",
           "#00cc96",
           "#ab63fa",
           "#FFA15A",
           "#19d3f3",
           "#FF6692",
           "#B6E880",
           "#FF97FF",
           "#FECB52"
          ],
          "font": {
           "color": "#2a3f5f"
          },
          "geo": {
           "bgcolor": "white",
           "lakecolor": "white",
           "landcolor": "#E5ECF6",
           "showlakes": true,
           "showland": true,
           "subunitcolor": "white"
          },
          "hoverlabel": {
           "align": "left"
          },
          "hovermode": "closest",
          "mapbox": {
           "style": "light"
          },
          "paper_bgcolor": "white",
          "plot_bgcolor": "#E5ECF6",
          "polar": {
           "angularaxis": {
            "gridcolor": "white",
            "linecolor": "white",
            "ticks": ""
           },
           "bgcolor": "#E5ECF6",
           "radialaxis": {
            "gridcolor": "white",
            "linecolor": "white",
            "ticks": ""
           }
          },
          "scene": {
           "xaxis": {
            "backgroundcolor": "#E5ECF6",
            "gridcolor": "white",
            "gridwidth": 2,
            "linecolor": "white",
            "showbackground": true,
            "ticks": "",
            "zerolinecolor": "white"
           },
           "yaxis": {
            "backgroundcolor": "#E5ECF6",
            "gridcolor": "white",
            "gridwidth": 2,
            "linecolor": "white",
            "showbackground": true,
            "ticks": "",
            "zerolinecolor": "white"
           },
           "zaxis": {
            "backgroundcolor": "#E5ECF6",
            "gridcolor": "white",
            "gridwidth": 2,
            "linecolor": "white",
            "showbackground": true,
            "ticks": "",
            "zerolinecolor": "white"
           }
          },
          "shapedefaults": {
           "line": {
            "color": "#2a3f5f"
           }
          },
          "ternary": {
           "aaxis": {
            "gridcolor": "white",
            "linecolor": "white",
            "ticks": ""
           },
           "baxis": {
            "gridcolor": "white",
            "linecolor": "white",
            "ticks": ""
           },
           "bgcolor": "#E5ECF6",
           "caxis": {
            "gridcolor": "white",
            "linecolor": "white",
            "ticks": ""
           }
          },
          "title": {
           "x": 0.05
          },
          "xaxis": {
           "automargin": true,
           "gridcolor": "white",
           "linecolor": "white",
           "ticks": "",
           "title": {
            "standoff": 15
           },
           "zerolinecolor": "white",
           "zerolinewidth": 2
          },
          "yaxis": {
           "automargin": true,
           "gridcolor": "white",
           "linecolor": "white",
           "ticks": "",
           "title": {
            "standoff": 15
           },
           "zerolinecolor": "white",
           "zerolinewidth": 2
          }
         }
        },
        "xaxis": {
         "anchor": "y",
         "domain": [
          0,
          1
         ],
         "title": {
          "text": "x"
         }
        },
        "yaxis": {
         "anchor": "x",
         "domain": [
          0,
          1
         ],
         "title": {
          "text": "y"
         }
        }
       }
      },
      "text/html": [
       "<div>                            <div id=\"32cdb8a3-6936-4d72-bc94-d514c0681ba0\" class=\"plotly-graph-div\" style=\"height:525px; width:100%;\"></div>            <script type=\"text/javascript\">                require([\"plotly\"], function(Plotly) {                    window.PLOTLYENV=window.PLOTLYENV || {};                                    if (document.getElementById(\"32cdb8a3-6936-4d72-bc94-d514c0681ba0\")) {                    Plotly.newPlot(                        \"32cdb8a3-6936-4d72-bc94-d514c0681ba0\",                        [{\"hovertemplate\": \"x=%{x}<br>y=%{y}<extra></extra>\", \"legendgroup\": \"\", \"marker\": {\"color\": \"#636efa\", \"opacity\": 0.8, \"size\": 12, \"symbol\": \"circle\"}, \"mode\": \"markers\", \"name\": \"\", \"orientation\": \"v\", \"showlegend\": false, \"type\": \"scatter\", \"x\": [0, 1, 2, 3, 4, 5, 6, 7, 8, 9, 10, 11, 12, 13, 14, 15, 16, 17, 18, 19, 20, 21, 22, 23, 24, 25, 26, 27, 28, 29, 30, 31, 32, 33, 34, 35, 36, 37, 38, 39, 40, 41, 42, 43, 44, 45, 46, 47, 48, 49, 50, 51, 52, 53, 54, 55, 56, 57, 58, 59, 60, 61, 62, 63, 64, 65, 66, 67, 68, 69, 70, 71, 72, 73, 74, 75, 76, 77, 78, 79, 80, 81, 82, 83, 84, 85, 86, 87, 88, 89, 90, 91, 92, 93, 94, 95, 96, 97, 98, 99, 100, 101, 102, 103, 104, 105, 106, 107, 108, 109, 110, 111, 112, 113, 114, 115, 116, 117, 118, 119, 120, 121, 122, 123, 124, 125, 126, 127, 128, 129, 130, 131, 132, 133, 134, 135, 136, 137, 138, 139, 140, 141, 142, 143, 144, 145, 146, 147, 148, 149, 150, 151, 152, 153, 154, 155, 156, 157, 158, 159, 160, 161, 162, 163, 164, 165, 166, 167, 168, 169, 170, 171, 172, 173, 174, 175, 176, 177, 178, 179, 180, 181, 182, 183, 184, 185, 186, 187, 188, 189, 190, 191, 192, 193, 194, 195, 196, 197, 198, 199, 200, 201, 202, 203, 204, 205, 206, 207, 208, 209, 210, 211, 212, 213, 214, 215, 216, 217, 218, 219, 220, 221, 222, 223, 224, 225, 226, 227, 228, 229, 230, 231, 232, 233, 234, 235, 236, 237, 238, 239, 240, 241, 242, 243, 244, 245, 246, 247, 248, 249, 250, 251, 252, 253, 254, 255, 256, 257, 258, 259, 260, 261, 262, 263, 264, 265, 266, 267, 268, 269, 270, 271, 272, 273, 274, 275, 276, 277, 278, 279, 280, 281, 282, 283, 284, 285, 286, 287, 288, 289, 290, 291, 292, 293, 294, 295, 296, 297, 298, 299, 300, 301, 302, 303, 304, 305, 306, 307, 308, 309, 310, 311, 312, 313, 314, 315, 316, 317, 318, 319, 320, 321, 322, 323, 324, 325, 326, 327, 328, 329, 330, 331, 332, 333, 334, 335, 336, 337, 338, 339, 340, 341, 342, 343, 344, 345, 346, 347, 348, 349, 350, 351, 352, 353, 354, 355, 356, 357, 358, 359, 360, 361, 362, 363, 364, 365, 366, 367, 368, 369, 370, 371, 372, 373, 374, 375, 376, 377, 378, 379, 380, 381, 382, 383, 384, 385, 386, 387, 388, 389, 390, 391, 392, 393, 394, 395, 396, 397, 398, 399, 400, 401, 402, 403, 404, 405, 406, 407, 408, 409, 410, 411, 412, 413, 414, 415, 416, 417, 418, 419, 420, 421, 422, 423, 424, 425, 426, 427, 428, 429, 430, 431, 432, 433, 434, 435, 436, 437, 438, 439, 440, 441, 442, 443, 444, 445, 446, 447, 448, 449, 450, 451, 452, 453, 454, 455, 456, 457, 458, 459, 460, 461, 462, 463, 464, 465, 466, 467, 468, 469, 470, 471, 472, 473, 474, 475, 476, 477, 478, 479, 480, 481, 482, 483, 484, 485, 486, 487, 488, 489, 490, 491, 492, 493, 494, 495, 496, 497, 498, 499, 500, 501, 502, 503, 504, 505, 506, 507, 508, 509, 510, 511, 512, 513, 514, 515, 516, 517, 518, 519, 520, 521, 522, 523, 524, 525, 526, 527, 528, 529, 530, 531, 532, 533, 534, 535, 536, 537, 538, 539, 540, 541, 542, 543, 544, 545, 546, 547, 548, 549, 550, 551, 552, 553, 554, 555, 556, 557, 558, 559, 560, 561, 562, 563, 564, 565, 566, 567, 568, 569, 570, 571, 572, 573, 574, 575, 576, 577, 578, 579, 580, 581, 582, 583, 584, 585, 586, 587, 588, 589, 590, 591, 592, 593, 594, 595, 596, 597, 598, 599, 600, 601, 602, 603, 604, 605, 606, 607, 608, 609, 610, 611, 612, 613, 614, 615, 616, 617, 618, 619, 620, 621, 622, 623, 624, 625, 626, 627, 628, 629, 630, 631, 632, 633, 634, 635, 636, 637, 638, 639, 640, 641, 642, 643, 644, 645, 646, 647, 648, 649, 650, 651, 652, 653, 654, 655, 656, 657, 658, 659, 660, 661, 662, 663, 664, 665, 666, 667, 668, 669, 670, 671, 672, 673, 674, 675, 676, 677, 678, 679, 680, 681, 682, 683, 684, 685, 686, 687, 688, 689, 690, 691, 692, 693, 694, 695, 696, 697, 698, 699, 700, 701, 702, 703, 704, 705, 706, 707, 708, 709, 710, 711, 712, 713, 714, 715, 716, 717, 718, 719, 720, 721, 722, 723, 724, 725, 726, 727, 728, 729, 730, 731, 732, 733, 734, 735, 736, 737, 738, 739, 740, 741, 742, 743, 744, 745, 746, 747, 748, 749, 750, 751, 752, 753, 754, 755, 756, 757, 758, 759, 760, 761, 762, 763, 764, 765, 766, 767, 768, 769, 770, 771, 772, 773, 774, 775, 776, 777, 778, 779, 780, 781, 782, 783, 784, 785, 786, 787, 788, 789, 790, 791, 792, 793, 794, 795, 796, 797, 798, 799, 800, 801, 802, 803, 804, 805, 806, 807, 808, 809, 810, 811, 812, 813, 814, 815, 816, 817, 818, 819, 820, 821, 822, 823, 824, 825, 826, 827, 828, 829, 830, 831, 832, 833, 834, 835, 836, 837, 838, 839, 840, 841, 842, 843, 844, 845, 846, 847, 848, 849, 850, 851, 852, 853, 854, 855, 856, 857, 858, 859, 860, 861, 862, 863, 864, 865, 866, 867, 868, 869, 870, 871, 872, 873, 874, 875, 876, 877, 878, 879, 880, 881, 882, 883, 884, 885, 886, 887, 888, 889, 890, 891, 892, 893, 894, 895, 896, 897, 898, 899, 900, 901, 902, 903, 904, 905, 906, 907, 908, 909, 910, 911, 912, 913, 914, 915, 916, 917, 918, 919, 920, 921, 922, 923, 924, 925, 926, 927, 928, 929, 930, 931, 932, 933, 934, 935, 936, 937, 938, 939, 940, 941, 942, 943, 944, 945, 946, 947, 948, 949, 950, 951, 952, 953, 954, 955, 956, 957, 958, 959, 960, 961, 962, 963, 964, 965, 966, 967, 968, 969, 970, 971, 972, 973, 974, 975, 976, 977, 978, 979, 980, 981, 982, 983, 984, 985, 986, 987, 988, 989, 990, 991, 992, 993, 994, 995, 996, 997, 998, 999], \"xaxis\": \"x\", \"y\": [0.1491466631503052, 0.14983234345895025, 0.15052061842202172, 0.151211492728934, 0.1519049710287023, 0.1526010579294317, 0.15329975799780513, 0.15400107575856906, 0.15470501569401793, 0.15541158224347681, 0.15612077980278272, 0.15683261272376386, 0.15754708531371825, 0.15826420183488993, 0.15898396650394445, 0.15970638349144267, 0.16043145692131316, 0.1611591908703234, 0.16188958936754977, 0.16262265639384613, 0.1633583958813112, 0.164096811712755, 0.16483790772116394, 0.16558168768916504, 0.16632815534848874, 0.16707731437943124, 0.16782916841031548, 0.16858372101695138, 0.1693409757220954, 0.17010093599490858, 0.17086360525041489, 0.1716289868489579, 0.17239708409565724, 0.17316790023986445, 0.17394143847461802, 0.17471770193609792, 0.1754966937030799, 0.17627841679638925, 0.17706287417835392, 0.1778500687522575, 0.17864000336179214, 0.17943268079051075, 0.18022810376127957, 0.18102627493573017, 0.18182719691371155, 0.1826308722327422, 0.18343730336746236, 0.18424649272908625, 0.1850584426648542, 0.18587315545748553, 0.18669063332463126, 0.1875108784183272, 0.18833389282444776, 0.18915967856215987, 0.18998823758337718, 0.19081957177221567, 0.19165368294444884, 0.19249057284696458, 0.1933302431572219, 0.19417269548270893, 0.19501793136040205, 0.19586595225622527, 0.19671675956451132, 0.19757035460746314, 0.1984267386346171, 0.19928591282230707, 0.20014787827312971, 0.20101263601541158, 0.2018801870026769, 0.2027505321131174, 0.2036236721490633, 0.20449960783645632, 0.20537833982432396, 0.2062598686842556, 0.20714419490988054, 0.208031318916348, 0.20892124103980877, 0.2098139615368992, 0.2107094805842271, 0.21160779827785978, 0.21250891463281454, 0.2134128295825513, 0.21431954297846764, 0.2152290545893965, 0.2161413641011059, 0.21705647111580223, 0.2179743751516348, 0.2188950756422049, 0.21981857193607607, 0.22074486329628834, 0.2216739488998752, 0.22260582783738317, 0.22354049911239537, 0.22447796164105754, 0.22541821425160782, 0.22636125568390997, 0.22730708458898913, 0.22825569952857278, 0.22920709897463373, 0.2301612813089375, 0.23111824482259388, 0.2320779877156111, 0.2330405080964555, 0.2340058039816138, 0.23497387329516053, 0.2359447138683289, 0.23691832343908623, 0.23789469965171386, 0.2388738400563911, 0.239855742108784, 0.2408404031696384, 0.24182782050437793, 0.24281799128270667, 0.24381091257821616, 0.24480658136799818, 0.24580499453226184, 0.24680614885395583, 0.2478100410183958, 0.24881666761289734, 0.24982602512641366, 0.2508381099491792, 0.2518529183723583, 0.2528704465876993, 0.253890690687195, 0.2549136466627478, 0.25593931040584167, 0.2569676777072189, 0.25799874425656366, 0.25903250564219116, 0.2600689573507428, 0.261108094766888, 0.2621499131730316, 0.2631944077490282, 0.26424157357190253, 0.2652914056155762, 0.26634389875060166, 0.26739904774390205, 0.2684568472585181, 0.2695172918533618, 0.270580375982977, 0.27164609399730666, 0.2727144401414676, 0.27378540855553196, 0.27485899327431573, 0.2759351882271749, 0.27701398723780885, 0.2780953840240706, 0.27917937219778516, 0.2802659452645754, 0.28135509662369457, 0.28244681956786793, 0.28354110728314086, 0.2846379528487353, 0.28573734923691446, 0.28683928931285435, 0.28794376583452475, 0.28905077145257674, 0.2901602987102397, 0.29127234004322566, 0.29238688777964217, 0.2935039341399136, 0.2946234712367106, 0.29574549107488834, 0.29686998555143274, 0.29799694645541586, 0.29912636546795945, 0.30025823416220754, 0.30139254400330734, 0.3025292863483993, 0.30366845244661606, 0.30481003343909, 0.30595402035896974, 0.3071004041314462, 0.3082491755737869, 0.30940032539538004, 0.3105538441977874, 0.31170972247480666, 0.31286795061254236, 0.3140285188894873, 0.3151914174766123, 0.3163566364374653, 0.31752416572828096, 0.3186939951980983, 0.31986611458888903, 0.32104051353569457, 0.3222171815667733, 0.3233961081037569, 0.32457728246181683, 0.3257606938498398, 0.32694633137061385, 0.3281341840210234, 0.32932424069225436, 0.3305164901700093, 0.33171092113473194, 0.33290752216184194, 0.3341062817219791, 0.33530718818125793, 0.33651022980153195, 0.33771539474066764, 0.33892267105282897, 0.34013204668877123, 0.34134350949614506, 0.34255704721981123, 0.34377264750216363, 0.3449902978834645, 0.34620998580218787, 0.3474316985953741, 0.3486554234989938, 0.3498811476483226, 0.3511088580783249, 0.35233854172404855, 0.35357018542102925, 0.3548037759057049, 0.35603929981584026, 0.357276743690961, 0.358516093972799, 0.35975733700574614, 0.3610004590373195, 0.36224544621863536, 0.3634922846048943, 0.36474096015587537, 0.36599145873644046, 0.36724376611704895, 0.3684978679742818, 0.369753749891376, 0.3710113973587681, 0.37227079577464867, 0.37353193044552563, 0.3747947865867978, 0.37605934932333807, 0.3773256036900862, 0.37859353463265205, 0.379863127007927, 0.38113436558470637, 0.3824072350443205, 0.38368171998127615, 0.3849578049039065, 0.38623547423503146, 0.38751471231262663, 0.38879550339050195, 0.39007783163898996, 0.3913616811456426, 0.3926470359159379, 0.3939338798739952, 0.39522219686329985, 0.39651197064743726, 0.3978031849108348, 0.39909582325951354, 0.4003898692218488, 0.4016853062493393, 0.40298211771738457, 0.40428028692607165, 0.4055797971009703, 0.4068806313939363, 0.40818277288392346, 0.40948620457780394, 0.41079090941119706, 0.41209687024930586, 0.413404069887762, 0.414712491053479, 0.41602211640551284, 0.41733292853593107, 0.418644909970689, 0.4199580431705143, 0.42127231053179887, 0.4225876943874984, 0.4239041770080385, 0.42522174060222984, 0.426540367318189, 0.4278600392442672, 0.4291807384099861, 0.4305024467869801, 0.4318251462899457, 0.43314881877759837, 0.43447344605363447, 0.4357990098677013, 0.4371254919163725, 0.43845287384413056, 0.4397811372443547, 0.4411102636603161, 0.4424402345861775, 0.4437710314680002, 0.445102635704756, 0.44643502864934487, 0.4477681916096187, 0.44910210584940996, 0.4504367525895653, 0.45177211300898557, 0.45310816824566985, 0.45444489939776495, 0.45578228752461913, 0.45712031364784167, 0.4584589587523659, 0.45979820378751696, 0.4611380296680847, 0.4624784172753994, 0.46381934745841275, 0.4651608010347826, 0.46650275879196046, 0.46784520148828435, 0.46918810985407405, 0.47053146459273004, 0.4718752463818359, 0.47321943587426385, 0.47456401369928336, 0.47590896046367204, 0.4772542567528305, 0.4785998831318987, 0.4799458201468757, 0.4812920483257406, 0.482638548179577, 0.483985300203699, 0.4853322848787784, 0.48667948267197547, 0.48802687403806944, 0.4893744394205916, 0.49072215925295987, 0.49207001395961414, 0.49341798395715286, 0.4947660496554708, 0.49611419145889735, 0.4974623897673357, 0.49881062497740264, 0.5001588774835685, 0.5015071276792973, 0.5028553559581881, 0.5042035427151139, 0.5055516683473635, 0.5068997132557809, 0.508247657845904, 0.5095954825291056, 0.5109431677237293, 0.5122906938562287, 0.5136380413623031, 0.5149851906880327, 0.5163321222910124, 0.5176788166414852, 0.5190252542234721, 0.5203714155359022, 0.5217172810937394, 0.5230628314291091, 0.52440804709242, 0.5257529086534866, 0.5270973967026471, 0.5284414918518798, 0.5297851747359168, 0.5311284260133544, 0.5324712263677615, 0.5338135565087831, 0.5351553971732441, 0.5364967291262452, 0.5378375331622587, 0.5391777901062196, 0.5405174808146133, 0.5418565861765586, 0.5431950871148876, 0.5445329645872212, 0.5458701995870405, 0.5472067731447534, 0.5485426663287569, 0.5498778602464957, 0.5512123360455137, 0.5525460749145039, 0.5538790580843505, 0.5552112668291672, 0.5565426824673304, 0.5578732863625062, 0.5592030599246731, 0.5605319846111378, 0.5618600419275466, 0.5631872134288898, 0.5645134807205018, 0.5658388254590526, 0.5671632293535362, 0.5684866741662502, 0.5698091417137712, 0.5711306138679212, 0.57245107255673, 0.57377049976539, 0.5750888775372025, 0.5764061879745205, 0.5777224132396813, 0.5790375355559343, 0.5803515372083602, 0.5816644005447835, 0.5829761079766781, 0.5842866419800644, 0.5855959850963998, 0.5869041199334607, 0.5882110291662176, 0.5895166955377024, 0.5908211018598666, 0.5921242310144331, 0.593426065953739, 0.5947265897015701, 0.5960257853539883, 0.5973236360801493, 0.5986201251231128, 0.5999152358006443, 0.6012089515060075, 0.6025012557087499, 0.6037921319554769, 0.6050815638706205, 0.6063695351571966, 0.6076560295975544, 0.6089410310541177, 0.6102245234701149, 0.6115064908703033, 0.6127869173616813, 0.6140657871341927, 0.6153430844614218, 0.6166187937012796, 0.6178928992966796, 0.6191653857762053, 0.6204362377547673, 0.6217054399342529, 0.6229729771041627, 0.6242388341422417, 0.6255029960150981, 0.6267654477788129, 0.6280261745795414, 0.6292851616541024, 0.6305423943305603, 0.6317978580287956, 0.6330515382610664, 0.6343034206325604, 0.6355534908419359, 0.636801734681854, 0.6380481380395008, 0.6392926868970988, 0.6405353673324097, 0.6417761655192267, 0.643015067727855, 0.6442520603255867, 0.6454871297771606, 0.6467202626452158, 0.6479514455907334, 0.6491806653734684, 0.6504079088523728, 0.6516331629860064, 0.6528564148329399, 0.6540776515521461, 0.6552968604033825, 0.6565140287475627, 0.6577291440471185, 0.6589421938663516, 0.6601531658717757, 0.661362047832448, 0.6625688276202909, 0.6637734932104037, 0.6649760326813647, 0.6661764342155232, 0.66737468609928, 0.6685707767233606, 0.6697646945830769, 0.6709564282785785, 0.672145966515096, 0.6733332981031719, 0.6745184119588843, 0.6757012971040585, 0.6768819426664707, 0.6780603378800404, 0.6792364720850137, 0.6804103347281375, 0.6815819153628229, 0.6827512036492995, 0.6839181893547607, 0.6850828623534979, 0.6862452126270271, 0.687405230264204, 0.6885629054613313, 0.689718228522256, 0.6908711898584566, 0.6920217799891226, 0.6931699895412228, 0.6943158092495656, 0.6954592299568506, 0.6966002426137088, 0.6977388382787367, 0.6988750081185187, 0.7000087434076422, 0.7011400355287031, 0.7022688759723023, 0.7033952563370339, 0.7045191683294642, 0.7056406037641015, 0.7067595545633591, 0.7078760127575067, 0.7089899704846162, 0.7101014199904974, 0.7112103536286251, 0.7123167638600593, 0.713420643253355, 0.7145219844844659, 0.7156207803366383, 0.7167170237002974, 0.7178107075729263, 0.7189018250589352, 0.7199903693695251, 0.7210763338225415, 0.7221597118423213, 0.7232404969595323, 0.7243186828110039, 0.7253942631395517, 0.7264672317937935, 0.7275375827279575, 0.7286053100016856, 0.7296704077798256, 0.7307328703322197, 0.7317926920334836, 0.7328498673627798, 0.733904390903583, 0.7349562573434391, 0.7360054614737177, 0.7370519981893567, 0.7380958624886012, 0.7391370494727356, 0.7401755543458088, 0.7412113724143533, 0.7422444990870976, 0.7432749298746726, 0.7443026603893117, 0.7453276863445445, 0.7463500035548848, 0.7473696079355123, 0.7483864955019484, 0.7494006623697264, 0.7504121047540557, 0.7514208189694809, 0.7524268014295341, 0.7534300486463825, 0.7544305572304715, 0.7554283238901596, 0.7564233454313517, 0.7574156187571243, 0.7584051408673466, 0.7593919088582971, 0.7603759199222746, 0.7613571713472037, 0.7623356605162378, 0.7633113849073542, 0.7642843420929472, 0.7652545297394158, 0.7662219456067462, 0.7671865875480904, 0.7681484535093416, 0.7691075415287031, 0.7700638497362553, 0.7710173763535172, 0.7719681196930039, 0.7729160781577822, 0.7738612502410186, 0.7748036345255274, 0.7757432296833129, 0.7766800344751086, 0.7776140477499125, 0.7785452684445202, 0.7794736955830531, 0.7803993282764838, 0.7813221657221593, 0.7822422072033189, 0.7831594520886119, 0.7840738998316099, 0.784985549970317, 0.7858944021266782, 0.7868004560060824, 0.7877037113968672, 0.7886041681698153, 0.7895018262776538, 0.7903966857545476, 0.7912887467155912, 0.7921780093563001, 0.7930644739520968, 0.793948140857797, 0.7948290105070923, 0.7957070834120331, 0.7965823601625057, 0.7974548414257127, 0.7983245279456455, 0.7991914205425613, 0.8000555201124536, 0.800916827626524, 0.8017753441306508, 0.8026310707448568, 0.8034840086627768, 0.804334159151121, 0.8051815235491404, 0.8060261032680889, 0.8068678997906844, 0.8077069146705702, 0.8085431495317739, 0.8093766060681662, 0.8102072860429189, 0.8110351912879613, 0.8118603237034369, 0.8126826852571585, 0.8135022779840638, 0.8143191039856693, 0.8151331654295242, 0.8159444645486638, 0.8167530036410631, 0.817558785069089, 0.8183618112589531, 0.8191620847001642, 0.8199596079449799, 0.8207543836078597, 0.821546414364916, 0.8223357029533671, 0.8231222521709886, 0.8239060648755664, 0.8246871439843491, 0.8254654924735002, 0.8262411133775521, 0.8270140097888585, 0.8277841848570491, 0.8285516417884832, 0.8293163838457046, 0.8300784143468972, 0.8308377366653404, 0.8315943542288661, 0.8323482705193155, 0.8330994890719973, 0.8338480134751461, 0.8345938473693827, 0.8353369944471736, 0.8360774584522931, 0.8368152431792848, 0.8375503524729261, 0.8382827902276911, 0.8390125603872174, 0.8397396669437716, 0.8404641139377177, 0.8411859054569859, 0.8419050456365424, 0.8426215386578615, 0.8433353887483981, 0.8440466001810614, 0.8447551772736915, 0.8454611243885356, 0.8461644459317266, 0.8468651463527632, 0.8475632301439915, 0.8482587018400878, 0.8489515660175436, 0.8496418272941518, 0.8503294903284948, 0.8510145598194339, 0.8516970405056011, 0.8523769371648924, 0.8530542546139623, 0.8537289977077215, 0.8544011713388344, 0.8550707804372208, 0.8557378299695579, 0.8564023249387845, 0.857064270383608, 0.8577236713780121, 0.8583805330307677, 0.859034860484945, 0.8596866589174283, 0.8603359335384325, 0.8609826895910212, 0.8616269323506286, 0.8622686671245817, 0.8629078992516256, 0.8635446341014512, 0.864178877074224, 0.864810633600117, 0.8654399091388439, 0.8660667091791958, 0.8666910392385798, 0.8673129048625599, 0.8679323116244003, 0.8685492651246114, 0.8691637709904971, 0.8697758348757059, 0.870385462459783, 0.8709926594477263, 0.8715974315695433, 0.8721997845798114, 0.8727997242572407, 0.8733972564042387, 0.8739923868464775, 0.8745851214324645, 0.8751754660331141, 0.8757634265413233, 0.8763490088715488, 0.8769322189593869, 0.8775130627611569, 0.8780915462534853, 0.8786676754328938, 0.87924145631539, 0.87981289493606, 0.8803819973486636, 0.8809487696252332, 0.8815132178556729, 0.8820753481473638, 0.8826351666247682, 0.8831926794290388, 0.8837478927176305, 0.8843008126639132, 0.8848514454567885, 0.8853997973003093, 0.8859458744133007, 0.8864896830289852, 0.8870312293946097, 0.887570519771074, 0.8881075604325657, 0.8886423576661916, 0.8891749177716196, 0.8897052470607155, 0.8902333518571884, 0.8907592384962351, 0.8912829133241893, 0.8918043826981723, 0.8923236529857468, 0.8928407305645735, 0.8933556218220698, 0.8938683331550724, 0.8943788709695007, 0.8948872416800248, 0.8953934517097348, 0.8958975074898136, 0.8963994154592115, 0.8968991820643246, 0.8973968137586751, 0.897892317002594, 0.8983856982629075, 0.8988769640126247, 0.8993661207306296, 0.8998531749013737, 0.9003381330145733, 0.9008210015649081, 0.9013017870517225, 0.9017804959787304, 0.9022571348537219, 0.9027317101882725, 0.9032042284974552, 0.903674696299556, 0.9041431201157897, 0.9046095064700213, 0.9050738618884873, 0.9055361928995215, 0.9059965060332823, 0.9064548078214828, 0.9069111047971236, 0.9073654034942282, 0.9078177104475809, 0.9082680321924663, 0.908716375264414, 0.9091627461989419, 0.9096071515313054, 0.9100495977962479, 0.910490091527753, 0.9109286392587999, 0.9113652475211222, 0.9117999228449676, 0.9122326717588601, 0.9126635007893666, 0.9130924164608637, 0.9135194252953077, 0.9139445338120077, 0.9143677485274001, 0.9147890759548263, 0.9152085226043122, 0.9156260949823503, 0.9160417995916842, 0.9164556429310958, 0.916867631495194, 0.9172777717742064, 0.9176860702537734, 0.9180925334147437, 0.9184971677329741, 0.9188999796791285, 0.9193009757184827, 0.9197001623107284, 0.9200975459097815, 0.9204931329635921, 0.9208869299139557, 0.9212789431963285, 0.9216691792396434, 0.9220576444661286, 0.9224443452911293, 0.9228292881229296, 0.923212479362579, 0.9235939254037189, 0.9239736326324127, 0.9243516074269773, 0.9247278561578168, 0.9251023851872588, 0.9254752008693923, 0.9258463095499073, 0.9262157175659378, 0.9265834312459055, 0.9269494569093661, 0.9273138008668581, 0.9276764694197523, 0.9280374688601052, 0.9283968054705123, 0.9287544855239652, 0.9291105152837095, 0.9294649010031052, 0.9298176489254889, 0.9301687652840379, 0.9305182563016364, 0.9308661281907433, 0.931212387153262, 0.9315570393804123, 0.9319000910526042, 0.9322415483393127, 0.9325814173989562, 0.9329197043787744, 0.9332564154147102, 0.9335915566312921, 0.9339251341415188, 0.9342571540467457, 0.9345876224365727, 0.934916545388734, 0.9352439289689908, 0.9355697792310229, 0.935894102216325, 0.9362169039541032, 0.9365381904611731, 0.9368579677418605, 0.9371762417879025, 0.9374930185783518, 0.9378083040794807, 0.9381221042446888, 0.938434425014411, 0.9387452723160271, 0.9390546520637736, 0.9393625701586572, 0.9396690324883684, 0.9399740449271986, 0.940277613335958, 0.9405797435618937, 0.9408804414386117, 0.9411797127859988, 0.9414775634101462, 0.9417739991032748, 0.9420690256436619, 0.9423626487955697, 0.9426548743091747, 0.9429457079204985, 0.9432351553513404, 0.9435232223092115, 0.9438099144872698, 0.9440952375642565, 0.9443791972044348, 0.9446617990575279, 0.9449430487586613, 0.9452229519283036, 0.9455015141722105, 0.945778741081369, 0.9460546382319435, 0.9463292111852233, 0.9466024654875708, 0.946874406670371, 0.9471450402499834, 0.947414371727693, 0.947682406589665, 0.9479491503068984, 0.9482146083351826, 0.9484787861150542, 0.9487416890717552, 0.9490033226151925, 0.9492636921398987, 0.949522803024993, 0.9497806606341453, 0.9500372703155391, 0.9502926374018369, 0.9505467672101466, 0.9507996650419888, 0.9510513361832645, 0.9513017859042256, 0.9515510194594444, 0.9517990420877857, 0.9520458590123788, 0.952291475440592, 0.9525358965640064, 0.9527791275583916, 0.9530211735836828, 0.9532620397839578, 0.953501731287416, 0.9537402532063576, 0.9539776106371642, 0.9542138086602803, 0.9544488523401954, 0.9546827467254275, 0.9549154968485075, 0.9551471077259635, 0.9553775843583076, 0.9556069317300222, 0.9558351548095483, 0.9560622585492734, 0.9562882478855215, 0.956513127738543, 0.9567369030125065, 0.9569595785954895, 0.9571811593594727, 0.9574016501603322, 0.9576210558378351, 0.9578393812156334, 0.958056631101261, 0.95827281028613, 0.9584879235455277, 0.9587019756386159, 0.9589149713084287, 0.959126915281873, 0.9593378122697287, 0.9595476669666495, 0.9597564840511653, 0.9599642681856843, 0.9601710240164965, 0.9603767561737773, 0.9605814692715927, 0.9607851679079038, 0.9609878566645733, 0.9611895401073716, 0.9613902227859843, 0.9615899092340201, 0.9617886039690191, 0.9619863114924616, 0.9621830362897782, 0.9623787828303603, 0.96257355556757, 0.9627673589387525, 0.962960197365248, 0.9631520752524036, 0.9633429969895876, 0.963532966950202, 0.9637219894916976, 0.9639100689555888, 0.9640972096674684, 0.9642834159370238, 0.9644686920580535, 0.9646530423084837, 0.9648364709503858, 0.9650189822299946, 0.965200580377726, 0.9653812696081966, 0.9655610541202424, 0.9657399380969393, 0.9659179257056223, 0.9660950210979076, 0.9662712284097127, 0.9664465517612785, 0.9666209952571908, 0.9667945629864039, 0.9669672590222622, 0.9671390874225243, 0.9673100522293865, 0.9674801574695069, 0.9676494071540299, 0.9678178052786115, 0.9679853558234439, 0.9681520627532816, 0.9683179300174676, 0.9684829615499593, 0.9686471612693557, 0.9688105330789245, 0.9689730808666297, 0.9691348085051588, 0.969295719851951, 0.9694558187492273, 0.9696151090240166, 0.9697735944881877, 0.9699312789384764, 0.9700881661565166, 0.9702442599088699, 0.9703995639470562, 0.9705540820075842, 0.9707078178119821, 0.9708607750668296, 0.9710129574637886, 0.9711643686796352, 0.9713150123762923, 0.9714648922008611, 0.9716140117856542, 0.9717623747482282, 0.9719099846914172, 0.9720568452033653, 0.972202959857561, 0.9723483322128703, 0.9724929658135716, 0.972636864189389, 0.9727800308555271, 0.9729224693127063, 0.9730641830471966, 0.9732051755308535, 0.9733454502211533, 0.973485010561228, 0.9736238599799018, 0.9737620018917261, 0.9738994396970166, 0.9740361767818887, 0.9741722165182941, 0.974307562264058, 0.9744422173629153, 0.9745761851445474], \"yaxis\": \"y\"}],                        {\"legend\": {\"tracegroupgap\": 0}, \"margin\": {\"t\": 60}, \"template\": {\"data\": {\"bar\": [{\"error_x\": {\"color\": \"#2a3f5f\"}, \"error_y\": {\"color\": \"#2a3f5f\"}, \"marker\": {\"line\": {\"color\": \"#E5ECF6\", \"width\": 0.5}}, \"type\": \"bar\"}], \"barpolar\": [{\"marker\": {\"line\": {\"color\": \"#E5ECF6\", \"width\": 0.5}}, \"type\": \"barpolar\"}], \"carpet\": [{\"aaxis\": {\"endlinecolor\": \"#2a3f5f\", \"gridcolor\": \"white\", \"linecolor\": \"white\", \"minorgridcolor\": \"white\", \"startlinecolor\": \"#2a3f5f\"}, \"baxis\": {\"endlinecolor\": \"#2a3f5f\", \"gridcolor\": \"white\", \"linecolor\": \"white\", \"minorgridcolor\": \"white\", \"startlinecolor\": \"#2a3f5f\"}, \"type\": \"carpet\"}], \"choropleth\": [{\"colorbar\": {\"outlinewidth\": 0, \"ticks\": \"\"}, \"type\": \"choropleth\"}], \"contour\": [{\"colorbar\": {\"outlinewidth\": 0, \"ticks\": \"\"}, \"colorscale\": [[0.0, \"#0d0887\"], [0.1111111111111111, \"#46039f\"], [0.2222222222222222, \"#7201a8\"], [0.3333333333333333, \"#9c179e\"], [0.4444444444444444, \"#bd3786\"], [0.5555555555555556, \"#d8576b\"], [0.6666666666666666, \"#ed7953\"], [0.7777777777777778, \"#fb9f3a\"], [0.8888888888888888, \"#fdca26\"], [1.0, \"#f0f921\"]], \"type\": \"contour\"}], \"contourcarpet\": [{\"colorbar\": {\"outlinewidth\": 0, \"ticks\": \"\"}, \"type\": \"contourcarpet\"}], \"heatmap\": [{\"colorbar\": {\"outlinewidth\": 0, \"ticks\": \"\"}, \"colorscale\": [[0.0, \"#0d0887\"], [0.1111111111111111, \"#46039f\"], [0.2222222222222222, \"#7201a8\"], [0.3333333333333333, \"#9c179e\"], [0.4444444444444444, \"#bd3786\"], [0.5555555555555556, \"#d8576b\"], [0.6666666666666666, \"#ed7953\"], [0.7777777777777778, \"#fb9f3a\"], [0.8888888888888888, \"#fdca26\"], [1.0, \"#f0f921\"]], \"type\": \"heatmap\"}], \"heatmapgl\": [{\"colorbar\": {\"outlinewidth\": 0, \"ticks\": \"\"}, \"colorscale\": [[0.0, \"#0d0887\"], [0.1111111111111111, \"#46039f\"], [0.2222222222222222, \"#7201a8\"], [0.3333333333333333, \"#9c179e\"], [0.4444444444444444, \"#bd3786\"], [0.5555555555555556, \"#d8576b\"], [0.6666666666666666, \"#ed7953\"], [0.7777777777777778, \"#fb9f3a\"], [0.8888888888888888, \"#fdca26\"], [1.0, \"#f0f921\"]], \"type\": \"heatmapgl\"}], \"histogram\": [{\"marker\": {\"colorbar\": {\"outlinewidth\": 0, \"ticks\": \"\"}}, \"type\": \"histogram\"}], \"histogram2d\": [{\"colorbar\": {\"outlinewidth\": 0, \"ticks\": \"\"}, \"colorscale\": [[0.0, \"#0d0887\"], [0.1111111111111111, \"#46039f\"], [0.2222222222222222, \"#7201a8\"], [0.3333333333333333, \"#9c179e\"], [0.4444444444444444, \"#bd3786\"], [0.5555555555555556, \"#d8576b\"], [0.6666666666666666, \"#ed7953\"], [0.7777777777777778, \"#fb9f3a\"], [0.8888888888888888, \"#fdca26\"], [1.0, \"#f0f921\"]], \"type\": \"histogram2d\"}], \"histogram2dcontour\": [{\"colorbar\": {\"outlinewidth\": 0, \"ticks\": \"\"}, \"colorscale\": [[0.0, \"#0d0887\"], [0.1111111111111111, \"#46039f\"], [0.2222222222222222, \"#7201a8\"], [0.3333333333333333, \"#9c179e\"], [0.4444444444444444, \"#bd3786\"], [0.5555555555555556, \"#d8576b\"], [0.6666666666666666, \"#ed7953\"], [0.7777777777777778, \"#fb9f3a\"], [0.8888888888888888, \"#fdca26\"], [1.0, \"#f0f921\"]], \"type\": \"histogram2dcontour\"}], \"mesh3d\": [{\"colorbar\": {\"outlinewidth\": 0, \"ticks\": \"\"}, \"type\": \"mesh3d\"}], \"parcoords\": [{\"line\": {\"colorbar\": {\"outlinewidth\": 0, \"ticks\": \"\"}}, \"type\": \"parcoords\"}], \"pie\": [{\"automargin\": true, \"type\": \"pie\"}], \"scatter\": [{\"marker\": {\"colorbar\": {\"outlinewidth\": 0, \"ticks\": \"\"}}, \"type\": \"scatter\"}], \"scatter3d\": [{\"line\": {\"colorbar\": {\"outlinewidth\": 0, \"ticks\": \"\"}}, \"marker\": {\"colorbar\": {\"outlinewidth\": 0, \"ticks\": \"\"}}, \"type\": \"scatter3d\"}], \"scattercarpet\": [{\"marker\": {\"colorbar\": {\"outlinewidth\": 0, \"ticks\": \"\"}}, \"type\": \"scattercarpet\"}], \"scattergeo\": [{\"marker\": {\"colorbar\": {\"outlinewidth\": 0, \"ticks\": \"\"}}, \"type\": \"scattergeo\"}], \"scattergl\": [{\"marker\": {\"colorbar\": {\"outlinewidth\": 0, \"ticks\": \"\"}}, \"type\": \"scattergl\"}], \"scattermapbox\": [{\"marker\": {\"colorbar\": {\"outlinewidth\": 0, \"ticks\": \"\"}}, \"type\": \"scattermapbox\"}], \"scatterpolar\": [{\"marker\": {\"colorbar\": {\"outlinewidth\": 0, \"ticks\": \"\"}}, \"type\": \"scatterpolar\"}], \"scatterpolargl\": [{\"marker\": {\"colorbar\": {\"outlinewidth\": 0, \"ticks\": \"\"}}, \"type\": \"scatterpolargl\"}], \"scatterternary\": [{\"marker\": {\"colorbar\": {\"outlinewidth\": 0, \"ticks\": \"\"}}, \"type\": \"scatterternary\"}], \"surface\": [{\"colorbar\": {\"outlinewidth\": 0, \"ticks\": \"\"}, \"colorscale\": [[0.0, \"#0d0887\"], [0.1111111111111111, \"#46039f\"], [0.2222222222222222, \"#7201a8\"], [0.3333333333333333, \"#9c179e\"], [0.4444444444444444, \"#bd3786\"], [0.5555555555555556, \"#d8576b\"], [0.6666666666666666, \"#ed7953\"], [0.7777777777777778, \"#fb9f3a\"], [0.8888888888888888, \"#fdca26\"], [1.0, \"#f0f921\"]], \"type\": \"surface\"}], \"table\": [{\"cells\": {\"fill\": {\"color\": \"#EBF0F8\"}, \"line\": {\"color\": \"white\"}}, \"header\": {\"fill\": {\"color\": \"#C8D4E3\"}, \"line\": {\"color\": \"white\"}}, \"type\": \"table\"}]}, \"layout\": {\"annotationdefaults\": {\"arrowcolor\": \"#2a3f5f\", \"arrowhead\": 0, \"arrowwidth\": 1}, \"autotypenumbers\": \"strict\", \"coloraxis\": {\"colorbar\": {\"outlinewidth\": 0, \"ticks\": \"\"}}, \"colorscale\": {\"diverging\": [[0, \"#8e0152\"], [0.1, \"#c51b7d\"], [0.2, \"#de77ae\"], [0.3, \"#f1b6da\"], [0.4, \"#fde0ef\"], [0.5, \"#f7f7f7\"], [0.6, \"#e6f5d0\"], [0.7, \"#b8e186\"], [0.8, \"#7fbc41\"], [0.9, \"#4d9221\"], [1, \"#276419\"]], \"sequential\": [[0.0, \"#0d0887\"], [0.1111111111111111, \"#46039f\"], [0.2222222222222222, \"#7201a8\"], [0.3333333333333333, \"#9c179e\"], [0.4444444444444444, \"#bd3786\"], [0.5555555555555556, \"#d8576b\"], [0.6666666666666666, \"#ed7953\"], [0.7777777777777778, \"#fb9f3a\"], [0.8888888888888888, \"#fdca26\"], [1.0, \"#f0f921\"]], \"sequentialminus\": [[0.0, \"#0d0887\"], [0.1111111111111111, \"#46039f\"], [0.2222222222222222, \"#7201a8\"], [0.3333333333333333, \"#9c179e\"], [0.4444444444444444, \"#bd3786\"], [0.5555555555555556, \"#d8576b\"], [0.6666666666666666, \"#ed7953\"], [0.7777777777777778, \"#fb9f3a\"], [0.8888888888888888, \"#fdca26\"], [1.0, \"#f0f921\"]]}, \"colorway\": [\"#636efa\", \"#EF553B\", \"#00cc96\", \"#ab63fa\", \"#FFA15A\", \"#19d3f3\", \"#FF6692\", \"#B6E880\", \"#FF97FF\", \"#FECB52\"], \"font\": {\"color\": \"#2a3f5f\"}, \"geo\": {\"bgcolor\": \"white\", \"lakecolor\": \"white\", \"landcolor\": \"#E5ECF6\", \"showlakes\": true, \"showland\": true, \"subunitcolor\": \"white\"}, \"hoverlabel\": {\"align\": \"left\"}, \"hovermode\": \"closest\", \"mapbox\": {\"style\": \"light\"}, \"paper_bgcolor\": \"white\", \"plot_bgcolor\": \"#E5ECF6\", \"polar\": {\"angularaxis\": {\"gridcolor\": \"white\", \"linecolor\": \"white\", \"ticks\": \"\"}, \"bgcolor\": \"#E5ECF6\", \"radialaxis\": {\"gridcolor\": \"white\", \"linecolor\": \"white\", \"ticks\": \"\"}}, \"scene\": {\"xaxis\": {\"backgroundcolor\": \"#E5ECF6\", \"gridcolor\": \"white\", \"gridwidth\": 2, \"linecolor\": \"white\", \"showbackground\": true, \"ticks\": \"\", \"zerolinecolor\": \"white\"}, \"yaxis\": {\"backgroundcolor\": \"#E5ECF6\", \"gridcolor\": \"white\", \"gridwidth\": 2, \"linecolor\": \"white\", \"showbackground\": true, \"ticks\": \"\", \"zerolinecolor\": \"white\"}, \"zaxis\": {\"backgroundcolor\": \"#E5ECF6\", \"gridcolor\": \"white\", \"gridwidth\": 2, \"linecolor\": \"white\", \"showbackground\": true, \"ticks\": \"\", \"zerolinecolor\": \"white\"}}, \"shapedefaults\": {\"line\": {\"color\": \"#2a3f5f\"}}, \"ternary\": {\"aaxis\": {\"gridcolor\": \"white\", \"linecolor\": \"white\", \"ticks\": \"\"}, \"baxis\": {\"gridcolor\": \"white\", \"linecolor\": \"white\", \"ticks\": \"\"}, \"bgcolor\": \"#E5ECF6\", \"caxis\": {\"gridcolor\": \"white\", \"linecolor\": \"white\", \"ticks\": \"\"}}, \"title\": {\"x\": 0.05}, \"xaxis\": {\"automargin\": true, \"gridcolor\": \"white\", \"linecolor\": \"white\", \"ticks\": \"\", \"title\": {\"standoff\": 15}, \"zerolinecolor\": \"white\", \"zerolinewidth\": 2}, \"yaxis\": {\"automargin\": true, \"gridcolor\": \"white\", \"linecolor\": \"white\", \"ticks\": \"\", \"title\": {\"standoff\": 15}, \"zerolinecolor\": \"white\", \"zerolinewidth\": 2}}}, \"xaxis\": {\"anchor\": \"y\", \"domain\": [0.0, 1.0], \"title\": {\"text\": \"x\"}}, \"yaxis\": {\"anchor\": \"x\", \"domain\": [0.0, 1.0], \"title\": {\"text\": \"y\"}}},                        {\"responsive\": true}                    ).then(function(){\n",
       "                            \n",
       "var gd = document.getElementById('32cdb8a3-6936-4d72-bc94-d514c0681ba0');\n",
       "var x = new MutationObserver(function (mutations, observer) {{\n",
       "        var display = window.getComputedStyle(gd).display;\n",
       "        if (!display || display === 'none') {{\n",
       "            console.log([gd, 'removed!']);\n",
       "            Plotly.purge(gd);\n",
       "            observer.disconnect();\n",
       "        }}\n",
       "}});\n",
       "\n",
       "// Listen for the removal of the full notebook cells\n",
       "var notebookContainer = gd.closest('#notebook-container');\n",
       "if (notebookContainer) {{\n",
       "    x.observe(notebookContainer, {childList: true});\n",
       "}}\n",
       "\n",
       "// Listen for the clearing of the current output cell\n",
       "var outputEl = gd.closest('.output');\n",
       "if (outputEl) {{\n",
       "    x.observe(outputEl, {childList: true});\n",
       "}}\n",
       "\n",
       "                        })                };                });            </script>        </div>"
      ]
     },
     "metadata": {},
     "output_type": "display_data"
    }
   ],
   "source": [
    "x, y = gerar_pontos(min_=0, max_=1000, fn=h, incremento=1)\n",
    "plotar(x, y)"
   ]
  },
  {
   "cell_type": "markdown",
   "metadata": {
    "pycharm": {
     "name": "#%% md\n"
    }
   },
   "source": [
    "Para efeito de comparação, vamos calcular a mesma probabilidade com o `sklearn`."
   ]
  },
  {
   "cell_type": "code",
   "execution_count": 95,
   "metadata": {
    "pycharm": {
     "name": "#%%\n"
    }
   },
   "outputs": [
    {
     "data": {
      "text/plain": [
       "array([1])"
      ]
     },
     "execution_count": 95,
     "metadata": {},
     "output_type": "execute_result"
    }
   ],
   "source": [
    "#clf.predict_proba([[762]])\n",
    "clf.predict([[762]])"
   ]
  },
  {
   "cell_type": "markdown",
   "metadata": {
    "pycharm": {
     "name": "#%% md\n"
    }
   },
   "source": [
    "## Estimativa dos coeficientes por gradiente descendente"
   ]
  },
  {
   "cell_type": "markdown",
   "metadata": {
    "pycharm": {
     "name": "#%% md\n"
    }
   },
   "source": [
    "Os códigos a seguir ilustram o funcionamento da função logística para obter a probabilidade de admissão."
   ]
  },
  {
   "cell_type": "markdown",
   "metadata": {
    "pycharm": {
     "name": "#%% md\n"
    }
   },
   "source": [
    "### Função hipótese (sigmóide)"
   ]
  },
  {
   "cell_type": "markdown",
   "metadata": {
    "pycharm": {
     "name": "#%% md\n"
    }
   },
   "source": [
    "$$\n",
    "z = \\beta_{0}1 + \\beta_{1}X_{1} + \\beta_{2}X_{2} + ... + \\beta_{n}X_{n}\n",
    "$$\n",
    "\n",
    "$$\n",
    "sigmoide(z) = \\frac{1}{1 + e^{-z}}\n",
    "$$\n"
   ]
  },
  {
   "cell_type": "code",
   "execution_count": 98,
   "metadata": {
    "pycharm": {
     "name": "#%%\n"
    }
   },
   "outputs": [],
   "source": [
    "def sigmoide(x, betas, beta0):\n",
    "    z = np.dot(betas.T, x) + beta0\n",
    "    return 1 / (1 + np.exp(-z))"
   ]
  },
  {
   "cell_type": "markdown",
   "metadata": {
    "pycharm": {
     "name": "#%% md\n"
    }
   },
   "source": [
    "### Função de custo logística"
   ]
  },
  {
   "cell_type": "markdown",
   "metadata": {
    "pycharm": {
     "name": "#%% md\n"
    }
   },
   "source": [
    "$$\n",
    "J(\\theta) = \\frac{1}{m}\\sum_{i=1}^{m}y_{i}log(h_{\\theta}(x_{i}))~+~(1-y_{i})log(1-h_{\\theta}(x_{i}))\n",
    "$$"
   ]
  },
  {
   "cell_type": "code",
   "execution_count": 96,
   "metadata": {
    "pycharm": {
     "name": "#%%\n"
    }
   },
   "outputs": [],
   "source": [
    "def grad_desc(X, y, alpha, n_épocas):\n",
    "    betas = np.zeros_like(X[0])\n",
    "    beta0 = 1\n",
    "    \n",
    "    # Quantidade de instâncias\n",
    "    m = len(X)\n",
    "    for época in range(n_épocas):\n",
    "        \n",
    "        for i in range(m):\n",
    "            # Faz a predição\n",
    "            y_pred = sigmoide(X[i], betas, beta0)\n",
    "            \n",
    "            J = -1/m * sum((y * np.log(y_pred)) + (1- y) * np.log(1-y_pred))\n",
    "            \n",
    "            # Calcula os gradientes\n",
    "            grad_bs = X[i] * (y_pred - y[i])\n",
    "            grad_b0 = y_pred - y[i]\n",
    "            \n",
    "            # Atualiza os coeficientes  \n",
    "            betas = betas - alpha * grad_bs / m\n",
    "            beta0 = beta0 - alpha * grad_b0 / m\n",
    "\n",
    "        if (época % 500 == 0):\n",
    "            print(f\"beta0: {beta0}\\tbeta1: {betas[0]}\")\n",
    "            #print(f\">> custo: {J}\")\n",
    "    betas.insert(0, beta0)\n",
    "    return betas"
   ]
  },
  {
   "cell_type": "code",
   "execution_count": null,
   "metadata": {
    "scrolled": false,
    "pycharm": {
     "name": "#%%\n"
    }
   },
   "outputs": [],
   "source": [
    "#grad_desc(np.array(X), np.array(y), 0.009, 4 * 10 ** 4)\n",
    "grad_desc(np.array(X), np.array(y), 0.9, 10 ** 4)"
   ]
  },
  {
   "cell_type": "markdown",
   "metadata": {
    "pycharm": {
     "name": "#%% md\n"
    }
   },
   "source": [
    "Valores dos coeficientes do `sklearn`:\n",
    "```\n",
    "beta0: -1.7413096333248066\t\n",
    "beta1: 0.005393019019444177\n",
    "```"
   ]
  },
  {
   "cell_type": "markdown",
   "metadata": {
    "pycharm": {
     "name": "#%% md\n"
    }
   },
   "source": [
    "# Referências"
   ]
  },
  {
   "cell_type": "markdown",
   "metadata": {
    "pycharm": {
     "name": "#%% md\n"
    }
   },
   "source": [
    "Levin, J., Fox, J. A., Forde, D. R. **Elementary Statistics in Social Research**. Pearson. New York, 2003\n",
    "\n",
    "Provost, F., Fawcett, T. **Data Science for Business: What you need to know about Data Mining and Data-Analytic Thinking**. O'Reilly. Sebastopol, 2013.\n",
    "\n",
    "Albon, C. **Machine Learning Cookbook: Practical Solutions From Preprocessing to Deep Learning**. O'Reilly. Sebastopol, 2018."
   ]
  }
 ],
 "metadata": {
  "kernelspec": {
   "display_name": "Python 3 (ipykernel)",
   "language": "python",
   "name": "python3"
  },
  "language_info": {
   "codemirror_mode": {
    "name": "ipython",
    "version": 3
   },
   "file_extension": ".py",
   "mimetype": "text/x-python",
   "name": "python",
   "nbconvert_exporter": "python",
   "pygments_lexer": "ipython3",
   "version": "3.8.12"
  }
 },
 "nbformat": 4,
 "nbformat_minor": 4
}