{
 "cells": [
  {
   "cell_type": "markdown",
   "metadata": {
    "pycharm": {
     "name": "#%% md\n"
    }
   },
   "source": [
    "\n",
    "\n",
    "A partir dos dados sinteticamente gerados, treine dois preditores utilizando o framework do Scikit-Learn: um preditor por Regressão Linear e outro por Regressão Logística. Sinta-se livre para acrescentar colunas ao dataset ou ainda modificar as existentes se julgar necessário.\n",
    "\n",
    "Pesquise maneiras de avaliar a performance dos modelos de regressão linear e de regressão logísitica.\n",
    "\n",
    "Elabore um relatório sobre o treinamento dos modelos em um caderno Jupyter e o submeta como conclusão desta atividade."
   ]
  },
  {
   "cell_type": "code",
   "execution_count": 148,
   "metadata": {
    "pycharm": {
     "name": "#%%\n"
    }
   },
   "outputs": [
    {
     "data": {
      "text/html": [
       "<div>\n",
       "<style scoped>\n",
       "    .dataframe tbody tr th:only-of-type {\n",
       "        vertical-align: middle;\n",
       "    }\n",
       "\n",
       "    .dataframe tbody tr th {\n",
       "        vertical-align: top;\n",
       "    }\n",
       "\n",
       "    .dataframe thead th {\n",
       "        text-align: right;\n",
       "    }\n",
       "</style>\n",
       "<table border=\"1\" class=\"dataframe\">\n",
       "  <thead>\n",
       "    <tr style=\"text-align: right;\">\n",
       "      <th></th>\n",
       "      <th>matrícula</th>\n",
       "      <th>nome</th>\n",
       "      <th>idade</th>\n",
       "      <th>renda</th>\n",
       "      <th>cor</th>\n",
       "      <th>sexo</th>\n",
       "      <th>ano_curso</th>\n",
       "      <th>escola</th>\n",
       "      <th>cod_curso</th>\n",
       "      <th>logradouro</th>\n",
       "      <th>numero</th>\n",
       "      <th>bairro</th>\n",
       "      <th>cidade</th>\n",
       "      <th>uf</th>\n",
       "      <th>cep</th>\n",
       "      <th>motivação</th>\n",
       "    </tr>\n",
       "  </thead>\n",
       "  <tbody>\n",
       "    <tr>\n",
       "      <th>0</th>\n",
       "      <td>RA55000001</td>\n",
       "      <td>Sueli Pedro</td>\n",
       "      <td>18</td>\n",
       "      <td>386.0</td>\n",
       "      <td>1</td>\n",
       "      <td>1</td>\n",
       "      <td>3</td>\n",
       "      <td>1</td>\n",
       "      <td>24</td>\n",
       "      <td>Rua Major Almeida Queiroz</td>\n",
       "      <td>127</td>\n",
       "      <td>Instituto de Previdência</td>\n",
       "      <td>São Paulo</td>\n",
       "      <td>SP</td>\n",
       "      <td>05531-020</td>\n",
       "      <td>9</td>\n",
       "    </tr>\n",
       "    <tr>\n",
       "      <th>1</th>\n",
       "      <td>RA55000002</td>\n",
       "      <td>Arielly Toledo</td>\n",
       "      <td>18</td>\n",
       "      <td>15.0</td>\n",
       "      <td>1</td>\n",
       "      <td>1</td>\n",
       "      <td>3</td>\n",
       "      <td>1</td>\n",
       "      <td>109</td>\n",
       "      <td>Rua Capitão Rangel</td>\n",
       "      <td>574</td>\n",
       "      <td>Vila São Geraldo</td>\n",
       "      <td>São Paulo</td>\n",
       "      <td>SP</td>\n",
       "      <td>03607-100</td>\n",
       "      <td>9</td>\n",
       "    </tr>\n",
       "    <tr>\n",
       "      <th>2</th>\n",
       "      <td>RA55000003</td>\n",
       "      <td>Renisia Lucas Belo Pinheiro</td>\n",
       "      <td>18</td>\n",
       "      <td>312.0</td>\n",
       "      <td>1</td>\n",
       "      <td>2</td>\n",
       "      <td>3</td>\n",
       "      <td>1</td>\n",
       "      <td>6</td>\n",
       "      <td>Avenida Nove de Julho</td>\n",
       "      <td>186</td>\n",
       "      <td>Jardim Paulista</td>\n",
       "      <td>São Paulo</td>\n",
       "      <td>SP</td>\n",
       "      <td>01407-902</td>\n",
       "      <td>9</td>\n",
       "    </tr>\n",
       "    <tr>\n",
       "      <th>3</th>\n",
       "      <td>RA55000004</td>\n",
       "      <td>Kayllane Toledo Lampreia</td>\n",
       "      <td>18</td>\n",
       "      <td>244.0</td>\n",
       "      <td>1</td>\n",
       "      <td>2</td>\n",
       "      <td>3</td>\n",
       "      <td>1</td>\n",
       "      <td>84</td>\n",
       "      <td>Rua Dez de Julho</td>\n",
       "      <td>594</td>\n",
       "      <td>Cidade Ademar</td>\n",
       "      <td>São Paulo</td>\n",
       "      <td>SP</td>\n",
       "      <td>04404-000</td>\n",
       "      <td>10</td>\n",
       "    </tr>\n",
       "    <tr>\n",
       "      <th>4</th>\n",
       "      <td>RA55000005</td>\n",
       "      <td>Gerleide Fragoso Reino</td>\n",
       "      <td>18</td>\n",
       "      <td>250.0</td>\n",
       "      <td>2</td>\n",
       "      <td>2</td>\n",
       "      <td>3</td>\n",
       "      <td>1</td>\n",
       "      <td>4</td>\n",
       "      <td>Rua Nossa Senhora Aparecida</td>\n",
       "      <td>604</td>\n",
       "      <td>Jardim Felicidade (Zona Norte)</td>\n",
       "      <td>São Paulo</td>\n",
       "      <td>SP</td>\n",
       "      <td>02326-105</td>\n",
       "      <td>9</td>\n",
       "    </tr>\n",
       "  </tbody>\n",
       "</table>\n",
       "</div>"
      ],
      "text/plain": [
       "    matrícula                         nome  idade  renda  cor  sexo  \\\n",
       "0  RA55000001                  Sueli Pedro     18  386.0    1     1   \n",
       "1  RA55000002               Arielly Toledo     18   15.0    1     1   \n",
       "2  RA55000003  Renisia Lucas Belo Pinheiro     18  312.0    1     2   \n",
       "3  RA55000004     Kayllane Toledo Lampreia     18  244.0    1     2   \n",
       "4  RA55000005       Gerleide Fragoso Reino     18  250.0    2     2   \n",
       "\n",
       "   ano_curso  escola  cod_curso                   logradouro numero  \\\n",
       "0          3       1         24    Rua Major Almeida Queiroz    127   \n",
       "1          3       1        109           Rua Capitão Rangel    574   \n",
       "2          3       1          6        Avenida Nove de Julho    186   \n",
       "3          3       1         84             Rua Dez de Julho    594   \n",
       "4          3       1          4  Rua Nossa Senhora Aparecida    604   \n",
       "\n",
       "                           bairro     cidade  uf        cep  motivação  \n",
       "0        Instituto de Previdência  São Paulo  SP  05531-020          9  \n",
       "1                Vila São Geraldo  São Paulo  SP  03607-100          9  \n",
       "2                 Jardim Paulista  São Paulo  SP  01407-902          9  \n",
       "3                   Cidade Ademar  São Paulo  SP  04404-000         10  \n",
       "4  Jardim Felicidade (Zona Norte)  São Paulo  SP  02326-105          9  "
      ]
     },
     "execution_count": 148,
     "metadata": {},
     "output_type": "execute_result"
    }
   ],
   "source": [
    "# Adicionando o pacote geração de dados ao sys.path\n",
    "import sys\n",
    "sys.path.append('/home/gustavo/Área de Trabalho/PUC-CDIA/Projeto Integrado/gerador-datasets-estudantes')\n",
    "\n",
    "# Gerando dados aleatórios\n",
    "from cdia.datasets import DatasetEstudantes\n",
    "n_amostra = 10000\n",
    "\n",
    "#  O método criar retorna um DataFrame (Pandas)\n",
    "df = DatasetEstudantes.criar(n_amostra)\n",
    "df.head()"
   ]
  },
  {
   "cell_type": "code",
   "execution_count": 149,
   "metadata": {
    "pycharm": {
     "name": "#%%\n"
    }
   },
   "outputs": [
    {
     "data": {
      "image/png": "[encoded data removed]",
      "text/plain": [
       "<Figure size 432x288 with 2 Axes>"
      ]
     },
     "metadata": {},
     "output_type": "display_data"
    }
   ],
   "source": [
    "# Vendo a correlação dos dados\n",
    "import seaborn as sb\n",
    "sb.heatmap(df.corr(), annot=True, cmap='Blues');"
   ]
  },
  {
   "cell_type": "code",
   "execution_count": 150,
   "metadata": {
    "pycharm": {
     "name": "#%%\n"
    }
   },
   "outputs": [],
   "source": [
    "from sklearn.model_selection import train_test_split\n",
    "\n",
    "# Filtrando dados para o modelo de regressão linear\n",
    "features = df[['idade', 'cor', 'sexo', 'ano_curso', 'escola', 'cod_curso', 'renda']]\n",
    "target = df['motivação']\n",
    "\n",
    "# Separando os dados de treino e teste\n",
    "features_treino, features_teste, target_treino, target_teste = train_test_split(features, target, test_size=0.33, random_state=42)"
   ]
  },
  {
   "cell_type": "markdown",
   "metadata": {
    "pycharm": {
     "name": "#%% md\n"
    }
   },
   "source": [
    "## Criando e avaliando o modelo para previão de motivação dos estudantes"
   ]
  },
  {
   "cell_type": "code",
   "execution_count": 151,
   "metadata": {
    "pycharm": {
     "name": "#%%\n"
    }
   },
   "outputs": [
    {
     "name": "stdout",
     "output_type": "stream",
     "text": [
      "Erro quadrático médio: 4.194\n",
      "Raiz quadrada do erro médio: 2.048\n",
      "Erro médio absoluto: 1.629\n",
      "R quadrado: 0.575\n"
     ]
    }
   ],
   "source": [
    "from sklearn.linear_model import LinearRegression\n",
    "from sklearn import metrics\n",
    "import numpy as np\n",
    "\n",
    "modelo_linear = LinearRegression()\n",
    "\n",
    "modelo_linear.fit(features_treino, target_treino)\n",
    "\n",
    "def avalia_modelo_linear(modelo, features_teste, target_teste, casas_decimais=3):\n",
    "    predicao = modelo.predict(features_teste)\n",
    "    mse = metrics.mean_squared_error(target_teste, predicao)\n",
    "    print('Erro quadrático médio:', round(mse, casas_decimais))\n",
    "    print('Raiz quadrada do erro médio:', round(np.sqrt(mse), casas_decimais))\n",
    "    print('Erro médio absoluto:', round(metrics.mean_absolute_error(target_teste, predicao), casas_decimais))\n",
    "    print('R quadrado:', round(metrics.r2_score(target_teste, predicao), casas_decimais))\n",
    "\n",
    "avalia_modelo_linear(modelo_linear, features_teste, target_teste)"
   ]
  },
  {
   "cell_type": "markdown",
   "metadata": {
    "pycharm": {
     "name": "#%% md\n"
    }
   },
   "source": [
    "## Criando e avaliando o modelo para determinar se o aluno estudou em escola pública ou privada"
   ]
  },
  {
   "cell_type": "code",
   "execution_count": 152,
   "metadata": {
    "pycharm": {
     "name": "#%%\n"
    }
   },
   "outputs": [
    {
     "name": "stdout",
     "output_type": "stream",
     "text": [
      "Acurácia: 0.672\n",
      "Precisão: 0.654\n",
      "Recall: 0.735\n",
      "F1 Score: 0.692\n"
     ]
    }
   ],
   "source": [
    "from sklearn.linear_model import LogisticRegression\n",
    "\n",
    "# Filtrando dados para o modelo de regressão linear\n",
    "features = df[['idade', 'motivação', 'sexo', 'ano_curso', 'cor', 'cod_curso', 'renda']]\n",
    "target = df['escola']\n",
    "\n",
    "# Separando os dados de treino e teste\n",
    "features_treino, features_teste, target_treino, target_teste = train_test_split(features, target, test_size=0.33, random_state=42)\n",
    "\n",
    "\n",
    "modelo_logistico = LogisticRegression()\n",
    "modelo_logistico.fit(features_treino, target_treino)\n",
    "\n",
    "\n",
    "def avalia_modelo_de_classificacao(modelo, features_teste, target_teste, casas_decimais=3):\n",
    "    predicao = modelo.predict(features_teste)\n",
    "    acuracia = metrics.accuracy_score(target_teste, predicao)\n",
    "    print('Acurácia:', round(acuracia, casas_decimais))\n",
    "    print('Precisão:', round(metrics.precision_score(target_teste, predicao), casas_decimais))\n",
    "    print('Recall:', round(metrics.recall_score(target_teste, predicao), casas_decimais))\n",
    "    print('F1 Score:', round(metrics.f1_score(target_teste, predicao), casas_decimais))\n",
    "\n",
    "avalia_modelo_de_classificacao(modelo_logistico, features_teste, target_teste)"
   ]
  },
  {
   "cell_type": "code",
   "execution_count": 152,
   "metadata": {
    "pycharm": {
     "name": "#%%\n"
    }
   },
   "outputs": [],
   "source": []
  }
 ],
 "metadata": {
  "kernelspec": {
   "display_name": "Python 3",
   "language": "python",
   "name": "python3"
  },
  "language_info": {
   "codemirror_mode": {
    "name": "ipython",
    "version": 3
   },
   "file_extension": ".py",
   "mimetype": "text/x-python",
   "name": "python",
   "nbconvert_exporter": "python",
   "pygments_lexer": "ipython3",
   "version": "3.8.10"
  }
 },
 "nbformat": 4,
 "nbformat_minor": 1
}
