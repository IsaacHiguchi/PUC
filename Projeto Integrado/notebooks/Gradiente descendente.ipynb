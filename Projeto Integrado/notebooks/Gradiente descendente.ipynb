{
 "cells": [
  {
   "cell_type": "markdown",
   "metadata": {
    "collapsed": true,
    "pycharm": {
     "name": "#%% md\n"
    }
   },
   "source": [
    "# Gradiente Descendente\n",
    "\n",
    "O gradiente descedente é um algoritmo de otimização usado para minimizar algumas funções movendo-se\n",
    "iterativamente na direção da descida mais íngreme, conforme definido pelo negativo do gradiente.\n",
    "Ele se comporta como uma bolinha andando pela superficie de custo, onde ela tende a repousar no ponto mais baixo.\n",
    "<br>\n",
    "<img src=\"../../Img/gradiente_descendente.jpeg\" width=\"600\"/>\n",
    "<br>\n",
    "\n",
    "\n"
   ]
  }
 ],
 "metadata": {
  "kernelspec": {
   "display_name": "Python 3",
   "language": "python",
   "name": "python3"
  },
  "language_info": {
   "codemirror_mode": {
    "name": "ipython",
    "version": 2
   },
   "file_extension": ".py",
   "mimetype": "text/x-python",
   "name": "python",
   "nbconvert_exporter": "python",
   "pygments_lexer": "ipython2",
   "version": "2.7.6"
  }
 },
 "nbformat": 4,
 "nbformat_minor": 0
}