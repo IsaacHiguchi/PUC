{
 "cells": [
  {
   "cell_type": "markdown",
   "source": [
    "# Análise de variância (ANOVA)\n",
    "\n",
    "Para conduzir uma análise de variância nos dividimos a variação de um set de dados em duas partes\n",
    "- A distância dos scores dentro de cada grupo, conhecida como <b>variância intragrupo</b>\n",
    "- A distância da média dos scores de cada grupo, conhecida como <b>variância entre grupo</b>\n",
    "\n",
    "A partir desses dados, podemos calcular o valor F\n",
    "<br>\n",
    "$F = \\frac{Var_{entre}}{Var_{intra}}$\n",
    "\n",
    "O valor F indica o tamanho da variação entre grupos em relação ao tamanho da variação dentro de cada grupo.\n",
    "Portanto, quando maior for o valor F, maiores são as chances de reijeitar a hipótese nula.\n",
    "\n",
    "Para que possamos calcular as variações intra e entre grupos, precisamos do conteito da soma dos desvios quadrados.\n",
    "Representado pela fórmula:\n",
    "<br>\n",
    "$\\sum (X - \\bar{X})²$\n",
    "\n",
    "<br>\n",
    "$SS_{total} = \\sum (X - \\bar{X_{total}})²$ <br>\n",
    "$SS_{intra} = \\sum (X - \\bar{X_{grupo}})²$ <br>\n",
    "$SS_{entre} = \\sum N_{grupo}(\\bar{X_{grupo}} - \\bar{X_{total}})²$ <br>\n",
    "\n",
    "Com esses valores podemos calcular as médias quadradas:\n",
    "\n",
    "<br>\n",
    "$MS_{intra} = \\frac{SS_{intra}}{df{intra}$ <br>\n",
    "$MS_{entre} = \\frac{SS_{entre}}{df{entre}$ <br>\n",
    "onde $df_{intra}$ e $df_{entre}$ são os graus de liberdade."
   ],
   "metadata": {
    "collapsed": false,
    "pycharm": {
     "name": "#%% md\n"
    }
   }
  },
  {
   "cell_type": "code",
   "execution_count": 32,
   "outputs": [],
   "source": [
    "def media(lista):\n",
    "    return sum(lista)/len(lista)\n",
    "\n",
    "def soma_desvios_quadrados(lista):\n",
    "    soma = 0\n",
    "    for i in lista:\n",
    "        soma += (i - media(lista))**2\n",
    "    return soma\n",
    "\n",
    "def soma_desvios_quadrados_entre_grupos(df, coluna_score, coluna_grupo):\n",
    "    soma = 0\n",
    "    media_total = media(df[coluna_score])\n",
    "    grupos = df[coluna_grupo].unique()\n",
    "\n",
    "    for grupo in grupos:\n",
    "        tamanho_grupo = len(df[df[coluna_grupo] == grupo])\n",
    "        media_grupo = media(df[df[coluna_grupo] == grupo][coluna_score])\n",
    "\n",
    "        soma += tamanho_grupo * (media_grupo - media_total)**2\n",
    "\n",
    "    return soma\n",
    "\n",
    "def quantidade_grupos(df, coluna_grupo):\n",
    "    return len(df[coluna_grupo].unique())"
   ],
   "metadata": {
    "collapsed": false,
    "pycharm": {
     "name": "#%%\n"
    }
   }
  },
  {
   "cell_type": "markdown",
   "source": [
    "Com a soma dos desvios quadrados, podemos calcular:\n",
    " - Soma total dos desvios quadrados do nosso dataset ($SS_{total}$)\n",
    " - Soma dos desvios quadrados entre grupos ($SS_{entre}$)\n",
    " - Soma dos desvios quadrados dentro de cada grupo ($SS_{intra}$)\n",
    "\n",
    "\n",
    "Agora podemos colocar esses conceitos em prática para chegar mais perto de calcular o valor F"
   ],
   "metadata": {
    "collapsed": false,
    "pycharm": {
     "name": "#%% md\n"
    }
   }
  },
  {
   "cell_type": "code",
   "execution_count": 11,
   "outputs": [],
   "source": [
    "import pandas as pd\n",
    "\n",
    "dados = pd.DataFrame({\n",
    "    'grupo': ['A', 'A', 'A', 'A', 'A', 'B', 'B', 'B', 'B', 'B', 'C', 'C', 'C', 'C', 'C', 'D', 'D', 'D', 'D', 'D'],\n",
    "    'score': [5, 6, 4, 5, 0, 16, 5, 9, 10, 5, 23, 30, 20, 20, 27, 19, 35, 15, 26, 30]\n",
    "})"
   ],
   "metadata": {
    "collapsed": false,
    "pycharm": {
     "name": "#%%\n"
    }
   }
  },
  {
   "cell_type": "code",
   "execution_count": 16,
   "outputs": [
    {
     "name": "stdout",
     "output_type": "stream",
     "text": [
      "ss_total = 2129.0\n"
     ]
    }
   ],
   "source": [
    "ss_total = soma_desvios_quadrados(dados['score'])\n",
    "print(f'{ss_total = }')"
   ],
   "metadata": {
    "collapsed": false,
    "pycharm": {
     "name": "#%%\n"
    }
   }
  },
  {
   "cell_type": "code",
   "execution_count": 23,
   "outputs": [
    {
     "data": {
      "text/plain": "       score\ngrupo       \nA         22\nB         82\nC         78\nD        262",
      "text/html": "<div>\n<style scoped>\n    .dataframe tbody tr th:only-of-type {\n        vertical-align: middle;\n    }\n\n    .dataframe tbody tr th {\n        vertical-align: top;\n    }\n\n    .dataframe thead th {\n        text-align: right;\n    }\n</style>\n<table border=\"1\" class=\"dataframe\">\n  <thead>\n    <tr style=\"text-align: right;\">\n      <th></th>\n      <th>score</th>\n    </tr>\n    <tr>\n      <th>grupo</th>\n      <th></th>\n    </tr>\n  </thead>\n  <tbody>\n    <tr>\n      <th>A</th>\n      <td>22</td>\n    </tr>\n    <tr>\n      <th>B</th>\n      <td>82</td>\n    </tr>\n    <tr>\n      <th>C</th>\n      <td>78</td>\n    </tr>\n    <tr>\n      <th>D</th>\n      <td>262</td>\n    </tr>\n  </tbody>\n</table>\n</div>"
     },
     "metadata": {},
     "output_type": "display_data"
    },
    {
     "name": "stdout",
     "output_type": "stream",
     "text": [
      "ss_intra = 444\n"
     ]
    }
   ],
   "source": [
    "ss_intra_aux = dados.pivot_table(index='grupo', values='score', aggfunc=soma_desvios_quadrados)\n",
    "ss_intra = ss_intra_aux.sum().values[0]\n",
    "\n",
    "display(ss_intra_aux)\n",
    "print(f'{ss_intra = }')"
   ],
   "metadata": {
    "collapsed": false,
    "pycharm": {
     "name": "#%%\n"
    }
   }
  },
  {
   "cell_type": "code",
   "execution_count": 31,
   "outputs": [
    {
     "name": "stdout",
     "output_type": "stream",
     "text": [
      "ss_entre = 1685.0\n"
     ]
    }
   ],
   "source": [
    "ss_entre = soma_desvios_quadrados_entre_grupos(dados, 'score', 'grupo')\n",
    "print(f'{ss_entre = }')"
   ],
   "metadata": {
    "collapsed": false,
    "pycharm": {
     "name": "#%%\n"
    }
   }
  },
  {
   "cell_type": "code",
   "execution_count": 33,
   "outputs": [
    {
     "name": "stdout",
     "output_type": "stream",
     "text": [
      "ms_intra = 27.75 ms_entre = 561.6666666666666\n"
     ]
    }
   ],
   "source": [
    "df_entre = quantidade_grupos(dados, 'grupo') - 1\n",
    "df_intra = len(dados['score']) - quantidade_grupos(dados, 'grupo')\n",
    "\n",
    "ms_intra = ss_intra / df_intra\n",
    "ms_entre = ss_entre / df_entre\n",
    "\n",
    "print(f'{ms_intra = } {ms_entre = }')"
   ],
   "metadata": {
    "collapsed": false,
    "pycharm": {
     "name": "#%%\n"
    }
   }
  },
  {
   "cell_type": "code",
   "execution_count": 34,
   "outputs": [
    {
     "name": "stdout",
     "output_type": "stream",
     "text": [
      "f = 20.24024024024024\n"
     ]
    }
   ],
   "source": [
    "f = ms_entre / ms_intra\n",
    "print(f'{f = }')"
   ],
   "metadata": {
    "collapsed": false,
    "pycharm": {
     "name": "#%%\n"
    }
   }
  }
 ],
 "metadata": {
  "kernelspec": {
   "display_name": "Python 3",
   "language": "python",
   "name": "python3"
  },
  "language_info": {
   "codemirror_mode": {
    "name": "ipython",
    "version": 2
   },
   "file_extension": ".py",
   "mimetype": "text/x-python",
   "name": "python",
   "nbconvert_exporter": "python",
   "pygments_lexer": "ipython2",
   "version": "2.7.6"
  }
 },
 "nbformat": 4,
 "nbformat_minor": 0
}