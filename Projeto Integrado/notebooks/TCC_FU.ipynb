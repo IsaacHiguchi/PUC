{
 "cells": [
  {
   "cell_type": "code",
   "execution_count": 9,
   "metadata": {
    "collapsed": true,
    "pycharm": {
     "name": "#%%\n"
    }
   },
   "outputs": [
    {
     "data": {
      "text/plain": "     Marca temporal            Idade     Gênero  \\\n0  03/08/2022 10:04  De 18 a 27 anos   Feminino   \n1  03/08/2022 10:09  De 18 a 27 anos  Masculino   \n2  03/08/2022 10:19  De 18 a 27 anos  Masculino   \n3  03/08/2022 10:23  De 18 a 27 anos  Masculino   \n4  03/08/2022 10:25  De 18 a 27 anos   Feminino   \n\n                        Instrução Com quem você mora?  \\\n0  Graduação Incompleta/ Em curso        Com parentes   \n1  Graduação Incompleta/ Em curso         Com os pais   \n2                       Graduação        Com parentes   \n3  Graduação Incompleta/ Em curso         Com os pais   \n4  Graduação Incompleta/ Em curso             Sozinho   \n\n   Quantidade de pessoas que mora                      Renda familiar  \\\n0                             2.0      Superior a 10 salários mínimos   \n1                             1.0  Acima de 7 até 10 salários mínimos   \n2                             2.0  Acima de 7 até 10 salários mínimos   \n3                             2.0           De 4 a 7 salários mínimos   \n4                             0.0  Acima de 7 até 10 salários mínimos   \n\n  Eu tento reduzir meu consumo de água e energia pensando em outras pessoas  \\\n0                                           Concordo                          \n1                                           Concordo                          \n2                                             Neutro                          \n3                                Concordo totalmente                          \n4                                             Neutro                          \n\n  Eu jogo o lixo em lugares adequados para manter as vias (ruas, estradas, calçadas) limpas  \\\n0                                Concordo totalmente                                          \n1                                Concordo totalmente                                          \n2                                Concordo totalmente                                          \n3                                Concordo totalmente                                          \n4                                Concordo totalmente                                          \n\n  Em um restaurante, eu peço somente a quantidade de comida que posso comer para evitar gastos  \\\n0                                Concordo totalmente                                             \n1                                Concordo totalmente                                             \n2                                Concordo totalmente                                             \n3                                             Neutro                                             \n4                                             Neutro                                             \n\n   ... Eu compro e uso produtos que são \"environmentally friendly\"  \\\n0  ...                                Concordo totalmente            \n1  ...                                             Neutro            \n2  ...                                             Neutro            \n3  ...                                Concordo totalmente            \n4  ...                                           Concordo            \n\n  Eu me preocupo com a falta de recursos naturais  \\\n0                             Concordo totalmente   \n1                             Concordo totalmente   \n2                             Concordo totalmente   \n3                             Concordo totalmente   \n4                                        Concordo   \n\n  Costumo ler o rótulo de produtos para ver se existem informações sobre cuidados com o meio ambiente  \\\n0                                Concordo totalmente                                                    \n1                                Discordo totalmente                                                    \n2                                           Concordo                                                    \n3                                Concordo totalmente                                                    \n4                                           Concordo                                                    \n\n  Eu tento comprar alimentos orgânicos por serem menos agressivos ao meio ambiente  \\\n0                                Concordo totalmente                                 \n1                                Discordo totalmente                                 \n2                                           Concordo                                 \n3                                             Neutro                                 \n4                                             Neutro                                 \n\n  Eu sempre lembro que excesso de consumo pode causar falta de recursos naturais  \\\n0                                Concordo totalmente                               \n1                                Concordo totalmente                               \n2                                           Concordo                               \n3                                Concordo totalmente                               \n4                                           Discordo                               \n\n  É minha responsabilidade controlar os desejos de compras excessivas para o bem das futuras gerações  \\\n0                                Concordo totalmente                                                    \n1                                Concordo totalmente                                                    \n2                                           Concordo                                                    \n3                                             Neutro                                                    \n4                                           Concordo                                                    \n\n  Eu passei a utilizar menos sacolas plásticas durante o período da pandemia  \\\n0                                           Discordo                           \n1                                Discordo totalmente                           \n2                                           Discordo                           \n3                                Concordo totalmente                           \n4                                Concordo totalmente                           \n\n  Eu passei a comprar mais produtos sustentáveis durante o período da pandemia  \\\n0                                           Concordo                             \n1                                Discordo totalmente                             \n2                                             Neutro                             \n3                                Concordo totalmente                             \n4                                Concordo totalmente                             \n\n  Eu passei a reciclar mais durante o período da pandemia  \\\n0                                           Concordo        \n1                                Discordo totalmente        \n2                                             Neutro        \n3                                Concordo totalmente        \n4                                Concordo totalmente        \n\n  Eu passei a evitar mais o desperdício de comida durante o período da pandemia  \n0                                           Concordo                             \n1                                           Concordo                             \n2                                             Neutro                             \n3                                Concordo totalmente                             \n4                                Concordo totalmente                             \n\n[5 rows x 31 columns]",
      "text/html": "<div>\n<style scoped>\n    .dataframe tbody tr th:only-of-type {\n        vertical-align: middle;\n    }\n\n    .dataframe tbody tr th {\n        vertical-align: top;\n    }\n\n    .dataframe thead th {\n        text-align: right;\n    }\n</style>\n<table border=\"1\" class=\"dataframe\">\n  <thead>\n    <tr style=\"text-align: right;\">\n      <th></th>\n      <th>Marca temporal</th>\n      <th>Idade</th>\n      <th>Gênero</th>\n      <th>Instrução</th>\n      <th>Com quem você mora?</th>\n      <th>Quantidade de pessoas que mora</th>\n      <th>Renda familiar</th>\n      <th>Eu tento reduzir meu consumo de água e energia pensando em outras pessoas</th>\n      <th>Eu jogo o lixo em lugares adequados para manter as vias (ruas, estradas, calçadas) limpas</th>\n      <th>Em um restaurante, eu peço somente a quantidade de comida que posso comer para evitar gastos</th>\n      <th>...</th>\n      <th>Eu compro e uso produtos que são \"environmentally friendly\"</th>\n      <th>Eu me preocupo com a falta de recursos naturais</th>\n      <th>Costumo ler o rótulo de produtos para ver se existem informações sobre cuidados com o meio ambiente</th>\n      <th>Eu tento comprar alimentos orgânicos por serem menos agressivos ao meio ambiente</th>\n      <th>Eu sempre lembro que excesso de consumo pode causar falta de recursos naturais</th>\n      <th>É minha responsabilidade controlar os desejos de compras excessivas para o bem das futuras gerações</th>\n      <th>Eu passei a utilizar menos sacolas plásticas durante o período da pandemia</th>\n      <th>Eu passei a comprar mais produtos sustentáveis durante o período da pandemia</th>\n      <th>Eu passei a reciclar mais durante o período da pandemia</th>\n      <th>Eu passei a evitar mais o desperdício de comida durante o período da pandemia</th>\n    </tr>\n  </thead>\n  <tbody>\n    <tr>\n      <th>0</th>\n      <td>03/08/2022 10:04</td>\n      <td>De 18 a 27 anos</td>\n      <td>Feminino</td>\n      <td>Graduação Incompleta/ Em curso</td>\n      <td>Com parentes</td>\n      <td>2.0</td>\n      <td>Superior a 10 salários mínimos</td>\n      <td>Concordo</td>\n      <td>Concordo totalmente</td>\n      <td>Concordo totalmente</td>\n      <td>...</td>\n      <td>Concordo totalmente</td>\n      <td>Concordo totalmente</td>\n      <td>Concordo totalmente</td>\n      <td>Concordo totalmente</td>\n      <td>Concordo totalmente</td>\n      <td>Concordo totalmente</td>\n      <td>Discordo</td>\n      <td>Concordo</td>\n      <td>Concordo</td>\n      <td>Concordo</td>\n    </tr>\n    <tr>\n      <th>1</th>\n      <td>03/08/2022 10:09</td>\n      <td>De 18 a 27 anos</td>\n      <td>Masculino</td>\n      <td>Graduação Incompleta/ Em curso</td>\n      <td>Com os pais</td>\n      <td>1.0</td>\n      <td>Acima de 7 até 10 salários mínimos</td>\n      <td>Concordo</td>\n      <td>Concordo totalmente</td>\n      <td>Concordo totalmente</td>\n      <td>...</td>\n      <td>Neutro</td>\n      <td>Concordo totalmente</td>\n      <td>Discordo totalmente</td>\n      <td>Discordo totalmente</td>\n      <td>Concordo totalmente</td>\n      <td>Concordo totalmente</td>\n      <td>Discordo totalmente</td>\n      <td>Discordo totalmente</td>\n      <td>Discordo totalmente</td>\n      <td>Concordo</td>\n    </tr>\n    <tr>\n      <th>2</th>\n      <td>03/08/2022 10:19</td>\n      <td>De 18 a 27 anos</td>\n      <td>Masculino</td>\n      <td>Graduação</td>\n      <td>Com parentes</td>\n      <td>2.0</td>\n      <td>Acima de 7 até 10 salários mínimos</td>\n      <td>Neutro</td>\n      <td>Concordo totalmente</td>\n      <td>Concordo totalmente</td>\n      <td>...</td>\n      <td>Neutro</td>\n      <td>Concordo totalmente</td>\n      <td>Concordo</td>\n      <td>Concordo</td>\n      <td>Concordo</td>\n      <td>Concordo</td>\n      <td>Discordo</td>\n      <td>Neutro</td>\n      <td>Neutro</td>\n      <td>Neutro</td>\n    </tr>\n    <tr>\n      <th>3</th>\n      <td>03/08/2022 10:23</td>\n      <td>De 18 a 27 anos</td>\n      <td>Masculino</td>\n      <td>Graduação Incompleta/ Em curso</td>\n      <td>Com os pais</td>\n      <td>2.0</td>\n      <td>De 4 a 7 salários mínimos</td>\n      <td>Concordo totalmente</td>\n      <td>Concordo totalmente</td>\n      <td>Neutro</td>\n      <td>...</td>\n      <td>Concordo totalmente</td>\n      <td>Concordo totalmente</td>\n      <td>Concordo totalmente</td>\n      <td>Neutro</td>\n      <td>Concordo totalmente</td>\n      <td>Neutro</td>\n      <td>Concordo totalmente</td>\n      <td>Concordo totalmente</td>\n      <td>Concordo totalmente</td>\n      <td>Concordo totalmente</td>\n    </tr>\n    <tr>\n      <th>4</th>\n      <td>03/08/2022 10:25</td>\n      <td>De 18 a 27 anos</td>\n      <td>Feminino</td>\n      <td>Graduação Incompleta/ Em curso</td>\n      <td>Sozinho</td>\n      <td>0.0</td>\n      <td>Acima de 7 até 10 salários mínimos</td>\n      <td>Neutro</td>\n      <td>Concordo totalmente</td>\n      <td>Neutro</td>\n      <td>...</td>\n      <td>Concordo</td>\n      <td>Concordo</td>\n      <td>Concordo</td>\n      <td>Neutro</td>\n      <td>Discordo</td>\n      <td>Concordo</td>\n      <td>Concordo totalmente</td>\n      <td>Concordo totalmente</td>\n      <td>Concordo totalmente</td>\n      <td>Concordo totalmente</td>\n    </tr>\n  </tbody>\n</table>\n<p>5 rows × 31 columns</p>\n</div>"
     },
     "execution_count": 9,
     "metadata": {},
     "output_type": "execute_result"
    }
   ],
   "source": [
    "import pandas as pd\n",
    "import numpy as np\n",
    "\n",
    "filepath = \"/home/gustavo/Downloads/Mudança de hábitos do consumidor.csv\"\n",
    "data = pd.read_csv(filepath, sep=\";\", decimal=\",\")\n",
    "\n",
    "data.head()"
   ]
  },
  {
   "cell_type": "code",
   "execution_count": 10,
   "metadata": {
    "pycharm": {
     "name": "#%%\n"
    }
   },
   "outputs": [],
   "source": [
    "# Removendo as instâncias com idades menores que 18 anos e com idades maiores que 42 anos\n",
    "data = data[data[\"Idade\"] != \"Menos de 18 anos\"]\n",
    "data = data[data[\"Idade\"] != \"Mais de 42 anos\"]"
   ]
  },
  {
   "cell_type": "code",
   "execution_count": 11,
   "metadata": {
    "pycharm": {
     "name": "#%%\n"
    }
   },
   "outputs": [
    {
     "data": {
      "text/plain": "     Marca temporal  Idade  Gênero  Instrução  Com quem você mora?  \\\n0  03/08/2022 10:04      1       1          1                    0   \n1  03/08/2022 10:09      1       2          1                    0   \n2  03/08/2022 10:19      1       2          1                    0   \n3  03/08/2022 10:23      1       2          1                    0   \n4  03/08/2022 10:25      1       1          1                    0   \n\n   Quantidade de pessoas que mora  Renda familiar  \\\n0                               2               1   \n1                               1               2   \n2                               2               2   \n3                               2               1   \n4                               0               2   \n\n   Eu tento reduzir meu consumo de água e energia pensando em outras pessoas  \\\n0                                                  4                           \n1                                                  4                           \n2                                                  3                           \n3                                                  5                           \n4                                                  3                           \n\n   Eu jogo o lixo em lugares adequados para manter as vias (ruas, estradas, calçadas) limpas  \\\n0                                                  5                                           \n1                                                  5                                           \n2                                                  5                                           \n3                                                  5                                           \n4                                                  5                                           \n\n   Em um restaurante, eu peço somente a quantidade de comida que posso comer para evitar gastos  \\\n0                                                  5                                              \n1                                                  5                                              \n2                                                  5                                              \n3                                                  3                                              \n4                                                  3                                              \n\n   ...  Eu compro e uso produtos que são \"environmentally friendly\"  \\\n0  ...                                                  5             \n1  ...                                                  3             \n2  ...                                                  3             \n3  ...                                                  5             \n4  ...                                                  4             \n\n   Eu me preocupo com a falta de recursos naturais  \\\n0                                                5   \n1                                                5   \n2                                                5   \n3                                                5   \n4                                                4   \n\n   Costumo ler o rótulo de produtos para ver se existem informações sobre cuidados com o meio ambiente  \\\n0                                                  5                                                     \n1                                                  1                                                     \n2                                                  4                                                     \n3                                                  5                                                     \n4                                                  4                                                     \n\n   Eu tento comprar alimentos orgânicos por serem menos agressivos ao meio ambiente  \\\n0                                                  5                                  \n1                                                  1                                  \n2                                                  4                                  \n3                                                  3                                  \n4                                                  3                                  \n\n   Eu sempre lembro que excesso de consumo pode causar falta de recursos naturais  \\\n0                                                  5                                \n1                                                  5                                \n2                                                  4                                \n3                                                  5                                \n4                                                  2                                \n\n   É minha responsabilidade controlar os desejos de compras excessivas para o bem das futuras gerações  \\\n0                                                  5                                                     \n1                                                  5                                                     \n2                                                  4                                                     \n3                                                  3                                                     \n4                                                  4                                                     \n\n   Eu passei a utilizar menos sacolas plásticas durante o período da pandemia  \\\n0                                                  2                            \n1                                                  1                            \n2                                                  2                            \n3                                                  5                            \n4                                                  5                            \n\n   Eu passei a comprar mais produtos sustentáveis durante o período da pandemia  \\\n0                                                  4                              \n1                                                  1                              \n2                                                  3                              \n3                                                  5                              \n4                                                  5                              \n\n   Eu passei a reciclar mais durante o período da pandemia  \\\n0                                                  4         \n1                                                  1         \n2                                                  3         \n3                                                  5         \n4                                                  5         \n\n   Eu passei a evitar mais o desperdício de comida durante o período da pandemia  \n0                                                  4                              \n1                                                  4                              \n2                                                  3                              \n3                                                  5                              \n4                                                  5                              \n\n[5 rows x 31 columns]",
      "text/html": "<div>\n<style scoped>\n    .dataframe tbody tr th:only-of-type {\n        vertical-align: middle;\n    }\n\n    .dataframe tbody tr th {\n        vertical-align: top;\n    }\n\n    .dataframe thead th {\n        text-align: right;\n    }\n</style>\n<table border=\"1\" class=\"dataframe\">\n  <thead>\n    <tr style=\"text-align: right;\">\n      <th></th>\n      <th>Marca temporal</th>\n      <th>Idade</th>\n      <th>Gênero</th>\n      <th>Instrução</th>\n      <th>Com quem você mora?</th>\n      <th>Quantidade de pessoas que mora</th>\n      <th>Renda familiar</th>\n      <th>Eu tento reduzir meu consumo de água e energia pensando em outras pessoas</th>\n      <th>Eu jogo o lixo em lugares adequados para manter as vias (ruas, estradas, calçadas) limpas</th>\n      <th>Em um restaurante, eu peço somente a quantidade de comida que posso comer para evitar gastos</th>\n      <th>...</th>\n      <th>Eu compro e uso produtos que são \"environmentally friendly\"</th>\n      <th>Eu me preocupo com a falta de recursos naturais</th>\n      <th>Costumo ler o rótulo de produtos para ver se existem informações sobre cuidados com o meio ambiente</th>\n      <th>Eu tento comprar alimentos orgânicos por serem menos agressivos ao meio ambiente</th>\n      <th>Eu sempre lembro que excesso de consumo pode causar falta de recursos naturais</th>\n      <th>É minha responsabilidade controlar os desejos de compras excessivas para o bem das futuras gerações</th>\n      <th>Eu passei a utilizar menos sacolas plásticas durante o período da pandemia</th>\n      <th>Eu passei a comprar mais produtos sustentáveis durante o período da pandemia</th>\n      <th>Eu passei a reciclar mais durante o período da pandemia</th>\n      <th>Eu passei a evitar mais o desperdício de comida durante o período da pandemia</th>\n    </tr>\n  </thead>\n  <tbody>\n    <tr>\n      <th>0</th>\n      <td>03/08/2022 10:04</td>\n      <td>1</td>\n      <td>1</td>\n      <td>1</td>\n      <td>0</td>\n      <td>2</td>\n      <td>1</td>\n      <td>4</td>\n      <td>5</td>\n      <td>5</td>\n      <td>...</td>\n      <td>5</td>\n      <td>5</td>\n      <td>5</td>\n      <td>5</td>\n      <td>5</td>\n      <td>5</td>\n      <td>2</td>\n      <td>4</td>\n      <td>4</td>\n      <td>4</td>\n    </tr>\n    <tr>\n      <th>1</th>\n      <td>03/08/2022 10:09</td>\n      <td>1</td>\n      <td>2</td>\n      <td>1</td>\n      <td>0</td>\n      <td>1</td>\n      <td>2</td>\n      <td>4</td>\n      <td>5</td>\n      <td>5</td>\n      <td>...</td>\n      <td>3</td>\n      <td>5</td>\n      <td>1</td>\n      <td>1</td>\n      <td>5</td>\n      <td>5</td>\n      <td>1</td>\n      <td>1</td>\n      <td>1</td>\n      <td>4</td>\n    </tr>\n    <tr>\n      <th>2</th>\n      <td>03/08/2022 10:19</td>\n      <td>1</td>\n      <td>2</td>\n      <td>1</td>\n      <td>0</td>\n      <td>2</td>\n      <td>2</td>\n      <td>3</td>\n      <td>5</td>\n      <td>5</td>\n      <td>...</td>\n      <td>3</td>\n      <td>5</td>\n      <td>4</td>\n      <td>4</td>\n      <td>4</td>\n      <td>4</td>\n      <td>2</td>\n      <td>3</td>\n      <td>3</td>\n      <td>3</td>\n    </tr>\n    <tr>\n      <th>3</th>\n      <td>03/08/2022 10:23</td>\n      <td>1</td>\n      <td>2</td>\n      <td>1</td>\n      <td>0</td>\n      <td>2</td>\n      <td>1</td>\n      <td>5</td>\n      <td>5</td>\n      <td>3</td>\n      <td>...</td>\n      <td>5</td>\n      <td>5</td>\n      <td>5</td>\n      <td>3</td>\n      <td>5</td>\n      <td>3</td>\n      <td>5</td>\n      <td>5</td>\n      <td>5</td>\n      <td>5</td>\n    </tr>\n    <tr>\n      <th>4</th>\n      <td>03/08/2022 10:25</td>\n      <td>1</td>\n      <td>1</td>\n      <td>1</td>\n      <td>0</td>\n      <td>0</td>\n      <td>2</td>\n      <td>3</td>\n      <td>5</td>\n      <td>3</td>\n      <td>...</td>\n      <td>4</td>\n      <td>4</td>\n      <td>4</td>\n      <td>3</td>\n      <td>2</td>\n      <td>4</td>\n      <td>5</td>\n      <td>5</td>\n      <td>5</td>\n      <td>5</td>\n    </tr>\n  </tbody>\n</table>\n<p>5 rows × 31 columns</p>\n</div>"
     },
     "execution_count": 11,
     "metadata": {},
     "output_type": "execute_result"
    }
   ],
   "source": [
    "# Codificando as variaveis categóricas\n",
    "from sklearn.preprocessing import LabelBinarizer\n",
    "\n",
    "label_binarizer = LabelBinarizer()\n",
    "\n",
    "data[\"Idade\"] = label_binarizer.fit_transform(data[\"Idade\"]) + 1\n",
    "data[\"Gênero\"] = label_binarizer.fit_transform(data[\"Gênero\"]) + 1\n",
    "data[\"Com quem você mora?\"] = label_binarizer.fit_transform(data[\"Com quem você mora?\"])\n",
    "data[\"Instrução\"] = label_binarizer.fit_transform(data[\"Instrução\"]) + 1\n",
    "data[\"Renda familiar\"] = label_binarizer.fit_transform(data[\"Renda familiar\"]) + 1\n",
    "data[\"Quantidade de pessoas que mora\"] = data[\"Quantidade de pessoas que mora\"].astype(int)\n",
    "\n",
    "mapa_da_escala_likert = {\n",
    "    \"Concordo totalmente\": 5,\n",
    "    \"Concordo\": 4,\n",
    "    \"Neutro\": 3,\n",
    "    \"Discordo\": 2,\n",
    "    \"Discordo totalmente\": 1\n",
    "}\n",
    "\n",
    "data.replace(mapa_da_escala_likert, inplace=True)\n",
    "\n",
    "\n",
    "data.head()"
   ]
  },
  {
   "cell_type": "markdown",
   "metadata": {
    "pycharm": {
     "name": "#%% md\n"
    }
   },
   "source": [
    "Definindo se a pandemia afetou o consumo sustentável do consumidor"
   ]
  },
  {
   "cell_type": "code",
   "execution_count": 12,
   "metadata": {
    "pycharm": {
     "name": "#%%\n"
    }
   },
   "outputs": [],
   "source": [
    "def e_consumo_sustentavel(row) -> int:\n",
    "    consumo_sustentavel = {\n",
    "        'Eu passei a utilizar menos sacolas plásticas durante o período da pandemia': [4, 5],\n",
    "        'Eu passei a comprar mais produtos sustentáveis durante o período da pandemia': [4, 5],\n",
    "        'Eu passei a reciclar mais durante o período da pandemia': [4, 5],\n",
    "        'Eu passei a evitar mais o desperdício de comida durante o período da pandemia': [4, 5]\n",
    "    }\n",
    "    counter = 0\n",
    "    for column, values in consumo_sustentavel.items():\n",
    "        if row[column] in values:\n",
    "            counter += 1\n",
    "    if counter >= 3:\n",
    "        return 1\n",
    "    return 0\n",
    "\n",
    "data['Consumo Sustentavel'] = data.apply(e_consumo_sustentavel, axis=1)\n",
    "data.to_csv(\"/home/gustavo/Downloads/mudança_de_habitos_do_consumidor_processado.csv\", sep=\";\", decimal=\",\", encoding=\"utf-8\", index=False)"
   ]
  },
  {
   "cell_type": "code",
   "execution_count": 13,
   "metadata": {
    "pycharm": {
     "name": "#%%\n"
    }
   },
   "outputs": [],
   "source": [
    "data.drop(columns=['Marca temporal'], inplace=True)"
   ]
  },
  {
   "cell_type": "code",
   "execution_count": 14,
   "metadata": {
    "pycharm": {
     "name": "#%%\n"
    }
   },
   "outputs": [],
   "source": [
    "target = data[\"Consumo Sustentavel\"]\n",
    "features = data.drop([\"Consumo Sustentavel\"], axis=1)"
   ]
  },
  {
   "cell_type": "code",
   "execution_count": 15,
   "metadata": {
    "pycharm": {
     "name": "#%%\n"
    }
   },
   "outputs": [
    {
     "name": "stdout",
     "output_type": "stream",
     "text": [
      "Optimization terminated successfully.\n",
      "         Current function value: 0.458489\n",
      "         Iterations 7\n"
     ]
    },
    {
     "data": {
      "text/plain": "<class 'statsmodels.iolib.summary.Summary'>\n\"\"\"\n                            Logit Regression Results                           \n===============================================================================\nDep. Variable:     Consumo Sustentavel   No. Observations:                  147\nModel:                           Logit   Df Residuals:                      120\nMethod:                            MLE   Df Model:                           26\nDate:                 Tue, 24 May 2022   Pseudo R-squ.:                  0.2622\nTime:                         16:17:05   Log-Likelihood:                -67.398\nconverged:                        True   LL-Null:                       -91.349\nCovariance Type:             nonrobust   LLR p-value:                  0.005545\n======================================================================================================================================================================================================================================\n                                                                                                                                                                         coef    std err          z      P>|z|      [0.025      0.975]\n--------------------------------------------------------------------------------------------------------------------------------------------------------------------------------------------------------------------------------------\nconst                                                                                                                                                                 -7.2307      4.102     -1.763      0.078     -15.271       0.810\nIdade                                                                                                                                                                 -1.2202      0.640     -1.906      0.057      -2.475       0.035\nGênero                                                                                                                                                                -0.7359      0.562     -1.310      0.190      -1.837       0.365\nInstrução                                                                                                                                                              1.9907      1.296      1.536      0.125      -0.550       4.532\nCom quem você mora?                                                                                                                                                    0.8397      0.701      1.198      0.231      -0.534       2.213\nQuantidade de pessoas que mora                                                                                                                                         0.0735      0.186      0.396      0.692      -0.291       0.438\nRenda familiar                                                                                                                                                        -0.3815      0.563     -0.677      0.498      -1.486       0.722\nEu tento reduzir meu consumo de água e energia pensando em outras pessoas                                                                                              0.1044      0.252      0.414      0.679      -0.389       0.598\nEu jogo o lixo em lugares adequados para manter as vias (ruas, estradas, calçadas) limpas                                                                             -0.1555      0.649     -0.240      0.811      -1.427       1.116\nEm um restaurante, eu peço somente a quantidade de comida que posso comer para evitar gastos                                                                           0.2417      0.260      0.929      0.353      -0.268       0.752\nEu evito exagerar na realização de minhas compras                                                                                                                     -0.2256      0.293     -0.771      0.441      -0.799       0.348\nMinhas compras visam somente para suprir minhas necessidades e desejos básicos                                                                                        -0.2223      0.285     -0.779      0.436      -0.782       0.337\nEu não me importo em incorrer em uma pequena perda de qualidade, funcionalidade, design, etc. enquanto estiver comprando um produto para preservar o meio ambiente     0.0765      0.280      0.274      0.784      -0.472       0.625\nEu compro apenas os produtos e serviços de  que eu realmente preciso                                                                                                   0.4103      0.277      1.482      0.138      -0.132       0.953\nEu planejo cuidadosamente antes de comprar um produto ou serviço                                                                                                      -0.1692      0.253     -0.669      0.503      -0.665       0.327\nEu priorizo comprar produtos com embalagens que não agridam o ambiente                                                                                                 0.7256      0.354      2.053      0.040       0.033       1.418\nDurante as compras, tento pensar se o produto adquirido pode causar qualquer dano ao meio ambiente                                                                    -0.0981      0.359     -0.273      0.785      -0.803       0.606\nEu reciclo roupas velhas que estão em uma boa condição (fazendo doações, por exemplo)                                                                                  0.4067      0.352      1.156      0.248      -0.283       1.096\nEu reciclo embalagens em geral  sempre que possível                                                                                                                    0.6275      0.328      1.916      0.055      -0.014       1.270\nEu uso minhas próprias embalagens (cestas, sacolas ou carrinhos)  toda vez que vou ao mercado                                                                          0.3808      0.258      1.476      0.140      -0.125       0.887\nEu tento evitar o uso de sacolas plásticas porque não fazem bem ao meio ambiente                                                                                      -0.1499      0.246     -0.608      0.543      -0.633       0.333\nEu compro e uso produtos que são \"environmentally friendly\"                                                                                                           -0.3017      0.342     -0.881      0.378      -0.973       0.369\nEu me preocupo com a falta de recursos naturais                                                                                                                       -0.0543      0.339     -0.160      0.873      -0.718       0.609\nCostumo ler o rótulo de produtos para ver se existem informações sobre cuidados com o meio ambiente                                                                    0.1378      0.262      0.526      0.599      -0.376       0.651\nEu tento comprar alimentos orgânicos por serem menos agressivos ao meio ambiente                                                                                       0.0158      0.238      0.066      0.947      -0.452       0.483\nEu sempre lembro que excesso de consumo pode causar falta de recursos naturais                                                                                         0.2462      0.263      0.935      0.350      -0.270       0.762\nÉ minha responsabilidade controlar os desejos de compras excessivas para o bem das futuras gerações                                                                   -0.1495      0.259     -0.576      0.565      -0.658       0.359\n======================================================================================================================================================================================================================================\n\"\"\"",
      "text/html": "<table class=\"simpletable\">\n<caption>Logit Regression Results</caption>\n<tr>\n  <th>Dep. Variable:</th>   <td>Consumo Sustentavel</td> <th>  No. Observations:  </th>  <td>   147</td> \n</tr>\n<tr>\n  <th>Model:</th>                  <td>Logit</td>        <th>  Df Residuals:      </th>  <td>   120</td> \n</tr>\n<tr>\n  <th>Method:</th>                  <td>MLE</td>         <th>  Df Model:          </th>  <td>    26</td> \n</tr>\n<tr>\n  <th>Date:</th>             <td>Tue, 24 May 2022</td>   <th>  Pseudo R-squ.:     </th>  <td>0.2622</td> \n</tr>\n<tr>\n  <th>Time:</th>                 <td>16:17:05</td>       <th>  Log-Likelihood:    </th> <td> -67.398</td>\n</tr>\n<tr>\n  <th>converged:</th>              <td>True</td>         <th>  LL-Null:           </th> <td> -91.349</td>\n</tr>\n<tr>\n  <th>Covariance Type:</th>      <td>nonrobust</td>      <th>  LLR p-value:       </th> <td>0.005545</td>\n</tr>\n</table>\n<table class=\"simpletable\">\n<tr>\n                                                                                   <td></td>                                                                                     <th>coef</th>     <th>std err</th>      <th>z</th>      <th>P>|z|</th>  <th>[0.025</th>    <th>0.975]</th>  \n</tr>\n<tr>\n  <th>const</th>                                                                                                                                                              <td>   -7.2307</td> <td>    4.102</td> <td>   -1.763</td> <td> 0.078</td> <td>  -15.271</td> <td>    0.810</td>\n</tr>\n<tr>\n  <th>Idade</th>                                                                                                                                                              <td>   -1.2202</td> <td>    0.640</td> <td>   -1.906</td> <td> 0.057</td> <td>   -2.475</td> <td>    0.035</td>\n</tr>\n<tr>\n  <th>Gênero</th>                                                                                                                                                             <td>   -0.7359</td> <td>    0.562</td> <td>   -1.310</td> <td> 0.190</td> <td>   -1.837</td> <td>    0.365</td>\n</tr>\n<tr>\n  <th>Instrução</th>                                                                                                                                                          <td>    1.9907</td> <td>    1.296</td> <td>    1.536</td> <td> 0.125</td> <td>   -0.550</td> <td>    4.532</td>\n</tr>\n<tr>\n  <th>Com quem você mora?</th>                                                                                                                                                <td>    0.8397</td> <td>    0.701</td> <td>    1.198</td> <td> 0.231</td> <td>   -0.534</td> <td>    2.213</td>\n</tr>\n<tr>\n  <th>Quantidade de pessoas que mora</th>                                                                                                                                     <td>    0.0735</td> <td>    0.186</td> <td>    0.396</td> <td> 0.692</td> <td>   -0.291</td> <td>    0.438</td>\n</tr>\n<tr>\n  <th>Renda familiar</th>                                                                                                                                                     <td>   -0.3815</td> <td>    0.563</td> <td>   -0.677</td> <td> 0.498</td> <td>   -1.486</td> <td>    0.722</td>\n</tr>\n<tr>\n  <th>Eu tento reduzir meu consumo de água e energia pensando em outras pessoas</th>                                                                                          <td>    0.1044</td> <td>    0.252</td> <td>    0.414</td> <td> 0.679</td> <td>   -0.389</td> <td>    0.598</td>\n</tr>\n<tr>\n  <th>Eu jogo o lixo em lugares adequados para manter as vias (ruas, estradas, calçadas) limpas</th>                                                                          <td>   -0.1555</td> <td>    0.649</td> <td>   -0.240</td> <td> 0.811</td> <td>   -1.427</td> <td>    1.116</td>\n</tr>\n<tr>\n  <th>Em um restaurante, eu peço somente a quantidade de comida que posso comer para evitar gastos</th>                                                                       <td>    0.2417</td> <td>    0.260</td> <td>    0.929</td> <td> 0.353</td> <td>   -0.268</td> <td>    0.752</td>\n</tr>\n<tr>\n  <th>Eu evito exagerar na realização de minhas compras</th>                                                                                                                  <td>   -0.2256</td> <td>    0.293</td> <td>   -0.771</td> <td> 0.441</td> <td>   -0.799</td> <td>    0.348</td>\n</tr>\n<tr>\n  <th>Minhas compras visam somente para suprir minhas necessidades e desejos básicos</th>                                                                                     <td>   -0.2223</td> <td>    0.285</td> <td>   -0.779</td> <td> 0.436</td> <td>   -0.782</td> <td>    0.337</td>\n</tr>\n<tr>\n  <th>Eu não me importo em incorrer em uma pequena perda de qualidade, funcionalidade, design, etc. enquanto estiver comprando um produto para preservar o meio ambiente</th> <td>    0.0765</td> <td>    0.280</td> <td>    0.274</td> <td> 0.784</td> <td>   -0.472</td> <td>    0.625</td>\n</tr>\n<tr>\n  <th>Eu compro apenas os produtos e serviços de  que eu realmente preciso</th>                                                                                               <td>    0.4103</td> <td>    0.277</td> <td>    1.482</td> <td> 0.138</td> <td>   -0.132</td> <td>    0.953</td>\n</tr>\n<tr>\n  <th>Eu planejo cuidadosamente antes de comprar um produto ou serviço</th>                                                                                                   <td>   -0.1692</td> <td>    0.253</td> <td>   -0.669</td> <td> 0.503</td> <td>   -0.665</td> <td>    0.327</td>\n</tr>\n<tr>\n  <th>Eu priorizo comprar produtos com embalagens que não agridam o ambiente</th>                                                                                             <td>    0.7256</td> <td>    0.354</td> <td>    2.053</td> <td> 0.040</td> <td>    0.033</td> <td>    1.418</td>\n</tr>\n<tr>\n  <th>Durante as compras, tento pensar se o produto adquirido pode causar qualquer dano ao meio ambiente</th>                                                                 <td>   -0.0981</td> <td>    0.359</td> <td>   -0.273</td> <td> 0.785</td> <td>   -0.803</td> <td>    0.606</td>\n</tr>\n<tr>\n  <th>Eu reciclo roupas velhas que estão em uma boa condição (fazendo doações, por exemplo)</th>                                                                              <td>    0.4067</td> <td>    0.352</td> <td>    1.156</td> <td> 0.248</td> <td>   -0.283</td> <td>    1.096</td>\n</tr>\n<tr>\n  <th>Eu reciclo embalagens em geral  sempre que possível</th>                                                                                                                <td>    0.6275</td> <td>    0.328</td> <td>    1.916</td> <td> 0.055</td> <td>   -0.014</td> <td>    1.270</td>\n</tr>\n<tr>\n  <th>Eu uso minhas próprias embalagens (cestas, sacolas ou carrinhos)  toda vez que vou ao mercado</th>                                                                      <td>    0.3808</td> <td>    0.258</td> <td>    1.476</td> <td> 0.140</td> <td>   -0.125</td> <td>    0.887</td>\n</tr>\n<tr>\n  <th>Eu tento evitar o uso de sacolas plásticas porque não fazem bem ao meio ambiente</th>                                                                                   <td>   -0.1499</td> <td>    0.246</td> <td>   -0.608</td> <td> 0.543</td> <td>   -0.633</td> <td>    0.333</td>\n</tr>\n<tr>\n  <th>Eu compro e uso produtos que são \"environmentally friendly\"</th>                                                                                                        <td>   -0.3017</td> <td>    0.342</td> <td>   -0.881</td> <td> 0.378</td> <td>   -0.973</td> <td>    0.369</td>\n</tr>\n<tr>\n  <th>Eu me preocupo com a falta de recursos naturais</th>                                                                                                                    <td>   -0.0543</td> <td>    0.339</td> <td>   -0.160</td> <td> 0.873</td> <td>   -0.718</td> <td>    0.609</td>\n</tr>\n<tr>\n  <th>Costumo ler o rótulo de produtos para ver se existem informações sobre cuidados com o meio ambiente</th>                                                                <td>    0.1378</td> <td>    0.262</td> <td>    0.526</td> <td> 0.599</td> <td>   -0.376</td> <td>    0.651</td>\n</tr>\n<tr>\n  <th>Eu tento comprar alimentos orgânicos por serem menos agressivos ao meio ambiente</th>                                                                                   <td>    0.0158</td> <td>    0.238</td> <td>    0.066</td> <td> 0.947</td> <td>   -0.452</td> <td>    0.483</td>\n</tr>\n<tr>\n  <th>Eu sempre lembro que excesso de consumo pode causar falta de recursos naturais</th>                                                                                     <td>    0.2462</td> <td>    0.263</td> <td>    0.935</td> <td> 0.350</td> <td>   -0.270</td> <td>    0.762</td>\n</tr>\n<tr>\n  <th>É minha responsabilidade controlar os desejos de compras excessivas para o bem das futuras gerações</th>                                                                <td>   -0.1495</td> <td>    0.259</td> <td>   -0.576</td> <td> 0.565</td> <td>   -0.658</td> <td>    0.359</td>\n</tr>\n</table>"
     },
     "execution_count": 15,
     "metadata": {},
     "output_type": "execute_result"
    }
   ],
   "source": [
    "import statsmodels.api as sm\n",
    "\n",
    "feature_columns = list(features.columns)\n",
    "\n",
    "features[\"const\"] = 1\n",
    "features = features[[\"const\", *feature_columns]]\n",
    "columns = features.columns[:-4]\n",
    "\n",
    "model = sm.Logit(target, features[columns]).fit()\n",
    "model.summary()"
   ]
  },
  {
   "cell_type": "code",
   "execution_count": 16,
   "outputs": [
    {
     "data": {
      "text/plain": "0      0.845628\n1      0.011816\n2      0.277086\n3      0.400455\n4      0.677034\n         ...   \n152    0.303157\n153    0.040685\n154    0.013765\n155    0.088054\n156    0.031491\nLength: 147, dtype: float64"
     },
     "execution_count": 16,
     "metadata": {},
     "output_type": "execute_result"
    }
   ],
   "source": [
    "model.predict(features[columns])"
   ],
   "metadata": {
    "collapsed": false,
    "pycharm": {
     "name": "#%%\n"
    }
   }
  },
  {
   "cell_type": "code",
   "execution_count": 17,
   "outputs": [],
   "source": [
    "pd.DataFrame(model.summary().tables[1]).to_csv(\"coeficientes.csv\", sep=\";\", decimal=\",\", encoding=\"utf-8\", index=False)"
   ],
   "metadata": {
    "collapsed": false,
    "pycharm": {
     "name": "#%%\n"
    }
   }
  },
  {
   "cell_type": "code",
   "execution_count": 36,
   "outputs": [],
   "source": [
    "from sklearn.linear_model import LogisticRegression\n",
    "df = pd.read_csv(\"/home/gustavo/mudança_de_habitos_do_consumidor_reprocessado_e_renomeado.csv\", sep=\";\", decimal=\",\", encoding=\"utf-8\")\n",
    "df.drop(columns=['Data'], inplace=True)"
   ],
   "metadata": {
    "collapsed": false,
    "pycharm": {
     "name": "#%%\n"
    }
   }
  },
  {
   "cell_type": "code",
   "execution_count": 44,
   "outputs": [],
   "source": [
    "df = df[['Idade', 'Instrucao', 'Cuid_MA1', 'Cuid_MA4', 'CS']]"
   ],
   "metadata": {
    "collapsed": false,
    "pycharm": {
     "name": "#%%\n"
    }
   }
  },
  {
   "cell_type": "code",
   "execution_count": 45,
   "outputs": [],
   "source": [
    "features = df.drop([\"CS\"], axis=1)\n",
    "target = df[\"CS\"]"
   ],
   "metadata": {
    "collapsed": false,
    "pycharm": {
     "name": "#%%\n"
    }
   }
  },
  {
   "cell_type": "code",
   "execution_count": 46,
   "outputs": [
    {
     "data": {
      "text/plain": "LogisticRegression(max_iter=1000)"
     },
     "execution_count": 46,
     "metadata": {},
     "output_type": "execute_result"
    }
   ],
   "source": [
    "# Fazendo o modelo\n",
    "\n",
    "model = LogisticRegression(solver='lbfgs', max_iter=1000)\n",
    "model.fit(features, target)"
   ],
   "metadata": {
    "collapsed": false,
    "pycharm": {
     "name": "#%%\n"
    }
   }
  },
  {
   "cell_type": "code",
   "execution_count": 60,
   "outputs": [
    {
     "data": {
      "text/plain": "       Predicted False  Predicted True\nFalse               87              14\nTrue                27              19",
      "text/html": "<div>\n<style scoped>\n    .dataframe tbody tr th:only-of-type {\n        vertical-align: middle;\n    }\n\n    .dataframe tbody tr th {\n        vertical-align: top;\n    }\n\n    .dataframe thead th {\n        text-align: right;\n    }\n</style>\n<table border=\"1\" class=\"dataframe\">\n  <thead>\n    <tr style=\"text-align: right;\">\n      <th></th>\n      <th>Predicted False</th>\n      <th>Predicted True</th>\n    </tr>\n  </thead>\n  <tbody>\n    <tr>\n      <th>False</th>\n      <td>87</td>\n      <td>14</td>\n    </tr>\n    <tr>\n      <th>True</th>\n      <td>27</td>\n      <td>19</td>\n    </tr>\n  </tbody>\n</table>\n</div>"
     },
     "metadata": {},
     "output_type": "display_data"
    },
    {
     "name": "stdout",
     "output_type": "stream",
     "text": [
      "Accuracy: 0.7211\n",
      "Precision: 0.5758\n",
      "Recall: 0.413\n",
      "F1: 0.481\n",
      "Sensitivity: 0.413\n",
      "Specificity: 0.8614\n"
     ]
    }
   ],
   "source": [
    "from sklearn.metrics import precision_score, recall_score, f1_score\n",
    "from sklearn.metrics import confusion_matrix\n",
    "import pandas as pd\n",
    "\n",
    "def evaluate_logistic_regression(model, features, target):\n",
    "    predictions = model.predict(features)\n",
    "    accuracy = model.score(features, target)\n",
    "    precision = precision_score(target, predictions)\n",
    "    recall = recall_score(target, predictions)\n",
    "    f1 = f1_score(target, predictions)\n",
    "    conf_matrix = confusion_matrix(target, predictions)\n",
    "    confusion_matrix_data_frame = pd.DataFrame(conf_matrix, index=['False', 'True'], columns=['Predicted False', 'Predicted True'])\n",
    "    specificity = conf_matrix[0, 0] / (conf_matrix[0, 0] + conf_matrix[0, 1])\n",
    "    sensitivity = conf_matrix[1, 1] / (conf_matrix[1, 0] + conf_matrix[1, 1])\n",
    "    display(confusion_matrix_data_frame)\n",
    "    print(f'Accuracy: {accuracy:.4}\\nPrecision: {precision:.4}\\nRecall: {recall:.4}\\nF1: {f1:.4}\\nSensitivity: {sensitivity:.4}\\nSpecificity: {specificity:.4}')\n",
    "\n",
    "evaluate_logistic_regression(model, features, target)"
   ],
   "metadata": {
    "collapsed": false,
    "pycharm": {
     "name": "#%%\n"
    }
   }
  },
  {
   "cell_type": "code",
   "execution_count": 68,
   "outputs": [
    {
     "data": {
      "text/plain": "<Figure size 432x288 with 1 Axes>",
      "image/png": "[encoded data removed]"
     },
     "metadata": {
      "needs_background": "light"
     },
     "output_type": "display_data"
    }
   ],
   "source": [
    "# Fazendo o grafico da curva ROC\n",
    "from sklearn.metrics import roc_curve, roc_auc_score\n",
    "from matplotlib import pyplot as plt\n",
    "y_pred_proba = model.predict_proba(features)[::,1]\n",
    "fpr, tpr, thresholds = roc_curve(target,  y_pred_proba)\n",
    "auc = roc_auc_score(target, y_pred_proba)\n",
    "#create ROC curve\n",
    "plt.plot(fpr, tpr, label=\"AUC=\"+str(auc))\n",
    "plt.ylabel('True Positive Rate')\n",
    "plt.xlabel('False Positive Rate')\n",
    "plt.legend(loc=4)\n",
    "plt.show()"
   ],
   "metadata": {
    "collapsed": false,
    "pycharm": {
     "name": "#%%\n"
    }
   }
  },
  {
   "cell_type": "code",
   "execution_count": 72,
   "outputs": [
    {
     "data": {
      "text/plain": "LogisticRegression(max_iter=1000)"
     },
     "execution_count": 72,
     "metadata": {},
     "output_type": "execute_result"
    }
   ],
   "source": [
    "# 1 - roc_auc_score(target, y_pred_proba)\n",
    "model.info"
   ],
   "metadata": {
    "collapsed": false,
    "pycharm": {
     "name": "#%%\n"
    }
   }
  }
 ],
 "metadata": {
  "kernelspec": {
   "display_name": "Python 3",
   "language": "python",
   "name": "python3"
  },
  "language_info": {
   "codemirror_mode": {
    "name": "ipython",
    "version": 3
   },
   "file_extension": ".py",
   "mimetype": "text/x-python",
   "name": "python",
   "nbconvert_exporter": "python",
   "pygments_lexer": "ipython3",
   "version": "3.8.10"
  }
 },
 "nbformat": 4,
 "nbformat_minor": 1
}