{
 "cells": [
  {
   "cell_type": "code",
   "execution_count": 127,
   "metadata": {
    "collapsed": true,
    "pycharm": {
     "name": "#%%\n"
    }
   },
   "outputs": [
    {
     "data": {
      "text/plain": "     Marca temporal            Idade     Gênero  \\\n0  03/08/2022 10:04  De 18 a 27 anos   Feminino   \n1  03/08/2022 10:09  De 18 a 27 anos  Masculino   \n2  03/08/2022 10:19  De 18 a 27 anos  Masculino   \n3  03/08/2022 10:23  De 18 a 27 anos  Masculino   \n4  03/08/2022 10:25  De 18 a 27 anos   Feminino   \n\n                        Instrução Com quem você mora?  \\\n0  Graduação Incompleta/ Em curso        Com parentes   \n1  Graduação Incompleta/ Em curso         Com os pais   \n2                       Graduação        Com parentes   \n3  Graduação Incompleta/ Em curso         Com os pais   \n4  Graduação Incompleta/ Em curso             Sozinho   \n\n   Quantidade de pessoas que mora                      Renda familiar  \\\n0                             2.0      Superior a 10 salários mínimos   \n1                             1.0  Acima de 7 até 10 salários mínimos   \n2                             2.0  Acima de 7 até 10 salários mínimos   \n3                             2.0           De 4 a 7 salários mínimos   \n4                             0.0  Acima de 7 até 10 salários mínimos   \n\n  Eu tento reduzir meu consumo de água e energia pensando em outras pessoas  \\\n0                                           Concordo                          \n1                                           Concordo                          \n2                                             Neutro                          \n3                                Concordo totalmente                          \n4                                             Neutro                          \n\n  Eu jogo o lixo em lugares adequados para manter as vias (ruas, estradas, calçadas) limpas  \\\n0                                Concordo totalmente                                          \n1                                Concordo totalmente                                          \n2                                Concordo totalmente                                          \n3                                Concordo totalmente                                          \n4                                Concordo totalmente                                          \n\n  Em um restaurante, eu peço somente a quantidade de comida que posso comer para evitar gastos  \\\n0                                Concordo totalmente                                             \n1                                Concordo totalmente                                             \n2                                Concordo totalmente                                             \n3                                             Neutro                                             \n4                                             Neutro                                             \n\n   ... Eu compro e uso produtos que são \"environmentally friendly\"  \\\n0  ...                                Concordo totalmente            \n1  ...                                             Neutro            \n2  ...                                             Neutro            \n3  ...                                Concordo totalmente            \n4  ...                                           Concordo            \n\n  Eu me preocupo com a falta de recursos naturais  \\\n0                             Concordo totalmente   \n1                             Concordo totalmente   \n2                             Concordo totalmente   \n3                             Concordo totalmente   \n4                                        Concordo   \n\n  Costumo ler o rótulo de produtos para ver se existem informações sobre cuidados com o meio ambiente  \\\n0                                Concordo totalmente                                                    \n1                                Discordo totalmente                                                    \n2                                           Concordo                                                    \n3                                Concordo totalmente                                                    \n4                                           Concordo                                                    \n\n  Eu tento comprar alimentos orgânicos por serem menos agressivos ao meio ambiente  \\\n0                                Concordo totalmente                                 \n1                                Discordo totalmente                                 \n2                                           Concordo                                 \n3                                             Neutro                                 \n4                                             Neutro                                 \n\n  Eu sempre lembro que excesso de consumo pode causar falta de recursos naturais  \\\n0                                Concordo totalmente                               \n1                                Concordo totalmente                               \n2                                           Concordo                               \n3                                Concordo totalmente                               \n4                                           Discordo                               \n\n  É minha responsabilidade controlar os desejos de compras excessivas para o bem das futuras gerações  \\\n0                                Concordo totalmente                                                    \n1                                Concordo totalmente                                                    \n2                                           Concordo                                                    \n3                                             Neutro                                                    \n4                                           Concordo                                                    \n\n  Eu passei a utilizar menos sacolas plásticas durante o período da pandemia  \\\n0                                           Discordo                           \n1                                Discordo totalmente                           \n2                                           Discordo                           \n3                                Concordo totalmente                           \n4                                Concordo totalmente                           \n\n  Eu passei a comprar mais produtos sustentáveis durante o período da pandemia  \\\n0                                           Concordo                             \n1                                Discordo totalmente                             \n2                                             Neutro                             \n3                                Concordo totalmente                             \n4                                Concordo totalmente                             \n\n  Eu passei a reciclar mais durante o período da pandemia  \\\n0                                           Concordo        \n1                                Discordo totalmente        \n2                                             Neutro        \n3                                Concordo totalmente        \n4                                Concordo totalmente        \n\n  Eu passei a evitar mais o desperdício de comida durante o período da pandemia  \n0                                           Concordo                             \n1                                           Concordo                             \n2                                             Neutro                             \n3                                Concordo totalmente                             \n4                                Concordo totalmente                             \n\n[5 rows x 31 columns]",
      "text/html": "<div>\n<style scoped>\n    .dataframe tbody tr th:only-of-type {\n        vertical-align: middle;\n    }\n\n    .dataframe tbody tr th {\n        vertical-align: top;\n    }\n\n    .dataframe thead th {\n        text-align: right;\n    }\n</style>\n<table border=\"1\" class=\"dataframe\">\n  <thead>\n    <tr style=\"text-align: right;\">\n      <th></th>\n      <th>Marca temporal</th>\n      <th>Idade</th>\n      <th>Gênero</th>\n      <th>Instrução</th>\n      <th>Com quem você mora?</th>\n      <th>Quantidade de pessoas que mora</th>\n      <th>Renda familiar</th>\n      <th>Eu tento reduzir meu consumo de água e energia pensando em outras pessoas</th>\n      <th>Eu jogo o lixo em lugares adequados para manter as vias (ruas, estradas, calçadas) limpas</th>\n      <th>Em um restaurante, eu peço somente a quantidade de comida que posso comer para evitar gastos</th>\n      <th>...</th>\n      <th>Eu compro e uso produtos que são \"environmentally friendly\"</th>\n      <th>Eu me preocupo com a falta de recursos naturais</th>\n      <th>Costumo ler o rótulo de produtos para ver se existem informações sobre cuidados com o meio ambiente</th>\n      <th>Eu tento comprar alimentos orgânicos por serem menos agressivos ao meio ambiente</th>\n      <th>Eu sempre lembro que excesso de consumo pode causar falta de recursos naturais</th>\n      <th>É minha responsabilidade controlar os desejos de compras excessivas para o bem das futuras gerações</th>\n      <th>Eu passei a utilizar menos sacolas plásticas durante o período da pandemia</th>\n      <th>Eu passei a comprar mais produtos sustentáveis durante o período da pandemia</th>\n      <th>Eu passei a reciclar mais durante o período da pandemia</th>\n      <th>Eu passei a evitar mais o desperdício de comida durante o período da pandemia</th>\n    </tr>\n  </thead>\n  <tbody>\n    <tr>\n      <th>0</th>\n      <td>03/08/2022 10:04</td>\n      <td>De 18 a 27 anos</td>\n      <td>Feminino</td>\n      <td>Graduação Incompleta/ Em curso</td>\n      <td>Com parentes</td>\n      <td>2.0</td>\n      <td>Superior a 10 salários mínimos</td>\n      <td>Concordo</td>\n      <td>Concordo totalmente</td>\n      <td>Concordo totalmente</td>\n      <td>...</td>\n      <td>Concordo totalmente</td>\n      <td>Concordo totalmente</td>\n      <td>Concordo totalmente</td>\n      <td>Concordo totalmente</td>\n      <td>Concordo totalmente</td>\n      <td>Concordo totalmente</td>\n      <td>Discordo</td>\n      <td>Concordo</td>\n      <td>Concordo</td>\n      <td>Concordo</td>\n    </tr>\n    <tr>\n      <th>1</th>\n      <td>03/08/2022 10:09</td>\n      <td>De 18 a 27 anos</td>\n      <td>Masculino</td>\n      <td>Graduação Incompleta/ Em curso</td>\n      <td>Com os pais</td>\n      <td>1.0</td>\n      <td>Acima de 7 até 10 salários mínimos</td>\n      <td>Concordo</td>\n      <td>Concordo totalmente</td>\n      <td>Concordo totalmente</td>\n      <td>...</td>\n      <td>Neutro</td>\n      <td>Concordo totalmente</td>\n      <td>Discordo totalmente</td>\n      <td>Discordo totalmente</td>\n      <td>Concordo totalmente</td>\n      <td>Concordo totalmente</td>\n      <td>Discordo totalmente</td>\n      <td>Discordo totalmente</td>\n      <td>Discordo totalmente</td>\n      <td>Concordo</td>\n    </tr>\n    <tr>\n      <th>2</th>\n      <td>03/08/2022 10:19</td>\n      <td>De 18 a 27 anos</td>\n      <td>Masculino</td>\n      <td>Graduação</td>\n      <td>Com parentes</td>\n      <td>2.0</td>\n      <td>Acima de 7 até 10 salários mínimos</td>\n      <td>Neutro</td>\n      <td>Concordo totalmente</td>\n      <td>Concordo totalmente</td>\n      <td>...</td>\n      <td>Neutro</td>\n      <td>Concordo totalmente</td>\n      <td>Concordo</td>\n      <td>Concordo</td>\n      <td>Concordo</td>\n      <td>Concordo</td>\n      <td>Discordo</td>\n      <td>Neutro</td>\n      <td>Neutro</td>\n      <td>Neutro</td>\n    </tr>\n    <tr>\n      <th>3</th>\n      <td>03/08/2022 10:23</td>\n      <td>De 18 a 27 anos</td>\n      <td>Masculino</td>\n      <td>Graduação Incompleta/ Em curso</td>\n      <td>Com os pais</td>\n      <td>2.0</td>\n      <td>De 4 a 7 salários mínimos</td>\n      <td>Concordo totalmente</td>\n      <td>Concordo totalmente</td>\n      <td>Neutro</td>\n      <td>...</td>\n      <td>Concordo totalmente</td>\n      <td>Concordo totalmente</td>\n      <td>Concordo totalmente</td>\n      <td>Neutro</td>\n      <td>Concordo totalmente</td>\n      <td>Neutro</td>\n      <td>Concordo totalmente</td>\n      <td>Concordo totalmente</td>\n      <td>Concordo totalmente</td>\n      <td>Concordo totalmente</td>\n    </tr>\n    <tr>\n      <th>4</th>\n      <td>03/08/2022 10:25</td>\n      <td>De 18 a 27 anos</td>\n      <td>Feminino</td>\n      <td>Graduação Incompleta/ Em curso</td>\n      <td>Sozinho</td>\n      <td>0.0</td>\n      <td>Acima de 7 até 10 salários mínimos</td>\n      <td>Neutro</td>\n      <td>Concordo totalmente</td>\n      <td>Neutro</td>\n      <td>...</td>\n      <td>Concordo</td>\n      <td>Concordo</td>\n      <td>Concordo</td>\n      <td>Neutro</td>\n      <td>Discordo</td>\n      <td>Concordo</td>\n      <td>Concordo totalmente</td>\n      <td>Concordo totalmente</td>\n      <td>Concordo totalmente</td>\n      <td>Concordo totalmente</td>\n    </tr>\n  </tbody>\n</table>\n<p>5 rows × 31 columns</p>\n</div>"
     },
     "execution_count": 127,
     "metadata": {},
     "output_type": "execute_result"
    }
   ],
   "source": [
    "import pandas as pd\n",
    "import numpy as np\n",
    "\n",
    "filepath = \"/home/gustavo/Downloads/Mudança de hábitos do consumidor.csv\"\n",
    "data = pd.read_csv(filepath, sep=\";\", decimal=\",\")\n",
    "\n",
    "data.head()"
   ]
  },
  {
   "cell_type": "code",
   "execution_count": 128,
   "metadata": {
    "pycharm": {
     "name": "#%%\n"
    }
   },
   "outputs": [],
   "source": [
    "# Removendo as instâncias com idades menores que 18 anos e com idades maiores que 42 anos\n",
    "data = data[data[\"Idade\"] != \"Menos de 18 anos\"]\n",
    "data = data[data[\"Idade\"] != \"Mais de 42 anos\"]"
   ]
  },
  {
   "cell_type": "code",
   "execution_count": 129,
   "metadata": {
    "pycharm": {
     "name": "#%%\n"
    }
   },
   "outputs": [
    {
     "data": {
      "text/plain": "     Marca temporal  Idade  Gênero  Instrução  Com quem você mora?  \\\n0  03/08/2022 10:04      1       1          3                    4   \n1  03/08/2022 10:09      1       2          3                    3   \n2  03/08/2022 10:19      1       2          2                    4   \n3  03/08/2022 10:23      1       2          3                    3   \n4  03/08/2022 10:25      1       1          3                    5   \n\n   Quantidade de pessoas que mora  Renda familiar  \\\n0                               2               4   \n1                               1               1   \n2                               2               1   \n3                               2               3   \n4                               0               1   \n\n   Eu tento reduzir meu consumo de água e energia pensando em outras pessoas  \\\n0                                                  4                           \n1                                                  4                           \n2                                                  3                           \n3                                                  5                           \n4                                                  3                           \n\n   Eu jogo o lixo em lugares adequados para manter as vias (ruas, estradas, calçadas) limpas  \\\n0                                                  5                                           \n1                                                  5                                           \n2                                                  5                                           \n3                                                  5                                           \n4                                                  5                                           \n\n   Em um restaurante, eu peço somente a quantidade de comida que posso comer para evitar gastos  \\\n0                                                  5                                              \n1                                                  5                                              \n2                                                  5                                              \n3                                                  3                                              \n4                                                  3                                              \n\n   ...  Eu compro e uso produtos que são \"environmentally friendly\"  \\\n0  ...                                                  5             \n1  ...                                                  3             \n2  ...                                                  3             \n3  ...                                                  5             \n4  ...                                                  4             \n\n   Eu me preocupo com a falta de recursos naturais  \\\n0                                                5   \n1                                                5   \n2                                                5   \n3                                                5   \n4                                                4   \n\n   Costumo ler o rótulo de produtos para ver se existem informações sobre cuidados com o meio ambiente  \\\n0                                                  5                                                     \n1                                                  1                                                     \n2                                                  4                                                     \n3                                                  5                                                     \n4                                                  4                                                     \n\n   Eu tento comprar alimentos orgânicos por serem menos agressivos ao meio ambiente  \\\n0                                                  5                                  \n1                                                  1                                  \n2                                                  4                                  \n3                                                  3                                  \n4                                                  3                                  \n\n   Eu sempre lembro que excesso de consumo pode causar falta de recursos naturais  \\\n0                                                  5                                \n1                                                  5                                \n2                                                  4                                \n3                                                  5                                \n4                                                  2                                \n\n   É minha responsabilidade controlar os desejos de compras excessivas para o bem das futuras gerações  \\\n0                                                  5                                                     \n1                                                  5                                                     \n2                                                  4                                                     \n3                                                  3                                                     \n4                                                  4                                                     \n\n   Eu passei a utilizar menos sacolas plásticas durante o período da pandemia  \\\n0                                                  2                            \n1                                                  1                            \n2                                                  2                            \n3                                                  5                            \n4                                                  5                            \n\n   Eu passei a comprar mais produtos sustentáveis durante o período da pandemia  \\\n0                                                  4                              \n1                                                  1                              \n2                                                  3                              \n3                                                  5                              \n4                                                  5                              \n\n   Eu passei a reciclar mais durante o período da pandemia  \\\n0                                                  4         \n1                                                  1         \n2                                                  3         \n3                                                  5         \n4                                                  5         \n\n   Eu passei a evitar mais o desperdício de comida durante o período da pandemia  \n0                                                  4                              \n1                                                  4                              \n2                                                  3                              \n3                                                  5                              \n4                                                  5                              \n\n[5 rows x 31 columns]",
      "text/html": "<div>\n<style scoped>\n    .dataframe tbody tr th:only-of-type {\n        vertical-align: middle;\n    }\n\n    .dataframe tbody tr th {\n        vertical-align: top;\n    }\n\n    .dataframe thead th {\n        text-align: right;\n    }\n</style>\n<table border=\"1\" class=\"dataframe\">\n  <thead>\n    <tr style=\"text-align: right;\">\n      <th></th>\n      <th>Marca temporal</th>\n      <th>Idade</th>\n      <th>Gênero</th>\n      <th>Instrução</th>\n      <th>Com quem você mora?</th>\n      <th>Quantidade de pessoas que mora</th>\n      <th>Renda familiar</th>\n      <th>Eu tento reduzir meu consumo de água e energia pensando em outras pessoas</th>\n      <th>Eu jogo o lixo em lugares adequados para manter as vias (ruas, estradas, calçadas) limpas</th>\n      <th>Em um restaurante, eu peço somente a quantidade de comida que posso comer para evitar gastos</th>\n      <th>...</th>\n      <th>Eu compro e uso produtos que são \"environmentally friendly\"</th>\n      <th>Eu me preocupo com a falta de recursos naturais</th>\n      <th>Costumo ler o rótulo de produtos para ver se existem informações sobre cuidados com o meio ambiente</th>\n      <th>Eu tento comprar alimentos orgânicos por serem menos agressivos ao meio ambiente</th>\n      <th>Eu sempre lembro que excesso de consumo pode causar falta de recursos naturais</th>\n      <th>É minha responsabilidade controlar os desejos de compras excessivas para o bem das futuras gerações</th>\n      <th>Eu passei a utilizar menos sacolas plásticas durante o período da pandemia</th>\n      <th>Eu passei a comprar mais produtos sustentáveis durante o período da pandemia</th>\n      <th>Eu passei a reciclar mais durante o período da pandemia</th>\n      <th>Eu passei a evitar mais o desperdício de comida durante o período da pandemia</th>\n    </tr>\n  </thead>\n  <tbody>\n    <tr>\n      <th>0</th>\n      <td>03/08/2022 10:04</td>\n      <td>1</td>\n      <td>1</td>\n      <td>3</td>\n      <td>4</td>\n      <td>2</td>\n      <td>4</td>\n      <td>4</td>\n      <td>5</td>\n      <td>5</td>\n      <td>...</td>\n      <td>5</td>\n      <td>5</td>\n      <td>5</td>\n      <td>5</td>\n      <td>5</td>\n      <td>5</td>\n      <td>2</td>\n      <td>4</td>\n      <td>4</td>\n      <td>4</td>\n    </tr>\n    <tr>\n      <th>1</th>\n      <td>03/08/2022 10:09</td>\n      <td>1</td>\n      <td>2</td>\n      <td>3</td>\n      <td>3</td>\n      <td>1</td>\n      <td>1</td>\n      <td>4</td>\n      <td>5</td>\n      <td>5</td>\n      <td>...</td>\n      <td>3</td>\n      <td>5</td>\n      <td>1</td>\n      <td>1</td>\n      <td>5</td>\n      <td>5</td>\n      <td>1</td>\n      <td>1</td>\n      <td>1</td>\n      <td>4</td>\n    </tr>\n    <tr>\n      <th>2</th>\n      <td>03/08/2022 10:19</td>\n      <td>1</td>\n      <td>2</td>\n      <td>2</td>\n      <td>4</td>\n      <td>2</td>\n      <td>1</td>\n      <td>3</td>\n      <td>5</td>\n      <td>5</td>\n      <td>...</td>\n      <td>3</td>\n      <td>5</td>\n      <td>4</td>\n      <td>4</td>\n      <td>4</td>\n      <td>4</td>\n      <td>2</td>\n      <td>3</td>\n      <td>3</td>\n      <td>3</td>\n    </tr>\n    <tr>\n      <th>3</th>\n      <td>03/08/2022 10:23</td>\n      <td>1</td>\n      <td>2</td>\n      <td>3</td>\n      <td>3</td>\n      <td>2</td>\n      <td>3</td>\n      <td>5</td>\n      <td>5</td>\n      <td>3</td>\n      <td>...</td>\n      <td>5</td>\n      <td>5</td>\n      <td>5</td>\n      <td>3</td>\n      <td>5</td>\n      <td>3</td>\n      <td>5</td>\n      <td>5</td>\n      <td>5</td>\n      <td>5</td>\n    </tr>\n    <tr>\n      <th>4</th>\n      <td>03/08/2022 10:25</td>\n      <td>1</td>\n      <td>1</td>\n      <td>3</td>\n      <td>5</td>\n      <td>0</td>\n      <td>1</td>\n      <td>3</td>\n      <td>5</td>\n      <td>3</td>\n      <td>...</td>\n      <td>4</td>\n      <td>4</td>\n      <td>4</td>\n      <td>3</td>\n      <td>2</td>\n      <td>4</td>\n      <td>5</td>\n      <td>5</td>\n      <td>5</td>\n      <td>5</td>\n    </tr>\n  </tbody>\n</table>\n<p>5 rows × 31 columns</p>\n</div>"
     },
     "execution_count": 129,
     "metadata": {},
     "output_type": "execute_result"
    }
   ],
   "source": [
    "# Codificando as variaveis categóricas\n",
    "from sklearn.preprocessing import LabelEncoder\n",
    "\n",
    "encoder = LabelEncoder()\n",
    "\n",
    "data[\"Idade\"] = encoder.fit_transform(data[\"Idade\"]) + 1\n",
    "data[\"Gênero\"] = encoder.fit_transform(data[\"Gênero\"]) + 1\n",
    "data[\"Com quem você mora?\"] = encoder.fit_transform(data[\"Com quem você mora?\"]) + 1\n",
    "data[\"Instrução\"] = encoder.fit_transform(data[\"Instrução\"]) + 1\n",
    "data[\"Renda familiar\"] = encoder.fit_transform(data[\"Renda familiar\"]) + 1\n",
    "data[\"Quantidade de pessoas que mora\"] = data[\"Quantidade de pessoas que mora\"].astype(int)\n",
    "\n",
    "mapa_da_escala_likert = {\n",
    "    \"Concordo totalmente\": 5,\n",
    "    \"Concordo\": 4,\n",
    "    \"Neutro\": 3,\n",
    "    \"Discordo\": 2,\n",
    "    \"Discordo totalmente\": 1\n",
    "}\n",
    "\n",
    "data.replace(mapa_da_escala_likert, inplace=True)\n",
    "\n",
    "\n",
    "data.head()"
   ]
  },
  {
   "cell_type": "markdown",
   "metadata": {
    "pycharm": {
     "name": "#%% md\n"
    }
   },
   "source": [
    "Definindo se a pandemia afetou o consumo sustentável do consumidor"
   ]
  },
  {
   "cell_type": "code",
   "execution_count": 130,
   "metadata": {
    "pycharm": {
     "name": "#%%\n"
    }
   },
   "outputs": [],
   "source": [
    "def e_consumo_sustentavel(row) -> int:\n",
    "    consumo_sustentavel = {\n",
    "        'Eu passei a utilizar menos sacolas plásticas durante o período da pandemia': [4, 5],\n",
    "        'Eu passei a comprar mais produtos sustentáveis durante o período da pandemia': [4, 5],\n",
    "        'Eu passei a reciclar mais durante o período da pandemia': [4, 5],\n",
    "        'Eu passei a evitar mais o desperdício de comida durante o período da pandemia': [4, 5]\n",
    "    }\n",
    "    counter = 0\n",
    "    for column, values in consumo_sustentavel.items():\n",
    "        if row[column] in values:\n",
    "            counter += 1\n",
    "    if counter >= 3:\n",
    "        return 1\n",
    "    return 0\n",
    "\n",
    "data['Consumo Sustentavel'] = data.apply(e_consumo_sustentavel, axis=1)\n",
    "data.to_csv(\"/home/gustavo/Downloads/mudança_de_habitos_do_consumidor_processado.csv\", sep=\";\", decimal=\",\", encoding=\"utf-8\", index=False)"
   ]
  },
  {
   "cell_type": "code",
   "execution_count": 131,
   "metadata": {
    "pycharm": {
     "name": "#%%\n"
    }
   },
   "outputs": [],
   "source": [
    "data.drop(columns=['Marca temporal'], inplace=True)"
   ]
  },
  {
   "cell_type": "code",
   "execution_count": 132,
   "metadata": {
    "pycharm": {
     "name": "#%%\n"
    }
   },
   "outputs": [],
   "source": [
    "target = data[\"Consumo Sustentavel\"]\n",
    "features = data.drop([\"Consumo Sustentavel\"], axis=1)"
   ]
  },
  {
   "cell_type": "code",
   "execution_count": 133,
   "metadata": {
    "pycharm": {
     "name": "#%%\n"
    }
   },
   "outputs": [
    {
     "name": "stdout",
     "output_type": "stream",
     "text": [
      "Optimization terminated successfully.\n",
      "         Current function value: 0.430231\n",
      "         Iterations 7\n"
     ]
    },
    {
     "data": {
      "text/plain": "<class 'statsmodels.iolib.summary.Summary'>\n\"\"\"\n                            Logit Regression Results                           \n===============================================================================\nDep. Variable:     Consumo Sustentavel   No. Observations:                  147\nModel:                           Logit   Df Residuals:                      120\nMethod:                            MLE   Df Model:                           26\nDate:                 Wed, 18 May 2022   Pseudo R-squ.:                  0.3077\nTime:                         10:52:15   Log-Likelihood:                -63.244\nconverged:                        True   LL-Null:                       -91.349\nCovariance Type:             nonrobust   LLR p-value:                 0.0005302\n======================================================================================================================================================================================================================================\n                                                                                                                                                                         coef    std err          z      P>|z|      [0.025      0.975]\n--------------------------------------------------------------------------------------------------------------------------------------------------------------------------------------------------------------------------------------\nconst                                                                                                                                                                 -3.6250      3.792     -0.956      0.339     -11.057       3.807\nIdade                                                                                                                                                                 -1.6215      0.689     -2.354      0.019      -2.972      -0.271\nGênero                                                                                                                                                                -1.0002      0.630     -1.589      0.112      -2.234       0.234\nInstrução                                                                                                                                                              0.0686      0.331      0.207      0.836      -0.580       0.717\nCom quem você mora?                                                                                                                                                   -0.8238      0.274     -3.012      0.003      -1.360      -0.288\nQuantidade de pessoas que mora                                                                                                                                        -0.1670      0.218     -0.767      0.443      -0.594       0.260\nRenda familiar                                                                                                                                                         0.3650      0.229      1.594      0.111      -0.084       0.814\nEu tento reduzir meu consumo de água e energia pensando em outras pessoas                                                                                              0.2273      0.269      0.844      0.399      -0.300       0.755\nEu jogo o lixo em lugares adequados para manter as vias (ruas, estradas, calçadas) limpas                                                                             -0.4923      0.656     -0.751      0.453      -1.777       0.793\nEm um restaurante, eu peço somente a quantidade de comida que posso comer para evitar gastos                                                                           0.3674      0.274      1.341      0.180      -0.169       0.904\nEu evito exagerar na realização de minhas compras                                                                                                                     -0.2645      0.306     -0.864      0.388      -0.865       0.336\nMinhas compras visam somente para suprir minhas necessidades e desejos básicos                                                                                        -0.2259      0.304     -0.743      0.457      -0.822       0.370\nEu não me importo em incorrer em uma pequena perda de qualidade, funcionalidade, design, etc. enquanto estiver comprando um produto para preservar o meio ambiente     0.2921      0.313      0.933      0.351      -0.322       0.906\nEu compro apenas os produtos e serviços de  que eu realmente preciso                                                                                                   0.4806      0.287      1.673      0.094      -0.083       1.044\nEu planejo cuidadosamente antes de comprar um produto ou serviço                                                                                                      -0.1751      0.267     -0.655      0.512      -0.699       0.348\nEu priorizo comprar produtos com embalagens que não agridam o ambiente                                                                                                 0.8522      0.362      2.356      0.018       0.143       1.561\nDurante as compras, tento pensar se o produto adquirido pode causar qualquer dano ao meio ambiente                                                                    -0.2551      0.390     -0.654      0.513      -1.020       0.510\nEu reciclo roupas velhas que estão em uma boa condição (fazendo doações, por exemplo)                                                                                  0.6084      0.427      1.426      0.154      -0.228       1.445\nEu reciclo embalagens em geral  sempre que possível                                                                                                                    0.6597      0.332      1.987      0.047       0.009       1.310\nEu uso minhas próprias embalagens (cestas, sacolas ou carrinhos)  toda vez que vou ao mercado                                                                          0.3079      0.264      1.164      0.244      -0.210       0.826\nEu tento evitar o uso de sacolas plásticas porque não fazem bem ao meio ambiente                                                                                      -0.0593      0.261     -0.227      0.821      -0.572       0.453\nEu compro e uso produtos que são \"environmentally friendly\"                                                                                                           -0.3648      0.359     -1.017      0.309      -1.068       0.338\nEu me preocupo com a falta de recursos naturais                                                                                                                       -0.1248      0.365     -0.342      0.732      -0.841       0.591\nCostumo ler o rótulo de produtos para ver se existem informações sobre cuidados com o meio ambiente                                                                    0.1327      0.275      0.483      0.629      -0.406       0.672\nEu tento comprar alimentos orgânicos por serem menos agressivos ao meio ambiente                                                                                      -0.0003      0.245     -0.001      0.999      -0.481       0.480\nEu sempre lembro que excesso de consumo pode causar falta de recursos naturais                                                                                         0.2495      0.283      0.883      0.377      -0.304       0.803\nÉ minha responsabilidade controlar os desejos de compras excessivas para o bem das futuras gerações                                                                   -0.1097      0.272     -0.403      0.687      -0.643       0.424\n======================================================================================================================================================================================================================================\n\"\"\"",
      "text/html": "<table class=\"simpletable\">\n<caption>Logit Regression Results</caption>\n<tr>\n  <th>Dep. Variable:</th>   <td>Consumo Sustentavel</td> <th>  No. Observations:  </th>  <td>   147</td>  \n</tr>\n<tr>\n  <th>Model:</th>                  <td>Logit</td>        <th>  Df Residuals:      </th>  <td>   120</td>  \n</tr>\n<tr>\n  <th>Method:</th>                  <td>MLE</td>         <th>  Df Model:          </th>  <td>    26</td>  \n</tr>\n<tr>\n  <th>Date:</th>             <td>Wed, 18 May 2022</td>   <th>  Pseudo R-squ.:     </th>  <td>0.3077</td>  \n</tr>\n<tr>\n  <th>Time:</th>                 <td>10:52:15</td>       <th>  Log-Likelihood:    </th> <td> -63.244</td> \n</tr>\n<tr>\n  <th>converged:</th>              <td>True</td>         <th>  LL-Null:           </th> <td> -91.349</td> \n</tr>\n<tr>\n  <th>Covariance Type:</th>      <td>nonrobust</td>      <th>  LLR p-value:       </th> <td>0.0005302</td>\n</tr>\n</table>\n<table class=\"simpletable\">\n<tr>\n                                                                                   <td></td>                                                                                     <th>coef</th>     <th>std err</th>      <th>z</th>      <th>P>|z|</th>  <th>[0.025</th>    <th>0.975]</th>  \n</tr>\n<tr>\n  <th>const</th>                                                                                                                                                              <td>   -3.6250</td> <td>    3.792</td> <td>   -0.956</td> <td> 0.339</td> <td>  -11.057</td> <td>    3.807</td>\n</tr>\n<tr>\n  <th>Idade</th>                                                                                                                                                              <td>   -1.6215</td> <td>    0.689</td> <td>   -2.354</td> <td> 0.019</td> <td>   -2.972</td> <td>   -0.271</td>\n</tr>\n<tr>\n  <th>Gênero</th>                                                                                                                                                             <td>   -1.0002</td> <td>    0.630</td> <td>   -1.589</td> <td> 0.112</td> <td>   -2.234</td> <td>    0.234</td>\n</tr>\n<tr>\n  <th>Instrução</th>                                                                                                                                                          <td>    0.0686</td> <td>    0.331</td> <td>    0.207</td> <td> 0.836</td> <td>   -0.580</td> <td>    0.717</td>\n</tr>\n<tr>\n  <th>Com quem você mora?</th>                                                                                                                                                <td>   -0.8238</td> <td>    0.274</td> <td>   -3.012</td> <td> 0.003</td> <td>   -1.360</td> <td>   -0.288</td>\n</tr>\n<tr>\n  <th>Quantidade de pessoas que mora</th>                                                                                                                                     <td>   -0.1670</td> <td>    0.218</td> <td>   -0.767</td> <td> 0.443</td> <td>   -0.594</td> <td>    0.260</td>\n</tr>\n<tr>\n  <th>Renda familiar</th>                                                                                                                                                     <td>    0.3650</td> <td>    0.229</td> <td>    1.594</td> <td> 0.111</td> <td>   -0.084</td> <td>    0.814</td>\n</tr>\n<tr>\n  <th>Eu tento reduzir meu consumo de água e energia pensando em outras pessoas</th>                                                                                          <td>    0.2273</td> <td>    0.269</td> <td>    0.844</td> <td> 0.399</td> <td>   -0.300</td> <td>    0.755</td>\n</tr>\n<tr>\n  <th>Eu jogo o lixo em lugares adequados para manter as vias (ruas, estradas, calçadas) limpas</th>                                                                          <td>   -0.4923</td> <td>    0.656</td> <td>   -0.751</td> <td> 0.453</td> <td>   -1.777</td> <td>    0.793</td>\n</tr>\n<tr>\n  <th>Em um restaurante, eu peço somente a quantidade de comida que posso comer para evitar gastos</th>                                                                       <td>    0.3674</td> <td>    0.274</td> <td>    1.341</td> <td> 0.180</td> <td>   -0.169</td> <td>    0.904</td>\n</tr>\n<tr>\n  <th>Eu evito exagerar na realização de minhas compras</th>                                                                                                                  <td>   -0.2645</td> <td>    0.306</td> <td>   -0.864</td> <td> 0.388</td> <td>   -0.865</td> <td>    0.336</td>\n</tr>\n<tr>\n  <th>Minhas compras visam somente para suprir minhas necessidades e desejos básicos</th>                                                                                     <td>   -0.2259</td> <td>    0.304</td> <td>   -0.743</td> <td> 0.457</td> <td>   -0.822</td> <td>    0.370</td>\n</tr>\n<tr>\n  <th>Eu não me importo em incorrer em uma pequena perda de qualidade, funcionalidade, design, etc. enquanto estiver comprando um produto para preservar o meio ambiente</th> <td>    0.2921</td> <td>    0.313</td> <td>    0.933</td> <td> 0.351</td> <td>   -0.322</td> <td>    0.906</td>\n</tr>\n<tr>\n  <th>Eu compro apenas os produtos e serviços de  que eu realmente preciso</th>                                                                                               <td>    0.4806</td> <td>    0.287</td> <td>    1.673</td> <td> 0.094</td> <td>   -0.083</td> <td>    1.044</td>\n</tr>\n<tr>\n  <th>Eu planejo cuidadosamente antes de comprar um produto ou serviço</th>                                                                                                   <td>   -0.1751</td> <td>    0.267</td> <td>   -0.655</td> <td> 0.512</td> <td>   -0.699</td> <td>    0.348</td>\n</tr>\n<tr>\n  <th>Eu priorizo comprar produtos com embalagens que não agridam o ambiente</th>                                                                                             <td>    0.8522</td> <td>    0.362</td> <td>    2.356</td> <td> 0.018</td> <td>    0.143</td> <td>    1.561</td>\n</tr>\n<tr>\n  <th>Durante as compras, tento pensar se o produto adquirido pode causar qualquer dano ao meio ambiente</th>                                                                 <td>   -0.2551</td> <td>    0.390</td> <td>   -0.654</td> <td> 0.513</td> <td>   -1.020</td> <td>    0.510</td>\n</tr>\n<tr>\n  <th>Eu reciclo roupas velhas que estão em uma boa condição (fazendo doações, por exemplo)</th>                                                                              <td>    0.6084</td> <td>    0.427</td> <td>    1.426</td> <td> 0.154</td> <td>   -0.228</td> <td>    1.445</td>\n</tr>\n<tr>\n  <th>Eu reciclo embalagens em geral  sempre que possível</th>                                                                                                                <td>    0.6597</td> <td>    0.332</td> <td>    1.987</td> <td> 0.047</td> <td>    0.009</td> <td>    1.310</td>\n</tr>\n<tr>\n  <th>Eu uso minhas próprias embalagens (cestas, sacolas ou carrinhos)  toda vez que vou ao mercado</th>                                                                      <td>    0.3079</td> <td>    0.264</td> <td>    1.164</td> <td> 0.244</td> <td>   -0.210</td> <td>    0.826</td>\n</tr>\n<tr>\n  <th>Eu tento evitar o uso de sacolas plásticas porque não fazem bem ao meio ambiente</th>                                                                                   <td>   -0.0593</td> <td>    0.261</td> <td>   -0.227</td> <td> 0.821</td> <td>   -0.572</td> <td>    0.453</td>\n</tr>\n<tr>\n  <th>Eu compro e uso produtos que são \"environmentally friendly\"</th>                                                                                                        <td>   -0.3648</td> <td>    0.359</td> <td>   -1.017</td> <td> 0.309</td> <td>   -1.068</td> <td>    0.338</td>\n</tr>\n<tr>\n  <th>Eu me preocupo com a falta de recursos naturais</th>                                                                                                                    <td>   -0.1248</td> <td>    0.365</td> <td>   -0.342</td> <td> 0.732</td> <td>   -0.841</td> <td>    0.591</td>\n</tr>\n<tr>\n  <th>Costumo ler o rótulo de produtos para ver se existem informações sobre cuidados com o meio ambiente</th>                                                                <td>    0.1327</td> <td>    0.275</td> <td>    0.483</td> <td> 0.629</td> <td>   -0.406</td> <td>    0.672</td>\n</tr>\n<tr>\n  <th>Eu tento comprar alimentos orgânicos por serem menos agressivos ao meio ambiente</th>                                                                                   <td>   -0.0003</td> <td>    0.245</td> <td>   -0.001</td> <td> 0.999</td> <td>   -0.481</td> <td>    0.480</td>\n</tr>\n<tr>\n  <th>Eu sempre lembro que excesso de consumo pode causar falta de recursos naturais</th>                                                                                     <td>    0.2495</td> <td>    0.283</td> <td>    0.883</td> <td> 0.377</td> <td>   -0.304</td> <td>    0.803</td>\n</tr>\n<tr>\n  <th>É minha responsabilidade controlar os desejos de compras excessivas para o bem das futuras gerações</th>                                                                <td>   -0.1097</td> <td>    0.272</td> <td>   -0.403</td> <td> 0.687</td> <td>   -0.643</td> <td>    0.424</td>\n</tr>\n</table>"
     },
     "execution_count": 133,
     "metadata": {},
     "output_type": "execute_result"
    }
   ],
   "source": [
    "import statsmodels.api as sm\n",
    "\n",
    "feature_columns = list(features.columns)\n",
    "\n",
    "features[\"const\"] = 1\n",
    "features = features[[\"const\", *feature_columns]]\n",
    "columns = features.columns[:-4]\n",
    "\n",
    "model = sm.Logit(target, features[columns]).fit()\n",
    "model.summary()"
   ]
  },
  {
   "cell_type": "code",
   "execution_count": 126,
   "outputs": [
    {
     "data": {
      "text/plain": "0      0.890184\n1      0.018258\n2      0.100708\n3      0.464745\n4      0.435342\n         ...   \n152    0.153217\n153    0.021857\n154    0.010905\n155    0.138201\n156    0.044340\nLength: 147, dtype: float64"
     },
     "execution_count": 126,
     "metadata": {},
     "output_type": "execute_result"
    }
   ],
   "source": [
    "model.predict(features[columns])"
   ],
   "metadata": {
    "collapsed": false,
    "pycharm": {
     "name": "#%%\n"
    }
   }
  },
  {
   "cell_type": "code",
   "execution_count": 138,
   "outputs": [],
   "source": [
    "pd.DataFrame(model.summary().tables[1]).to_csv(\"coeficientes.csv\", sep=\";\", decimal=\",\", encoding=\"utf-8\", index=False)"
   ],
   "metadata": {
    "collapsed": false,
    "pycharm": {
     "name": "#%%\n"
    }
   }
  }
 ],
 "metadata": {
  "kernelspec": {
   "display_name": "Python 3",
   "language": "python",
   "name": "python3"
  },
  "language_info": {
   "codemirror_mode": {
    "name": "ipython",
    "version": 3
   },
   "file_extension": ".py",
   "mimetype": "text/x-python",
   "name": "python",
   "nbconvert_exporter": "python",
   "pygments_lexer": "ipython3",
   "version": "3.8.10"
  }
 },
 "nbformat": 4,
 "nbformat_minor": 1
}