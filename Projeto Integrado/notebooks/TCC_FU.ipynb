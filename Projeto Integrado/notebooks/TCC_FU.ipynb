{
 "cells": [
  {
   "cell_type": "code",
   "execution_count": 93,
   "metadata": {
    "collapsed": true,
    "pycharm": {
     "name": "#%%\n"
    }
   },
   "outputs": [
    {
     "data": {
      "text/plain": "     Marca temporal            Idade     Gênero  \\\n0  03/08/2022 10:04  De 18 a 27 anos   Feminino   \n1  03/08/2022 10:09  De 18 a 27 anos  Masculino   \n2  03/08/2022 10:19  De 18 a 27 anos  Masculino   \n3  03/08/2022 10:23  De 18 a 27 anos  Masculino   \n4  03/08/2022 10:25  De 18 a 27 anos   Feminino   \n\n                        Instrução Com quem você mora?  \\\n0  Graduação Incompleta/ Em curso        Com parentes   \n1  Graduação Incompleta/ Em curso         Com os pais   \n2                       Graduação        Com parentes   \n3  Graduação Incompleta/ Em curso         Com os pais   \n4  Graduação Incompleta/ Em curso             Sozinho   \n\n   Quantidade de pessoas que mora                      Renda familiar  \\\n0                             2.0      Superior a 10 salários mínimos   \n1                             1.0  Acima de 7 até 10 salários mínimos   \n2                             2.0  Acima de 7 até 10 salários mínimos   \n3                             2.0           De 4 a 7 salários mínimos   \n4                             0.0  Acima de 7 até 10 salários mínimos   \n\n  Eu tento reduzir meu consumo de água e energia pensando em outras pessoas  \\\n0                                           Concordo                          \n1                                           Concordo                          \n2                                             Neutro                          \n3                                Concordo totalmente                          \n4                                             Neutro                          \n\n  Eu jogo o lixo em lugares adequados para manter as vias (ruas, estradas, calçadas) limpas  \\\n0                                Concordo totalmente                                          \n1                                Concordo totalmente                                          \n2                                Concordo totalmente                                          \n3                                Concordo totalmente                                          \n4                                Concordo totalmente                                          \n\n  Em um restaurante, eu peço somente a quantidade de comida que posso comer para evitar gastos  \\\n0                                Concordo totalmente                                             \n1                                Concordo totalmente                                             \n2                                Concordo totalmente                                             \n3                                             Neutro                                             \n4                                             Neutro                                             \n\n   ... Eu compro e uso produtos que são \"environmentally friendly\"  \\\n0  ...                                Concordo totalmente            \n1  ...                                             Neutro            \n2  ...                                             Neutro            \n3  ...                                Concordo totalmente            \n4  ...                                           Concordo            \n\n  Eu me preocupo com a falta de recursos naturais  \\\n0                             Concordo totalmente   \n1                             Concordo totalmente   \n2                             Concordo totalmente   \n3                             Concordo totalmente   \n4                                        Concordo   \n\n  Costumo ler o rótulo de produtos para ver se existem informações sobre cuidados com o meio ambiente  \\\n0                                Concordo totalmente                                                    \n1                                Discordo totalmente                                                    \n2                                           Concordo                                                    \n3                                Concordo totalmente                                                    \n4                                           Concordo                                                    \n\n  Eu tento comprar alimentos orgânicos por serem menos agressivos ao meio ambiente  \\\n0                                Concordo totalmente                                 \n1                                Discordo totalmente                                 \n2                                           Concordo                                 \n3                                             Neutro                                 \n4                                             Neutro                                 \n\n  Eu sempre lembro que excesso de consumo pode causar falta de recursos naturais  \\\n0                                Concordo totalmente                               \n1                                Concordo totalmente                               \n2                                           Concordo                               \n3                                Concordo totalmente                               \n4                                           Discordo                               \n\n  É minha responsabilidade controlar os desejos de compras excessivas para o bem das futuras gerações  \\\n0                                Concordo totalmente                                                    \n1                                Concordo totalmente                                                    \n2                                           Concordo                                                    \n3                                             Neutro                                                    \n4                                           Concordo                                                    \n\n  Eu passei a utilizar menos sacolas plásticas durante o período da pandemia  \\\n0                                           Discordo                           \n1                                Discordo totalmente                           \n2                                           Discordo                           \n3                                Concordo totalmente                           \n4                                Concordo totalmente                           \n\n  Eu passei a comprar mais produtos sustentáveis durante o período da pandemia  \\\n0                                           Concordo                             \n1                                Discordo totalmente                             \n2                                             Neutro                             \n3                                Concordo totalmente                             \n4                                Concordo totalmente                             \n\n  Eu passei a reciclar mais durante o período da pandemia  \\\n0                                           Concordo        \n1                                Discordo totalmente        \n2                                             Neutro        \n3                                Concordo totalmente        \n4                                Concordo totalmente        \n\n  Eu passei a evitar mais o desperdício de comida durante o período da pandemia  \n0                                           Concordo                             \n1                                           Concordo                             \n2                                             Neutro                             \n3                                Concordo totalmente                             \n4                                Concordo totalmente                             \n\n[5 rows x 31 columns]",
      "text/html": "<div>\n<style scoped>\n    .dataframe tbody tr th:only-of-type {\n        vertical-align: middle;\n    }\n\n    .dataframe tbody tr th {\n        vertical-align: top;\n    }\n\n    .dataframe thead th {\n        text-align: right;\n    }\n</style>\n<table border=\"1\" class=\"dataframe\">\n  <thead>\n    <tr style=\"text-align: right;\">\n      <th></th>\n      <th>Marca temporal</th>\n      <th>Idade</th>\n      <th>Gênero</th>\n      <th>Instrução</th>\n      <th>Com quem você mora?</th>\n      <th>Quantidade de pessoas que mora</th>\n      <th>Renda familiar</th>\n      <th>Eu tento reduzir meu consumo de água e energia pensando em outras pessoas</th>\n      <th>Eu jogo o lixo em lugares adequados para manter as vias (ruas, estradas, calçadas) limpas</th>\n      <th>Em um restaurante, eu peço somente a quantidade de comida que posso comer para evitar gastos</th>\n      <th>...</th>\n      <th>Eu compro e uso produtos que são \"environmentally friendly\"</th>\n      <th>Eu me preocupo com a falta de recursos naturais</th>\n      <th>Costumo ler o rótulo de produtos para ver se existem informações sobre cuidados com o meio ambiente</th>\n      <th>Eu tento comprar alimentos orgânicos por serem menos agressivos ao meio ambiente</th>\n      <th>Eu sempre lembro que excesso de consumo pode causar falta de recursos naturais</th>\n      <th>É minha responsabilidade controlar os desejos de compras excessivas para o bem das futuras gerações</th>\n      <th>Eu passei a utilizar menos sacolas plásticas durante o período da pandemia</th>\n      <th>Eu passei a comprar mais produtos sustentáveis durante o período da pandemia</th>\n      <th>Eu passei a reciclar mais durante o período da pandemia</th>\n      <th>Eu passei a evitar mais o desperdício de comida durante o período da pandemia</th>\n    </tr>\n  </thead>\n  <tbody>\n    <tr>\n      <th>0</th>\n      <td>03/08/2022 10:04</td>\n      <td>De 18 a 27 anos</td>\n      <td>Feminino</td>\n      <td>Graduação Incompleta/ Em curso</td>\n      <td>Com parentes</td>\n      <td>2.0</td>\n      <td>Superior a 10 salários mínimos</td>\n      <td>Concordo</td>\n      <td>Concordo totalmente</td>\n      <td>Concordo totalmente</td>\n      <td>...</td>\n      <td>Concordo totalmente</td>\n      <td>Concordo totalmente</td>\n      <td>Concordo totalmente</td>\n      <td>Concordo totalmente</td>\n      <td>Concordo totalmente</td>\n      <td>Concordo totalmente</td>\n      <td>Discordo</td>\n      <td>Concordo</td>\n      <td>Concordo</td>\n      <td>Concordo</td>\n    </tr>\n    <tr>\n      <th>1</th>\n      <td>03/08/2022 10:09</td>\n      <td>De 18 a 27 anos</td>\n      <td>Masculino</td>\n      <td>Graduação Incompleta/ Em curso</td>\n      <td>Com os pais</td>\n      <td>1.0</td>\n      <td>Acima de 7 até 10 salários mínimos</td>\n      <td>Concordo</td>\n      <td>Concordo totalmente</td>\n      <td>Concordo totalmente</td>\n      <td>...</td>\n      <td>Neutro</td>\n      <td>Concordo totalmente</td>\n      <td>Discordo totalmente</td>\n      <td>Discordo totalmente</td>\n      <td>Concordo totalmente</td>\n      <td>Concordo totalmente</td>\n      <td>Discordo totalmente</td>\n      <td>Discordo totalmente</td>\n      <td>Discordo totalmente</td>\n      <td>Concordo</td>\n    </tr>\n    <tr>\n      <th>2</th>\n      <td>03/08/2022 10:19</td>\n      <td>De 18 a 27 anos</td>\n      <td>Masculino</td>\n      <td>Graduação</td>\n      <td>Com parentes</td>\n      <td>2.0</td>\n      <td>Acima de 7 até 10 salários mínimos</td>\n      <td>Neutro</td>\n      <td>Concordo totalmente</td>\n      <td>Concordo totalmente</td>\n      <td>...</td>\n      <td>Neutro</td>\n      <td>Concordo totalmente</td>\n      <td>Concordo</td>\n      <td>Concordo</td>\n      <td>Concordo</td>\n      <td>Concordo</td>\n      <td>Discordo</td>\n      <td>Neutro</td>\n      <td>Neutro</td>\n      <td>Neutro</td>\n    </tr>\n    <tr>\n      <th>3</th>\n      <td>03/08/2022 10:23</td>\n      <td>De 18 a 27 anos</td>\n      <td>Masculino</td>\n      <td>Graduação Incompleta/ Em curso</td>\n      <td>Com os pais</td>\n      <td>2.0</td>\n      <td>De 4 a 7 salários mínimos</td>\n      <td>Concordo totalmente</td>\n      <td>Concordo totalmente</td>\n      <td>Neutro</td>\n      <td>...</td>\n      <td>Concordo totalmente</td>\n      <td>Concordo totalmente</td>\n      <td>Concordo totalmente</td>\n      <td>Neutro</td>\n      <td>Concordo totalmente</td>\n      <td>Neutro</td>\n      <td>Concordo totalmente</td>\n      <td>Concordo totalmente</td>\n      <td>Concordo totalmente</td>\n      <td>Concordo totalmente</td>\n    </tr>\n    <tr>\n      <th>4</th>\n      <td>03/08/2022 10:25</td>\n      <td>De 18 a 27 anos</td>\n      <td>Feminino</td>\n      <td>Graduação Incompleta/ Em curso</td>\n      <td>Sozinho</td>\n      <td>0.0</td>\n      <td>Acima de 7 até 10 salários mínimos</td>\n      <td>Neutro</td>\n      <td>Concordo totalmente</td>\n      <td>Neutro</td>\n      <td>...</td>\n      <td>Concordo</td>\n      <td>Concordo</td>\n      <td>Concordo</td>\n      <td>Neutro</td>\n      <td>Discordo</td>\n      <td>Concordo</td>\n      <td>Concordo totalmente</td>\n      <td>Concordo totalmente</td>\n      <td>Concordo totalmente</td>\n      <td>Concordo totalmente</td>\n    </tr>\n  </tbody>\n</table>\n<p>5 rows × 31 columns</p>\n</div>"
     },
     "execution_count": 93,
     "metadata": {},
     "output_type": "execute_result"
    }
   ],
   "source": [
    "import pandas as pd\n",
    "import numpy as np\n",
    "\n",
    "filepath = \"/home/gustavo/Downloads/Mudança de hábitos do consumidor.csv\"\n",
    "data = pd.read_csv(filepath, sep=\";\", decimal=\",\")\n",
    "\n",
    "data.head()"
   ]
  },
  {
   "cell_type": "code",
   "execution_count": 94,
   "outputs": [],
   "source": [
    "# Removendo as instâncias com idades menores que 18 anos e com idades maiores que 42 anos\n",
    "data = data[data[\"Idade\"] != \"Menos de 18 anos\"]\n",
    "data = data[data[\"Idade\"] != \"Mais de 42 anos\"]"
   ],
   "metadata": {
    "collapsed": false,
    "pycharm": {
     "name": "#%%\n"
    }
   }
  },
  {
   "cell_type": "code",
   "execution_count": 95,
   "outputs": [
    {
     "data": {
      "text/plain": "     Marca temporal  Idade  Gênero  Instrução  Com quem você mora?  \\\n0  03/08/2022 10:04      1       1          3                    4   \n1  03/08/2022 10:09      1       2          3                    3   \n2  03/08/2022 10:19      1       2          2                    4   \n3  03/08/2022 10:23      1       2          3                    3   \n4  03/08/2022 10:25      1       1          3                    5   \n\n   Quantidade de pessoas que mora  Renda familiar  \\\n0                               2               4   \n1                               1               1   \n2                               2               1   \n3                               2               3   \n4                               0               1   \n\n   Eu tento reduzir meu consumo de água e energia pensando em outras pessoas  \\\n0                                                  4                           \n1                                                  4                           \n2                                                  3                           \n3                                                  5                           \n4                                                  3                           \n\n   Eu jogo o lixo em lugares adequados para manter as vias (ruas, estradas, calçadas) limpas  \\\n0                                                  5                                           \n1                                                  5                                           \n2                                                  5                                           \n3                                                  5                                           \n4                                                  5                                           \n\n   Em um restaurante, eu peço somente a quantidade de comida que posso comer para evitar gastos  \\\n0                                                  5                                              \n1                                                  5                                              \n2                                                  5                                              \n3                                                  3                                              \n4                                                  3                                              \n\n   ...  Eu compro e uso produtos que são \"environmentally friendly\"  \\\n0  ...                                                  5             \n1  ...                                                  3             \n2  ...                                                  3             \n3  ...                                                  5             \n4  ...                                                  4             \n\n   Eu me preocupo com a falta de recursos naturais  \\\n0                                                5   \n1                                                5   \n2                                                5   \n3                                                5   \n4                                                4   \n\n   Costumo ler o rótulo de produtos para ver se existem informações sobre cuidados com o meio ambiente  \\\n0                                                  5                                                     \n1                                                  1                                                     \n2                                                  4                                                     \n3                                                  5                                                     \n4                                                  4                                                     \n\n   Eu tento comprar alimentos orgânicos por serem menos agressivos ao meio ambiente  \\\n0                                                  5                                  \n1                                                  1                                  \n2                                                  4                                  \n3                                                  3                                  \n4                                                  3                                  \n\n   Eu sempre lembro que excesso de consumo pode causar falta de recursos naturais  \\\n0                                                  5                                \n1                                                  5                                \n2                                                  4                                \n3                                                  5                                \n4                                                  2                                \n\n   É minha responsabilidade controlar os desejos de compras excessivas para o bem das futuras gerações  \\\n0                                                  5                                                     \n1                                                  5                                                     \n2                                                  4                                                     \n3                                                  3                                                     \n4                                                  4                                                     \n\n   Eu passei a utilizar menos sacolas plásticas durante o período da pandemia  \\\n0                                                  2                            \n1                                                  1                            \n2                                                  2                            \n3                                                  5                            \n4                                                  5                            \n\n   Eu passei a comprar mais produtos sustentáveis durante o período da pandemia  \\\n0                                                  4                              \n1                                                  1                              \n2                                                  3                              \n3                                                  5                              \n4                                                  5                              \n\n   Eu passei a reciclar mais durante o período da pandemia  \\\n0                                                  4         \n1                                                  1         \n2                                                  3         \n3                                                  5         \n4                                                  5         \n\n   Eu passei a evitar mais o desperdício de comida durante o período da pandemia  \n0                                                  4                              \n1                                                  4                              \n2                                                  3                              \n3                                                  5                              \n4                                                  5                              \n\n[5 rows x 31 columns]",
      "text/html": "<div>\n<style scoped>\n    .dataframe tbody tr th:only-of-type {\n        vertical-align: middle;\n    }\n\n    .dataframe tbody tr th {\n        vertical-align: top;\n    }\n\n    .dataframe thead th {\n        text-align: right;\n    }\n</style>\n<table border=\"1\" class=\"dataframe\">\n  <thead>\n    <tr style=\"text-align: right;\">\n      <th></th>\n      <th>Marca temporal</th>\n      <th>Idade</th>\n      <th>Gênero</th>\n      <th>Instrução</th>\n      <th>Com quem você mora?</th>\n      <th>Quantidade de pessoas que mora</th>\n      <th>Renda familiar</th>\n      <th>Eu tento reduzir meu consumo de água e energia pensando em outras pessoas</th>\n      <th>Eu jogo o lixo em lugares adequados para manter as vias (ruas, estradas, calçadas) limpas</th>\n      <th>Em um restaurante, eu peço somente a quantidade de comida que posso comer para evitar gastos</th>\n      <th>...</th>\n      <th>Eu compro e uso produtos que são \"environmentally friendly\"</th>\n      <th>Eu me preocupo com a falta de recursos naturais</th>\n      <th>Costumo ler o rótulo de produtos para ver se existem informações sobre cuidados com o meio ambiente</th>\n      <th>Eu tento comprar alimentos orgânicos por serem menos agressivos ao meio ambiente</th>\n      <th>Eu sempre lembro que excesso de consumo pode causar falta de recursos naturais</th>\n      <th>É minha responsabilidade controlar os desejos de compras excessivas para o bem das futuras gerações</th>\n      <th>Eu passei a utilizar menos sacolas plásticas durante o período da pandemia</th>\n      <th>Eu passei a comprar mais produtos sustentáveis durante o período da pandemia</th>\n      <th>Eu passei a reciclar mais durante o período da pandemia</th>\n      <th>Eu passei a evitar mais o desperdício de comida durante o período da pandemia</th>\n    </tr>\n  </thead>\n  <tbody>\n    <tr>\n      <th>0</th>\n      <td>03/08/2022 10:04</td>\n      <td>1</td>\n      <td>1</td>\n      <td>3</td>\n      <td>4</td>\n      <td>2</td>\n      <td>4</td>\n      <td>4</td>\n      <td>5</td>\n      <td>5</td>\n      <td>...</td>\n      <td>5</td>\n      <td>5</td>\n      <td>5</td>\n      <td>5</td>\n      <td>5</td>\n      <td>5</td>\n      <td>2</td>\n      <td>4</td>\n      <td>4</td>\n      <td>4</td>\n    </tr>\n    <tr>\n      <th>1</th>\n      <td>03/08/2022 10:09</td>\n      <td>1</td>\n      <td>2</td>\n      <td>3</td>\n      <td>3</td>\n      <td>1</td>\n      <td>1</td>\n      <td>4</td>\n      <td>5</td>\n      <td>5</td>\n      <td>...</td>\n      <td>3</td>\n      <td>5</td>\n      <td>1</td>\n      <td>1</td>\n      <td>5</td>\n      <td>5</td>\n      <td>1</td>\n      <td>1</td>\n      <td>1</td>\n      <td>4</td>\n    </tr>\n    <tr>\n      <th>2</th>\n      <td>03/08/2022 10:19</td>\n      <td>1</td>\n      <td>2</td>\n      <td>2</td>\n      <td>4</td>\n      <td>2</td>\n      <td>1</td>\n      <td>3</td>\n      <td>5</td>\n      <td>5</td>\n      <td>...</td>\n      <td>3</td>\n      <td>5</td>\n      <td>4</td>\n      <td>4</td>\n      <td>4</td>\n      <td>4</td>\n      <td>2</td>\n      <td>3</td>\n      <td>3</td>\n      <td>3</td>\n    </tr>\n    <tr>\n      <th>3</th>\n      <td>03/08/2022 10:23</td>\n      <td>1</td>\n      <td>2</td>\n      <td>3</td>\n      <td>3</td>\n      <td>2</td>\n      <td>3</td>\n      <td>5</td>\n      <td>5</td>\n      <td>3</td>\n      <td>...</td>\n      <td>5</td>\n      <td>5</td>\n      <td>5</td>\n      <td>3</td>\n      <td>5</td>\n      <td>3</td>\n      <td>5</td>\n      <td>5</td>\n      <td>5</td>\n      <td>5</td>\n    </tr>\n    <tr>\n      <th>4</th>\n      <td>03/08/2022 10:25</td>\n      <td>1</td>\n      <td>1</td>\n      <td>3</td>\n      <td>5</td>\n      <td>0</td>\n      <td>1</td>\n      <td>3</td>\n      <td>5</td>\n      <td>3</td>\n      <td>...</td>\n      <td>4</td>\n      <td>4</td>\n      <td>4</td>\n      <td>3</td>\n      <td>2</td>\n      <td>4</td>\n      <td>5</td>\n      <td>5</td>\n      <td>5</td>\n      <td>5</td>\n    </tr>\n  </tbody>\n</table>\n<p>5 rows × 31 columns</p>\n</div>"
     },
     "execution_count": 95,
     "metadata": {},
     "output_type": "execute_result"
    }
   ],
   "source": [
    "# Codificando as variaveis categóricas\n",
    "from sklearn.preprocessing import LabelEncoder\n",
    "\n",
    "encoder = LabelEncoder()\n",
    "\n",
    "data[\"Idade\"] = encoder.fit_transform(data[\"Idade\"]) + 1\n",
    "data[\"Gênero\"] = encoder.fit_transform(data[\"Gênero\"]) + 1\n",
    "data[\"Com quem você mora?\"] = encoder.fit_transform(data[\"Com quem você mora?\"]) + 1\n",
    "data[\"Instrução\"] = encoder.fit_transform(data[\"Instrução\"]) + 1\n",
    "data[\"Renda familiar\"] = encoder.fit_transform(data[\"Renda familiar\"]) + 1\n",
    "data[\"Quantidade de pessoas que mora\"] = data[\"Quantidade de pessoas que mora\"].astype(int)\n",
    "\n",
    "mapa_da_escala_likert = {\n",
    "    \"Concordo totalmente\": 5,\n",
    "    \"Concordo\": 4,\n",
    "    \"Neutro\": 3,\n",
    "    \"Discordo\": 2,\n",
    "    \"Discordo totalmente\": 1\n",
    "}\n",
    "\n",
    "data.replace(mapa_da_escala_likert, inplace=True)\n",
    "\n",
    "\n",
    "data.head()"
   ],
   "metadata": {
    "collapsed": false,
    "pycharm": {
     "name": "#%%\n"
    }
   }
  },
  {
   "cell_type": "markdown",
   "source": [
    "Definindo se a pandemia afetou o consumo sustentável do consumidor"
   ],
   "metadata": {
    "collapsed": false,
    "pycharm": {
     "name": "#%% md\n"
    }
   }
  },
  {
   "cell_type": "code",
   "execution_count": 97,
   "outputs": [],
   "source": [
    "def e_consumo_sustentavel(row) -> int:\n",
    "    consumo_sustentavel = {\n",
    "        'Eu passei a utilizar menos sacolas plásticas durante o período da pandemia': [4, 5],\n",
    "        'Eu passei a comprar mais produtos sustentáveis durante o período da pandemia': [4, 5],\n",
    "        'Eu passei a reciclar mais durante o período da pandemia': [4, 5],\n",
    "        'Eu passei a evitar mais o desperdício de comida durante o período da pandemia': [4, 5]\n",
    "    }\n",
    "    counter = 0\n",
    "    for column, values in consumo_sustentavel.items():\n",
    "        if row[column] in values:\n",
    "            counter += 1\n",
    "    if counter >= 3:\n",
    "        return 1\n",
    "    return 0\n",
    "\n",
    "data['Consumo Sustentavel'] = data.apply(e_consumo_sustentavel, axis=1)\n",
    "data.to_csv(\"/home/gustavo/Downloads/mudança_de_habitos_do_consumidor_processado.csv\", sep=\";\", decimal=\",\", encoding=\"latin-1\", index=False)"
   ],
   "metadata": {
    "collapsed": false,
    "pycharm": {
     "name": "#%%\n"
    }
   }
  },
  {
   "cell_type": "code",
   "execution_count": 89,
   "outputs": [],
   "source": [
    "data.drop(columns=['Eu jogo o lixo em lugares adequados para manter as vias (ruas, estradas, calçadas) limpas'], inplace=True)"
   ],
   "metadata": {
    "collapsed": false,
    "pycharm": {
     "name": "#%%\n"
    }
   }
  },
  {
   "cell_type": "code",
   "execution_count": 90,
   "outputs": [
    {
     "data": {
      "text/plain": "0.8"
     },
     "execution_count": 90,
     "metadata": {},
     "output_type": "execute_result"
    }
   ],
   "source": [
    "from sklearn.linear_model import LogisticRegression\n",
    "from sklearn.model_selection import train_test_split\n",
    "\n",
    "target = data[\"Consumo Sustentavel\"]\n",
    "features = data.drop([\"Consumo Sustentavel\"], axis=1)\n",
    "\n",
    "features_train, features_test, target_train, target_test = train_test_split(features, target, test_size=0.2, random_state=42)\n",
    "\n",
    "regression = LogisticRegression()\n",
    "regression.fit(features_train, target_train)\n",
    "\n",
    "regression.score(features_test, target_test)"
   ],
   "metadata": {
    "collapsed": false,
    "pycharm": {
     "name": "#%%\n"
    }
   }
  },
  {
   "cell_type": "code",
   "execution_count": 91,
   "outputs": [
    {
     "name": "stdout",
     "output_type": "stream",
     "text": [
      "              precision    recall  f1-score   support\n",
      "\n",
      "           0       0.90      0.82      0.86        22\n",
      "           1       0.60      0.75      0.67         8\n",
      "\n",
      "    accuracy                           0.80        30\n",
      "   macro avg       0.75      0.78      0.76        30\n",
      "weighted avg       0.82      0.80      0.81        30\n",
      "\n"
     ]
    }
   ],
   "source": [
    "from sklearn.metrics import classification_report\n",
    "\n",
    "print(classification_report(target_test, regression.predict(features_test)))"
   ],
   "metadata": {
    "collapsed": false,
    "pycharm": {
     "name": "#%%\n"
    }
   }
  },
  {
   "cell_type": "code",
   "execution_count": 92,
   "outputs": [
    {
     "name": "stdout",
     "output_type": "stream",
     "text": [
      "Warning: Maximum number of iterations has been exceeded.\n",
      "         Current function value: inf\n",
      "         Iterations: 35\n"
     ]
    },
    {
     "name": "stderr",
     "output_type": "stream",
     "text": [
      "/home/gustavo/.local/lib/python3.8/site-packages/statsmodels/discrete/discrete_model.py:1819: RuntimeWarning: overflow encountered in exp\n",
      "  return 1/(1+np.exp(-X))\n",
      "/home/gustavo/.local/lib/python3.8/site-packages/statsmodels/discrete/discrete_model.py:1872: RuntimeWarning: divide by zero encountered in log\n",
      "  return np.sum(np.log(self.cdf(q*np.dot(X,params))))\n"
     ]
    },
    {
     "ename": "LinAlgError",
     "evalue": "Singular matrix",
     "output_type": "error",
     "traceback": [
      "\u001B[0;31m---------------------------------------------------------------------------\u001B[0m",
      "\u001B[0;31mLinAlgError\u001B[0m                               Traceback (most recent call last)",
      "\u001B[0;32m<ipython-input-92-f8ae44ba6d19>\u001B[0m in \u001B[0;36m<module>\u001B[0;34m\u001B[0m\n\u001B[1;32m      1\u001B[0m \u001B[0;32mimport\u001B[0m \u001B[0mstatsmodels\u001B[0m\u001B[0;34m.\u001B[0m\u001B[0mapi\u001B[0m \u001B[0;32mas\u001B[0m \u001B[0msm\u001B[0m\u001B[0;34m\u001B[0m\u001B[0;34m\u001B[0m\u001B[0m\n\u001B[1;32m      2\u001B[0m \u001B[0;34m\u001B[0m\u001B[0m\n\u001B[0;32m----> 3\u001B[0;31m \u001B[0msm\u001B[0m\u001B[0;34m.\u001B[0m\u001B[0mLogit\u001B[0m\u001B[0;34m(\u001B[0m\u001B[0mtarget_test\u001B[0m\u001B[0;34m,\u001B[0m \u001B[0mfeatures_test\u001B[0m\u001B[0;34m)\u001B[0m\u001B[0;34m.\u001B[0m\u001B[0mfit\u001B[0m\u001B[0;34m(\u001B[0m\u001B[0;34m)\u001B[0m\u001B[0;34m.\u001B[0m\u001B[0msummary\u001B[0m\u001B[0;34m(\u001B[0m\u001B[0;34m)\u001B[0m\u001B[0;34m\u001B[0m\u001B[0;34m\u001B[0m\u001B[0m\n\u001B[0m",
      "\u001B[0;32m~/.local/lib/python3.8/site-packages/statsmodels/discrete/discrete_model.py\u001B[0m in \u001B[0;36mfit\u001B[0;34m(self, start_params, method, maxiter, full_output, disp, callback, **kwargs)\u001B[0m\n\u001B[1;32m   1981\u001B[0m     def fit(self, start_params=None, method='newton', maxiter=35,\n\u001B[1;32m   1982\u001B[0m             full_output=1, disp=1, callback=None, **kwargs):\n\u001B[0;32m-> 1983\u001B[0;31m         bnryfit = super().fit(start_params=start_params,\n\u001B[0m\u001B[1;32m   1984\u001B[0m                               \u001B[0mmethod\u001B[0m\u001B[0;34m=\u001B[0m\u001B[0mmethod\u001B[0m\u001B[0;34m,\u001B[0m\u001B[0;34m\u001B[0m\u001B[0;34m\u001B[0m\u001B[0m\n\u001B[1;32m   1985\u001B[0m                               \u001B[0mmaxiter\u001B[0m\u001B[0;34m=\u001B[0m\u001B[0mmaxiter\u001B[0m\u001B[0;34m,\u001B[0m\u001B[0;34m\u001B[0m\u001B[0;34m\u001B[0m\u001B[0m\n",
      "\u001B[0;32m~/.local/lib/python3.8/site-packages/statsmodels/discrete/discrete_model.py\u001B[0m in \u001B[0;36mfit\u001B[0;34m(self, start_params, method, maxiter, full_output, disp, callback, **kwargs)\u001B[0m\n\u001B[1;32m    228\u001B[0m             \u001B[0;32mpass\u001B[0m  \u001B[0;31m# TODO: make a function factory to have multiple call-backs\u001B[0m\u001B[0;34m\u001B[0m\u001B[0;34m\u001B[0m\u001B[0m\n\u001B[1;32m    229\u001B[0m \u001B[0;34m\u001B[0m\u001B[0m\n\u001B[0;32m--> 230\u001B[0;31m         mlefit = super().fit(start_params=start_params,\n\u001B[0m\u001B[1;32m    231\u001B[0m                              \u001B[0mmethod\u001B[0m\u001B[0;34m=\u001B[0m\u001B[0mmethod\u001B[0m\u001B[0;34m,\u001B[0m\u001B[0;34m\u001B[0m\u001B[0;34m\u001B[0m\u001B[0m\n\u001B[1;32m    232\u001B[0m                              \u001B[0mmaxiter\u001B[0m\u001B[0;34m=\u001B[0m\u001B[0mmaxiter\u001B[0m\u001B[0;34m,\u001B[0m\u001B[0;34m\u001B[0m\u001B[0;34m\u001B[0m\u001B[0m\n",
      "\u001B[0;32m~/.local/lib/python3.8/site-packages/statsmodels/base/model.py\u001B[0m in \u001B[0;36mfit\u001B[0;34m(self, start_params, method, maxiter, full_output, disp, fargs, callback, retall, skip_hessian, **kwargs)\u001B[0m\n\u001B[1;32m    577\u001B[0m             \u001B[0mHinv\u001B[0m \u001B[0;34m=\u001B[0m \u001B[0mcov_params_func\u001B[0m\u001B[0;34m(\u001B[0m\u001B[0mself\u001B[0m\u001B[0;34m,\u001B[0m \u001B[0mxopt\u001B[0m\u001B[0;34m,\u001B[0m \u001B[0mretvals\u001B[0m\u001B[0;34m)\u001B[0m\u001B[0;34m\u001B[0m\u001B[0;34m\u001B[0m\u001B[0m\n\u001B[1;32m    578\u001B[0m         \u001B[0;32melif\u001B[0m \u001B[0mmethod\u001B[0m \u001B[0;34m==\u001B[0m \u001B[0;34m'newton'\u001B[0m \u001B[0;32mand\u001B[0m \u001B[0mfull_output\u001B[0m\u001B[0;34m:\u001B[0m\u001B[0;34m\u001B[0m\u001B[0;34m\u001B[0m\u001B[0m\n\u001B[0;32m--> 579\u001B[0;31m             \u001B[0mHinv\u001B[0m \u001B[0;34m=\u001B[0m \u001B[0mnp\u001B[0m\u001B[0;34m.\u001B[0m\u001B[0mlinalg\u001B[0m\u001B[0;34m.\u001B[0m\u001B[0minv\u001B[0m\u001B[0;34m(\u001B[0m\u001B[0;34m-\u001B[0m\u001B[0mretvals\u001B[0m\u001B[0;34m[\u001B[0m\u001B[0;34m'Hessian'\u001B[0m\u001B[0;34m]\u001B[0m\u001B[0;34m)\u001B[0m \u001B[0;34m/\u001B[0m \u001B[0mnobs\u001B[0m\u001B[0;34m\u001B[0m\u001B[0;34m\u001B[0m\u001B[0m\n\u001B[0m\u001B[1;32m    580\u001B[0m         \u001B[0;32melif\u001B[0m \u001B[0;32mnot\u001B[0m \u001B[0mskip_hessian\u001B[0m\u001B[0;34m:\u001B[0m\u001B[0;34m\u001B[0m\u001B[0;34m\u001B[0m\u001B[0m\n\u001B[1;32m    581\u001B[0m             \u001B[0mH\u001B[0m \u001B[0;34m=\u001B[0m \u001B[0;34m-\u001B[0m\u001B[0;36m1\u001B[0m \u001B[0;34m*\u001B[0m \u001B[0mself\u001B[0m\u001B[0;34m.\u001B[0m\u001B[0mhessian\u001B[0m\u001B[0;34m(\u001B[0m\u001B[0mxopt\u001B[0m\u001B[0;34m)\u001B[0m\u001B[0;34m\u001B[0m\u001B[0;34m\u001B[0m\u001B[0m\n",
      "\u001B[0;32m~/.local/lib/python3.8/site-packages/numpy/core/overrides.py\u001B[0m in \u001B[0;36minv\u001B[0;34m(*args, **kwargs)\u001B[0m\n",
      "\u001B[0;32m~/.local/lib/python3.8/site-packages/numpy/linalg/linalg.py\u001B[0m in \u001B[0;36minv\u001B[0;34m(a)\u001B[0m\n\u001B[1;32m    543\u001B[0m     \u001B[0msignature\u001B[0m \u001B[0;34m=\u001B[0m \u001B[0;34m'D->D'\u001B[0m \u001B[0;32mif\u001B[0m \u001B[0misComplexType\u001B[0m\u001B[0;34m(\u001B[0m\u001B[0mt\u001B[0m\u001B[0;34m)\u001B[0m \u001B[0;32melse\u001B[0m \u001B[0;34m'd->d'\u001B[0m\u001B[0;34m\u001B[0m\u001B[0;34m\u001B[0m\u001B[0m\n\u001B[1;32m    544\u001B[0m     \u001B[0mextobj\u001B[0m \u001B[0;34m=\u001B[0m \u001B[0mget_linalg_error_extobj\u001B[0m\u001B[0;34m(\u001B[0m\u001B[0m_raise_linalgerror_singular\u001B[0m\u001B[0;34m)\u001B[0m\u001B[0;34m\u001B[0m\u001B[0;34m\u001B[0m\u001B[0m\n\u001B[0;32m--> 545\u001B[0;31m     \u001B[0mainv\u001B[0m \u001B[0;34m=\u001B[0m \u001B[0m_umath_linalg\u001B[0m\u001B[0;34m.\u001B[0m\u001B[0minv\u001B[0m\u001B[0;34m(\u001B[0m\u001B[0ma\u001B[0m\u001B[0;34m,\u001B[0m \u001B[0msignature\u001B[0m\u001B[0;34m=\u001B[0m\u001B[0msignature\u001B[0m\u001B[0;34m,\u001B[0m \u001B[0mextobj\u001B[0m\u001B[0;34m=\u001B[0m\u001B[0mextobj\u001B[0m\u001B[0;34m)\u001B[0m\u001B[0;34m\u001B[0m\u001B[0;34m\u001B[0m\u001B[0m\n\u001B[0m\u001B[1;32m    546\u001B[0m     \u001B[0;32mreturn\u001B[0m \u001B[0mwrap\u001B[0m\u001B[0;34m(\u001B[0m\u001B[0mainv\u001B[0m\u001B[0;34m.\u001B[0m\u001B[0mastype\u001B[0m\u001B[0;34m(\u001B[0m\u001B[0mresult_t\u001B[0m\u001B[0;34m,\u001B[0m \u001B[0mcopy\u001B[0m\u001B[0;34m=\u001B[0m\u001B[0;32mFalse\u001B[0m\u001B[0;34m)\u001B[0m\u001B[0;34m)\u001B[0m\u001B[0;34m\u001B[0m\u001B[0;34m\u001B[0m\u001B[0m\n\u001B[1;32m    547\u001B[0m \u001B[0;34m\u001B[0m\u001B[0m\n",
      "\u001B[0;32m~/.local/lib/python3.8/site-packages/numpy/linalg/linalg.py\u001B[0m in \u001B[0;36m_raise_linalgerror_singular\u001B[0;34m(err, flag)\u001B[0m\n\u001B[1;32m     86\u001B[0m \u001B[0;34m\u001B[0m\u001B[0m\n\u001B[1;32m     87\u001B[0m \u001B[0;32mdef\u001B[0m \u001B[0m_raise_linalgerror_singular\u001B[0m\u001B[0;34m(\u001B[0m\u001B[0merr\u001B[0m\u001B[0;34m,\u001B[0m \u001B[0mflag\u001B[0m\u001B[0;34m)\u001B[0m\u001B[0;34m:\u001B[0m\u001B[0;34m\u001B[0m\u001B[0;34m\u001B[0m\u001B[0m\n\u001B[0;32m---> 88\u001B[0;31m     \u001B[0;32mraise\u001B[0m \u001B[0mLinAlgError\u001B[0m\u001B[0;34m(\u001B[0m\u001B[0;34m\"Singular matrix\"\u001B[0m\u001B[0;34m)\u001B[0m\u001B[0;34m\u001B[0m\u001B[0;34m\u001B[0m\u001B[0m\n\u001B[0m\u001B[1;32m     89\u001B[0m \u001B[0;34m\u001B[0m\u001B[0m\n\u001B[1;32m     90\u001B[0m \u001B[0;32mdef\u001B[0m \u001B[0m_raise_linalgerror_nonposdef\u001B[0m\u001B[0;34m(\u001B[0m\u001B[0merr\u001B[0m\u001B[0;34m,\u001B[0m \u001B[0mflag\u001B[0m\u001B[0;34m)\u001B[0m\u001B[0;34m:\u001B[0m\u001B[0;34m\u001B[0m\u001B[0;34m\u001B[0m\u001B[0m\n",
      "\u001B[0;31mLinAlgError\u001B[0m: Singular matrix"
     ]
    }
   ],
   "source": [
    "import statsmodels.api as sm\n",
    "\n",
    "sm.Logit(target_test, features_test).fit().summary()"
   ],
   "metadata": {
    "collapsed": false,
    "pycharm": {
     "name": "#%%\n"
    }
   }
  }
 ],
 "metadata": {
  "kernelspec": {
   "display_name": "Python 3",
   "language": "python",
   "name": "python3"
  },
  "language_info": {
   "codemirror_mode": {
    "name": "ipython",
    "version": 2
   },
   "file_extension": ".py",
   "mimetype": "text/x-python",
   "name": "python",
   "nbconvert_exporter": "python",
   "pygments_lexer": "ipython2",
   "version": "2.7.6"
  }
 },
 "nbformat": 4,
 "nbformat_minor": 0
}