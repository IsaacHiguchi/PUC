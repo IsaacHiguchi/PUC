{
 "cells": [
  {
   "cell_type": "code",
   "execution_count": 23,
   "metadata": {
    "collapsed": true
   },
   "outputs": [],
   "source": [
    "import scipy.stats as stats\n",
    "import pandas as pd"
   ]
  },
  {
   "cell_type": "code",
   "execution_count": 24,
   "outputs": [
    {
     "data": {
      "text/plain": "   Nível de renda  Motivação com o curso\n0               D                      3\n1               D                      6\n2               D                      7\n3               D                      2\n4               D                      0\n5               C                     14\n6               C                     15\n7               C                     11\n8               C                     20\n9               C                     10\n10              B                     21\n11              B                     32\n12              B                     25\n13              B                     21\n14              B                     26\n15              A                     17\n16              A                     35\n17              A                     11\n18              A                     34\n19              A                     31",
      "text/html": "<div>\n<style scoped>\n    .dataframe tbody tr th:only-of-type {\n        vertical-align: middle;\n    }\n\n    .dataframe tbody tr th {\n        vertical-align: top;\n    }\n\n    .dataframe thead th {\n        text-align: right;\n    }\n</style>\n<table border=\"1\" class=\"dataframe\">\n  <thead>\n    <tr style=\"text-align: right;\">\n      <th></th>\n      <th>Nível de renda</th>\n      <th>Motivação com o curso</th>\n    </tr>\n  </thead>\n  <tbody>\n    <tr>\n      <th>0</th>\n      <td>D</td>\n      <td>3</td>\n    </tr>\n    <tr>\n      <th>1</th>\n      <td>D</td>\n      <td>6</td>\n    </tr>\n    <tr>\n      <th>2</th>\n      <td>D</td>\n      <td>7</td>\n    </tr>\n    <tr>\n      <th>3</th>\n      <td>D</td>\n      <td>2</td>\n    </tr>\n    <tr>\n      <th>4</th>\n      <td>D</td>\n      <td>0</td>\n    </tr>\n    <tr>\n      <th>5</th>\n      <td>C</td>\n      <td>14</td>\n    </tr>\n    <tr>\n      <th>6</th>\n      <td>C</td>\n      <td>15</td>\n    </tr>\n    <tr>\n      <th>7</th>\n      <td>C</td>\n      <td>11</td>\n    </tr>\n    <tr>\n      <th>8</th>\n      <td>C</td>\n      <td>20</td>\n    </tr>\n    <tr>\n      <th>9</th>\n      <td>C</td>\n      <td>10</td>\n    </tr>\n    <tr>\n      <th>10</th>\n      <td>B</td>\n      <td>21</td>\n    </tr>\n    <tr>\n      <th>11</th>\n      <td>B</td>\n      <td>32</td>\n    </tr>\n    <tr>\n      <th>12</th>\n      <td>B</td>\n      <td>25</td>\n    </tr>\n    <tr>\n      <th>13</th>\n      <td>B</td>\n      <td>21</td>\n    </tr>\n    <tr>\n      <th>14</th>\n      <td>B</td>\n      <td>26</td>\n    </tr>\n    <tr>\n      <th>15</th>\n      <td>A</td>\n      <td>17</td>\n    </tr>\n    <tr>\n      <th>16</th>\n      <td>A</td>\n      <td>35</td>\n    </tr>\n    <tr>\n      <th>17</th>\n      <td>A</td>\n      <td>11</td>\n    </tr>\n    <tr>\n      <th>18</th>\n      <td>A</td>\n      <td>34</td>\n    </tr>\n    <tr>\n      <th>19</th>\n      <td>A</td>\n      <td>31</td>\n    </tr>\n  </tbody>\n</table>\n</div>"
     },
     "execution_count": 24,
     "metadata": {},
     "output_type": "execute_result"
    }
   ],
   "source": [
    "sheet_id = \"1n1F0Ah3SfzEdhU2spt0-rQp5TCvebNI4kjy-usNju2U\"\n",
    "url = f\"https://docs.google.com/spreadsheets/d/{sheet_id}/gviz/tq?tqx=out:csv\"\n",
    "\n",
    "data = pd.read_csv(url)\n",
    "data"
   ],
   "metadata": {
    "collapsed": false,
    "pycharm": {
     "name": "#%%\n"
    }
   }
  },
  {
   "cell_type": "markdown",
   "source": [
    "##### Calculando a média de cada amostra"
   ],
   "metadata": {
    "collapsed": false,
    "pycharm": {
     "name": "#%% md\n"
    }
   }
  },
  {
   "cell_type": "code",
   "execution_count": 25,
   "outputs": [
    {
     "data": {
      "text/plain": "{'D': {'media': 3.6},\n 'C': {'media': 14.0},\n 'B': {'media': 25.0},\n 'A': {'media': 25.6}}"
     },
     "execution_count": 25,
     "metadata": {},
     "output_type": "execute_result"
    }
   ],
   "source": [
    "niveis_de_renda = data[\"Nível de renda\"].unique()\n",
    "\n",
    "grupos = dict()\n",
    "\n",
    "for nivel_de_renda in niveis_de_renda:\n",
    "    amostra = data[data[\"Nível de renda\"] == nivel_de_renda][\"Motivação com o curso\"]\n",
    "    media_da_amostra = amostra.mean()\n",
    "    grupos[nivel_de_renda] = {\n",
    "        \"media\": media_da_amostra\n",
    "    }\n",
    "\n",
    "grupos"
   ],
   "metadata": {
    "collapsed": false,
    "pycharm": {
     "name": "#%%\n"
    }
   }
  },
  {
   "cell_type": "markdown",
   "source": [
    "##### Calculando soma dos escores e a soma dos escores quadrados."
   ],
   "metadata": {
    "collapsed": false,
    "pycharm": {
     "name": "#%% md\n"
    }
   }
  },
  {
   "cell_type": "code",
   "execution_count": 26,
   "outputs": [
    {
     "data": {
      "text/plain": "{'D': {'media': 3.6, 'soma': 18, 'soma_quadrada': 98},\n 'C': {'media': 14.0, 'soma': 70, 'soma_quadrada': 1042},\n 'B': {'media': 25.0, 'soma': 125, 'soma_quadrada': 3207},\n 'A': {'media': 25.6, 'soma': 128, 'soma_quadrada': 3752}}"
     },
     "execution_count": 26,
     "metadata": {},
     "output_type": "execute_result"
    }
   ],
   "source": [
    "for nivel_de_renda in niveis_de_renda:\n",
    "    amostra = data[data[\"Nível de renda\"] == nivel_de_renda][\"Motivação com o curso\"]\n",
    "    soma_do_grupo = amostra.sum()\n",
    "    soma_quadrada_do_grupo = (amostra ** 2).sum()\n",
    "\n",
    "    grupos[nivel_de_renda].update({\n",
    "        \"soma\": soma_do_grupo,\n",
    "        \"soma_quadrada\": soma_quadrada_do_grupo\n",
    "    })\n",
    "\n",
    "grupos"
   ],
   "metadata": {
    "collapsed": false,
    "pycharm": {
     "name": "#%%\n"
    }
   }
  },
  {
   "cell_type": "markdown",
   "source": [
    "##### Calculando a soma dos quadrados totais"
   ],
   "metadata": {
    "collapsed": false,
    "pycharm": {
     "name": "#%% md\n"
    }
   }
  },
  {
   "cell_type": "code",
   "execution_count": 27,
   "outputs": [
    {
     "name": "stdout",
     "output_type": "stream",
     "text": [
      "A soma dos quadrados totais é de 2284.95\n"
     ]
    }
   ],
   "source": [
    "media_total = data[\"Motivação com o curso\"].mean()\n",
    "\n",
    "soma_dos_quadrados_totais = 0\n",
    "for valor in data[\"Motivação com o curso\"]:\n",
    "    soma_dos_quadrados_totais += (valor - media_total) ** 2\n",
    "\n",
    "print(f\"A soma dos quadrados totais é de {soma_dos_quadrados_totais}\")"
   ],
   "metadata": {
    "collapsed": false,
    "pycharm": {
     "name": "#%%\n"
    }
   }
  },
  {
   "cell_type": "markdown",
   "source": [
    "##### Calculando a soma dos quadrados entre grupos"
   ],
   "metadata": {
    "collapsed": false,
    "pycharm": {
     "name": "#%% md\n"
    }
   }
  },
  {
   "cell_type": "code",
   "execution_count": 29,
   "outputs": [
    {
     "data": {
      "text/plain": "{'D': {'media': 3.6,\n  'soma': 18,\n  'soma_quadrada': 98,\n  'soma_dos_quadrados_entre_grupos': 33.2},\n 'C': {'media': 14.0,\n  'soma': 70,\n  'soma_quadrada': 1042,\n  'soma_dos_quadrados_entre_grupos': 62.0},\n 'B': {'media': 25.0,\n  'soma': 125,\n  'soma_quadrada': 3207,\n  'soma_dos_quadrados_entre_grupos': 82.0},\n 'A': {'media': 25.6,\n  'soma': 128,\n  'soma_quadrada': 3752,\n  'soma_dos_quadrados_entre_grupos': 475.19999999999993}}"
     },
     "execution_count": 29,
     "metadata": {},
     "output_type": "execute_result"
    }
   ],
   "source": [
    "for nivel_de_renda in niveis_de_renda:\n",
    "    amostra = data[data[\"Nível de renda\"] == nivel_de_renda][\"Motivação com o curso\"]\n",
    "    media = grupos[nivel_de_renda][\"media\"]\n",
    "    soma_dos_quadrados_entre_grupos = 0\n",
    "    for valor in amostra:\n",
    "        soma_dos_quadrados_entre_grupos += (valor - media) ** 2\n",
    "\n",
    "    grupos[nivel_de_renda].update({\"soma_dos_quadrados_entre_grupos\": soma_dos_quadrados_entre_grupos})\n",
    "\n",
    "grupos"
   ],
   "metadata": {
    "collapsed": false,
    "pycharm": {
     "name": "#%%\n"
    }
   }
  },
  {
   "cell_type": "markdown",
   "source": [
    "##### Calculando a soma dos quadrados intra-grupos"
   ],
   "metadata": {
    "collapsed": false,
    "pycharm": {
     "name": "#%% md\n"
    }
   }
  },
  {
   "cell_type": "code",
   "execution_count": 1,
   "outputs": [
    {
     "data": {
      "text/plain": "1"
     },
     "execution_count": 1,
     "metadata": {},
     "output_type": "execute_result"
    }
   ],
   "source": [
    "1"
   ],
   "metadata": {
    "collapsed": false,
    "pycharm": {
     "name": "#%%\n"
    }
   }
  }
 ],
 "metadata": {
  "kernelspec": {
   "display_name": "Python 3",
   "language": "python",
   "name": "python3"
  },
  "language_info": {
   "codemirror_mode": {
    "name": "ipython",
    "version": 2
   },
   "file_extension": ".py",
   "mimetype": "text/x-python",
   "name": "python",
   "nbconvert_exporter": "python",
   "pygments_lexer": "ipython2",
   "version": "2.7.6"
  }
 },
 "nbformat": 4,
 "nbformat_minor": 0
}