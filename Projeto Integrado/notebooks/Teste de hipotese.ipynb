{
 "cells": [
  {
   "cell_type": "code",
   "execution_count": 4,
   "outputs": [
    {
     "data": {
      "text/plain": "  Nível de renda  Motivação com o curso\n0              D                      3\n1              D                      6\n2              D                      7\n3              D                      2\n4              D                      0",
      "text/html": "<div>\n<style scoped>\n    .dataframe tbody tr th:only-of-type {\n        vertical-align: middle;\n    }\n\n    .dataframe tbody tr th {\n        vertical-align: top;\n    }\n\n    .dataframe thead th {\n        text-align: right;\n    }\n</style>\n<table border=\"1\" class=\"dataframe\">\n  <thead>\n    <tr style=\"text-align: right;\">\n      <th></th>\n      <th>Nível de renda</th>\n      <th>Motivação com o curso</th>\n    </tr>\n  </thead>\n  <tbody>\n    <tr>\n      <th>0</th>\n      <td>D</td>\n      <td>3</td>\n    </tr>\n    <tr>\n      <th>1</th>\n      <td>D</td>\n      <td>6</td>\n    </tr>\n    <tr>\n      <th>2</th>\n      <td>D</td>\n      <td>7</td>\n    </tr>\n    <tr>\n      <th>3</th>\n      <td>D</td>\n      <td>2</td>\n    </tr>\n    <tr>\n      <th>4</th>\n      <td>D</td>\n      <td>0</td>\n    </tr>\n  </tbody>\n</table>\n</div>"
     },
     "execution_count": 4,
     "metadata": {},
     "output_type": "execute_result"
    }
   ],
   "source": [
    "import pandas as pd\n",
    "\n",
    "sheet_id = \"1n1F0Ah3SfzEdhU2spt0-rQp5TCvebNI4kjy-usNju2U\"\n",
    "url = f\"https://docs.google.com/spreadsheets/d/{sheet_id}/gviz/tq?tqx=out:csv\"\n",
    "\n",
    "dados = pd.read_csv(url)\n",
    "dados.head()"
   ],
   "metadata": {
    "collapsed": false,
    "pycharm": {
     "name": "#%%\n"
    }
   }
  },
  {
   "cell_type": "markdown",
   "source": [
    "### Hipóteses\n",
    "$H_{NULA}$: A renda familiar do estudante não tem relação com sua motivação com o curso\n",
    "$H_{PESQ}$ : A renda familiar do estudante tem relação com sua motivação com o curso\n",
    "\n",
    "##### Calculando a relação entre renda e motivação do curso"
   ],
   "metadata": {
    "collapsed": false,
    "pycharm": {
     "name": "#%% md\n"
    }
   }
  },
  {
   "cell_type": "code",
   "execution_count": 5,
   "outputs": [],
   "source": [
    "def media(lista):\n",
    "    return sum(lista)/len(lista)\n",
    "\n",
    "def soma_desvios_quadrados(lista):\n",
    "    soma = 0\n",
    "    for i in lista:\n",
    "        soma += (i - media(lista))**2\n",
    "    return soma\n",
    "\n",
    "def soma_desvios_quadrados_entre_grupos(df, coluna_score, coluna_grupo):\n",
    "    soma = 0\n",
    "    media_total = media(df[coluna_score])\n",
    "    grupos = df[coluna_grupo].unique()\n",
    "\n",
    "    for grupo in grupos:\n",
    "        tamanho_grupo = len(df[df[coluna_grupo] == grupo])\n",
    "        media_grupo = media(df[df[coluna_grupo] == grupo][coluna_score])\n",
    "\n",
    "        soma += tamanho_grupo * (media_grupo - media_total)**2\n",
    "\n",
    "    return soma\n",
    "\n",
    "def quantidade_grupos(df, coluna_grupo):\n",
    "    return len(df[coluna_grupo].unique())"
   ],
   "metadata": {
    "collapsed": false,
    "pycharm": {
     "name": "#%%\n"
    }
   }
  },
  {
   "cell_type": "code",
   "execution_count": 8,
   "outputs": [
    {
     "name": "stdout",
     "output_type": "stream",
     "text": [
      "ss_total = 2284.95\n"
     ]
    },
    {
     "data": {
      "text/plain": "                Motivação com o curso\nNível de renda                       \nA                               475.2\nB                                82.0\nC                                62.0\nD                                33.2",
      "text/html": "<div>\n<style scoped>\n    .dataframe tbody tr th:only-of-type {\n        vertical-align: middle;\n    }\n\n    .dataframe tbody tr th {\n        vertical-align: top;\n    }\n\n    .dataframe thead th {\n        text-align: right;\n    }\n</style>\n<table border=\"1\" class=\"dataframe\">\n  <thead>\n    <tr style=\"text-align: right;\">\n      <th></th>\n      <th>Motivação com o curso</th>\n    </tr>\n    <tr>\n      <th>Nível de renda</th>\n      <th></th>\n    </tr>\n  </thead>\n  <tbody>\n    <tr>\n      <th>A</th>\n      <td>475.2</td>\n    </tr>\n    <tr>\n      <th>B</th>\n      <td>82.0</td>\n    </tr>\n    <tr>\n      <th>C</th>\n      <td>62.0</td>\n    </tr>\n    <tr>\n      <th>D</th>\n      <td>33.2</td>\n    </tr>\n  </tbody>\n</table>\n</div>"
     },
     "metadata": {},
     "output_type": "display_data"
    },
    {
     "name": "stdout",
     "output_type": "stream",
     "text": [
      "ss_intra = 652.4\n",
      "ss_entre = 1632.5500000000002\n",
      "df_intra = 16 df_entre = 3\n",
      "ms_intra = 40.775 ms_entre = 544.1833333333334\n",
      "f = 13.34600449621909\n"
     ]
    }
   ],
   "source": [
    "coluna_score = \"Motivação com o curso\"\n",
    "coluna_grupo = \"Nível de renda\"\n",
    "\n",
    "\n",
    "ss_total = soma_desvios_quadrados(dados[coluna_score])\n",
    "print(f'{ss_total = }')\n",
    "\n",
    "ss_intra_aux = dados.pivot_table(index=coluna_grupo, values=coluna_score, aggfunc=soma_desvios_quadrados)\n",
    "ss_intra = ss_intra_aux.sum().values[0]\n",
    "\n",
    "display(ss_intra_aux)\n",
    "print(f'{ss_intra = }')\n",
    "\n",
    "ss_entre = soma_desvios_quadrados_entre_grupos(dados, coluna_score, coluna_grupo)\n",
    "print(f'{ss_entre = }')\n",
    "\n",
    "df_entre = quantidade_grupos(dados, coluna_grupo) - 1\n",
    "df_intra = len(dados[coluna_score]) - quantidade_grupos(dados, coluna_grupo)\n",
    "\n",
    "ms_intra = ss_intra / df_intra\n",
    "ms_entre = ss_entre / df_entre\n",
    "\n",
    "print(f'{df_intra = } {df_entre = }')\n",
    "print(f'{ms_intra = } {ms_entre = }')\n",
    "\n",
    "f = ms_entre / ms_intra\n",
    "print(f'{f = }')"
   ],
   "metadata": {
    "collapsed": false,
    "pycharm": {
     "name": "#%%\n"
    }
   }
  },
  {
   "cell_type": "markdown",
   "source": [
    "## Analisando o valor F\n",
    "\n",
    "para aceitar ou rejeitar a hipótese nula precisamos definir um valor critico para F, podemos\n",
    "fazer isso olhando para os graus de liberdade do nosso modelo e comparando com a tabela a seguir:\n",
    "<br>\n",
    "<img src=\"/home/gustavo/Área de Trabalho/PUC-CDIA/Img/tabela_F_1.jpg\" width=\"1200\">\n",
    "<br>\n",
    "Assim, com os valores de 16 e 3, temos um F crítico de 3.24\n",
    "Como o F calculado (13.34) é menor que o F crítico, rejeitamos a hipótese nula.\n",
    "Indicando que a renda familia do estudante **tem** relação com sua motivação com o curso"
   ],
   "metadata": {
    "collapsed": false,
    "pycharm": {
     "name": "#%% md\n"
    }
   }
  }
 ],
 "metadata": {
  "kernelspec": {
   "display_name": "Python 3",
   "language": "python",
   "name": "python3"
  },
  "language_info": {
   "codemirror_mode": {
    "name": "ipython",
    "version": 3
   },
   "file_extension": ".py",
   "mimetype": "text/x-python",
   "name": "python",
   "nbconvert_exporter": "python",
   "pygments_lexer": "ipython3",
   "version": "3.8.5"
  }
 },
 "nbformat": 4,
 "nbformat_minor": 4
}