{
 "cells": [
  {
   "cell_type": "code",
   "execution_count": 1,
   "outputs": [],
   "source": [
    "import matplotlib.pyplot as plt\n",
    "import scipy.stats as stats\n",
    "import pandas as pd\n",
    "\n",
    "plt.style.use(\"seaborn-dark-palette\")"
   ],
   "metadata": {
    "collapsed": false,
    "pycharm": {
     "name": "#%%\n"
    }
   }
  },
  {
   "cell_type": "code",
   "execution_count": 2,
   "outputs": [
    {
     "data": {
      "text/plain": "  Nível de renda  Motivação com o curso\n0              D                      3\n1              D                      6\n2              D                      7\n3              D                      2\n4              D                      0",
      "text/html": "<div>\n<style scoped>\n    .dataframe tbody tr th:only-of-type {\n        vertical-align: middle;\n    }\n\n    .dataframe tbody tr th {\n        vertical-align: top;\n    }\n\n    .dataframe thead th {\n        text-align: right;\n    }\n</style>\n<table border=\"1\" class=\"dataframe\">\n  <thead>\n    <tr style=\"text-align: right;\">\n      <th></th>\n      <th>Nível de renda</th>\n      <th>Motivação com o curso</th>\n    </tr>\n  </thead>\n  <tbody>\n    <tr>\n      <th>0</th>\n      <td>D</td>\n      <td>3</td>\n    </tr>\n    <tr>\n      <th>1</th>\n      <td>D</td>\n      <td>6</td>\n    </tr>\n    <tr>\n      <th>2</th>\n      <td>D</td>\n      <td>7</td>\n    </tr>\n    <tr>\n      <th>3</th>\n      <td>D</td>\n      <td>2</td>\n    </tr>\n    <tr>\n      <th>4</th>\n      <td>D</td>\n      <td>0</td>\n    </tr>\n  </tbody>\n</table>\n</div>"
     },
     "execution_count": 2,
     "metadata": {},
     "output_type": "execute_result"
    }
   ],
   "source": [
    "sheet_id = \"1n1F0Ah3SfzEdhU2spt0-rQp5TCvebNI4kjy-usNju2U\"\n",
    "url = f\"https://docs.google.com/spreadsheets/d/{sheet_id}/gviz/tq?tqx=out:csv\"\n",
    "\n",
    "data = pd.read_csv(url)\n",
    "data.head()"
   ],
   "metadata": {
    "collapsed": false,
    "pycharm": {
     "name": "#%%\n"
    }
   }
  },
  {
   "cell_type": "markdown",
   "source": [
    "### Hipóteses\n",
    "$H_{NULA}$: A renda familiar do estudante não tem relação com sua motivação com o curso\n",
    "$H_{PESQ}$ : A renda familiar do estudante tem relação com sua motivação com o curso\n",
    "\n",
    "##### Calculando a relação entre renda e motivação do curso"
   ],
   "metadata": {
    "collapsed": false,
    "pycharm": {
     "name": "#%% md\n"
    }
   }
  },
  {
   "cell_type": "code",
   "execution_count": 34,
   "outputs": [
    {
     "data": {
      "text/plain": "<Figure size 864x720 with 1 Axes>",
      "image/png": "[encoded data removed]"
     },
     "metadata": {},
     "output_type": "display_data"
    }
   ],
   "source": [
    "data.boxplot(by=\"Nível de renda\", figsize=(12, 10))\n",
    "plt.show()"
   ],
   "metadata": {
    "collapsed": false,
    "pycharm": {
     "name": "#%%\n"
    }
   }
  },
  {
   "cell_type": "markdown",
   "source": [
    "#### F-Test\n",
    "Primeiro calculamos a média de cada grupo e a média de todos os dados.\n",
    "\n",
    "Depois aplicamos a formula $\\sum(X_{grupo} - \\bar{X_{total}})^2$ onde $X_{grupo}$ e a média de cada grupo e $\\bar{X_{total}}$ é a média total. Essa é a variação entre os grupos.\n",
    "\n",
    "Em seguida aplicamos a mesma formula $\\sum(X - \\bar{X_{grupo}})^2$ para cada um dos grupos, onde $X$ é um valor dentro do grupo e $\\bar{X_{grupo}}$ e a média do grupo. Essa é a variação do grupo (teremos uma diferente para cada grupo)\n",
    "\n",
    "No final calculamos o valor $F$ com a formula $Var_{entre}/Var_{intra}$"
   ],
   "metadata": {
    "collapsed": false,
    "pycharm": {
     "name": "#%% md\n"
    }
   }
  },
  {
   "cell_type": "markdown",
   "source": [
    "intragrupo (dentro do grupo / média do grupo)\n",
    "entregrupo (entre diferentes grupos /  média total)"
   ],
   "metadata": {
    "collapsed": false,
    "pycharm": {
     "name": "#%% md\n"
    }
   }
  },
  {
   "cell_type": "code",
   "source": [
    "def variance(series: pd.Series) -> float:\n",
    "    sample_mean = series.mean()\n",
    "    total = 0\n",
    "    for value in series:\n",
    "        total += (value - sample_mean) ** 2\n",
    "\n",
    "    return total\n",
    "\n",
    "population_mean = data[\"Motivação com o curso\"].mean()\n",
    "sum_of_within_group_variability = 0\n",
    "between_group_variability = 0\n",
    "\n",
    "for group in data[\"Nível de renda\"].unique():\n",
    "    # within_group_variability, between_group_variability\n",
    "    group_data = data[data[\"Nível de renda\"] == group][\"Motivação com o curso\"]\n",
    "    within_group_variability = variance(group_data)\n",
    "    sum_of_within_group_variability += within_group_variability\n",
    "    between_group_variability += (group_data.mean() - population_mean) ** 2\n",
    "\n",
    "\n",
    "f_value = between_group_variability / sum_of_within_group_variability\n",
    "print(f_value)"
   ],
   "metadata": {
    "collapsed": false,
    "pycharm": {
     "name": "#%%\n"
    }
   },
   "execution_count": 54,
   "outputs": [
    {
     "name": "stdout",
     "output_type": "stream",
     "text": [
      "0.759009009009009\n"
     ]
    }
   ]
  }
 ],
 "metadata": {
  "kernelspec": {
   "display_name": "Python 3",
   "language": "python",
   "name": "python3"
  },
  "language_info": {
   "codemirror_mode": {
    "name": "ipython",
    "version": 3
   },
   "file_extension": ".py",
   "mimetype": "text/x-python",
   "name": "python",
   "nbconvert_exporter": "python",
   "pygments_lexer": "ipython3",
   "version": "3.8.5"
  }
 },
 "nbformat": 4,
 "nbformat_minor": 4
}