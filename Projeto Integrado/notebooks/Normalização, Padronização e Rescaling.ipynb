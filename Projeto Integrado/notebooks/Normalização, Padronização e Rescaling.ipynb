{
 "cells": [
  {
   "cell_type": "markdown",
   "metadata": {
    "collapsed": true,
    "pycharm": {
     "name": "#%% md\n"
    }
   },
   "source": [
    "## Normalização\n",
    "\n",
    "A função de normalização de dados pode ser descrita pela equação:\n",
    "<br>\n",
    "\n",
    "$z_i = \\frac{x_i - min(x)}{max(x) - min(x)}$\n",
    "\n",
    "Convertendo para python\n"
   ]
  },
  {
   "cell_type": "code",
   "execution_count": 2,
   "metadata": {
    "pycharm": {
     "name": "#%%\n"
    }
   },
   "outputs": [],
   "source": [
    "def normalizar(x: int or float, lst: list) -> float:\n",
    "    return (x - min(lst))/(max(lst) - min(lst))\n",
    "\n",
    "def normalizar_lista(lst: list) -> list:\n",
    "    return [normalizar(x, lst) for x in lst]"
   ]
  },
  {
   "cell_type": "markdown",
   "metadata": {
    "pycharm": {
     "name": "#%% md\n"
    }
   },
   "source": [
    "Os exemplos a seguir ilustram os resultados:\n",
    "\n",
    "[1, 2, 3] => [0.0, 0.5, 1.0]\n",
    "[0, 5, 13] => [0.0, 0.38461538461538464, 1.0]"
   ]
  },
  {
   "cell_type": "code",
   "execution_count": 3,
   "metadata": {
    "pycharm": {
     "name": "#%%\n"
    }
   },
   "outputs": [
    {
     "data": {
      "text/plain": "([0.0, 0.5, 1.0], [0.0, 0.38461538461538464, 1.0])"
     },
     "execution_count": 3,
     "metadata": {},
     "output_type": "execute_result"
    }
   ],
   "source": [
    "teste_1 = [1, 2, 3]\n",
    "teste_2 = [0, 5, 13]\n",
    "\n",
    "resultado_1 = normalizar_lista(teste_1)\n",
    "resultado_2 = normalizar_lista(teste_2)\n",
    "\n",
    "resultado_1, resultado_2"
   ]
  },
  {
   "cell_type": "markdown",
   "metadata": {
    "pycharm": {
     "name": "#%% md\n"
    }
   },
   "source": [
    "## Padronização\n",
    "\n",
    "Para padronizar os dados usamos a formula do z-score:\n",
    "<br>\n",
    "$z = \\frac{x - \\mu}{\\sigma}$\n",
    "\n",
    "Convertendo para python"
   ]
  },
  {
   "cell_type": "code",
   "execution_count": 4,
   "metadata": {
    "pycharm": {
     "name": "#%%\n"
    }
   },
   "outputs": [],
   "source": [
    "def media(lst: list) -> float:\n",
    "    return sum(lst)/len(lst)\n",
    "\n",
    "def desvio_padrao(lst: list) -> float:\n",
    "    media_lst = media(lst)\n",
    "    variancia = sum([abs(x - media_lst)**2 for x in lst])/(len(lst) - 1)\n",
    "    return variancia ** 0.5\n",
    "\n",
    "def padronizar(x: int or float, lst: list) -> float:\n",
    "    return (x - media(lst))/desvio_padrao(lst)\n",
    "\n",
    "def padronizar_lista(lst: list) -> list:\n",
    "    return [padronizar(x, lst) for x in lst]"
   ]
  },
  {
   "cell_type": "markdown",
   "metadata": {
    "pycharm": {
     "name": "#%% md\n"
    }
   },
   "source": [
    "Os exemplos a seguir ilustram os resultados:\n",
    "[1, 2, 3] => [-1.0, 0.0, 1.0]\n",
    "[0, 5, 13] => [-0.914991421995628, -0.15249857033260467, 1.0674899923282326]"
   ]
  },
  {
   "cell_type": "code",
   "execution_count": 5,
   "metadata": {
    "pycharm": {
     "name": "#%%\n"
    }
   },
   "outputs": [
    {
     "data": {
      "text/plain": "([-1.0, 0.0, 1.0],\n [-0.914991421995628, -0.15249857033260467, 1.0674899923282326])"
     },
     "execution_count": 5,
     "metadata": {},
     "output_type": "execute_result"
    }
   ],
   "source": [
    "resultado_1 = padronizar_lista(teste_1)\n",
    "resultado_2 = padronizar_lista(teste_2)\n",
    "\n",
    "resultado_1, resultado_2"
   ]
  },
  {
   "cell_type": "markdown",
   "metadata": {
    "pycharm": {
     "name": "#%% md\n"
    }
   },
   "source": [
    "## RESCALING\n",
    "\n",
    "para trocar a escala de um conjunto de dados, usamos a formula:\n",
    "<br>\n",
    "\n",
    "$z_i = \\frac{(max_{novo} - min_{novo}) \\cdot (x_i - min(x))}{max(x) - min(x)}$\n",
    "\n",
    "convertendo para python"
   ]
  },
  {
   "cell_type": "code",
   "execution_count": 6,
   "metadata": {
    "pycharm": {
     "name": "#%%\n"
    }
   },
   "outputs": [],
   "source": [
    "def reescalar(x: int or float, lst: list, novo_min: int or float, novo_max: int or float) -> float:\n",
    "    return ((novo_max - novo_min) * (x - min(lst)))/(max(lst) - min(lst))\n",
    "\n",
    "def reescalar_lista(lst: list, novo_min: int or float, novo_max: int or float) -> list:\n",
    "    return [reescalar(x, lst, novo_min, novo_max) for x in lst]"
   ]
  },
  {
   "cell_type": "markdown",
   "metadata": {
    "pycharm": {
     "name": "#%% md\n"
    }
   },
   "source": [
    "Todos os valores da distribuição devem ser obedecer à nova escala, dado um novo mínimo e máximo. Por exemplo, para um novo min = 0 e um novo máx = 100.\n",
    "\n",
    "[1, 2, 3] =>[0.0, 50.00, 100.00]\n",
    "[0, 5, 13] =>[0.0, 38.46153846153846, 100.0]"
   ]
  },
  {
   "cell_type": "code",
   "execution_count": 7,
   "metadata": {
    "pycharm": {
     "name": "#%%\n"
    }
   },
   "outputs": [
    {
     "data": {
      "text/plain": "([0.0, 50.0, 100.0], [0.0, 38.46153846153846, 100.0])"
     },
     "execution_count": 7,
     "metadata": {},
     "output_type": "execute_result"
    }
   ],
   "source": [
    "resultado_1 = reescalar_lista(teste_1, 0, 100)\n",
    "resultado_2 = reescalar_lista(teste_2, 0, 100)\n",
    "\n",
    "resultado_1, resultado_2"
   ]
  }
 ],
 "metadata": {
  "kernelspec": {
   "display_name": "Python 3",
   "language": "python",
   "name": "python3"
  },
  "language_info": {
   "codemirror_mode": {
    "name": "ipython",
    "version": 3
   },
   "file_extension": ".py",
   "mimetype": "text/x-python",
   "name": "python",
   "nbconvert_exporter": "python",
   "pygments_lexer": "ipython3",
   "version": "3.8.10"
  }
 },
 "nbformat": 4,
 "nbformat_minor": 1
}