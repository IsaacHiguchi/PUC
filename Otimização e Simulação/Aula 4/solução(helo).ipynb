{
 "cells": [
  {
   "cell_type": "code",
   "execution_count": 2,
   "id": "921a998f",
   "metadata": {},
   "outputs": [],
   "source": [
    "from pulp import *"
   ]
  },
  {
   "cell_type": "code",
   "execution_count": 4,
   "id": "cf6613fc",
   "metadata": {},
   "outputs": [],
   "source": [
    "x1 = LpVariable('milho',0)\n",
    "x2 = LpVariable('racao pronta',0)\n",
    "x3 = LpVariable('alfafa',0)"
   ]
  },
  {
   "cell_type": "code",
   "execution_count": 5,
   "id": "7193a50e",
   "metadata": {},
   "outputs": [],
   "source": [
    "prob = LpProblem('Dieta', LpMinimize)"
   ]
  },
  {
   "cell_type": "code",
   "execution_count": 6,
   "id": "3ccc00a6",
   "metadata": {},
   "outputs": [],
   "source": [
    "prob +=  20*x1 + 30*x2 + 35*x3"
   ]
  },
  {
   "cell_type": "code",
   "execution_count": 7,
   "id": "c40d6aa3",
   "metadata": {},
   "outputs": [],
   "source": [
    "prob += 10*x1 + 10*x2 + 40*x3 >= 200\n",
    "prob += 20*x1 + 20*x2 + 30*x3 >= 250\n",
    "prob += 20*x1 + 40*x2 + 20*x3 >= 120"
   ]
  },
  {
   "cell_type": "code",
   "execution_count": 9,
   "id": "cfe48424",
   "metadata": {},
   "outputs": [
    {
     "name": "stdout",
     "output_type": "stream",
     "text": [
      "Welcome to the CBC MILP Solver \n",
      "Version: 2.10.3 \n",
      "Build Date: Dec 15 2019 \n",
      "\n",
      "command line - /Users/abdul.malik/opt/anaconda3/lib/python3.9/site-packages/pulp/apis/../solverdir/cbc/osx/64/cbc /var/folders/fg/2l8vttbd7cs0l2kv79k5_ml00000gn/T/1f0569c9e523475bb5057b27a52c434f-pulp.mps timeMode elapsed branch printingOptions all solution /var/folders/fg/2l8vttbd7cs0l2kv79k5_ml00000gn/T/1f0569c9e523475bb5057b27a52c434f-pulp.sol (default strategy 1)\n",
      "At line 2 NAME          MODEL\n",
      "At line 3 ROWS\n",
      "At line 8 COLUMNS\n",
      "At line 21 RHS\n",
      "At line 25 BOUNDS\n",
      "At line 26 ENDATA\n",
      "Problem MODEL has 3 rows, 3 columns and 9 elements\n",
      "Coin0008I MODEL read with 0 errors\n",
      "Option for timeMode changed from cpu to elapsed\n",
      "Presolve 3 (0) rows, 3 (0) columns and 9 (0) elements\n",
      "0  Obj 0 Primal inf 16.333333 (3)\n",
      "2  Obj 265\n",
      "Optimal - objective value 265\n",
      "Optimal objective 265 - 2 iterations time 0.002\n",
      "Option for printingOptions changed from normal to all\n",
      "Total time (CPU seconds):       0.00   (Wallclock seconds):       0.00\n",
      "\n"
     ]
    }
   ],
   "source": [
    "prob.solve();"
   ]
  },
  {
   "cell_type": "code",
   "execution_count": 10,
   "id": "58c79af5",
   "metadata": {},
   "outputs": [
    {
     "data": {
      "text/plain": [
       "8.0"
      ]
     },
     "execution_count": 10,
     "metadata": {},
     "output_type": "execute_result"
    }
   ],
   "source": [
    "x1.value()"
   ]
  },
  {
   "cell_type": "code",
   "execution_count": 11,
   "id": "bc32572a",
   "metadata": {},
   "outputs": [
    {
     "data": {
      "text/plain": [
       "0.0"
      ]
     },
     "execution_count": 11,
     "metadata": {},
     "output_type": "execute_result"
    }
   ],
   "source": [
    "x2.value()"
   ]
  },
  {
   "cell_type": "code",
   "execution_count": 12,
   "id": "4398a265",
   "metadata": {},
   "outputs": [
    {
     "data": {
      "text/plain": [
       "3.0"
      ]
     },
     "execution_count": 12,
     "metadata": {},
     "output_type": "execute_result"
    }
   ],
   "source": [
    "x3.value()"
   ]
  },
  {
   "cell_type": "code",
   "execution_count": 14,
   "id": "c2f056b4",
   "metadata": {},
   "outputs": [
    {
     "data": {
      "text/plain": [
       "265.0"
      ]
     },
     "execution_count": 14,
     "metadata": {},
     "output_type": "execute_result"
    }
   ],
   "source": [
    "prob.objective.value()"
   ]
  },
  {
   "cell_type": "code",
   "execution_count": 15,
   "id": "9c077d5c",
   "metadata": {},
   "outputs": [
    {
     "name": "stdout",
     "output_type": "stream",
     "text": [
      "alfafa = 3.0\n",
      "milho = 8.0\n",
      "racao_pronta = 0.0\n"
     ]
    }
   ],
   "source": [
    "for v in prob.variables():\n",
    "    print(v.name, '=', v.varValue)"
   ]
  },
  {
   "cell_type": "code",
   "execution_count": null,
   "id": "cf866d25",
   "metadata": {},
   "outputs": [],
   "source": []
  }
 ],
 "metadata": {
  "kernelspec": {
   "display_name": "Python 3 (ipykernel)",
   "language": "python",
   "name": "python3"
  },
  "language_info": {
   "codemirror_mode": {
    "name": "ipython",
    "version": 3
   },
   "file_extension": ".py",
   "mimetype": "text/x-python",
   "name": "python",
   "nbconvert_exporter": "python",
   "pygments_lexer": "ipython3",
   "version": "3.9.7"
  }
 },
 "nbformat": 4,
 "nbformat_minor": 5
}
