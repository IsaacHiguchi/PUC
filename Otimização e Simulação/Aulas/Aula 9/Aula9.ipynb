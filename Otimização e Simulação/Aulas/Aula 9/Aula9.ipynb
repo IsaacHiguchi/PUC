{
 "cells": [
  {
   "cell_type": "code",
   "execution_count": 8,
   "outputs": [
    {
     "name": "stdout",
     "output_type": "stream",
     "text": [
      "Collecting folium\r\n",
      "  Downloading folium-0.12.1.post1-py2.py3-none-any.whl (95 kB)\r\n",
      "\u001B[K     |████████████████████████████████| 95 kB 1.8 MB/s eta 0:00:01\r\n",
      "\u001B[?25hRequirement already satisfied: jinja2>=2.9 in /usr/lib/python3/dist-packages (from folium) (2.10.1)\r\n",
      "Collecting branca>=0.3.0\r\n",
      "  Downloading branca-0.5.0-py3-none-any.whl (24 kB)\r\n",
      "Requirement already satisfied: numpy in /home/gustavo/.local/lib/python3.8/site-packages (from folium) (1.22.3)\r\n",
      "Requirement already satisfied: requests in /usr/lib/python3/dist-packages (from folium) (2.22.0)\r\n",
      "Installing collected packages: branca, folium\r\n",
      "Successfully installed branca-0.5.0 folium-0.12.1.post1\r\n"
     ]
    },
    {
     "data": {
      "text/plain": "  ds_areamt               ds_subpref ds_sigla        ds_nome ds_areakm  \\\n0      None         SANTANA-TUCURUVI      MAN       MANDAQUI      None   \n1      None                    MOOCA      MOO          MOOCA      None   \n2      None  CASA VERDE-CACHOEIRINHA      LIM          LIMAO      None   \n3      None                JABAQUARA      JAB      JABAQUARA      None   \n4      None            CIDADE ADEMAR      CAD  CIDADE ADEMAR      None   \n\n  ds_cd_sub ds_codigo                                           geometry  \n0        05        51  POLYGON ((-46.65497 -23.43067, -46.65495 -23.4...  \n1        25        53  POLYGON ((-46.58403 -23.55397, -46.58391 -23.5...  \n2        04        50  POLYGON ((-46.67390 -23.48008, -46.67388 -23.4...  \n3        15        38  POLYGON ((-46.64792 -23.63052, -46.64784 -23.6...  \n4        16        22  POLYGON ((-46.64396 -23.69471, -46.64402 -23.6...  ",
      "text/html": "<div>\n<style scoped>\n    .dataframe tbody tr th:only-of-type {\n        vertical-align: middle;\n    }\n\n    .dataframe tbody tr th {\n        vertical-align: top;\n    }\n\n    .dataframe thead th {\n        text-align: right;\n    }\n</style>\n<table border=\"1\" class=\"dataframe\">\n  <thead>\n    <tr style=\"text-align: right;\">\n      <th></th>\n      <th>ds_areamt</th>\n      <th>ds_subpref</th>\n      <th>ds_sigla</th>\n      <th>ds_nome</th>\n      <th>ds_areakm</th>\n      <th>ds_cd_sub</th>\n      <th>ds_codigo</th>\n      <th>geometry</th>\n    </tr>\n  </thead>\n  <tbody>\n    <tr>\n      <th>0</th>\n      <td>None</td>\n      <td>SANTANA-TUCURUVI</td>\n      <td>MAN</td>\n      <td>MANDAQUI</td>\n      <td>None</td>\n      <td>05</td>\n      <td>51</td>\n      <td>POLYGON ((-46.65497 -23.43067, -46.65495 -23.4...</td>\n    </tr>\n    <tr>\n      <th>1</th>\n      <td>None</td>\n      <td>MOOCA</td>\n      <td>MOO</td>\n      <td>MOOCA</td>\n      <td>None</td>\n      <td>25</td>\n      <td>53</td>\n      <td>POLYGON ((-46.58403 -23.55397, -46.58391 -23.5...</td>\n    </tr>\n    <tr>\n      <th>2</th>\n      <td>None</td>\n      <td>CASA VERDE-CACHOEIRINHA</td>\n      <td>LIM</td>\n      <td>LIMAO</td>\n      <td>None</td>\n      <td>04</td>\n      <td>50</td>\n      <td>POLYGON ((-46.67390 -23.48008, -46.67388 -23.4...</td>\n    </tr>\n    <tr>\n      <th>3</th>\n      <td>None</td>\n      <td>JABAQUARA</td>\n      <td>JAB</td>\n      <td>JABAQUARA</td>\n      <td>None</td>\n      <td>15</td>\n      <td>38</td>\n      <td>POLYGON ((-46.64792 -23.63052, -46.64784 -23.6...</td>\n    </tr>\n    <tr>\n      <th>4</th>\n      <td>None</td>\n      <td>CIDADE ADEMAR</td>\n      <td>CAD</td>\n      <td>CIDADE ADEMAR</td>\n      <td>None</td>\n      <td>16</td>\n      <td>22</td>\n      <td>POLYGON ((-46.64396 -23.69471, -46.64402 -23.6...</td>\n    </tr>\n  </tbody>\n</table>\n</div>"
     },
     "execution_count": 8,
     "metadata": {},
     "output_type": "execute_result"
    }
   ],
   "source": [
    "import geopandas as gpd\n",
    "import folium\n",
    "\n",
    "gdf = gpd.read_file('SP_Distritos.geojson')\n",
    "gdf.head()"
   ],
   "metadata": {
    "collapsed": false,
    "pycharm": {
     "name": "#%%\n"
    }
   }
  },
  {
   "cell_type": "code",
   "execution_count": 13,
   "outputs": [
    {
     "name": "stderr",
     "output_type": "stream",
     "text": [
      "<ipython-input-13-04e81fe03f0c>:1: UserWarning: Geometry is in a geographic CRS. Results from 'centroid' are likely incorrect. Use 'GeoSeries.to_crs()' to re-project geometries to a projected CRS before this operation.\n",
      "\n",
      "  gdf['centroid'] = gdf['geometry'].centroid\n"
     ]
    },
    {
     "data": {
      "text/plain": "<folium.folium.Map at 0x7feb70f23160>",
      "text/html": "<div style=\"width:100%;\"><div style=\"position:relative;width:100%;height:0;padding-bottom:60%;\"><span style=\"color:#565656\">Make this Notebook Trusted to load map: File -> Trust Notebook</span><iframe srcdoc=\"&lt;!DOCTYPE html&gt;\n&lt;head&gt;    \n    &lt;meta http-equiv=&quot;content-type&quot; content=&quot;text/html; charset=UTF-8&quot; /&gt;\n    \n        &lt;script&gt;\n            L_NO_TOUCH = false;\n            L_DISABLE_3D = false;\n        &lt;/script&gt;\n    \n    &lt;style&gt;html, body {width: 100%;height: 100%;margin: 0;padding: 0;}&lt;/style&gt;\n    &lt;style&gt;#map {position:absolute;top:0;bottom:0;right:0;left:0;}&lt;/style&gt;\n    &lt;script src=&quot;https://cdn.jsdelivr.net/npm/leaflet@1.6.0/dist/leaflet.js&quot;&gt;&lt;/script&gt;\n    &lt;script src=&quot;https://code.jquery.com/jquery-1.12.4.min.js&quot;&gt;&lt;/script&gt;\n    &lt;script src=&quot;https://maxcdn.bootstrapcdn.com/bootstrap/3.2.0/js/bootstrap.min.js&quot;&gt;&lt;/script&gt;\n    &lt;script src=&quot;https://cdnjs.cloudflare.com/ajax/libs/Leaflet.awesome-markers/2.0.2/leaflet.awesome-markers.js&quot;&gt;&lt;/script&gt;\n    &lt;link rel=&quot;stylesheet&quot; href=&quot;https://cdn.jsdelivr.net/npm/leaflet@1.6.0/dist/leaflet.css&quot;/&gt;\n    &lt;link rel=&quot;stylesheet&quot; href=&quot;https://maxcdn.bootstrapcdn.com/bootstrap/3.2.0/css/bootstrap.min.css&quot;/&gt;\n    &lt;link rel=&quot;stylesheet&quot; href=&quot;https://maxcdn.bootstrapcdn.com/bootstrap/3.2.0/css/bootstrap-theme.min.css&quot;/&gt;\n    &lt;link rel=&quot;stylesheet&quot; href=&quot;https://maxcdn.bootstrapcdn.com/font-awesome/4.6.3/css/font-awesome.min.css&quot;/&gt;\n    &lt;link rel=&quot;stylesheet&quot; href=&quot;https://cdnjs.cloudflare.com/ajax/libs/Leaflet.awesome-markers/2.0.2/leaflet.awesome-markers.css&quot;/&gt;\n    &lt;link rel=&quot;stylesheet&quot; href=&quot;https://cdn.jsdelivr.net/gh/python-visualization/folium/folium/templates/leaflet.awesome.rotate.min.css&quot;/&gt;\n    \n            &lt;meta name=&quot;viewport&quot; content=&quot;width=device-width,\n                initial-scale=1.0, maximum-scale=1.0, user-scalable=no&quot; /&gt;\n            &lt;style&gt;\n                #map_bbb9e98f38b400529fc93fa96f475ebf {\n                    position: relative;\n                    width: 100.0%;\n                    height: 100.0%;\n                    left: 0.0%;\n                    top: 0.0%;\n                }\n            &lt;/style&gt;\n        \n&lt;/head&gt;\n&lt;body&gt;    \n    \n            &lt;div class=&quot;folium-map&quot; id=&quot;map_bbb9e98f38b400529fc93fa96f475ebf&quot; &gt;&lt;/div&gt;\n        \n&lt;/body&gt;\n&lt;script&gt;    \n    \n            var map_bbb9e98f38b400529fc93fa96f475ebf = L.map(\n                &quot;map_bbb9e98f38b400529fc93fa96f475ebf&quot;,\n                {\n                    center: [-23.45951193608895, -46.64112452727881],\n                    crs: L.CRS.EPSG3857,\n                    zoom: 10,\n                    zoomControl: true,\n                    preferCanvas: false,\n                }\n            );\n\n            \n\n        \n    \n            var tile_layer_716aa0303b69ed9ee6fcf985410e3177 = L.tileLayer(\n                &quot;https://{s}.tile.openstreetmap.org/{z}/{x}/{y}.png&quot;,\n                {&quot;attribution&quot;: &quot;Data by \\u0026copy; \\u003ca href=\\&quot;http://openstreetmap.org\\&quot;\\u003eOpenStreetMap\\u003c/a\\u003e, under \\u003ca href=\\&quot;http://www.openstreetmap.org/copyright\\&quot;\\u003eODbL\\u003c/a\\u003e.&quot;, &quot;detectRetina&quot;: false, &quot;maxNativeZoom&quot;: 18, &quot;maxZoom&quot;: 18, &quot;minZoom&quot;: 0, &quot;noWrap&quot;: false, &quot;opacity&quot;: 1, &quot;subdomains&quot;: &quot;abc&quot;, &quot;tms&quot;: false}\n            ).addTo(map_bbb9e98f38b400529fc93fa96f475ebf);\n        \n    \n            var marker_ed3a7108fb1a3fd293707780a18e1104 = L.marker(\n                [-23.45951193608895, -46.64112452727881],\n                {}\n            ).addTo(map_bbb9e98f38b400529fc93fa96f475ebf);\n        \n    \n        var popup_ee39383724e7e2d1cc4e1d58256c4d07 = L.popup({&quot;maxWidth&quot;: &quot;100%&quot;});\n\n        \n            var html_26a7e326e77fdeff55561aed776eccc4 = $(`&lt;div id=&quot;html_26a7e326e77fdeff55561aed776eccc4&quot; style=&quot;width: 100.0%; height: 100.0%;&quot;&gt;&lt;i&gt;SP&lt;/i&gt;&lt;/div&gt;`)[0];\n            popup_ee39383724e7e2d1cc4e1d58256c4d07.setContent(html_26a7e326e77fdeff55561aed776eccc4);\n        \n\n        marker_ed3a7108fb1a3fd293707780a18e1104.bindPopup(popup_ee39383724e7e2d1cc4e1d58256c4d07)\n        ;\n\n        \n    \n&lt;/script&gt;\" style=\"position:absolute;width:100%;height:100%;left:0;top:0;border:none !important;\" allowfullscreen webkitallowfullscreen mozallowfullscreen></iframe></div></div>"
     },
     "execution_count": 13,
     "metadata": {},
     "output_type": "execute_result"
    }
   ],
   "source": [
    "gdf['centroid'] = gdf['geometry'].centroid\n",
    "\n",
    "p = (gdf['centroid'][0].y, gdf['centroid'][0].x)\n",
    "map_osm = folium.Map(location=p, zoom_start=10)\n",
    "folium.Marker(p, popup='<i>SP</i>').add_to(map_osm)\n",
    "map_osm"
   ],
   "metadata": {
    "collapsed": false,
    "pycharm": {
     "name": "#%%\n"
    }
   }
  }
 ],
 "metadata": {
  "kernelspec": {
   "display_name": "Python 3",
   "language": "python",
   "name": "python3"
  },
  "language_info": {
   "codemirror_mode": {
    "name": "ipython",
    "version": 2
   },
   "file_extension": ".py",
   "mimetype": "text/x-python",
   "name": "python",
   "nbconvert_exporter": "python",
   "pygments_lexer": "ipython2",
   "version": "2.7.6"
  }
 },
 "nbformat": 4,
 "nbformat_minor": 0
}