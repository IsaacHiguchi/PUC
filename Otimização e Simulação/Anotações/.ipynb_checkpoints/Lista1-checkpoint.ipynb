{
 "cells": [
  {
   "cell_type": "markdown",
   "metadata": {
    "pycharm": {
     "name": "#%% md\n"
    }
   },
   "source": [
    "# 1ª Lista de Exercícios"
   ]
  },
  {
   "cell_type": "code",
   "execution_count": 17,
   "metadata": {
    "pycharm": {
     "name": "#%%\n"
    }
   },
   "outputs": [],
   "source": [
    "import pandas as pd\n",
    "import numpy as np\n",
    "np.set_printoptions(precision=3, suppress=True)\n",
    "import warnings\n",
    "warnings.filterwarnings('ignore')\n",
    "\n",
    "\n",
    "# Funções auxiliares\n",
    "\n",
    "def describe_problem(problem):\n",
    "    for variable in problem.variables():\n",
    "        print(variable.name, \"=\", round(variable.varValue, 2))\n",
    "    print(problem.objective.name, \"=\", round(problem.objective.value(), 2))\n",
    "\n",
    "\n",
    "def Simplex(T, rotulos=[], base=[]):\n",
    "    \"\"\"\n",
    "    Função para calcular o Tableau Simplex apresentando a sua evolução ao longo das iterações.\n",
    "\n",
    "    Argumentos de entrada:\n",
    "        T: numpy array representando o Tableau inicial\n",
    "\n",
    "    Argumentos de Saída\n",
    "        T: a tabela na última iteração do algoritmo\n",
    "\n",
    "    Programador: Prof. Dr. Rooney Coelho\n",
    "    \"\"\"\n",
    "\n",
    "    print('Tableu Simplex (inicial):')\n",
    "    if rotulos == [] and base == []:\n",
    "        print(T)\n",
    "    else:\n",
    "        print( pd.DataFrame(T, columns=rotulos, index=base ) )\n",
    "\n",
    "    menor = -1\n",
    "    it = 0\n",
    "    while menor < 0:\n",
    "        # Inicialização dos parâmetros (sobreescrever)\n",
    "        pivo_linha = -1\n",
    "        pivo_coluna = -1\n",
    "        pivo = 0\n",
    "        menor = T[0,:-1].min()\n",
    "\n",
    "        if menor >=0:\n",
    "            print('\\nNenhum dos coeficientes da linha z associados com as variáveis não básicas é negativo assim essa tabela é ótima!')\n",
    "            break\n",
    "        else:\n",
    "            it += 1\n",
    "            print(f'\\nIteração: {it}')\n",
    "            # pega o menor elemento da primeira linha (função objetivo)\n",
    "            pivo_coluna = T[0,:-1].argmin()\n",
    "\n",
    "            aux = np.zeros(len(T)-1)\n",
    "            i = 0\n",
    "            for a,b in zip(T[1:,-1],T[1:,pivo_coluna]):\n",
    "                aux[i] = a/b\n",
    "                i+=1\n",
    "\n",
    "            val = aux[aux>0].min()\n",
    "            pivo_linha = np.argwhere(aux==val).item() + 1 # Soma um para a mesma referencia incluindo objetivo\n",
    "            pivo = T[pivo_linha, pivo_coluna]\n",
    "            print(f'Linha do pivô: {pivo_linha}, Coluna do pivô: {pivo_coluna}, Elemento pivô: {pivo}\\n')\n",
    "\n",
    "            # Nova linha do pivô = linha do pivô atual / elemento do pivô\n",
    "            T[pivo_linha] = T[pivo_linha]/pivo\n",
    "\n",
    "            # Todas as outras linhas, incluindo z\n",
    "            # Nova linha=(Linha atual)−(seu coeficiente de coluna do pivô)×(Nova linha do pivô)\n",
    "\n",
    "            nova_linha_pivo = T[pivo_linha]\n",
    "\n",
    "            for i in range(len(T)):\n",
    "                if i != pivo_linha:\n",
    "                    T[i] -= T[i,pivo_coluna]*nova_linha_pivo\n",
    "\n",
    "            print('Tableu Simplex:')\n",
    "            if rotulos == [] and base == []:\n",
    "                print(T)\n",
    "            else:\n",
    "                base[pivo_linha] = rotulos[pivo_coluna]\n",
    "                print( pd.DataFrame(T, columns=rotulos, index=base ) )\n",
    "    return T"
   ]
  },
  {
   "cell_type": "markdown",
   "metadata": {
    "pycharm": {
     "name": "#%% md\n"
    }
   },
   "source": [
    "## Execicio 1\n",
    "\n",
    "Maximizar\n",
    "\n",
    "$$Z = 3x_1 + 6x_2$$\n",
    "\n",
    "Restrições\n",
    "\n",
    "$$9x_1 + 8x_2 \\leq 72$$\n",
    "$$x_2 \\leq 6$$\n",
    "$$-5x_1 + 4x_2 \\leq 20$$\n",
    "$$2x_1 - 4x_2 \\leq 20$$\n",
    "$$x_1, x_2 \\geq 0$$\n",
    "\n",
    "Implementando em python usando pulp\n"
   ]
  },
  {
   "cell_type": "code",
   "execution_count": 18,
   "metadata": {
    "pycharm": {
     "name": "#%%\n"
    }
   },
   "outputs": [
    {
     "name": "stdout",
     "output_type": "stream",
     "text": [
      "x1 = 2.67\n",
      "x2 = 6.0\n",
      "OBJ = 44.0\n"
     ]
    }
   ],
   "source": [
    "from pulp import LpVariable, LpProblem, LpMaximize\n",
    "\n",
    "problem1 = LpProblem(\"Execicio1\", LpMaximize)\n",
    "\n",
    "x1 = LpVariable(\"x1\", lowBound=0, cat='Continuous')\n",
    "x2 = LpVariable(\"x2\", lowBound=0, cat='Continuous')\n",
    "\n",
    "# Função objetivo\n",
    "problem1 += 3 * x1 + 6 * x2\n",
    "# Restrições\n",
    "problem1 += 9 * x1 + 8 * x2 <= 72\n",
    "problem1 += x2 <= 6\n",
    "problem1 += -5 * x1 + 4 * x2 <= 20\n",
    "problem1 += 2 * x1 - 4 * x2 <= 20\n",
    "\n",
    "problem1.solve()\n",
    "\n",
    "describe_problem(problem1)"
   ]
  },
  {
   "cell_type": "markdown",
   "metadata": {
    "pycharm": {
     "name": "#%% md\n"
    }
   },
   "source": [
    "## Execicio 2\n",
    "\n",
    "Maximizar\n",
    "\n",
    "$$Z = 10x_1 + 2x_2$$\n",
    "\n",
    "Restricoes\n",
    "\n",
    "$$10x_1 + 4x_2 \\leq 40$$\n",
    "$$8x_1 + 2x_2 \\geq 0$$\n",
    "$$x_2 \\leq 6$$\n",
    "$$x_1 - 3x_2 \\leq 0$$\n",
    "$$x_1, x_2 \\geq 0$$\n",
    "\n",
    "Solução"
   ]
  },
  {
   "cell_type": "code",
   "execution_count": 19,
   "metadata": {
    "pycharm": {
     "name": "#%%\n"
    }
   },
   "outputs": [
    {
     "name": "stdout",
     "output_type": "stream",
     "text": [
      "x1 = 3.53\n",
      "x2 = 1.18\n",
      "OBJ = 37.65\n"
     ]
    }
   ],
   "source": [
    "problem2 = LpProblem(\"Execicio2\", LpMaximize)\n",
    "\n",
    "x1 = LpVariable(\"x1\", lowBound=0, cat='Continuous')\n",
    "x2 = LpVariable(\"x2\", lowBound=0, cat='Continuous')\n",
    "\n",
    "# Função objetivo\n",
    "problem2 += 10 * x1 + 2 * x2\n",
    "\n",
    "# Restrições\n",
    "problem2 += 10 * x1 + 4 * x2 <= 40\n",
    "problem2 += 8 * x1 + 2 * x2 >= 0\n",
    "problem2 += x2 <= 6\n",
    "problem2 += x1 - 3 * x2 <= 0\n",
    "\n",
    "problem2.solve()\n",
    "\n",
    "describe_problem(problem2)"
   ]
  },
  {
   "cell_type": "markdown",
   "metadata": {
    "pycharm": {
     "name": "#%% md\n"
    }
   },
   "source": [
    "## Execicio 3\n",
    "\n",
    "Uma pequena manufatura produz dois modelos, Standard e Luxo, de um certo produto.\n",
    "Cada unidade do modelo Standard requer 2 horas de lixação e 1 hora de polimento.\n",
    "Cada unidade do modelo Luxo exige 2 horas de lixação e 3 horas de polimento.\n",
    "A fábrica dispõe de 2 lixadoras e 3 polidoras, cada qual trabalhando 40 horas semanais.\n",
    "As margens de lucro são $24 e $32, respectivamente, para cada unidade Standard e Luxo.\n",
    "Não existem restrições de demanda para nenhum dos modelos.\n",
    "Elabore um modelo de programação linear que nos permita calcular a produção semanal que maximize a margem total de lucro do fabricante.\n",
    "\n",
    "\n",
    "Definindo a função objetivo e as restrições:\n",
    "\n",
    "maximixar\n",
    "$Z = 24x_1 + 32x_2$\n",
    "\n",
    "restrições\n",
    "$2x_1 + 2x_2 \\leq 80$\n",
    "$x_1 + 3x_2 \\leq 120$\n",
    "$x_1, x_2 \\geq 0$\n",
    "\n",
    "Implementando em python"
   ]
  },
  {
   "cell_type": "code",
   "execution_count": 20,
   "metadata": {
    "pycharm": {
     "name": "#%%\n"
    }
   },
   "outputs": [
    {
     "name": "stdout",
     "output_type": "stream",
     "text": [
      "x1 = 0.0\n",
      "x2 = 40.0\n",
      "OBJ = 1280.0\n"
     ]
    }
   ],
   "source": [
    "problem3 = LpProblem(\"Execicio3\", LpMaximize)\n",
    "\n",
    "x1 = LpVariable(\"x1\", lowBound=0, cat='Continuous')\n",
    "x2 = LpVariable(\"x2\", lowBound=0, cat='Continuous')\n",
    "\n",
    "# Função Objetivo\n",
    "problem3 += 24 * x1 + 32 * x2\n",
    "\n",
    "# Restrições\n",
    "problem3 += 2 * x1 + 2 * x2 <= 80\n",
    "problem3 += x1 + 3 * x2 <= 120\n",
    "\n",
    "problem3.solve()\n",
    "\n",
    "describe_problem(problem3)"
   ]
  },
  {
   "cell_type": "markdown",
   "metadata": {
    "pycharm": {
     "name": "#%% md\n"
    }
   },
   "source": [
    "## Execicio 4\n",
    "\n",
    "Um fazendeiro dispõe de 400ha cultiváveis com milho, trigo ou soja.\n",
    "Cada hectare de milho exige 200 reais para preparação do terreno e 10 homens-dias de trabalho, e gera um lucro de 600 reais.\n",
    "Um hectare de trigo implica custos de 240 reais para preparação do terreno e 16 homens-dias de trabalho, e dá um lucro de 700 reais.\n",
    "Analogamente, um hectare de soja exige 140 reais e 12 homens-dias, e dá um lucro de 550 reais.\n",
    "O fazendeiro dispõe de 80.000 reais para cobrir os custos de trabalho e 6.000 homens-dias de mão-de-obra.\n",
    "Elabore um modelo de programação linear de modo a calcular a alocação de terra para os vários tipos de cultura com o objetivo de maximizar o lucro total.\n",
    "\n",
    "maximizar\n",
    "$Z = 600x_1 + 700x_2 + 550x_3$\n",
    "\n",
    "restrições\n",
    "$200x_1 + 240x_2 + 140x_3 \\leq 80000$\n",
    "$10x_1 + 16x_2 + 12x_3 \\leq 6000$\n",
    "$x_1 + x_2 + x_3 \\leq 400$\n",
    "$x_1, x_2, x_3 \\geq 0$\n"
   ]
  },
  {
   "cell_type": "code",
   "execution_count": 21,
   "metadata": {
    "pycharm": {
     "name": "#%%\n"
    }
   },
   "outputs": [
    {
     "name": "stdout",
     "output_type": "stream",
     "text": [
      "x1 = 0.0\n",
      "x2 = 240.0\n",
      "x3 = 160.0\n",
      "OBJ = 256000.0\n"
     ]
    }
   ],
   "source": [
    "problem4 = LpProblem(\"Execicio4\", LpMaximize)\n",
    "\n",
    "x1 = LpVariable(\"x1\", lowBound=0, cat='Continuous')\n",
    "x2 = LpVariable(\"x2\", lowBound=0, cat='Continuous')\n",
    "x3 = LpVariable(\"x3\", lowBound=0, cat='Continuous')\n",
    "\n",
    "# Função objetivo\n",
    "problem4 += 600 * x1 + 700 * x2 + 550 * x3\n",
    "\n",
    "# Restrições\n",
    "problem4 += 200 * x1 + 240 * x2 + 140 * x3 <= 80000\n",
    "problem4 += 10 * x1 + 16 * x2 + 12 * x3 <= 6000\n",
    "problem4 += x1 + x2 + x3 <= 400\n",
    "\n",
    "problem4.solve()\n",
    "\n",
    "describe_problem(problem4)"
   ]
  },
  {
   "cell_type": "markdown",
   "metadata": {
    "pycharm": {
     "name": "#%% md\n"
    }
   },
   "source": [
    "## Execicio 5\n",
    "\n",
    "Encontre $x_1, x_2, x_3$ pelo método Simplex.\n",
    "\n",
    "Maximizar\n",
    "$Z = 8x_1 + 10x_2 + 6x_3$\n",
    "Sujeito a:\n",
    "$x_1 + x_3 \\leq 400$\n",
    "$4x_1 + 4x_2 + 2x_3 \\leq 1200$\n",
    "$3x_1 + 3x_2 \\leq 600$\n",
    "$x_1, x_2, x_3 \\geq 0$\n",
    "\n",
    "Adapatando para gerar igualdades:\n",
    "$Z - 8x_1 - 10x_2 - 6x_3 = 0$\n",
    "$x_1 + x_3 + f_1 = 400$\n",
    "$4x_1 + 4x_2 + 2x_3 + f_2 = 1200$\n",
    "$3x_1 + 3x_2 + f_3 = 600$\n",
    "\n",
    "\n",
    "\n",
    "\n",
    "\n"
   ]
  },
  {
   "cell_type": "code",
   "execution_count": 22,
   "metadata": {
    "pycharm": {
     "name": "#%%\n"
    }
   },
   "outputs": [
    {
     "name": "stdout",
     "output_type": "stream",
     "text": [
      "Tableu Simplex (inicial):\n",
      "      z   x1    x2   x3   f1   f2   f3      LD\n",
      "z   1.0 -8.0 -10.0 -6.0  0.0  0.0  0.0     0.0\n",
      "f1  0.0  1.0   0.0  1.0  1.0  0.0  0.0   400.0\n",
      "f2  0.0  4.0   4.0  2.0  0.0  1.0  0.0  1200.0\n",
      "f3  0.0  3.0   3.0  0.0  0.0  0.0  1.0   600.0\n",
      "\n",
      "Iteração: 1\n",
      "Linha do pivô: 3, Coluna do pivô: 2, Elemento pivô: 3.0\n",
      "\n",
      "Tableu Simplex:\n",
      "      z   x1   x2   x3   f1   f2        f3      LD\n",
      "z   1.0  2.0  0.0 -6.0  0.0  0.0  3.333333  2000.0\n",
      "f1  0.0  1.0  0.0  1.0  1.0  0.0  0.000000   400.0\n",
      "f2  0.0  0.0  0.0  2.0  0.0  1.0 -1.333333   400.0\n",
      "x2  0.0  1.0  1.0  0.0  0.0  0.0  0.333333   200.0\n",
      "\n",
      "Iteração: 2\n",
      "Linha do pivô: 2, Coluna do pivô: 3, Elemento pivô: 2.0\n",
      "\n",
      "Tableu Simplex:\n",
      "      z   x1   x2   x3   f1   f2        f3      LD\n",
      "z   1.0  2.0  0.0  0.0  0.0  3.0 -0.666667  3200.0\n",
      "f1  0.0  1.0  0.0  0.0  1.0 -0.5  0.666667   200.0\n",
      "x3  0.0  0.0  0.0  1.0  0.0  0.5 -0.666667   200.0\n",
      "x2  0.0  1.0  1.0  0.0  0.0  0.0  0.333333   200.0\n",
      "\n",
      "Iteração: 3\n",
      "Linha do pivô: 1, Coluna do pivô: 6, Elemento pivô: 0.6666666666666666\n",
      "\n",
      "Tableu Simplex:\n",
      "      z   x1   x2   x3   f1    f2   f3      LD\n",
      "z   1.0  3.0  0.0  0.0  1.0  2.50  0.0  3400.0\n",
      "f3  0.0  1.5  0.0  0.0  1.5 -0.75  1.0   300.0\n",
      "x3  0.0  1.0  0.0  1.0  1.0  0.00  0.0   400.0\n",
      "x2  0.0  0.5  1.0  0.0 -0.5  0.25  0.0   100.0\n",
      "\n",
      "Nenhum dos coeficientes da linha z associados com as variáveis não básicas é negativo assim essa tabela é ótima!\n"
     ]
    }
   ],
   "source": [
    "T = np.array([\n",
    "    [1,-8,-10,-6,0,0,0,0],\n",
    "    [0,1,0,1,1,0,0,400],\n",
    "    [0,4,4,2,0,1,0,1200],\n",
    "    [0,3,3,0,0,0,1,600]\n",
    "], dtype=float)\n",
    "\n",
    "rotulos = ['z', 'x1', 'x2', 'x3', 'f1', 'f2', 'f3', 'LD' ]\n",
    "base = ['z', 'f1', 'f2', 'f3']\n",
    "\n",
    "Simplex(T, rotulos, base);"
   ]
  },
  {
   "cell_type": "markdown",
   "metadata": {
    "pycharm": {
     "name": "#%% md\n"
    }
   },
   "source": [
    "## Execicio 6\n",
    "\n",
    "Resolva o seguinte problema pelo método das duas fases\n",
    "\n",
    "Minimizar\n",
    "$Z = 4x_1 + 2x_2$\n",
    "Sujeito a:\n",
    "$4x_1 + 3x_2 \\geq 6$\n",
    "$6x_1 + 2x_2 = 6$\n",
    "$2x_1 + 4x_2 \\leq 6$\n",
    "$x_1, x_2 \\geq 0$"
   ]
  },
  {
   "cell_type": "code",
   "execution_count": 23,
   "metadata": {
    "pycharm": {
     "name": "#%%\n"
    }
   },
   "outputs": [
    {
     "name": "stdout",
     "output_type": "stream",
     "text": [
      "x1 = 0.6\n",
      "x2 = 1.2\n",
      "OBJ = 4.8\n"
     ]
    }
   ],
   "source": [
    "# TODO resolver pelo metodo das duas fases http://www.phpsimplex.com/pt/teoria_metodo_simplex.htm#:~:text=de%20equa%C3%A7%C3%B5es%20lineares).-,M%C3%A9todo%20das%20Duas%20Fases,(para%20evitar%20inconsist%C3%AAncias%20matem%C3%A1ticas).\n",
    "from pulp import LpMinimize\n",
    "\n",
    "problem6 = LpProblem(\"Execicio6\", LpMinimize)\n",
    "\n",
    "x1 = LpVariable(\"x1\", lowBound=0, cat='Continuous')\n",
    "x2 = LpVariable(\"x2\", lowBound=0, cat='Continuous')\n",
    "\n",
    "# Função objetivo\n",
    "problem6 += 4 * x1 + 2 * x2\n",
    "\n",
    "# Restrições\n",
    "problem6 += 4 * x1 + 3 * x2 >= 6\n",
    "problem6 += 6 * x1 + 2 * x2 == 6\n",
    "problem6 += 2 * x1 + 4 * x2 <= 6\n",
    "\n",
    "problem6.solve()\n",
    "\n",
    "describe_problem(problem6)\n"
   ]
  },
  {
   "cell_type": "markdown",
   "metadata": {
    "pycharm": {
     "name": "#%% md\n"
    }
   },
   "source": [
    "## Execicio 7\n",
    "\n",
    "Encontre o problema Dual\n",
    "\n",
    "Minimizar\n",
    "$Z = 10x_1 + 6x_2 - 2y_3$\n",
    "Sujeito a:\n",
    "$2x_1 + 2x_2 + 2x_3 = 10$\n",
    "$-2x_1 - x_2 - 3y_3 \\geq −10$\n",
    "$2x_1 - 4x_2 + 2x_3 \\geq 4$\n",
    "$x_1, x_2, x_3 \\geq 0$\n",
    "\n",
    "Dual\n",
    "Maximizar\n",
    "$D = 10y_1 - 10y_2 + 4y_3$\n",
    "Sujeito a:\n",
    "$2y_1 - 2y_2 + 2y_3 \\leq 10$\n",
    "$2y_1 -y_2 - 4y_3 \\leq 6$\n",
    "$2y_1 - 3y_2 + 2y_3 \\leq −2$\n",
    "$y_2, y_3 \\geq 0$"
   ]
  },
  {
   "cell_type": "markdown",
   "metadata": {
    "pycharm": {
     "name": "#%% md\n"
    }
   },
   "source": [
    "## Execicio 8\n",
    "\n",
    "Um produtor de embutidos deseja fabricar duas linhas de salsichas\n",
    "    • Econômica (>40% de carne de porco)\n",
    "    • Premium(>60% de carne de porco)\n",
    "De acordo com a legislação, o máximo de amido que pode ter na salsicha é de 25%.\n",
    "O produtor já fechou contrato com um açougue e comprou 23 kg de carne de porco, que devem ser totalmente usados na produção.\n",
    "A demanda é de 350 salsichas econômicas e 500 salsichas premium.\n",
    "Cada unidade de salsicha produzida pesa 50g. Qual é a mistura mais econômica possível para a produção das salsichas econômica e premium?\n",
    "<br>\n",
    "\n",
    "| Ingrediente      | Custo(R$/kg) | Disponibilidade(kg) |\n",
    "|------------------|--------------|---------------------|\n",
    "| Carne de porco   | 29,03        | 30                  |\n",
    "| Farinha de trigo | 16,53        | 20                  |\n",
    "| Amido            | 12,50        | 17                  |"
   ]
  },
  {
   "cell_type": "markdown",
   "metadata": {
    "pycharm": {
     "name": "#%% md\n"
    }
   },
   "source": [
    "Função objetivo\n",
    "Minimizar\n",
    "$Z = 29,03x_1 + 16,53x_2 + 12,50x_3 + 29,03x_4 + 16,53x_5 + 12,50x_6$\n",
    "Sujeito a:\n",
    "$x_1 \\geq 7$\n",
    "$x_4 \\geq 15$\n",
    "$x_1 + x_4 \\geq 23$\n",
    "$x_1 + x_4 \\leq 30$\n",
    "$x_3 \\leq 4,375$\n",
    "$x_6 \\leq 6,25$\n",
    "$x_3 + x_6 \\leq 17$\n",
    "$x_2 + x_5 \\leq 20$\n",
    "$x_1 + x_2 + x_3 = 17,5$\n",
    "$x_4 + x_5 + x_6 = 25$\n",
    "$x_1, x_2, x_3, x_4, x_5, x_6 \\geq 0$"
   ]
  },
  {
   "cell_type": "code",
   "execution_count": 24,
   "metadata": {
    "pycharm": {
     "name": "#%%\n"
    }
   },
   "outputs": [
    {
     "name": "stdout",
     "output_type": "stream",
     "text": [
      "x1 = 8.0\n",
      "x2 = 5.12\n",
      "x3 = 4.38\n",
      "x4 = 15.0\n",
      "x5 = 3.75\n",
      "x6 = 6.25\n",
      "OBJ = 947.21\n"
     ]
    }
   ],
   "source": [
    "problem8 = LpProblem(\"Execicio8\", LpMinimize)\n",
    "\n",
    "x1 = LpVariable(\"x1\", lowBound=0, cat='Continuous')\n",
    "x2 = LpVariable(\"x2\", lowBound=0, cat='Continuous')\n",
    "x3 = LpVariable(\"x3\", lowBound=0, cat='Continuous')\n",
    "x4 = LpVariable(\"x4\", lowBound=0, cat='Continuous')\n",
    "x5 = LpVariable(\"x5\", lowBound=0, cat='Continuous')\n",
    "x6 = LpVariable(\"x6\", lowBound=0, cat='Continuous')\n",
    "\n",
    "# Função objetivo\n",
    "problem8 += 29.03 * x1 + 16.53 * x2 + 12.5 * x3 + 29.03 * x4 + 16.53 * x5 + 12.5 * x6\n",
    "\n",
    "# Restrições\n",
    "problem8 += x1 >= 7\n",
    "problem8 += x4 >= 15\n",
    "problem8 += x1 + x4 >= 23\n",
    "problem8 += x1 + x4 <= 30\n",
    "problem8 += x3 <= 4.375\n",
    "problem8 += x6 <= 6.25\n",
    "problem8 += x3 + x6 <= 17\n",
    "problem8 += x2 + x5 <= 20\n",
    "problem8 += x1 + x2 + x3 == 17.5\n",
    "problem8 += x4 + x5 + x6 == 25\n",
    "\n",
    "problem8.solve()\n",
    "\n",
    "describe_problem(problem8)"
   ]
  },
  {
   "cell_type": "markdown",
   "metadata": {
    "pycharm": {
     "name": "#%% md\n"
    }
   },
   "source": [
    "## Execicio 9\n",
    "\n",
    "Um agricultor tem uma fazenda com 200 km², onde planeja cultivar trigo, arroz e milho.\n",
    "A produção esperada é de 1.800 kg por km² plantado de trigo, 2.100 kg por km² plantado de arroz e 2.900 kg\n",
    "por km² plantado de milho.\n",
    "Ele tem condições de armazenar no máximo 700.000 kg de qualquer um dos produtos.\n",
    "Sabendo que o trigo dá um lucro de R1,20 por kg, o arroz R0,60 e o milho R0,28,\n",
    "determine quantos km² de cada produto devem ser plantados para maximizar o lucro do agricultor\n",
    "\n",
    "Função objetivo\n",
    "Maximizar\n",
    "$Z = 1,2 \\cdot 1800x_1 + 0,6 \\cdot 2100x_2 + 0,28 \\cdot 2900x_3$\n",
    "Sujeito a:\n",
    "$x_1 + x_2 + x_3 \\leq 200$\n",
    "$1800x_1 + 2100x_2 + 2900x_3 \\leq 700000\n",
    "$x_1, x_2, x_3 \\geq 0$"
   ]
  },
  {
   "cell_type": "code",
   "execution_count": 25,
   "metadata": {
    "pycharm": {
     "name": "#%%\n"
    }
   },
   "outputs": [
    {
     "name": "stdout",
     "output_type": "stream",
     "text": [
      "x1 = 200.0\n",
      "x2 = 0.0\n",
      "x3 = 0.0\n",
      "OBJ = 432000.0\n"
     ]
    }
   ],
   "source": [
    "problem9 = LpProblem(\"Execicio9\", LpMaximize)\n",
    "\n",
    "x1 = LpVariable(\"x1\", lowBound=0, cat='Continuous')\n",
    "x2 = LpVariable(\"x2\", lowBound=0, cat='Continuous')\n",
    "x3 = LpVariable(\"x3\", lowBound=0, cat='Continuous')\n",
    "\n",
    "# Função objetivo\n",
    "problem9 += 1.2 * 1800 * x1 + 0.6 * 2100 * x2 + 0.28 * 2900 * x3\n",
    "\n",
    "# Restrições\n",
    "problem9 += x1 + x2 + x3 <= 200\n",
    "problem9 += 1800 * x1 + 2100 * x2 + 2900 * x3 <= 700000\n",
    "\n",
    "problem9.solve()\n",
    "\n",
    "describe_problem(problem9)"
   ]
  },
  {
   "cell_type": "markdown",
   "metadata": {
    "pycharm": {
     "name": "#%% md\n"
    }
   },
   "source": [
    "## Execicio 10\n",
    "\n",
    "Uma companhia produz três tipos de fertilizantes, a partir da mistura de ingredientes à base de\n",
    "nitrato, fosfato e potássio e de um componente inerte, conforme mostra o Quadro 1,\n",
    "que apresenta também os preços de venda dos fertilizantes.\n",
    "Dados sobre disponibilidade e custos dos ingredientes são apresentados no Quadro 2.\n",
    "O custo de mistura, empacotamento e promoção de vendas é estimado em 300 reais por tonelada para quaisquer produtos.\n",
    "A companhia tem contrato de longo prazo para fornecimento mensal de 6.500t do fertilizante A.\n",
    "Elabore o modelo de programação linear de modo a propor a programação da produção para o próximo mês,\n",
    "com o objetivo de maximizar o lucro.\n",
    "<br>\n",
    "\n",
    "Quadro 1\n",
    "\n",
    "| TIPO DE FERTILIZANTE | NITRATO | FOSFORO | POTÁSSIO | INERTE | PREÇO DE MERCADO |\n",
    "|----------------------|---------|---------|----------|--------|------------------|\n",
    "| A                    | 5       | 10      | 5        | 80     | 800              |\n",
    "| B                    | 5       | 10      | 10       | 75     | 960              |\n",
    "| C                    | 10      | 10      | 10       | 70     | 1.100            |\n",
    "\n",
    "Quadro 2\n",
    "\n",
    "| INGREDIENTE | DISPONIBILIDADE | CUSTO |\n",
    "|-------------|-----------------|-------|\n",
    "| NITRATO     | 1.200           | 3.000 |\n",
    "| FOSFORO     | 2.000           | 1.000 |\n",
    "| POTÁSSIO    | 1.400           | 1.800 |\n",
    "| INERTE      | Ilimitada       | 200   |\n",
    "<br>\n",
    "\n",
    "Função objetivo\n",
    "Maximizar\n"
   ]
  }
 ],
 "metadata": {
  "kernelspec": {
   "display_name": "Python 3",
   "language": "python",
   "name": "python3"
  },
  "language_info": {
   "codemirror_mode": {
    "name": "ipython",
    "version": 3
   },
   "file_extension": ".py",
   "mimetype": "text/x-python",
   "name": "python",
   "nbconvert_exporter": "python",
   "pygments_lexer": "ipython3",
   "version": "3.8.10"
  }
 },
 "nbformat": 4,
 "nbformat_minor": 1
}
