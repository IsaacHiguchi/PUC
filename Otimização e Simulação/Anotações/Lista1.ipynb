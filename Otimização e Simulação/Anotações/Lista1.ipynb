{
 "cells": [
  {
   "cell_type": "markdown",
   "source": [
    "# 1ª Lista de Exercícios"
   ],
   "metadata": {
    "collapsed": false,
    "pycharm": {
     "name": "#%% md\n"
    }
   }
  },
  {
   "cell_type": "code",
   "execution_count": 12,
   "outputs": [],
   "source": [
    "import pandas as pd\n",
    "import numpy as np\n",
    "np.set_printoptions(precision=3, suppress=True)\n",
    "import warnings\n",
    "warnings.filterwarnings('ignore')\n",
    "\n",
    "\n",
    "# Funções auxiliares\n",
    "\n",
    "def describe_problem(problem):\n",
    "    for variable in problem.variables():\n",
    "        print(variable.name, \"=\", round(variable.varValue, 2))\n",
    "    print(problem.objective.name, \"=\", round(problem.objective.value(), 2))\n",
    "\n",
    "\n",
    "def Simplex(T, rotulos=[], base=[]):\n",
    "    \"\"\"\n",
    "    Função para calcular o Tableau Simplex apresentando a sua evolução ao longo das iterações.\n",
    "\n",
    "    Argumentos de entrada:\n",
    "        T: numpy array representando o Tableau inicial\n",
    "\n",
    "    Argumentos de Saída\n",
    "        T: a tabela na última iteração do algoritmo\n",
    "\n",
    "    Programador: Prof. Dr. Rooney Coelho\n",
    "    \"\"\"\n",
    "\n",
    "    print('Tableu Simplex (inicial):')\n",
    "    if rotulos == [] and base == []:\n",
    "        print(T)\n",
    "    else:\n",
    "        print( pd.DataFrame(T, columns=rotulos, index=base ) )\n",
    "\n",
    "    menor = -1\n",
    "    it = 0\n",
    "    while menor < 0:\n",
    "        # Inicialização dos parâmetros (sobreescrever)\n",
    "        pivo_linha = -1\n",
    "        pivo_coluna = -1\n",
    "        pivo = 0\n",
    "        menor = T[0,:-1].min()\n",
    "\n",
    "        if menor >=0:\n",
    "            print('\\nNenhum dos coeficientes da linha z associados com as variáveis não básicas é negativo assim essa tabela é ótima!')\n",
    "            break\n",
    "        else:\n",
    "            it += 1\n",
    "            print(f'\\nIteração: {it}')\n",
    "            # pega o menor elemento da primeira linha (função objetivo)\n",
    "            pivo_coluna = T[0,:-1].argmin()\n",
    "\n",
    "            aux = np.zeros(len(T)-1)\n",
    "            i = 0\n",
    "            for a,b in zip(T[1:,-1],T[1:,pivo_coluna]):\n",
    "                aux[i] = a/b\n",
    "                i+=1\n",
    "\n",
    "            val = aux[aux>0].min()\n",
    "            pivo_linha = np.argwhere(aux==val).item() + 1 # Soma um para a mesma referencia incluindo objetivo\n",
    "            pivo = T[pivo_linha, pivo_coluna]\n",
    "            print(f'Linha do pivô: {pivo_linha}, Coluna do pivô: {pivo_coluna}, Elemento pivô: {pivo}\\n')\n",
    "\n",
    "            # Nova linha do pivô = linha do pivô atual / elemento do pivô\n",
    "            T[pivo_linha] = T[pivo_linha]/pivo\n",
    "\n",
    "            # Todas as outras linhas, incluindo z\n",
    "            # Nova linha=(Linha atual)−(seu coeficiente de coluna do pivô)×(Nova linha do pivô)\n",
    "\n",
    "            nova_linha_pivo = T[pivo_linha]\n",
    "\n",
    "            for i in range(len(T)):\n",
    "                if i != pivo_linha:\n",
    "                    T[i] -= T[i,pivo_coluna]*nova_linha_pivo\n",
    "\n",
    "            print('Tableu Simplex:')\n",
    "            if rotulos == [] and base == []:\n",
    "                print(T)\n",
    "            else:\n",
    "                base[pivo_linha] = rotulos[pivo_coluna]\n",
    "                print( pd.DataFrame(T, columns=rotulos, index=base ) )\n",
    "    return T"
   ],
   "metadata": {
    "collapsed": false,
    "pycharm": {
     "name": "#%%\n"
    }
   }
  },
  {
   "cell_type": "markdown",
   "source": [
    "## Execicio 1\n",
    "\n",
    "Maximizar\n",
    "<br>\n",
    "$Z = 3x_1 + 6x_2$\n",
    "\n",
    "Restrições\n",
    "\n",
    "$9x_1 + 8x_2 \\leq 72$\n",
    "<br>$x_2 \\leq 6$\n",
    "<br>$-5x_1 + 4x_2 \\leq 20$\n",
    "<br>$2x_1 - 4x_2 \\leq 20$\n",
    "<br>$x_1, x_2 \\geq 0$\n",
    "\n",
    "Implementando em python usando pulp\n"
   ],
   "metadata": {
    "collapsed": false,
    "pycharm": {
     "name": "#%% md\n"
    }
   }
  },
  {
   "cell_type": "code",
   "execution_count": 13,
   "outputs": [
    {
     "name": "stdout",
     "output_type": "stream",
     "text": [
      "x1 = 2.67\n",
      "x2 = 6.0\n",
      "OBJ = 44.0\n"
     ]
    }
   ],
   "source": [
    "from pulp import LpVariable, LpProblem, LpMaximize\n",
    "\n",
    "problem1 = LpProblem(\"Execicio1\", LpMaximize)\n",
    "\n",
    "x1 = LpVariable(\"x1\", lowBound=0, cat='Continuous')\n",
    "x2 = LpVariable(\"x2\", lowBound=0, cat='Continuous')\n",
    "\n",
    "# Função objetivo\n",
    "problem1 += 3 * x1 + 6 * x2\n",
    "# Restrições\n",
    "problem1 += 9 * x1 + 8 * x2 <= 72\n",
    "problem1 += x2 <= 6\n",
    "problem1 += -5 * x1 + 4 * x2 <= 20\n",
    "problem1 += 2 * x1 - 4 * x2 <= 20\n",
    "\n",
    "problem1.solve()\n",
    "\n",
    "describe_problem(problem1)"
   ],
   "metadata": {
    "collapsed": false,
    "pycharm": {
     "name": "#%%\n"
    }
   }
  },
  {
   "cell_type": "markdown",
   "source": [
    "## Execicio 2\n",
    "\n",
    "Maximizar\n",
    "<br>\n",
    "$Z = 10x_1 + 2x_2$ <br>\n",
    "\n",
    "Restricoes\n",
    "\n",
    "$10x_1 + 4x_2 \\leq 40$\n",
    "<br>$8x_1 + 2x_2 \\geq 0$ <br>\n",
    "$x_2 \\leq 6$ <br>\n",
    "$x_1 - 3x_2 \\leq 0$ <br>\n",
    "$x_1, x_2 \\geq 0$\n",
    "\n",
    "Solução"
   ],
   "metadata": {
    "collapsed": false,
    "pycharm": {
     "name": "#%% md\n"
    }
   }
  },
  {
   "cell_type": "code",
   "execution_count": 14,
   "outputs": [
    {
     "name": "stdout",
     "output_type": "stream",
     "text": [
      "x1 = 3.53\n",
      "x2 = 1.18\n",
      "OBJ = 37.65\n"
     ]
    }
   ],
   "source": [
    "problem2 = LpProblem(\"Execicio2\", LpMaximize)\n",
    "\n",
    "x1 = LpVariable(\"x1\", lowBound=0, cat='Continuous')\n",
    "x2 = LpVariable(\"x2\", lowBound=0, cat='Continuous')\n",
    "\n",
    "# Função objetivo\n",
    "problem2 += 10 * x1 + 2 * x2\n",
    "\n",
    "# Restrições\n",
    "problem2 += 10 * x1 + 4 * x2 <= 40\n",
    "problem2 += 8 * x1 + 2 * x2 >= 0\n",
    "problem2 += x2 <= 6\n",
    "problem2 += x1 - 3 * x2 <= 0\n",
    "\n",
    "problem2.solve()\n",
    "\n",
    "describe_problem(problem2)"
   ],
   "metadata": {
    "collapsed": false,
    "pycharm": {
     "name": "#%%\n"
    }
   }
  },
  {
   "cell_type": "markdown",
   "source": [
    "## Execicio 3\n",
    "\n",
    "Uma pequena manufatura produz dois modelos, Standard e Luxo, de um certo produto.\n",
    "Cada unidade do modelo Standard requer 2 horas de lixação e 1 hora de polimento.\n",
    "Cada unidade do modelo Luxo exige 2 horas de lixação e 3 horas de polimento.\n",
    "A fábrica dispõe de 2 lixadoras e 3 polidoras, cada qual trabalhando 40 horas semanais.\n",
    "As margens de lucro são $24 e $32, respectivamente, para cada unidade Standard e Luxo.\n",
    "Não existem restrições de demanda para nenhum dos modelos.\n",
    "Elabore um modelo de programação linear que nos permita calcular a produção semanal que maximize a margem total de lucro do fabricante.\n",
    "\n",
    "\n",
    "Definindo a função objetivo e as restrições:\n",
    "<br>\n",
    "maximixar\n",
    "$Z = 24x_1 + 32x_2$\n",
    "\n",
    "restrições\n",
    "$2x_1 + 2x_2 \\leq 80$\n",
    "$x_1 + 3x_2 \\leq 120$\n",
    "$x_1, x_2 \\geq 0$\n",
    "\n",
    "Implementando em python"
   ],
   "metadata": {
    "collapsed": false,
    "pycharm": {
     "name": "#%% md\n"
    }
   }
  },
  {
   "cell_type": "code",
   "execution_count": 15,
   "outputs": [
    {
     "name": "stdout",
     "output_type": "stream",
     "text": [
      "x1 = 0.0\n",
      "x2 = 40.0\n",
      "OBJ = 1280.0\n"
     ]
    }
   ],
   "source": [
    "problem3 = LpProblem(\"Execicio3\", LpMaximize)\n",
    "\n",
    "x1 = LpVariable(\"x1\", lowBound=0, cat='Continuous')\n",
    "x2 = LpVariable(\"x2\", lowBound=0, cat='Continuous')\n",
    "\n",
    "# Função Objetivo\n",
    "problem3 += 24 * x1 + 32 * x2\n",
    "\n",
    "# Restrições\n",
    "problem3 += 2 * x1 + 2 * x2 <= 80\n",
    "problem3 += x1 + 3 * x2 <= 120\n",
    "\n",
    "problem3.solve()\n",
    "\n",
    "describe_problem(problem3)"
   ],
   "metadata": {
    "collapsed": false,
    "pycharm": {
     "name": "#%%\n"
    }
   }
  },
  {
   "cell_type": "markdown",
   "source": [
    "## Execicio 4\n",
    "\n",
    "Um fazendeiro dispõe de 400ha cultiváveis com milho, trigo ou soja.\n",
    "Cada hectare de milho exige 200 reais para preparação do terreno e 10 homens-dias de trabalho, e gera um lucro de 600 reais.\n",
    "Um hectare de trigo implica custos de 240 reais para preparação do terreno e 16 homens-dias de trabalho, e dá um lucro de 700 reais.\n",
    "Analogamente, um hectare de soja exige 140 reais e 12 homens-dias, e dá um lucro de 550 reais.\n",
    "O fazendeiro dispõe de 80.000 reais para cobrir os custos de trabalho e 6.000 homens-dias de mão-de-obra.\n",
    "Elabore um modelo de programação linear de modo a calcular a alocação de terra para os vários tipos de cultura com o objetivo de maximizar o lucro total.\n",
    "\n",
    "maximizar\n",
    "$Z = 600x_1 + 700x_2 + 550x_3$\n",
    "\n",
    "restrições\n",
    "$200x_1 + 240x_2 + 140x_3 \\leq 80000$\n",
    "$10x_1 + 16x_2 + 12x_3 \\leq 6000$\n",
    "$x_1 + x_2 + x_3 \\leq 400$\n",
    "$x_1, x_2, x_3 \\geq 0$\n"
   ],
   "metadata": {
    "collapsed": false,
    "pycharm": {
     "name": "#%% md\n"
    }
   }
  },
  {
   "cell_type": "code",
   "execution_count": 16,
   "outputs": [
    {
     "name": "stdout",
     "output_type": "stream",
     "text": [
      "x1 = 0.0\n",
      "x2 = 240.0\n",
      "x3 = 160.0\n",
      "OBJ = 256000.0\n"
     ]
    }
   ],
   "source": [
    "problem4 = LpProblem(\"Execicio4\", LpMaximize)\n",
    "\n",
    "x1 = LpVariable(\"x1\", lowBound=0, cat='Continuous')\n",
    "x2 = LpVariable(\"x2\", lowBound=0, cat='Continuous')\n",
    "x3 = LpVariable(\"x3\", lowBound=0, cat='Continuous')\n",
    "\n",
    "# Função objetivo\n",
    "problem4 += 600 * x1 + 700 * x2 + 550 * x3\n",
    "\n",
    "# Restrições\n",
    "problem4 += 200 * x1 + 240 * x2 + 140 * x3 <= 80000\n",
    "problem4 += 10 * x1 + 16 * x2 + 12 * x3 <= 6000\n",
    "problem4 += x1 + x2 + x3 <= 400\n",
    "\n",
    "problem4.solve()\n",
    "\n",
    "describe_problem(problem4)"
   ],
   "metadata": {
    "collapsed": false,
    "pycharm": {
     "name": "#%%\n"
    }
   }
  },
  {
   "cell_type": "markdown",
   "source": [
    "## Execicio 5\n",
    "\n",
    "Encontre $x_1, x_2, x_3$ pelo método Simplex.\n",
    "\n",
    "Maximizar\n",
    "$Z = 8x_1 + 10x_2 + 6x_3$\n",
    "Sujeito a:\n",
    "$x_1 + x_3 \\leq 400$\n",
    "$4x_1 + 4x_2 + 2x_3 \\leq 1200$\n",
    "$3x_1 + 3x_2 \\leq 600$\n",
    "$x_1, x_2, x_3 \\geq 0$\n",
    "\n",
    "Adapatando para gerar igualdades:\n",
    "$Z - 8x_1 - 10x_2 - 6x_3 = 0$\n",
    "$x_1 + x_3 + f_1 = 400$\n",
    "$4x_1 + 4x_2 + 2x_3 + f_2 = 1200$\n",
    "$3x_1 + 3x_2 + f_3 = 600$\n",
    "\n",
    "\n",
    "\n",
    "\n",
    "\n"
   ],
   "metadata": {
    "collapsed": false,
    "pycharm": {
     "name": "#%% md\n"
    }
   }
  },
  {
   "cell_type": "code",
   "execution_count": 17,
   "outputs": [
    {
     "name": "stdout",
     "output_type": "stream",
     "text": [
      "Tableu Simplex (inicial):\n",
      "      z   x1    x2   x3   f1   f2   f3      LD\n",
      "z   1.0 -8.0 -10.0 -6.0  0.0  0.0  0.0     0.0\n",
      "f1  0.0  1.0   0.0  1.0  1.0  0.0  0.0   400.0\n",
      "f2  0.0  4.0   4.0  2.0  0.0  1.0  0.0  1200.0\n",
      "f3  0.0  3.0   3.0  0.0  0.0  0.0  1.0   600.0\n",
      "\n",
      "Iteração: 1\n",
      "Linha do pivô: 3, Coluna do pivô: 2, Elemento pivô: 3.0\n",
      "\n",
      "Tableu Simplex:\n",
      "      z   x1   x2   x3   f1   f2        f3      LD\n",
      "z   1.0  2.0  0.0 -6.0  0.0  0.0  3.333333  2000.0\n",
      "f1  0.0  1.0  0.0  1.0  1.0  0.0  0.000000   400.0\n",
      "f2  0.0  0.0  0.0  2.0  0.0  1.0 -1.333333   400.0\n",
      "x2  0.0  1.0  1.0  0.0  0.0  0.0  0.333333   200.0\n",
      "\n",
      "Iteração: 2\n",
      "Linha do pivô: 2, Coluna do pivô: 3, Elemento pivô: 2.0\n",
      "\n",
      "Tableu Simplex:\n",
      "      z   x1   x2   x3   f1   f2        f3      LD\n",
      "z   1.0  2.0  0.0  0.0  0.0  3.0 -0.666667  3200.0\n",
      "f1  0.0  1.0  0.0  0.0  1.0 -0.5  0.666667   200.0\n",
      "x3  0.0  0.0  0.0  1.0  0.0  0.5 -0.666667   200.0\n",
      "x2  0.0  1.0  1.0  0.0  0.0  0.0  0.333333   200.0\n",
      "\n",
      "Iteração: 3\n",
      "Linha do pivô: 1, Coluna do pivô: 6, Elemento pivô: 0.6666666666666666\n",
      "\n",
      "Tableu Simplex:\n",
      "      z   x1   x2   x3   f1    f2   f3      LD\n",
      "z   1.0  3.0  0.0  0.0  1.0  2.50  0.0  3400.0\n",
      "f3  0.0  1.5  0.0  0.0  1.5 -0.75  1.0   300.0\n",
      "x3  0.0  1.0  0.0  1.0  1.0  0.00  0.0   400.0\n",
      "x2  0.0  0.5  1.0  0.0 -0.5  0.25  0.0   100.0\n",
      "\n",
      "Nenhum dos coeficientes da linha z associados com as variáveis não básicas é negativo assim essa tabela é ótima!\n"
     ]
    }
   ],
   "source": [
    "T = np.array([\n",
    "    [1,-8,-10,-6,0,0,0,0],\n",
    "    [0,1,0,1,1,0,0,400],\n",
    "    [0,4,4,2,0,1,0,1200],\n",
    "    [0,3,3,0,0,0,1,600]\n",
    "], dtype=float)\n",
    "\n",
    "rotulos = ['z', 'x1', 'x2', 'x3', 'f1', 'f2', 'f3', 'LD' ]\n",
    "base = ['z', 'f1', 'f2', 'f3']\n",
    "\n",
    "Simplex(T, rotulos, base);"
   ],
   "metadata": {
    "collapsed": false,
    "pycharm": {
     "name": "#%%\n"
    }
   }
  },
  {
   "cell_type": "markdown",
   "source": [
    "## Execicio 6\n",
    "\n",
    "Resolva o seguinte problema pelo método das duas fases\n",
    "\n",
    "Minimizar\n",
    "$Z = 4x_1 + 2x_2$\n",
    "Sujeito a:\n",
    "$4x_1 + 3x_2 \\geq 6$\n",
    "$6x_1 + 2x_2 = 6$\n",
    "$2x_1 + 4x_2 \\leq 6$\n",
    "$x_1, x_2 \\geq 0$"
   ],
   "metadata": {
    "collapsed": false,
    "pycharm": {
     "name": "#%% md\n"
    }
   }
  },
  {
   "cell_type": "code",
   "execution_count": 18,
   "outputs": [
    {
     "name": "stdout",
     "output_type": "stream",
     "text": [
      "x1 = 0.6\n",
      "x2 = 1.2\n",
      "OBJ = 4.8\n"
     ]
    }
   ],
   "source": [
    "# TODO resolver pelo metodo das duas fases http://www.phpsimplex.com/pt/teoria_metodo_simplex.htm#:~:text=de%20equa%C3%A7%C3%B5es%20lineares).-,M%C3%A9todo%20das%20Duas%20Fases,(para%20evitar%20inconsist%C3%AAncias%20matem%C3%A1ticas).\n",
    "from pulp import LpMinimize\n",
    "\n",
    "problem6 = LpProblem(\"Execicio6\", LpMinimize)\n",
    "\n",
    "x1 = LpVariable(\"x1\", lowBound=0, cat='Continuous')\n",
    "x2 = LpVariable(\"x2\", lowBound=0, cat='Continuous')\n",
    "\n",
    "# Função objetivo\n",
    "problem6 += 4 * x1 + 2 * x2\n",
    "\n",
    "# Restrições\n",
    "problem6 += 4 * x1 + 3 * x2 >= 6\n",
    "problem6 += 6 * x1 + 2 * x2 == 6\n",
    "problem6 += 2 * x1 + 4 * x2 <= 6\n",
    "\n",
    "problem6.solve()\n",
    "\n",
    "describe_problem(problem6)\n"
   ],
   "metadata": {
    "collapsed": false,
    "pycharm": {
     "name": "#%%\n"
    }
   }
  },
  {
   "cell_type": "markdown",
   "source": [
    "## Execicio 7\n",
    "\n",
    "Encontre o problema Dual\n",
    "\n",
    "Minimizar\n",
    "$Z = 10x_1 + 6x_2 - 2y_3$\n",
    "Sujeito a:\n",
    "$2x_1 + 2x_2 + 2x_3 = 10$\n",
    "$-2x_1 - x_2 - 3y_3 \\geq −10$\n",
    "$2x_1 - 4x_2 + 2x_3 \\geq 4$\n",
    "$x_1, x_2, x_3 \\geq 0$\n",
    "\n",
    "Dual\n",
    "Maximizar\n",
    "$D = 10y_1 - 10y_2 + 4y_3$\n",
    "Sujeito a:\n",
    "$2y_1 - 2y_2 + 2y_3 \\leq 10$\n",
    "$2y_1 -y_2 - 4y_3 \\leq 6$\n",
    "$2y_1 - 3y_2 + 2y_3 \\leq −2$\n",
    "$y_2, y_3 \\geq 0$"
   ],
   "metadata": {
    "collapsed": false,
    "pycharm": {
     "name": "#%% md\n"
    }
   }
  }
 ],
 "metadata": {
  "kernelspec": {
   "display_name": "Python 3",
   "language": "python",
   "name": "python3"
  },
  "language_info": {
   "codemirror_mode": {
    "name": "ipython",
    "version": 2
   },
   "file_extension": ".py",
   "mimetype": "text/x-python",
   "name": "python",
   "nbconvert_exporter": "python",
   "pygments_lexer": "ipython2",
   "version": "2.7.6"
  }
 },
 "nbformat": 4,
 "nbformat_minor": 0
}