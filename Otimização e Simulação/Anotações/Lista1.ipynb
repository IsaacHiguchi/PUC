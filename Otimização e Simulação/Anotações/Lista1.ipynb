{
 "cells": [
  {
   "cell_type": "markdown",
   "source": [
    "# 1ª Lista de Exercícios"
   ],
   "metadata": {
    "collapsed": false,
    "pycharm": {
     "name": "#%% md\n"
    }
   }
  },
  {
   "cell_type": "code",
   "execution_count": 2,
   "outputs": [],
   "source": [
    "# Funções auxiliares\n",
    "\n",
    "def describe_problem(problem):\n",
    "    for variable in problem.variables():\n",
    "        print(variable.name, \"=\", round(variable.varValue, 2))\n",
    "    print(problem.objective.name, \"=\", round(problem.objective.value(), 2))"
   ],
   "metadata": {
    "collapsed": false,
    "pycharm": {
     "name": "#%%\n"
    }
   }
  },
  {
   "cell_type": "markdown",
   "source": [
    "## Execicio 1\n",
    "\n",
    "Maximizar\n",
    "<br>\n",
    "$Z = 3x_1 + 6x_2$\n",
    "\n",
    "Restrições\n",
    "\n",
    "$9x_1 + 8x_2 \\leq 72$\n",
    "<br>$x_2 \\leq 6$\n",
    "<br>$-5x_1 + 4x_2 \\leq 20$\n",
    "<br>$2x_1 - 4x_2 \\leq 20$\n",
    "<br>$x_1, x_2 \\geq 0$\n",
    "\n",
    "Implementando em python usando pulp\n"
   ],
   "metadata": {
    "collapsed": false
   }
  },
  {
   "cell_type": "code",
   "execution_count": 3,
   "outputs": [
    {
     "name": "stdout",
     "output_type": "stream",
     "text": [
      "x1 = 2.67\n",
      "x2 = 6.0\n",
      "OBJ = 44.0\n"
     ]
    }
   ],
   "source": [
    "from pulp import LpVariable, LpProblem, LpMaximize\n",
    "\n",
    "problem1 = LpProblem(\"Execicio1\", LpMaximize)\n",
    "\n",
    "x1 = LpVariable(\"x1\", lowBound=0, cat='Continuous')\n",
    "x2 = LpVariable(\"x2\", lowBound=0, cat='Continuous')\n",
    "\n",
    "# Função objetivo\n",
    "problem1 += 3 * x1 + 6 * x2\n",
    "# Restrições\n",
    "problem1 += 9 * x1 + 8 * x2 <= 72\n",
    "problem1 += x2 <= 6\n",
    "problem1 += -5 * x1 + 4 * x2 <= 20\n",
    "problem1 += 2 * x1 - 4 * x2 <= 20\n",
    "\n",
    "problem1.solve()\n",
    "\n",
    "describe_problem(problem1)"
   ],
   "metadata": {
    "collapsed": false,
    "pycharm": {
     "name": "#%%\n"
    }
   }
  },
  {
   "cell_type": "markdown",
   "source": [
    "## Execicio 2\n",
    "\n",
    "Maximizar\n",
    "<br>\n",
    "$Z = 10x_1 + 2x_2$ <br>\n",
    "\n",
    "Restricoes\n",
    "\n",
    "$10x_1 + 4x_2 \\leq 40$\n",
    "<br>$8x_1 + 2x_2 \\geq 0$ <br>\n",
    "$x_2 \\leq 6$ <br>\n",
    "$x_1 - 3x_2 \\leq 0$ <br>\n",
    "$x_1, x_2 \\geq 0$\n",
    "\n",
    "Solução"
   ],
   "metadata": {
    "collapsed": false,
    "pycharm": {
     "name": "#%% md\n"
    }
   }
  },
  {
   "cell_type": "code",
   "execution_count": 4,
   "outputs": [
    {
     "name": "stdout",
     "output_type": "stream",
     "text": [
      "x1 = 3.53\n",
      "x2 = 1.18\n",
      "OBJ = 37.65\n"
     ]
    }
   ],
   "source": [
    "problem2 = LpProblem(\"Execicio2\", LpMaximize)\n",
    "\n",
    "x1 = LpVariable(\"x1\", lowBound=0, cat='Continuous')\n",
    "x2 = LpVariable(\"x2\", lowBound=0, cat='Continuous')\n",
    "\n",
    "# Função objetivo\n",
    "problem2 += 10 * x1 + 2 * x2\n",
    "\n",
    "# Restrições\n",
    "problem2 += 10 * x1 + 4 * x2 <= 40\n",
    "problem2 += 8 * x1 + 2 * x2 >= 0\n",
    "problem2 += x2 <= 6\n",
    "problem2 += x1 - 3 * x2 <= 0\n",
    "\n",
    "problem2.solve()\n",
    "\n",
    "describe_problem(problem2)"
   ],
   "metadata": {
    "collapsed": false,
    "pycharm": {
     "name": "#%%\n"
    }
   }
  },
  {
   "cell_type": "markdown",
   "source": [
    "## Execicio 3\n",
    "\n",
    "Uma  pequena  manufatura  produz  dois  modelos,  Standard  e  Luxo,  de  um  certo  produto.\n",
    "\n",
    "Cada unidade do modelo Standard requer 2 horas de lixação e 1 hora de polimento.\n",
    "Cada unidade do modelo Luxo exige 2 horas de lixação e 3 horas de polimento.\n",
    "\n",
    "$tempo_{standard} = 2 + 1$ horas\n",
    "$tempo_{luxo} = 2 + 3$ horas\n",
    "\n",
    "A fábrica dispõe de 2 lixadoras e 3  polidoras,  cada  qual  trabalhando  40  horas  semanais.\n",
    "\n",
    "$horas_{lixador} = 2 \\cdot 40$ semanais\n",
    "$horas_{polidora} = 3 \\cdot 40$ semanais\n",
    "\n",
    "As  margens  de  lucro  são  $24  e  $32, respectivamente, para  cada unidade  Standard e  Luxo.\n",
    "Não  existem restrições  de demanda  para nenhum  dos  modelos.  Elabore  um  modelo  de  programação  linear  que  nos  permita  calcular  a produção semanal que maximize a margem total de lucro do fabricante."
   ],
   "metadata": {
    "collapsed": false,
    "pycharm": {
     "name": "#%% md\n"
    }
   }
  }
 ],
 "metadata": {
  "kernelspec": {
   "display_name": "Python 3",
   "language": "python",
   "name": "python3"
  },
  "language_info": {
   "codemirror_mode": {
    "name": "ipython",
    "version": 2
   },
   "file_extension": ".py",
   "mimetype": "text/x-python",
   "name": "python",
   "nbconvert_exporter": "python",
   "pygments_lexer": "ipython2",
   "version": "2.7.6"
  }
 },
 "nbformat": 4,
 "nbformat_minor": 0
}