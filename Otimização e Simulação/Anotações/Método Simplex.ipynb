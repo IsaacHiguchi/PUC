{
 "cells": [
  {
   "cell_type": "markdown",
   "metadata": {
    "collapsed": true,
    "pycharm": {
     "name": "#%% md\n"
    }
   },
   "source": [
    "### Método simplex\n",
    "\n",
    "\n",
    "Como a solução de um problema linear está nos vertices do poligono\n",
    "formado pelas S.R o método simplex \"escolhe\" um vertice e toma decisões a partir desse ponto, assim não precisando\n",
    "testar todos os pontos possíveis\n",
    "\n",
    "\n",
    "Resolvendo sistemas lineares\n",
    "\n",
    "Função objetivo:\n",
    "    $\\qquad z = 60x_1 + 40x_2$\n",
    "Restrições:\n",
    "    $\\qquad 10x_1 + 10x_2 \\leq 100$\n",
    "    $\\qquad 3x_1 + 7x_2 \\leq 100$\n",
    "    $\\qquad x_1, x_2 \\geq 0$"
   ]
  },
  {
   "cell_type": "code",
   "execution_count": 14,
   "outputs": [
    {
     "data": {
      "text/plain": "array([[7.],\n       [3.]])"
     },
     "execution_count": 14,
     "metadata": {},
     "output_type": "execute_result"
    }
   ],
   "source": [
    "import numpy as np\n",
    "A = np.array([\n",
    "    [10, 10],\n",
    "    [3, 7]\n",
    "])\n",
    "\n",
    "b = [[100],\n",
    "    [42]]\n",
    "\n",
    "x = np.linalg.solve(A, b)\n",
    "x"
   ],
   "metadata": {
    "collapsed": false,
    "pycharm": {
     "name": "#%%\n"
    }
   }
  },
  {
   "cell_type": "markdown",
   "source": [
    "![SegmentLocal](../Img/simplex.gif \"segment\")"
   ],
   "metadata": {
    "collapsed": false,
    "pycharm": {
     "name": "#%% md\n"
    }
   }
  },
  {
   "cell_type": "markdown",
   "source": [
    "##### Detalhes de calculo do algoritmo simplex\n",
    "\n",
    "max\n",
    "$\\qquad z = 5x_1 + 4x_2$\n",
    "s.r\n",
    "$\\qquad 6x_1 + 4x_2 \\leq 24$\n",
    "$\\qquad x_1 + 2x_2 \\leq 6$\n",
    "$\\qquad -x_1 + x_2 \\leq 1$\n",
    "$\\qquad x_2 \\leq 2$\n",
    "$\\qquad x_1, x_2 \\geq 0$\n"
   ],
   "metadata": {
    "collapsed": false,
    "pycharm": {
     "name": "#%% md\n"
    }
   }
  },
  {
   "cell_type": "code",
   "execution_count": 19,
   "outputs": [
    {
     "data": {
      "text/plain": "Aula_25-03-22:\nMAXIMIZE\n5*x1 + 4*x2 + 0\nSUBJECT TO\n_C1: 6 x1 + 4 x2 <= 24\n\n_C2: x1 + 2 x2 <= 6\n\n_C3: - x1 + x2 <= 1\n\n_C4: x2 <= 2\n\nVARIABLES\nx1 Continuous\nx2 Continuous"
     },
     "execution_count": 19,
     "metadata": {},
     "output_type": "execute_result"
    }
   ],
   "source": [
    "from pulp import LpVariable, LpProblem, LpMaximize\n",
    "\n",
    "x1 = LpVariable(\"x1\", lowBound=0, cat='Continuous')\n",
    "x2 = LpVariable(\"x2\", lowBound=0, cat='Continuous')\n",
    "\n",
    "problem = LpProblem(\"Aula_25-03-22\", LpMaximize)\n",
    "\n",
    "# Função objetivo\n",
    "problem += 5*x1 + 4*x2\n",
    "\n",
    "# Restrições\n",
    "\n",
    "problem += 6*x1 + 4*x2 <= 24\n",
    "problem += x1 + 2*x2 <= 6\n",
    "problem += -x1 + x2 <= 1\n",
    "problem += x2 <= 2\n",
    "\n",
    "problem"
   ],
   "metadata": {
    "collapsed": false,
    "pycharm": {
     "name": "#%%\n"
    }
   }
  },
  {
   "cell_type": "code",
   "execution_count": 20,
   "outputs": [
    {
     "name": "stdout",
     "output_type": "stream",
     "text": [
      "x1 = 3.0\n",
      "x2 = 1.5\n"
     ]
    },
    {
     "data": {
      "text/plain": "21.0"
     },
     "execution_count": 20,
     "metadata": {},
     "output_type": "execute_result"
    }
   ],
   "source": [
    "problem.solve()\n",
    "\n",
    "for variable in problem.variables():\n",
    "    print(variable.name, \"=\", variable.varValue)\n",
    "\n",
    "problem.objective.value()"
   ],
   "metadata": {
    "collapsed": false,
    "pycharm": {
     "name": "#%%\n"
    }
   }
  },
  {
   "cell_type": "code",
   "execution_count": null,
   "outputs": [],
   "source": [],
   "metadata": {
    "collapsed": false,
    "pycharm": {
     "name": "#%%\n"
    }
   }
  }
 ],
 "metadata": {
  "kernelspec": {
   "display_name": "Python 3",
   "language": "python",
   "name": "python3"
  },
  "language_info": {
   "codemirror_mode": {
    "name": "ipython",
    "version": 2
   },
   "file_extension": ".py",
   "mimetype": "text/x-python",
   "name": "python",
   "nbconvert_exporter": "python",
   "pygments_lexer": "ipython2",
   "version": "2.7.6"
  }
 },
 "nbformat": 4,
 "nbformat_minor": 0
}