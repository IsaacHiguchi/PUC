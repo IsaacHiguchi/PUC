{
 "cells": [
  {
   "cell_type": "markdown",
   "metadata": {
    "collapsed": true,
    "pycharm": {
     "name": "#%% md\n"
    }
   },
   "source": [
    "### Método simplex\n",
    "\n",
    "\n",
    "Como a solução de um problema linear está nos vertices do poligono\n",
    "formado pelas S.R o método simplex \"escolhe\" um vertice e toma decisões a partir desse ponto, assim não precisando\n",
    "testar todos os pontos possíveis\n",
    "\n",
    "\n",
    "Resolvendo sistemas lineares\n",
    "\n",
    "Função objetivo:\n",
    "    $\\qquad z = 60x_1 + 40x_2$\n",
    "Restrições:\n",
    "    $\\qquad 10x_1 + 10x_2 \\leq 100$\n",
    "    $\\qquad 3x_1 + 7x_2 \\leq 100$\n",
    "    $\\qquad x_1, x_2 \\geq 0$"
   ]
  },
  {
   "cell_type": "code",
   "execution_count": 1,
   "outputs": [
    {
     "data": {
      "text/plain": "array([[7.],\n       [3.]])"
     },
     "execution_count": 1,
     "metadata": {},
     "output_type": "execute_result"
    }
   ],
   "source": [
    "import numpy as np\n",
    "A = np.array([\n",
    "    [10, 10],\n",
    "    [3, 7]\n",
    "])\n",
    "\n",
    "b = [[100],\n",
    "    [42]]\n",
    "\n",
    "x = np.linalg.solve(A, b)\n",
    "x"
   ],
   "metadata": {
    "collapsed": false,
    "pycharm": {
     "name": "#%%\n"
    }
   }
  },
  {
   "cell_type": "markdown",
   "source": [
    "![SegmentLocal](../Img/simplex.gif \"segment\")"
   ],
   "metadata": {
    "collapsed": false,
    "pycharm": {
     "name": "#%% md\n"
    }
   }
  },
  {
   "cell_type": "markdown",
   "source": [
    "##### Detalhes de calculo do algoritmo simplex\n",
    "\n",
    "max\n",
    "$\\qquad z = 5x_1 + 4x_2$\n",
    "s.r\n",
    "$\\qquad 6x_1 + 4x_2 \\leq 24$\n",
    "$\\qquad x_1 + x_2 \\leq 6$\n",
    "$\\qquad -x_1 + x_2 \\leq 1$\n",
    "$\\qquad x_2 \\leq 2$\n",
    "$\\qquad x_1, x_2 \\geq 0$\n",
    "\n",
    "Reescrevendo a função objetivo:\n",
    "$\\qquad z - 5x_1 - 4x_2 = 0$\n",
    "\n"
   ],
   "metadata": {
    "collapsed": false,
    "pycharm": {
     "name": "#%% md\n"
    }
   }
  }
 ],
 "metadata": {
  "kernelspec": {
   "display_name": "Python 3",
   "language": "python",
   "name": "python3"
  },
  "language_info": {
   "codemirror_mode": {
    "name": "ipython",
    "version": 2
   },
   "file_extension": ".py",
   "mimetype": "text/x-python",
   "name": "python",
   "nbconvert_exporter": "python",
   "pygments_lexer": "ipython2",
   "version": "2.7.6"
  }
 },
 "nbformat": 4,
 "nbformat_minor": 0
}