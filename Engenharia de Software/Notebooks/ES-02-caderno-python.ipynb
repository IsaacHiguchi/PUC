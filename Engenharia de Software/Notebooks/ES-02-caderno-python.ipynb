{
 "cells": [
  {
   "cell_type": "code",
   "execution_count": 1,
   "metadata": {},
   "outputs": [],
   "source": [
    "# CENÁRIO de declaração de variável e atribuição de valor\n",
    "a = 5"
   ],
   "id": "ef7247e4-86a1-4bb2-bbde-d3b9dc97a347"
  },
  {
   "cell_type": "code",
   "execution_count": 2,
   "metadata": {},
   "outputs": [],
   "source": [
    "# CENÁRIO de declaração do nome 'a' e atribuição de valor à variável\n",
    "a = 5\n",
    "# início\n",
    "assert (a == 5)"
   ],
   "id": "ba6b6178-9143-4434-b4c6-5c5a28f2aa24"
  },
  {
   "cell_type": "code",
   "execution_count": 4,
   "metadata": {},
   "outputs": [
    {
     "data": {
      "text/plain": "True"
     },
     "execution_count": 4,
     "metadata": {},
     "output_type": "execute_result"
    }
   ],
   "source": [
    "# CENÁRIO com uma expressão inválida\n",
    "(3 == 3 and 3 == 3)"
   ],
   "id": "d49a88d1-00c7-4f81-b371-434f89a5fe3b"
  },
  {
   "cell_type": "code",
   "execution_count": 5,
   "metadata": {},
   "outputs": [],
   "source": [
    "# CENÁRIO de declaração de variáveis e atribuição de valores\n",
    "a = 5\n",
    "b = 3\n",
    "# início\n",
    "assert (a == 5 and b == 3)"
   ],
   "id": "f36a487c-f182-4ab8-9e8e-388c8bc8d8d8"
  },
  {
   "cell_type": "code",
   "execution_count": 10,
   "metadata": {},
   "outputs": [
    {
     "ename": "AssertionError",
     "evalue": "",
     "output_type": "error",
     "traceback": [
      "\u001B[0;31m---------------------------------------------------------------------------\u001B[0m",
      "\u001B[0;31mAssertionError\u001B[0m                            Traceback (most recent call last)",
      "\u001B[0;32m<ipython-input-10-12c8192a8df9>\u001B[0m in \u001B[0;36m<module>\u001B[0;34m\u001B[0m\n\u001B[1;32m      7\u001B[0m \u001B[0mb\u001B[0m \u001B[0;34m=\u001B[0m \u001B[0ma\u001B[0m\u001B[0;34m\u001B[0m\u001B[0;34m\u001B[0m\u001B[0m\n\u001B[1;32m      8\u001B[0m \u001B[0;31m# troca\u001B[0m\u001B[0;34m\u001B[0m\u001B[0;34m\u001B[0m\u001B[0;34m\u001B[0m\u001B[0m\n\u001B[0;32m----> 9\u001B[0;31m \u001B[0;32massert\u001B[0m \u001B[0;34m(\u001B[0m\u001B[0ma\u001B[0m \u001B[0;34m==\u001B[0m \u001B[0;36m3\u001B[0m \u001B[0;32mand\u001B[0m \u001B[0mb\u001B[0m \u001B[0;34m==\u001B[0m \u001B[0;36m5\u001B[0m\u001B[0;34m)\u001B[0m\u001B[0;34m\u001B[0m\u001B[0;34m\u001B[0m\u001B[0m\n\u001B[0m",
      "\u001B[0;31mAssertionError\u001B[0m: "
     ]
    }
   ],
   "source": [
    "# CENÁRIO de troca de valores entre 'a' e 'b' (absurdo lógico)\n",
    "a = 5\n",
    "b = 3\n",
    "\n",
    "# início\n",
    "a = b\n",
    "b = a\n",
    "# troca\n",
    "assert (a == 3 and b == 5)"
   ],
   "id": "0886fed2-036a-4e64-a01d-23a59039c932"
  },
  {
   "cell_type": "code",
   "execution_count": 11,
   "outputs": [],
   "source": [
    "a = 5\n",
    "b = 3\n",
    "\n",
    "a, b = b, a\n",
    "\n",
    "assert (a == 3 and b == 5)"
   ],
   "metadata": {
    "collapsed": false,
    "pycharm": {
     "name": "#%%\n"
    }
   }
  },
  {
   "cell_type": "code",
   "execution_count": 9,
   "metadata": {},
   "outputs": [],
   "source": [
    "# CENÁRIO de troca de valores entre 'a' e 'b'\n",
    "a = 5\n",
    "b = 3\n",
    "# início\n",
    "t = a\n",
    "a = b\n",
    "b = t\n",
    "# troca2\n",
    "assert (a == 3 and b == 5 and t == 5)"
   ],
   "id": "e13d3682-20fd-42b1-89b5-e130566ed750"
  }
 ],
 "nbformat": 4,
 "nbformat_minor": 5,
 "metadata": {
  "kernelspec": {
   "name": "python3",
   "language": "python",
   "display_name": "Python 3"
  },
  "language_info": {
   "name": "python",
   "codemirror_mode": "python",
   "nbconvert_exporter": "python",
   "pygments_lexer": "python"
  }
 }
}