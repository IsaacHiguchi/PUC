{
 "cells": [
  {
   "cell_type": "code",
   "execution_count": 2,
   "metadata": {},
   "outputs": [
    {
     "name": "stdout",
     "output_type": "stream",
     "text": [
      "1 4 9\n"
     ]
    }
   ],
   "source": [
    "# CENÁRIO de implementação de \"f\"\n",
    "f = [1, 4, 9] # implementação de função\n",
    "print (f[0], f[1], f[2])"
   ],
   "id": "a68914df-fb7d-48b0-a129-43b6718fbaad"
  },
  {
   "cell_type": "code",
   "execution_count": 3,
   "metadata": {},
   "outputs": [
    {
     "name": "stdout",
     "output_type": "stream",
     "text": [
      "ESPEC\n"
     ]
    }
   ],
   "source": [
    "# CENÁRIO de uma função em Python\n",
    "# Função matemática: g = {(1, FUBÃ),(2, ESPEC),(3, PROFE)}\n",
    "g = [\"FUBA\", \"ESPEC\", \"PROFE\"] # implementação de função\n",
    "print (g[1])"
   ],
   "id": "fac3f6a6-d3b1-48fc-a6c3-9fe15b49ec0e"
  },
  {
   "cell_type": "code",
   "execution_count": 12,
   "metadata": {},
   "outputs": [
    {
     "data": {
      "text/plain": "9"
     },
     "execution_count": 12,
     "metadata": {},
     "output_type": "execute_result"
    }
   ],
   "source": [
    "# CENÁRIO de implementação da função lambda \"f\"\n",
    "def f(x: int or float) -> int or float: # declaração de parâmetro\n",
    "  if 1 <= x <= 3: # predicado\n",
    "    return x*x # expressão que calcula a imagem de \"x\"\n",
    "  \n",
    "  raise ValueError(f\"Inválido {x=}\")\n",
    "\n",
    "# Chamada do método \"f\"\n",
    "f(3)"
   ],
   "id": "17ab4028-6574-4c81-8299-ef9d00a9be6a"
  },
  {
   "cell_type": "code",
   "execution_count": 5,
   "metadata": {},
   "outputs": [
    {
     "name": "stdout",
     "output_type": "stream",
     "text": [
      "2 0.75 -0.25 0.75 2\n"
     ]
    }
   ],
   "source": [
    "# CENÁRIO de implementação da função lambda \"f1\"\n",
    "def f1 (x) : # declaração de parâmetro\n",
    "  if (-10.0 <= x and x <= 10.0) : # predicado\n",
    "    return x*x - 3*x + 2 # expressão que calcula a imagem de \"x\"\n",
    "\n",
    "  raise ValueError(f\"Inválido x= {x}\")\n",
    "\n",
    "# Chamada do método \"f\"\n",
    "print (f1(0), f1(0.5), f1(1.5), f1(2.5), f1(3))"
   ],
   "id": "5ba9f964-d18c-48a8-8186-f5d171c73281"
  },
  {
   "cell_type": "code",
   "execution_count": 13,
   "metadata": {},
   "outputs": [],
   "source": [
    "# CENÁRIO de implementação da fórmula quadrática\n",
    "import math\n",
    "def h(a, b, c) : # declaração\n",
    "  if (a != 0) : # predicado\n",
    "    delta = b*b - 4*a*c;\n",
    "    if (delta > 0) : # predicado\n",
    "      x1 = (-b + math.sqrt(delta)) / (2*a)\n",
    "      x2 = (-b - math.sqrt(delta)) / (2*a)\n",
    "      return [x1, x2] # expressão\n",
    "\n",
    "    raise ValueError (\"Sem soluções reais!\")\n",
    "  raise ValueError (\"'a' não pode ser zero!\")"
   ],
   "id": "35a30b33-7e7d-46df-a359-ecba1318c823"
  },
  {
   "cell_type": "code",
   "execution_count": 14,
   "metadata": {},
   "outputs": [
    {
     "name": "stdout",
     "output_type": "stream",
     "text": [
      "2.0 1.0\n"
     ]
    }
   ],
   "source": [
    "# CENÁRIO de avaliação de função\n",
    "x = h(1,-3,2)\n",
    "print (x[0], x[1])"
   ],
   "id": "af56302c-6a24-4914-9343-052128b36e42"
  },
  {
   "cell_type": "code",
   "execution_count": 20,
   "metadata": {},
   "outputs": [
    {
     "name": "stdout",
     "output_type": "stream",
     "text": [
      "1.0 0.002\n",
      "2.0 0.001 2.0\n"
     ]
    }
   ],
   "source": [
    "# CENÁRIO de implementação de Newton-Raphson\n",
    "# Raiz quadrada de 'n' com precisão 'EPS'\n",
    "n = 2.0\n",
    "EPS = 0.001\n",
    "r = n\n",
    "\n",
    "print (abs(r - n / r), r * EPS)\n",
    "\n",
    "# o predicado inicial \"início\" é verdadeiro\n",
    "while (abs(r - n / r) <= r * EPS) :\n",
    "  r = (n / r + r) / 2.0\n",
    "  print (abs(r - n / r), r * EPS)\n",
    "  # a ação \"passo\" é verdadeira\n",
    "# a ação \"passo\" é verdadeira\n",
    "print (n , EPS , f\"{r}\" )"
   ],
   "id": "785be4e8-3321-4238-8c4e-7bd56ef44e43"
  },
  {
   "cell_type": "code",
   "execution_count": 9,
   "metadata": {},
   "outputs": [],
   "source": [
    "# CENÁRIO de implementação das coordenadas dos navios\n",
    "coord = { \"N1\" : (1, 1), \"N2\" : (2, 2), \"N3\" : (3, 3), \n",
    "          \"N4\" : (4, 4), \"N5\" : (5, 5) }"
   ],
   "id": "498b8e7d-10bb-4a27-9e46-0ea3cc428f3c"
  },
  {
   "cell_type": "code",
   "execution_count": 10,
   "metadata": {},
   "outputs": [
    {
     "data": {
      "text/plain": "True"
     },
     "execution_count": 10,
     "metadata": {},
     "output_type": "execute_result"
    }
   ],
   "source": [
    "# CENÁRIO de aplicação da função \"coord\"\n",
    "coord[\"N1\"] == (1, 1)"
   ],
   "id": "8b9cccd9-5bdc-4a4e-85ff-86f7abd3ae13"
  },
  {
   "cell_type": "code",
   "execution_count": 11,
   "metadata": {
    "pycharm": {
     "name": "#%%\n"
    }
   },
   "outputs": [
    {
     "data": {
      "text/plain": "1"
     },
     "execution_count": 11,
     "metadata": {},
     "output_type": "execute_result"
    }
   ],
   "source": [
    "# CENÁRIO da contagem de navios em uma coordenada X\n",
    "# VARIÁVEIS de estado\n",
    "Navios = {'N1', 'N2', 'N3', 'N4', 'N5'}\n",
    "coord  = { \"N1\" : (1, 1), \"N2\" : (2, 2), \"N3\" : (3, 3), \n",
    "          \"N4\" : (4, 4), \"N5\" : (5, 5) }\n",
    "# Função de cálculo da dica\n",
    "def dica (x) :\n",
    "  k = []\n",
    "  for n in Navios :\n",
    "    (xn, yn) = coord[n]\n",
    "    if x == xn :\n",
    "      k.append (coord[n])\n",
    "  return len(k)\n",
    "# Dica de quantos navios encontram-se na coordenada \"x=1\"\n",
    "dica (1)"
   ],
   "id": "552c94a8-945f-4be2-add1-3948566ce4da"
  },
  {
   "cell_type": "code",
   "execution_count": 29,
   "outputs": [
    {
     "data": {
      "text/plain": "(set, {3, 'N1', 'N2', 'N5', True})"
     },
     "execution_count": 29,
     "metadata": {},
     "output_type": "execute_result"
    }
   ],
   "source": [],
   "metadata": {
    "collapsed": false,
    "pycharm": {
     "name": "#%%\n"
    }
   }
  }
 ],
 "nbformat": 4,
 "nbformat_minor": 5,
 "metadata": {
  "kernelspec": {
   "name": "python3",
   "language": "python",
   "display_name": "Python 3"
  },
  "language_info": {
   "name": "python",
   "codemirror_mode": "python",
   "nbconvert_exporter": "python",
   "pygments_lexer": "python"
  }
 }
}