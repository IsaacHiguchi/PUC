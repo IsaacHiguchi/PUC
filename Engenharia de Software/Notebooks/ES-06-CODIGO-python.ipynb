{
 "cells": [
  {
   "cell_type": "code",
   "execution_count": null,
   "metadata": {},
   "outputs": [],
   "source": [
    "# CENÁRIO de composição funcional\n",
    "def g(p, q) :\n",
    "  if len(p) == len(q) :\n",
    "    return [p[i]-q[i] for i in range(len(p))]\n",
    "  raise Exception('_|_')\n",
    "\n",
    "def s(v) :\n",
    "  return sum([(vi*vi) for vi in v])\n",
    "# uso da soma de listas\n",
    "y = [1,2,3]; z = [2,3,4]\n",
    "w = s(g(y,z))\n",
    "w"
   ],
   "id": "1a929d6a-518f-459c-a340-da3d55b26530"
  }
 ],
 "nbformat": 4,
 "nbformat_minor": 5,
 "metadata": {
  "kernelspec": {
   "name": "python",
   "display_name": "Python",
   "language": "python"
  },
  "language_info": {
   "name": "python",
   "codemirror_mode": "python",
   "nbconvert_exporter": "python",
   "pygments_lexer": "python"
  }
 }
}
