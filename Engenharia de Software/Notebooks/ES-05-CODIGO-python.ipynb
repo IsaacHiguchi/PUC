{
 "cells": [
  {
   "cell_type": "code",
   "execution_count": null,
   "metadata": {},
   "outputs": [],
   "source": [
    "# CENÁRIO de implementação da sequência\n",
    "#   s = <a,b,c,d>\n",
    "def s (i) :\n",
    "    return chr (i+96)"
   ],
   "id": "10490807-938e-4ea6-9e55-228cd282f546"
  },
  {
   "cell_type": "code",
   "execution_count": null,
   "metadata": {},
   "outputs": [],
   "source": [
    "# CENÁRIO de implementação da inversa da sequência\n",
    "#   s = <a,b,c,d>\n",
    "def s_inv (x) :\n",
    "    return ord(x) - 96"
   ],
   "id": "2800af73-9160-4169-89bb-29e235ed352c"
  },
  {
   "cell_type": "code",
   "execution_count": null,
   "metadata": {},
   "outputs": [],
   "source": [
    "def A_inv(x) :\n",
    "  dom = [1, 2, 3, 4, 5, 6, 7, 8, 9, 10, \n",
    "    11, 12, 13, 14, 15, 16, 17, 18, 19, 20, \n",
    "    21, 22, 23, 24, 25, 26, 27]\n",
    "  ran = [' ','a','b','c','d','e','f',\n",
    "    'g','h','i','j','k','l','m','n','o',\n",
    "    'p','q','r','s','t','u','v','w','x','y','z']\n",
    "  return { ran[i]: dom[i] for i in range (len (dom)) } [x]"
   ],
   "id": "41b73288-0770-4ec9-a90a-53f46f6efd8c"
  },
  {
   "cell_type": "code",
   "execution_count": null,
   "metadata": {},
   "outputs": [],
   "source": [
    "# CENÁRIO de implementação da função \"cifraPos\"\n",
    "def cifraPosErro (x) :\n",
    "  return x+3"
   ],
   "id": "7fa711a4-53ef-4041-8956-3483c50a80e7"
  },
  {
   "cell_type": "code",
   "execution_count": null,
   "metadata": {},
   "outputs": [],
   "source": [
    "# CENÁRIO de cifragem logicamente ERRADA de um símbolo\n",
    "def A (x) :\n",
    "  if x == ' ' :\n",
    "    return 1\n",
    "  return ord(x) - 95\n",
    "\n",
    "def cifraPosErro (x) :\n",
    "  return x+3\n",
    "    \n",
    "def A_inv (x):\n",
    "  if (x == 1) :\n",
    "    return ' '\n",
    "  return chr (x + 95)"
   ],
   "id": "2ddc266b-440b-426c-9f7d-f409a3507b89"
  },
  {
   "cell_type": "code",
   "execution_count": null,
   "metadata": {
    "pycharm": {
     "name": "#%%\n"
    }
   },
   "outputs": [],
   "source": [
    "# CENÁRIO de implementação do método \"cifraPos\"\n",
    "def cifraPos(x) :\n",
    "    global K # comprimento do alfabeto de cifragem\n",
    "    p = x + 3\n",
    "    return p if p < K else p-K\n",
    "# aplicação de \"cifraPos\"\n",
    "K = len([' ','a','b','c','d','e','f',\n",
    "    'g','h','i','j','k','l','m','n','o',\n",
    "    'p','q','r','s','t','u','v','w','x','y','z'])\n",
    "cifraPos(1)\n",
    "# cifraPos(2)\n",
    "# cifraPos(27)\n",
    "# cifraPos(28)"
   ],
   "id": "47dd8e74-7e82-4c51-98d7-e00eacf17e3c"
  }
 ],
 "nbformat": 4,
 "nbformat_minor": 5,
 "metadata": {
  "kernelspec": {
   "name": "python",
   "display_name": "Python",
   "language": "python"
  },
  "language_info": {
   "name": "python",
   "codemirror_mode": "python",
   "nbconvert_exporter": "python",
   "pygments_lexer": "python"
  }
 }
}