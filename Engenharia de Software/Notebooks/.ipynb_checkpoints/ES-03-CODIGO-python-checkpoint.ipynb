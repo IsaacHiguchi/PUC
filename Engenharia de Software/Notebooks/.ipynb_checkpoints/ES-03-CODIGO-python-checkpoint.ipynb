{
 "cells": [
  {
   "cell_type": "code",
   "execution_count": null,
   "metadata": {},
   "outputs": [],
   "source": [
    "# CENÁRIO de codificação de um argumento\n",
    "# PREMISSA  P1: [a=5, b=3]\n",
    "assert (a == 5 and b == 3)\n",
    "# CONCLUSÃO C1: [a=3, b=5]\n",
    "assert (a == 3 and b == 5)"
   ]
  },
  {
   "cell_type": "code",
   "execution_count": null,
   "metadata": {},
   "outputs": [],
   "source": [
    "# CENÁRIO definição de variáveis e predicado inicial\n",
    "# VARIÁVEIS e PREDICADO INICIAL\n",
    "a = 5\n",
    "b = 3\n",
    "# O predicado \"início\" é verdadeiro\n",
    "# PREMISSA P1: [a=5, b=3]\n",
    "assert (a == 5 and b == 3)\n",
    "print (a, b) # observação do estado da máquina"
   ]
  },
  {
   "cell_type": "code",
   "execution_count": null,
   "metadata": {},
   "outputs": [],
   "source": [
    "# CENÁRIO de implementação da ação \"troca2\":\n",
    "t = a\n",
    "a = b\n",
    "b = t\n",
    "# A ação \"troca2\" é verdadeira\n",
    "# [a=3, b=5, t=5]\n",
    "assert (a == 3 and b == 5 and t == 5)\n",
    "print (a, b, t) # observação do estado da máquina"
   ]
  },
  {
   "cell_type": "code",
   "execution_count": null,
   "metadata": {},
   "outputs": [],
   "source": [
    "# CENÁRIO de definição de estado por conjunção lógica\n",
    "# [a=3,   b=5,        t=5]\n",
    "assert (a == 3 and b == 5 and t == 5)\n",
    "# (a=3 /\\ b=5)   /\\   t=5\n",
    "assert (a == 3 and b == 5)\n",
    "assert (t == 5)\n",
    "print (a, b, t) # observação do estado da máquina"
   ]
  },
  {
   "cell_type": "code",
   "execution_count": null,
   "metadata": {},
   "outputs": [],
   "source": [
    "# CENÁRIO de eliminação de conjunção lógica:\n",
    "# (a=3 /\\ b=5)   /\\   t=5\n",
    "assert a == 3 and b == 5\n",
    "assert t == 5\n",
    "# (a=3 /\\ b=5)\n",
    "# CONCLUSÃO C1: [a=3, b=5]\n",
    "assert a == 3 and b == 5\n",
    "print (a, b) # visão de usuário..."
   ]
  },
  {
   "cell_type": "code",
   "execution_count": null,
   "metadata": {},
   "outputs": [],
   "source": [
    "# CENÁRIO do código de intercâmio de valores\n",
    "a = 5\n",
    "b = 3\n",
    "t = a\n",
    "a = b\n",
    "b = t\n",
    "print (a, b)"
   ]
  },
  {
   "cell_type": "code",
   "execution_count": null,
   "metadata": {},
   "outputs": [],
   "source": [
    "# CENÁRIO de lógica interativa (caso especial)\n",
    "# VARIÁVEIS e PREDICADO INICIAL\n",
    "a = input (\"Digite o valor numérico de 'a' [4]\")\n",
    "b = input (\"Digite o valor numérico de 'b' [3]\")\n",
    "# predicado inicial \"início2\" é verdadeiro\n",
    "# a máquina se encontra no estado [a=4, b=3]\n",
    "print (a, b)"
   ]
  },
  {
   "cell_type": "code",
   "execution_count": null,
   "metadata": {},
   "outputs": [],
   "source": [
    "# CENÁRIO de passo de prova\n",
    "t = a\n",
    "a = b\n",
    "b = t\n",
    "# ação \"troca2\" é verdadeira\n",
    "# a máquina muda para o estado [a=4, b=5, t=5]\n",
    "assert (a == 3 and b == 5 and t == 5)\n",
    "# eliminação de conjunção lógica\n",
    "# a máquina encontra-se no subestado [a=3, b=5]\n",
    "assert (a == 3 and b == 5)\n",
    "# a máquina produz absurdo para este argumento\n",
    "print (a, b, t)"
   ]
  },
  {
   "cell_type": "code",
   "execution_count": null,
   "metadata": {},
   "outputs": [],
   "source": [
    "# CENÁRIO de lógica interativa 2 (caso especial)\n",
    "# VARIÁVEIS e PREDICADO INICIAL\n",
    "k1 = input (\"Digite o valor numérico de 'a'\")\n",
    "k2 = input (\"Digite o valor numérico de 'b'\")\n",
    "a = k1\n",
    "b = k2\n",
    "# predicado inicial \"início2\" é verdadeiro\n",
    "# a máquina se encontra no estado [a=k1, b=k2]\n",
    "assert (a == k1 and b == k2)\n",
    "t = a\n",
    "a = b\n",
    "b = t\n",
    "# ação \"troca2\" é verdadeira\n",
    "# a máquina muda para o estado [a=k2, b=k1, t=k1]\n",
    "assert (a == k2 and b == k1 and t == k1)\n",
    "# eliminação de conjunção lógica\n",
    "# a máquina encontra-se no subestado [a=k2, b=k1]\n",
    "assert (a == k2 and b == k1)"
   ]
  },
  {
   "cell_type": "code",
   "execution_count": null,
   "metadata": {},
   "outputs": [],
   "source": [
    "# CENÁRIO do código interativo para intercâmbio de valores numéricos\n",
    "# (caso: literais do tipo 'int')\n",
    "a = input (\"Digite o valor numérico de 'a'\")\n",
    "b = input (\"Digite o valor numérico de 'b'\")\n",
    "print (a, b)\n",
    "t = a\n",
    "a = b\n",
    "b = t\n",
    "print (a, b)"
   ]
  }
 ],
 "metadata": {
  "kernelspec": {
   "display_name": "Python 3",
   "language": "python",
   "name": "python3"
  },
  "language_info": {
   "codemirror_mode": {
    "name": "ipython",
    "version": 3
   },
   "file_extension": ".py",
   "mimetype": "text/x-python",
   "name": "python",
   "nbconvert_exporter": "python",
   "pygments_lexer": "ipython3",
   "version": "3.8.10"
  }
 },
 "nbformat": 4,
 "nbformat_minor": 5
}
